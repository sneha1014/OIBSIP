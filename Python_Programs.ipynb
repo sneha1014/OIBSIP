{
  "nbformat": 4,
  "nbformat_minor": 0,
  "metadata": {
    "colab": {
      "provenance": []
    },
    "kernelspec": {
      "name": "python3",
      "display_name": "Python 3"
    },
    "language_info": {
      "name": "python"
    }
  },
  "cells": [
    {
      "cell_type": "markdown",
      "source": [
        "**LISTS**"
      ],
      "metadata": {
        "id": "18tbi_4tc5j7"
      }
    },
    {
      "cell_type": "code",
      "source": [
        "# 1.sum\n",
        "def add(x):\n",
        "  sum=0\n",
        "  for i in x:\n",
        "    sum=sum+i\n",
        "  return sum\n",
        "\n",
        "x=[2,4,8,6]\n",
        "add(x)\n"
      ],
      "metadata": {
        "colab": {
          "base_uri": "https://localhost:8080/"
        },
        "id": "OhX13azgxNRy",
        "outputId": "6ac1f21c-3ff0-4c6c-91a7-61fbfb747916"
      },
      "execution_count": null,
      "outputs": [
        {
          "output_type": "execute_result",
          "data": {
            "text/plain": [
              "20"
            ]
          },
          "metadata": {},
          "execution_count": 7
        }
      ]
    },
    {
      "cell_type": "code",
      "source": [
        "# 2.multiply\n",
        "def multiply(x):\n",
        "  mul=1\n",
        "  for i in x:\n",
        "    mul=mul*i\n",
        "  return mul\n",
        "\n",
        "x=[2,4,8,6]\n",
        "multiply(x)"
      ],
      "metadata": {
        "colab": {
          "base_uri": "https://localhost:8080/"
        },
        "id": "X0woLy5dxiQ0",
        "outputId": "7305a732-bf75-4ff3-a65d-607d1f4b41b9"
      },
      "execution_count": null,
      "outputs": [
        {
          "output_type": "execute_result",
          "data": {
            "text/plain": [
              "384"
            ]
          },
          "metadata": {},
          "execution_count": 9
        }
      ]
    },
    {
      "cell_type": "code",
      "source": [
        "# 3.max of no\n",
        "def max(x):\n",
        "  max=x[0]\n",
        "  for i in x:\n",
        "    if i>max:\n",
        "      max=i\n",
        "  print(\"Largest=\",max)\n",
        "\n",
        "x=[2,4,8,6]\n",
        "max(x)"
      ],
      "metadata": {
        "colab": {
          "base_uri": "https://localhost:8080/"
        },
        "id": "1Q0UCT8HyF-f",
        "outputId": "afb3f2c9-281b-4305-f241-964750d4c613"
      },
      "execution_count": null,
      "outputs": [
        {
          "output_type": "stream",
          "name": "stdout",
          "text": [
            "Largest= 8\n"
          ]
        }
      ]
    },
    {
      "cell_type": "code",
      "source": [
        "# 4.min of no\n",
        "def min(x):\n",
        "  min=x[0]\n",
        "  for i in x:\n",
        "    if i<min:\n",
        "      min=i\n",
        "  print(\"Smallest=\",min)\n",
        "\n",
        "x=[2,4,8,6]\n",
        "min(x)"
      ],
      "metadata": {
        "colab": {
          "base_uri": "https://localhost:8080/"
        },
        "id": "qE8h6VluzVoL",
        "outputId": "2f44c0f6-bda1-48b7-9fd5-7fde7c9b82d5"
      },
      "execution_count": null,
      "outputs": [
        {
          "output_type": "stream",
          "name": "stdout",
          "text": [
            "Smallest= 2\n"
          ]
        }
      ]
    },
    {
      "cell_type": "code",
      "source": [
        "# 5.count the number of strings where the string length is 2 or more\n",
        "#and check the first and last character are same\n",
        "li=[str(i) for i in input().split()]\n",
        "count=0\n",
        "for i in range(0,len(li)):\n",
        "  ele=li[i]\n",
        "  length=len(ele)\n",
        "  if length>=2:\n",
        "    var1=ele[0]\n",
        "    var2=ele[length-1]\n",
        "    if var1==var2:\n",
        "      count+=1\n",
        "    else:\n",
        "      continue\n",
        "print(count)\n"
      ],
      "metadata": {
        "colab": {
          "base_uri": "https://localhost:8080/"
        },
        "id": "hfHqUWSU3oUL",
        "outputId": "e390d6ef-1637-4ba7-b046-54f39d41fe49"
      },
      "execution_count": null,
      "outputs": [
        {
          "output_type": "stream",
          "name": "stdout",
          "text": [
            "aba ahg\n",
            "1\n"
          ]
        }
      ]
    },
    {
      "cell_type": "code",
      "source": [
        "# 6.remove duplicates\n",
        "arr=[int(i) for i in input().split()]\n",
        "n=[]\n",
        "for i in arr:\n",
        "  ele=i\n",
        "  if ele in n:\n",
        "    continue\n",
        "    #n.append(ele)\n",
        "  else:\n",
        "    n.append(ele)\n",
        "    #continue\n",
        "print(n)\n"
      ],
      "metadata": {
        "colab": {
          "base_uri": "https://localhost:8080/"
        },
        "id": "QwVjmQ0r-acT",
        "outputId": "c67e50d0-cac1-4613-a32b-3d73f0b18f33"
      },
      "execution_count": null,
      "outputs": [
        {
          "output_type": "stream",
          "name": "stdout",
          "text": [
            "1 2 5 2 1\n",
            "[1, 2, 5]\n"
          ]
        }
      ]
    },
    {
      "cell_type": "code",
      "source": [
        "# 7.empty or not empty\n",
        "def emp(li):\n",
        "  if (len(li)>0):\n",
        "    print(\"Not Empty\")\n",
        "  else:\n",
        "    print(\"Empty\")\n",
        "\n",
        "li=[5,6]\n",
        "emp(li)\n"
      ],
      "metadata": {
        "colab": {
          "base_uri": "https://localhost:8080/"
        },
        "id": "jpb9e9eOvPUS",
        "outputId": "3a109038-66b2-46cd-c65f-7fe6a1bfa38b"
      },
      "execution_count": null,
      "outputs": [
        {
          "output_type": "stream",
          "name": "stdout",
          "text": [
            "Not Empty\n"
          ]
        }
      ]
    },
    {
      "cell_type": "code",
      "source": [
        "# 8.clone\n",
        "arr=[int(i) for i in input().split()]\n",
        "n=[]\n",
        "for i in arr:\n",
        "  if i in n:\n",
        "    continue\n",
        "  else:\n",
        "    n.append(i)\n",
        "print (n)"
      ],
      "metadata": {
        "colab": {
          "base_uri": "https://localhost:8080/"
        },
        "id": "3CTW20YzCJGb",
        "outputId": "2c982e15-8354-460f-972a-b6878e08f55e"
      },
      "execution_count": null,
      "outputs": [
        {
          "output_type": "stream",
          "name": "stdout",
          "text": [
            "10 22 44 3\n",
            "[10, 22, 44, 3]\n"
          ]
        }
      ]
    },
    {
      "cell_type": "code",
      "source": [
        "# 9.find the list of words that are longer than n from a given list of words\n",
        "li=(str(i) for i in input().split())\n",
        "n=int(input())\n",
        "m=[]\n",
        "for i in li:\n",
        "  if len(i)>n:\n",
        "    m.append(i)\n",
        "print(m)"
      ],
      "metadata": {
        "colab": {
          "base_uri": "https://localhost:8080/"
        },
        "id": "J2KDii-83Qmp",
        "outputId": "4e919b1e-f00d-4519-f306-0f28cf145aa7"
      },
      "execution_count": null,
      "outputs": [
        {
          "output_type": "stream",
          "name": "stdout",
          "text": [
            "['Words', 'Longer', 'given', 'Words']\n"
          ]
        }
      ]
    },
    {
      "cell_type": "code",
      "source": [
        "# 10.get two lists as input and check if they have at least one common member\n",
        "def common(l1,l2):\n",
        "  res=False\n",
        "  for i in l1:\n",
        "    for j in l2:\n",
        "      if (i==j):\n",
        "        res=True\n",
        "        print(res)\n",
        "\n",
        "  if res:\n",
        "    print(\"Lists have at least one common member\")\n",
        "  else:\n",
        "    print(\"Lists do not have any common member\")\n",
        "\n",
        "l1=[1,2,3,4,5]\n",
        "l2=[5,6,7,8,9]\n",
        "common(l1,l2)"
      ],
      "metadata": {
        "id": "0fHoT4dAzZAc",
        "colab": {
          "base_uri": "https://localhost:8080/"
        },
        "outputId": "626e1aa2-7d26-4991-b767-549420dca975"
      },
      "execution_count": null,
      "outputs": [
        {
          "output_type": "stream",
          "name": "stdout",
          "text": [
            "True\n",
            "Lists have at least one common member\n"
          ]
        }
      ]
    },
    {
      "cell_type": "code",
      "source": [
        "# 11.specified list after removing the 0th, 4th and 5th elements.\n",
        "li=[str(i) for i in input().split()]\n",
        "index=[int(i) for i in input().split()]\n",
        "n=[]\n",
        "for i in range(0,len(li)):\n",
        "  if i not in index:\n",
        "    n.append(li[i])\n",
        "print(n)"
      ],
      "metadata": {
        "colab": {
          "base_uri": "https://localhost:8080/"
        },
        "id": "_X9x1bFM4bNG",
        "outputId": "32ef2cf8-a092-463b-8191-8b09b1e6af6f"
      },
      "execution_count": null,
      "outputs": [
        {
          "output_type": "stream",
          "name": "stdout",
          "text": [
            "cat pig dog lion fox tiger\n",
            "0 4 5\n",
            "['pig', 'dog', 'lion']\n"
          ]
        }
      ]
    },
    {
      "cell_type": "code",
      "source": [
        "# 12.print the numbers of a specified list after removing even numbers from it\n",
        "def remove(x):\n",
        "  n=[]\n",
        "  for i in x:\n",
        "    if(i%2!=0):\n",
        "      n.append(i)\n",
        "  print(n)\n",
        "\n",
        "x=7,13,81,20,6\n",
        "remove(x)"
      ],
      "metadata": {
        "id": "5jy-kXD0H41_"
      },
      "execution_count": null,
      "outputs": []
    },
    {
      "cell_type": "code",
      "source": [
        "# 13.shuffle\n",
        "from random import shuffle\n",
        "animal=[str(i) for i in input().split()]\n",
        "shuffle(animal)\n",
        "print(animal)\n"
      ],
      "metadata": {
        "colab": {
          "base_uri": "https://localhost:8080/"
        },
        "id": "otukvqx66EsH",
        "outputId": "c3480041-341f-45e6-a520-54d5e3673f11"
      },
      "execution_count": null,
      "outputs": [
        {
          "output_type": "stream",
          "name": "stdout",
          "text": [
            "cat dog fox pig\n",
            "['pig', 'fox', 'dog', 'cat']\n"
          ]
        }
      ]
    },
    {
      "cell_type": "code",
      "source": [
        "# 14.generate and print a list of first and last 5 elements\n",
        "#where the values are square of numbers between 1 and 30\n",
        "a=[]\n",
        "for i in range(1,30):\n",
        "\ta.append(i**2)\n",
        "print(a[:5])\n",
        "print(a[-5:])"
      ],
      "metadata": {
        "colab": {
          "base_uri": "https://localhost:8080/"
        },
        "id": "6ekDAtkj7gs-",
        "outputId": "16de747d-d3c4-4dc2-e894-32d34daecd3d"
      },
      "execution_count": null,
      "outputs": [
        {
          "output_type": "stream",
          "name": "stdout",
          "text": [
            "[1, 4, 9, 16, 25]\n",
            "[625, 676, 729, 784, 841]\n"
          ]
        }
      ]
    },
    {
      "cell_type": "code",
      "source": [
        "# 15.permutation\n",
        "import itertools\n",
        "li=[int(i) for i in input().split()]\n",
        "list(itertools.permutations(li))"
      ],
      "metadata": {
        "colab": {
          "base_uri": "https://localhost:8080/"
        },
        "id": "TcEVJkXIOJ7e",
        "outputId": "d52c6a29-d375-482e-913b-8e93c2b155b1"
      },
      "execution_count": null,
      "outputs": [
        {
          "name": "stdout",
          "output_type": "stream",
          "text": [
            "1 2 3\n"
          ]
        },
        {
          "output_type": "execute_result",
          "data": {
            "text/plain": [
              "[(1, 2, 3), (1, 3, 2), (2, 1, 3), (2, 3, 1), (3, 1, 2), (3, 2, 1)]"
            ]
          },
          "metadata": {},
          "execution_count": 26
        }
      ]
    },
    {
      "cell_type": "code",
      "source": [
        "# 16.convert char to string in list\n",
        "li=[str(i) for i in input().split()]\n",
        "word=\"\"\n",
        "#word= ''.join(li)\n",
        "  #   (or)\n",
        "for i in li:\n",
        "  word=word+i\n",
        "print(word)\n",
        "\n",
        "\n"
      ],
      "metadata": {
        "colab": {
          "base_uri": "https://localhost:8080/"
        },
        "id": "0WgjHUp8_EoZ",
        "outputId": "ca3c87b9-523c-4cd7-8949-73034ca97244"
      },
      "execution_count": null,
      "outputs": [
        {
          "output_type": "stream",
          "name": "stdout",
          "text": [
            "t u t o t\n",
            "tutot\n"
          ]
        }
      ]
    },
    {
      "cell_type": "code",
      "source": [
        "# 17. index of an item in a specified list\n",
        "num=[int(i) for i in input().split()]\n",
        "n=int(input())\n",
        "print(num.index(n))"
      ],
      "metadata": {
        "colab": {
          "base_uri": "https://localhost:8080/"
        },
        "id": "Mwb0nOiy_tSm",
        "outputId": "2518a0b6-32fd-4743-ae90-d001da64172f"
      },
      "execution_count": null,
      "outputs": [
        {
          "output_type": "stream",
          "name": "stdout",
          "text": [
            "10 20 30\n",
            "20\n",
            "1\n"
          ]
        }
      ]
    },
    {
      "cell_type": "code",
      "source": [
        "# 18.flatten a shallow list\n",
        "def lists(x):\n",
        "  n=[]\n",
        "  for i in x:\n",
        "    for j in i:\n",
        "      n.append(j)\n",
        "  print(n)\n",
        "\n",
        "x=[[1,2,3],[4,5,6]]\n",
        "lists(x)\n",
        "\n"
      ],
      "metadata": {
        "colab": {
          "base_uri": "https://localhost:8080/"
        },
        "id": "X72MjNyg1t5r",
        "outputId": "08bd5cb7-0fd0-422a-83bf-503785831435"
      },
      "execution_count": null,
      "outputs": [
        {
          "output_type": "stream",
          "name": "stdout",
          "text": [
            "[1, 2, 3, 4, 5, 6]\n"
          ]
        }
      ]
    },
    {
      "cell_type": "code",
      "source": [
        "# 19.add a list to the second list\n",
        "def add(x,y):\n",
        "  z=x+y\n",
        "  print(z)\n",
        "\n",
        "x=[10,20,30]\n",
        "y=['cat','dog','pig']\n",
        "add(x,y)"
      ],
      "metadata": {
        "colab": {
          "base_uri": "https://localhost:8080/"
        },
        "id": "GPuXWNgK_9kB",
        "outputId": "5a8cf2fd-9ec6-4c26-c666-a6445b07c3f2"
      },
      "execution_count": null,
      "outputs": [
        {
          "output_type": "stream",
          "name": "stdout",
          "text": [
            "[10, 20, 30, 'cat', 'dog', 'pig']\n"
          ]
        }
      ]
    },
    {
      "cell_type": "code",
      "source": [
        "# 20.select an item randomly from a list\n",
        "import random\n",
        "animal = [\"Cat\", \"Dog\", \"Elephant\", \"Fox\", \"Tiger\", \"Lion\", \"Ponda\"]\n",
        "print(random.choice(animal))"
      ],
      "metadata": {
        "colab": {
          "base_uri": "https://localhost:8080/"
        },
        "id": "9IJ1BS7lAbgy",
        "outputId": "8345e2bc-4f63-4994-bfe1-5eccbfd6a775"
      },
      "execution_count": null,
      "outputs": [
        {
          "output_type": "stream",
          "name": "stdout",
          "text": [
            "Tiger\n"
          ]
        }
      ]
    },
    {
      "cell_type": "code",
      "source": [
        "# 21.check whether two lists are circularly identical\n",
        "x=[int(i) for i in input().split()]\n",
        "y=[int(i) for i in input().split()]\n",
        "z=[int(i) for i in input().split()]\n",
        "print(\"compare x and y\",''.join(map(str, x)) in ''.join(map(str, y*2)))\n",
        "print(\"compare y and z\",''.join(map(str, y)) in ''.join(map(str, z*2)))\n"
      ],
      "metadata": {
        "id": "jXzVZhYSYKSm",
        "colab": {
          "base_uri": "https://localhost:8080/"
        },
        "outputId": "ed9ace42-4697-4568-80ad-ead500fde480"
      },
      "execution_count": null,
      "outputs": [
        {
          "output_type": "stream",
          "name": "stdout",
          "text": [
            "8 8 8 12 12\n",
            "8 8 12 12 8\n",
            "1 8 8 12 12\n",
            "compare x and y True\n",
            "compare y and z False\n"
          ]
        }
      ]
    },
    {
      "cell_type": "code",
      "source": [
        "# 22.second smallest number in a list\n",
        "x=[int(i) for i in input().split()]\n",
        "min=x[0]\n",
        "secmin=0\n",
        "for i in x:\n",
        "  if min<i:\n",
        "    secmin=min\n",
        "    min=i\n",
        "print(secmin)"
      ],
      "metadata": {
        "colab": {
          "base_uri": "https://localhost:8080/"
        },
        "id": "67b844VUU3f-",
        "outputId": "ab0675cc-67b4-46f0-d29d-213884b00e83"
      },
      "execution_count": null,
      "outputs": [
        {
          "output_type": "stream",
          "name": "stdout",
          "text": [
            "10 20 30\n",
            "20\n"
          ]
        }
      ]
    },
    {
      "cell_type": "code",
      "source": [
        "# 23.second largest number in a list\n",
        "x=[int(i) for i in input().split()]\n",
        "max=x[0]\n",
        "secmax=0\n",
        "for i in x:\n",
        "  if i>max:\n",
        "    secmax=max\n",
        "    max=i\n",
        "print(secmax)\n"
      ],
      "metadata": {
        "id": "Bi-tHXBCBXOk",
        "colab": {
          "base_uri": "https://localhost:8080/"
        },
        "outputId": "db652dc3-1d84-4626-8c17-7ca5c9784cee"
      },
      "execution_count": null,
      "outputs": [
        {
          "output_type": "stream",
          "name": "stdout",
          "text": [
            "10 20 30 40\n",
            "30\n"
          ]
        }
      ]
    },
    {
      "cell_type": "code",
      "source": [
        "# 24.unique values\n",
        "arr=[int(i) for i in input().split()]\n",
        "li=[]\n",
        "for i in arr:\n",
        "  if i in li:\n",
        "    continue\n",
        "  else:\n",
        "    li.append(i)\n",
        "print(li)"
      ],
      "metadata": {
        "colab": {
          "base_uri": "https://localhost:8080/"
        },
        "id": "pJuGTiN7ymQy",
        "outputId": "4892d5b9-9248-43dc-98dc-ec54d7f25bcc"
      },
      "execution_count": null,
      "outputs": [
        {
          "output_type": "stream",
          "name": "stdout",
          "text": [
            "1 5 7 6 1\n",
            "[1, 5, 7, 6]\n"
          ]
        }
      ]
    },
    {
      "cell_type": "code",
      "source": [
        "# 25.frequency of the elements in a list\n",
        "import collections\n",
        "li=[int(i) for i in input().split()]\n",
        "n=collections.Counter(li)\n",
        "print(n)"
      ],
      "metadata": {
        "colab": {
          "base_uri": "https://localhost:8080/"
        },
        "id": "qvkV_gOMTp7L",
        "outputId": "f55deac3-fa64-4e51-cd10-6b8558cdd999"
      },
      "execution_count": null,
      "outputs": [
        {
          "output_type": "stream",
          "name": "stdout",
          "text": [
            "10 20 30 20 10 20 40\n",
            "Counter({20: 3, 10: 2, 30: 1, 40: 1})\n"
          ]
        }
      ]
    },
    {
      "cell_type": "code",
      "source": [
        "# 26.Create a list by concatenating a given list which range goes from 1 to n\n",
        "li=[(i) for i in input().split()]\n",
        "n=int(input())\n",
        "x=['{}{}'.format(a,b) for b in range(1,n+1) for a in li]\n",
        "print(x)\n"
      ],
      "metadata": {
        "id": "BaOrgjteYg6_",
        "colab": {
          "base_uri": "https://localhost:8080/"
        },
        "outputId": "0aeb5096-aab6-4acf-b77d-cb13636cd4ce"
      },
      "execution_count": null,
      "outputs": [
        {
          "output_type": "stream",
          "name": "stdout",
          "text": [
            "j k\n",
            "3\n",
            "['j1', 'k1', 'j2', 'k2', 'j3', 'k3']\n"
          ]
        }
      ]
    },
    {
      "cell_type": "code",
      "source": [
        "# 27.unique identification number or string\n",
        "x=[str(i) for i in input().split()]\n",
        "print(id(x))\n",
        "y=[int(i) for i in input().split()]\n",
        "print(id(y))\n"
      ],
      "metadata": {
        "colab": {
          "base_uri": "https://localhost:8080/"
        },
        "id": "7dFGsyzuL8Vm",
        "outputId": "0c17dc21-1ff4-49eb-e7c2-26883ffecb93"
      },
      "execution_count": null,
      "outputs": [
        {
          "output_type": "stream",
          "name": "stdout",
          "text": [
            "'hi'\n",
            "132364313356544\n",
            "10\n",
            "132364299289280\n"
          ]
        }
      ]
    },
    {
      "cell_type": "code",
      "source": [
        "# 28.common items from two lists\n",
        "x=[int(i) for i in input().split()]\n",
        "y=[int(i) for i in input().split()]\n",
        "z=[]\n",
        "for i in x:\n",
        "  if i in y:\n",
        "    z.append(i)\n",
        "print(z)"
      ],
      "metadata": {
        "colab": {
          "base_uri": "https://localhost:8080/"
        },
        "id": "nEfuaBKcFcX8",
        "outputId": "ef4b8899-8061-4afd-f39e-09c5d7afcd1c"
      },
      "execution_count": null,
      "outputs": [
        {
          "output_type": "stream",
          "name": "stdout",
          "text": [
            "1 2 3\n",
            "2 3 4\n",
            "[2, 3]\n"
          ]
        }
      ]
    },
    {
      "cell_type": "code",
      "source": [
        "# 29.split a list based on first character of word\n",
        "a=[\"cat\", \"dog\", \"cow\", \"tiger\", \"lion\", \"Fox\", \"Shark\", \"Snake\", \"turtle\", \"mouse\", \"monkey\", \"bear\"]\n",
        "b=a.copy()\n",
        "li=[]\n",
        "for i in range(0,len(a)):\n",
        "  temp=[]\n",
        "  for j in range(0,len(b)):\n",
        "    if(a[i][0]==b[j][0]):\n",
        "      #temp.append(a[i])\n",
        "      temp.append(b[j])\n",
        "  li.append(temp)\n",
        "print(li)\n"
      ],
      "metadata": {
        "id": "411WwTOwPZ_-",
        "colab": {
          "base_uri": "https://localhost:8080/"
        },
        "outputId": "531c5aed-4f6d-4f04-8aa8-c71cc4d97239"
      },
      "execution_count": null,
      "outputs": [
        {
          "output_type": "stream",
          "name": "stdout",
          "text": [
            "[['cat', 'cow'], ['dog'], ['cat', 'cow'], ['tiger', 'turtle'], ['lion'], ['Fox'], ['Shark', 'Snake'], ['Shark', 'Snake'], ['tiger', 'turtle'], ['mouse', 'monkey'], ['mouse', 'monkey'], ['bear']]\n"
          ]
        }
      ]
    },
    {
      "cell_type": "code",
      "source": [
        "final=[]\n",
        "for k in li:\n",
        "  if k not in final:\n",
        "    final.append(k)\n",
        "print(final)"
      ],
      "metadata": {
        "colab": {
          "base_uri": "https://localhost:8080/"
        },
        "id": "PS4CHu7hHzU7",
        "outputId": "bcbff65c-a881-4763-c336-9f0854b488e6"
      },
      "execution_count": null,
      "outputs": [
        {
          "output_type": "stream",
          "name": "stdout",
          "text": [
            "[['cat', 'cow'], ['dog'], ['tiger', 'turtle'], ['lion'], ['Fox'], ['Shark', 'Snake'], ['mouse', 'monkey'], ['bear']]\n"
          ]
        }
      ]
    },
    {
      "cell_type": "code",
      "source": [
        "for k in final:\n",
        "  print(k[0][0])\n",
        "  for j in k:\n",
        "    print(j)"
      ],
      "metadata": {
        "colab": {
          "base_uri": "https://localhost:8080/"
        },
        "id": "vPKVKhQVKVG7",
        "outputId": "6d2e1c72-6e7a-42d7-fc06-0325822fe3c8"
      },
      "execution_count": null,
      "outputs": [
        {
          "output_type": "stream",
          "name": "stdout",
          "text": [
            "c\n",
            "cat\n",
            "cow\n",
            "d\n",
            "dog\n",
            "t\n",
            "tiger\n",
            "turtle\n",
            "l\n",
            "lion\n",
            "F\n",
            "Fox\n",
            "S\n",
            "Shark\n",
            "Snake\n",
            "m\n",
            "mouse\n",
            "monkey\n",
            "b\n",
            "bear\n"
          ]
        }
      ]
    },
    {
      "cell_type": "code",
      "source": [
        "# 30.odd no\n",
        "def odd(x):\n",
        "  n=[]\n",
        "  for i in x:\n",
        "    if(i%2!=0):\n",
        "      n.append(i)\n",
        "  print(n)\n",
        "\n",
        "x=[1,2,4,3,6,7,5,8,9,7,8,9,10]\n",
        "odd(x)"
      ],
      "metadata": {
        "colab": {
          "base_uri": "https://localhost:8080/"
        },
        "id": "XNoG-VLGT24R",
        "outputId": "1242dc55-fb38-4079-cdc5-2c8ee97df08b"
      },
      "execution_count": null,
      "outputs": [
        {
          "output_type": "stream",
          "name": "stdout",
          "text": [
            "[1, 3, 7, 5, 9, 7, 9]\n"
          ]
        }
      ]
    },
    {
      "cell_type": "code",
      "source": [
        "# 31.count unique values\n",
        "li=[int(i) for i in input().split()]\n",
        "n=[]\n",
        "for i in li:\n",
        "  if i not in n:\n",
        "    n.append(i)\n",
        "  x=len(n)\n",
        "print(x)"
      ],
      "metadata": {
        "colab": {
          "base_uri": "https://localhost:8080/"
        },
        "id": "AzQQ6RMlUQHB",
        "outputId": "a0a03918-e5d8-4de9-d1dd-3a604fce0eb7"
      },
      "execution_count": null,
      "outputs": [
        {
          "output_type": "stream",
          "name": "stdout",
          "text": [
            "10 20 30 20 40 50 10\n",
            "5\n"
          ]
        }
      ]
    },
    {
      "cell_type": "code",
      "source": [
        "# 32.to List product excluding duplicates\n",
        "arr=[int(i) for i in input().split()]\n",
        "li=[]\n",
        "for i in arr:\n",
        "  if i not in li:\n",
        "    li.append(i)\n",
        "mul=1\n",
        "for i in li:\n",
        "  mul=mul*i\n",
        "print(mul)\n",
        "\n",
        "\n"
      ],
      "metadata": {
        "colab": {
          "base_uri": "https://localhost:8080/"
        },
        "id": "LqQ3BXqiU5-6",
        "outputId": "202e6d09-946e-4ea8-fb44-2530c3332e51"
      },
      "execution_count": null,
      "outputs": [
        {
          "output_type": "stream",
          "name": "stdout",
          "text": [
            "1 2 3 4 2 1\n",
            "24\n"
          ]
        }
      ]
    },
    {
      "cell_type": "code",
      "source": [
        "# 33.elements with Frequency greater than K\n",
        "li=[(i) for i in input().split()]\n",
        "k=int(input())\n",
        "x=[]\n",
        "for i in li:\n",
        "  f=li.count(i)\n",
        "  if f>k and i not in x:\n",
        "    x.append(i)\n",
        "print(x)"
      ],
      "metadata": {
        "colab": {
          "base_uri": "https://localhost:8080/"
        },
        "id": "PDai9wf38QSm",
        "outputId": "44a7755f-1ba0-4aeb-cd42-307ebd68a225"
      },
      "execution_count": null,
      "outputs": [
        {
          "output_type": "stream",
          "name": "stdout",
          "text": [
            "4 6 4 3 3 4 3 7 8 8\n",
            "2 \n",
            "['4', '3']\n"
          ]
        }
      ]
    },
    {
      "cell_type": "code",
      "source": [
        "# 34.Test if List contains elements in Range\n",
        "a=[int(i) for i in input().split()]\n",
        "min=int(input())\n",
        "max=int(input())\n",
        "flag=False\n",
        "for i in a:\n",
        "  if ((i>=min) and (i<=max)):\n",
        "    flag=True\n",
        "  else:\n",
        "    flag=False\n",
        "print(flag)\n",
        "\n"
      ],
      "metadata": {
        "id": "zmINEQP0VMwV",
        "colab": {
          "base_uri": "https://localhost:8080/"
        },
        "outputId": "07435a45-a4d3-42d6-f079-9a978484231a"
      },
      "execution_count": null,
      "outputs": [
        {
          "output_type": "stream",
          "name": "stdout",
          "text": [
            "1 4 5 6 3\n",
            "1 \n",
            "6\n",
            "True\n"
          ]
        }
      ]
    },
    {
      "cell_type": "code",
      "source": [
        "# 35.check if the list contains three consecutive common numbers\n",
        "a=[int(i) for i in input().split()]\n",
        "for i in range(0,len(a)-2):\n",
        "  if a[i]==a[i+1] and a[i+1]==a[i+2]:\n",
        "    print(a[i])\n"
      ],
      "metadata": {
        "id": "vE84En0XWmK0",
        "colab": {
          "base_uri": "https://localhost:8080/"
        },
        "outputId": "1536a945-0284-4c53-ec18-e31f0f553ae0"
      },
      "execution_count": null,
      "outputs": [
        {
          "output_type": "stream",
          "name": "stdout",
          "text": [
            "1 2 2 2 3 6 6 6\n",
            "2\n",
            "6\n"
          ]
        }
      ]
    },
    {
      "cell_type": "code",
      "source": [
        "# 36.Strongest Neighbour\n",
        "li=[int(i) for i in input().split()]\n",
        "a=[]\n",
        "for i in range(0,len(li)-1):\n",
        "  r=max(li[i],li[i+1])\n",
        "  a.append(r)\n",
        "print(a)"
      ],
      "metadata": {
        "id": "m-6Kp7RjZTcX",
        "colab": {
          "base_uri": "https://localhost:8080/"
        },
        "outputId": "882fd638-c9ae-4393-832a-f94ee46d8ebe"
      },
      "execution_count": null,
      "outputs": [
        {
          "output_type": "stream",
          "name": "stdout",
          "text": [
            "10 20 30 20 30 400\n",
            "[20, 30, 30, 30, 400]\n"
          ]
        }
      ]
    },
    {
      "cell_type": "code",
      "source": [
        "# 37.Possible Combinations from the three Digits\n",
        "a=[int(i) for i in input().split()]\n",
        "for i in range(0,len(a)):\n",
        "    for j in range(0,len(a)):\n",
        "        for k in range(0,len(a)):\n",
        "            if (i!=j and j!=k and i!=k):\n",
        "                print(a[i], a[j], a[k])"
      ],
      "metadata": {
        "colab": {
          "base_uri": "https://localhost:8080/"
        },
        "id": "gTaFRGvISB7B",
        "outputId": "29486cbb-dc14-4050-e4e3-f023988680e4"
      },
      "execution_count": null,
      "outputs": [
        {
          "output_type": "stream",
          "name": "stdout",
          "text": [
            "1 2 3\n",
            "1 2 3\n",
            "1 3 2\n",
            "2 1 3\n",
            "2 3 1\n",
            "3 1 2\n",
            "3 2 1\n"
          ]
        }
      ]
    },
    {
      "cell_type": "code",
      "source": [
        "import itertools\n",
        "li=[int(i) for i in input().split()]\n",
        "n=itertools.permutations(li)\n",
        "print(*n)"
      ],
      "metadata": {
        "colab": {
          "base_uri": "https://localhost:8080/"
        },
        "id": "N4OGu64HTGiP",
        "outputId": "a20c07f2-922d-45d0-99c6-3109879ce1be"
      },
      "execution_count": null,
      "outputs": [
        {
          "output_type": "stream",
          "name": "stdout",
          "text": [
            "1 2 3\n",
            "(1, 2, 3) (1, 3, 2) (2, 1, 3) (2, 3, 1) (3, 1, 2) (3, 2, 1)\n"
          ]
        }
      ]
    },
    {
      "cell_type": "code",
      "source": [
        "# 38.all the Combinations in the list with the given condition\n",
        "def com(l1):\n",
        "  l2=[]\n",
        "  for x,y in zip(l1[1],l1[2]):\n",
        "    temp=[]\n",
        "    temp.append(l1[0])\n",
        "    temp.append(x)\n",
        "    temp.append(y)\n",
        "    l2.append(temp)\n",
        "  print(l2)\n",
        "l1=['Tutor Joes', ['Software', 'Computer'], ['Solution', 'Education']]\n",
        "com(l1)"
      ],
      "metadata": {
        "colab": {
          "base_uri": "https://localhost:8080/"
        },
        "id": "AxavxcfK3hl2",
        "outputId": "2e1f618d-c64f-48c5-f94a-8691e9ebb6f2"
      },
      "execution_count": null,
      "outputs": [
        {
          "output_type": "stream",
          "name": "stdout",
          "text": [
            "[['Tutor Joes', 'Software', 'Solution'], ['Tutor Joes', 'Computer', 'Education']]\n"
          ]
        }
      ]
    },
    {
      "cell_type": "code",
      "source": [
        "# 39.unique combinations of two Lists\n",
        "a=[(i) for i in input().split()]\n",
        "b=[int(i) for i in input().split()]\n",
        "c=[]\n",
        "for i in range(0,len(a)):\n",
        "  for j in range(0,len(b)):\n",
        "    c.append((a[i],b[j]))\n",
        "print (c)"
      ],
      "metadata": {
        "colab": {
          "base_uri": "https://localhost:8080/"
        },
        "id": "D2M-k9noUS-W",
        "outputId": "b7a85fde-452b-4981-d1e7-b640e29022c1"
      },
      "execution_count": null,
      "outputs": [
        {
          "output_type": "stream",
          "name": "stdout",
          "text": [
            "x y z\n",
            "1 2 3\n",
            "[('x', 1), ('x', 2), ('x', 3), ('y', 1), ('y', 2), ('y', 3), ('z', 1), ('z', 2), ('z', 3)]\n"
          ]
        }
      ]
    },
    {
      "cell_type": "code",
      "source": [
        "# 40.\n",
        "li=[int(i) for i in input().split()]\n",
        "n=[]\n",
        "for i in range(0,len(li)):\n",
        "  f=li.count(i)\n",
        "  if f==1:\n",
        "    n.append(i)\n",
        "print(n)"
      ],
      "metadata": {
        "colab": {
          "base_uri": "https://localhost:8080/"
        },
        "id": "8jq73hIo4gnh",
        "outputId": "4566cefe-45c0-4bf0-e73a-3eca620abf75"
      },
      "execution_count": null,
      "outputs": [
        {
          "output_type": "stream",
          "name": "stdout",
          "text": [
            "1 3 4 6 5 1\n",
            "[3, 4, 5]\n"
          ]
        }
      ]
    },
    {
      "cell_type": "code",
      "source": [
        "# 41.Remove Consecutive K element records\n",
        "def occ(a,k):\n",
        "  n=[]\n",
        "  for i in a:\n",
        "    flag= False\n",
        "    for j in range(len(i)-1):\n",
        "      if i[j] == k and i[j+1] == k:\n",
        "        flag=True\n",
        "        break\n",
        "    if not flag:\n",
        "      n.append(i)\n",
        "  print(n)\n",
        "\n",
        "\n",
        "a=[ ('A', 'B', 'C', 'D'), ('B', 'C', 'C', 'I'), ('H', 'D', 'B', 'C'), ('C', 'C', 'G', 'F') ]\n",
        "k=\"C\"\n",
        "occ(a,k)\n"
      ],
      "metadata": {
        "colab": {
          "base_uri": "https://localhost:8080/"
        },
        "id": "mmaFRQ0tVAAX",
        "outputId": "fbdc0f31-d0be-4cd9-f1dc-8ba2e85f9589"
      },
      "execution_count": null,
      "outputs": [
        {
          "output_type": "stream",
          "name": "stdout",
          "text": [
            "[('A', 'B', 'C', 'D'), ('H', 'D', 'B', 'C')]\n"
          ]
        }
      ]
    },
    {
      "cell_type": "code",
      "source": [
        "#   (or)\n",
        "def occ(l1):\n",
        "  l2=[]\n",
        "  for i in l1:\n",
        "    if(len(i)==len(set(i))):\n",
        "      l2.append(i)\n",
        "  print(l2)\n",
        "l1=[ ('A', 'B', 'C', 'D'), ('B', 'C', 'C', 'I'), ('H', 'D', 'B', 'C'), ('C', 'C', 'G', 'F') ]\n",
        "occ(l1)"
      ],
      "metadata": {
        "colab": {
          "base_uri": "https://localhost:8080/"
        },
        "id": "rUHv2J3Bz30Z",
        "outputId": "5a65250f-b28f-4a27-ff5f-13e35c9974b6"
      },
      "execution_count": null,
      "outputs": [
        {
          "output_type": "stream",
          "name": "stdout",
          "text": [
            "[('A', 'B', 'C', 'D'), ('H', 'D', 'B', 'C')]\n"
          ]
        }
      ]
    },
    {
      "cell_type": "code",
      "source": [
        "# 42.Replace index elements with elements in Other List\n",
        "a=[(i) for i in input().split()]\n",
        "b=[int(i) for i in input().split()]\n",
        "res=[a[i] for i in b]\n",
        "print(res)"
      ],
      "metadata": {
        "colab": {
          "base_uri": "https://localhost:8080/"
        },
        "id": "86AKjaJoOOsg",
        "outputId": "16ff4677-8f83-47c2-b119-71e76ad23ef1"
      },
      "execution_count": null,
      "outputs": [
        {
          "output_type": "stream",
          "name": "stdout",
          "text": [
            "comp educ joes\n",
            "2 1 0 1 0 2\n",
            "['joes', 'educ', 'comp', 'educ', 'comp', 'joes']\n"
          ]
        }
      ]
    },
    {
      "cell_type": "code",
      "source": [
        "# 43.Retain records with N occurrences of K\n",
        "def occ(li,n,k):\n",
        "  a=[]\n",
        "  for i in li:\n",
        "  #ele=a[i]\n",
        "    count=0\n",
        "    for j in range(len(i)-1):\n",
        "      if i[j]==k:\n",
        "        count+=1\n",
        "    if count>=n:\n",
        "      a.append(i)\n",
        "\n",
        "  print(a)\n",
        "\n",
        "\n",
        "li=[ (4, 5, 6, 5, 4), (4, 5, 3), (5, 5, 2), (3, 4, 9) ]\n",
        "\n",
        "k = 5\n",
        "\n",
        "n = 2\n",
        "occ(li,n,k)"
      ],
      "metadata": {
        "colab": {
          "base_uri": "https://localhost:8080/"
        },
        "id": "ShC1EXx672cD",
        "outputId": "ac007eee-89d7-4e28-d434-67e21c8eaf22"
      },
      "execution_count": null,
      "outputs": [
        {
          "output_type": "stream",
          "name": "stdout",
          "text": [
            "[(4, 5, 6, 5, 4), (5, 5, 2)]\n"
          ]
        }
      ]
    },
    {
      "cell_type": "code",
      "source": [
        "# 44.Swap elements in String list\n",
        "l1=['Tutor', 'joes', 'Computer', 'Education']\n",
        "l1[1]=\"joe's\"\n",
        "l1[2]=\"Software\"\n",
        "l1[3]=\"Solution\"\n",
        "l1\n",
        "\n"
      ],
      "metadata": {
        "id": "g2egGpG7H4t9",
        "colab": {
          "base_uri": "https://localhost:8080/"
        },
        "outputId": "5cab9769-233e-4ba2-fdb7-b0845bbd88c8"
      },
      "execution_count": null,
      "outputs": [
        {
          "output_type": "execute_result",
          "data": {
            "text/plain": [
              "['Tutor', \"joe's\", 'Software', 'Solution']"
            ]
          },
          "metadata": {},
          "execution_count": 37
        }
      ]
    },
    {
      "cell_type": "code",
      "source": [
        "# 45.reverse All Strings in String List\n",
        "a=['Tutor', 'joes', 'Computer', 'Education']\n",
        "a[::-1]"
      ],
      "metadata": {
        "colab": {
          "base_uri": "https://localhost:8080/"
        },
        "id": "QVjDmankJuoK",
        "outputId": "08f9ea20-55b3-4f06-c45a-504c8c01e8ba"
      },
      "execution_count": null,
      "outputs": [
        {
          "output_type": "execute_result",
          "data": {
            "text/plain": [
              "['Education', 'Computer', 'joes', 'Tutor']"
            ]
          },
          "metadata": {},
          "execution_count": 71
        }
      ]
    },
    {
      "cell_type": "code",
      "source": [
        "a=['Tutor', 'joes', 'Computer', 'Education']\n",
        "for i in a:\n",
        "  n=i[::-1]\n",
        "  print(n)"
      ],
      "metadata": {
        "colab": {
          "base_uri": "https://localhost:8080/"
        },
        "id": "Mh4VkE48KvgB",
        "outputId": "d942447f-d747-42f1-ea65-be9017f8f21c"
      },
      "execution_count": null,
      "outputs": [
        {
          "output_type": "stream",
          "name": "stdout",
          "text": [
            "rotuT\n",
            "seoj\n",
            "retupmoC\n",
            "noitacudE\n"
          ]
        }
      ]
    },
    {
      "cell_type": "code",
      "source": [
        "li=[str(i) for i in input().split()]\n",
        "k=int(input())\n",
        "idx = 0\n",
        "for i in li:\n",
        "  if idx + len(i)> k:\n",
        "    #x=str(k-idx)\n",
        "    print(\"v:\"+str(k-idx))\n",
        "    break\n",
        "  else:\n",
        "    idx += (len(i))\n",
        "else:\n",
        "  print(\"K is beyond the end of the list\")"
      ],
      "metadata": {
        "colab": {
          "base_uri": "https://localhost:8080/"
        },
        "id": "OsZEPxPFDmR1",
        "outputId": "f0708511-e1c1-4114-ef40-f85eabdb779d"
      },
      "execution_count": null,
      "outputs": [
        {
          "output_type": "stream",
          "name": "stdout",
          "text": [
            "['Tutor', 'joes', 'Computer', 'Education']\n",
            "20\n",
            "v:4\n"
          ]
        }
      ]
    },
    {
      "cell_type": "code",
      "source": [
        "l1=[str(i) for i in input().split()]\n",
        "l2=[]\n",
        "for i in l1:\n",
        "  for j in range(0,len(i)):\n",
        "    l2.append(j)\n",
        "print(l2[20])"
      ],
      "metadata": {
        "colab": {
          "base_uri": "https://localhost:8080/"
        },
        "id": "METpGmLA0-wE",
        "outputId": "bda92323-5ff8-4556-af73-1efc410bd8f2"
      },
      "execution_count": null,
      "outputs": [
        {
          "output_type": "stream",
          "name": "stdout",
          "text": [
            "['Tutor', 'joes', 'Computer', 'Education']\n",
            "4\n"
          ]
        }
      ]
    },
    {
      "cell_type": "code",
      "source": [
        "# 47.Prefix frequency in string List\n",
        "def freq(li,k):\n",
        "  res=0\n",
        "  for i in li:\n",
        "    if i.startswith(k):\n",
        "      res+=1\n",
        "  print((res))\n",
        "\n",
        "li=[\"TjC\",\"TjCpp\",\"TjPython\",\"Java\"]\n",
        "k=\"Tj\"\n",
        "freq(li,k)"
      ],
      "metadata": {
        "colab": {
          "base_uri": "https://localhost:8080/"
        },
        "id": "7vxTRAmWL2el",
        "outputId": "b306b39d-5d53-43d3-fbfb-757ba3feb3e7"
      },
      "execution_count": null,
      "outputs": [
        {
          "output_type": "stream",
          "name": "stdout",
          "text": [
            "3\n"
          ]
        }
      ]
    },
    {
      "cell_type": "code",
      "source": [
        "#    (or)\n",
        "def freq(li,k):\n",
        "  res=0\n",
        "  for i in li:\n",
        "    if i.find(k)==0:\n",
        "        res+=1\n",
        "  print((res))\n",
        "\n",
        "li=[\"TjC\",\"TjCpp\",\"TjPython\",\"Java\"]\n",
        "k=\"Tj\"\n",
        "freq(li,k)"
      ],
      "metadata": {
        "colab": {
          "base_uri": "https://localhost:8080/"
        },
        "id": "4yLWHmJyNdKd",
        "outputId": "b2f8e246-bff7-4e22-a643-8a5b5ab40606"
      },
      "execution_count": null,
      "outputs": [
        {
          "output_type": "stream",
          "name": "stdout",
          "text": [
            "3\n"
          ]
        }
      ]
    },
    {
      "cell_type": "code",
      "source": [
        "# 48.\n",
        "def pre(li,k):\n",
        "  n=[]\n",
        "  x=[]\n",
        "  for i in li:\n",
        "    if i.startswith(k):\n",
        "      n.append(i)\n",
        "    else:\n",
        "      x.append(i)\n",
        "  print(n)\n",
        "  print(x)\n",
        "\n",
        "li=[\"TjC\",\"TjCpp\",\"TjPython\",\"Java\"]\n",
        "k=\"Tj\"\n",
        "pre(li,k)"
      ],
      "metadata": {
        "id": "r1Fk1GB-ad01",
        "colab": {
          "base_uri": "https://localhost:8080/"
        },
        "outputId": "bb0a67fa-4372-480f-bd5c-bf9e2d0e0283"
      },
      "execution_count": null,
      "outputs": [
        {
          "output_type": "stream",
          "name": "stdout",
          "text": [
            "['TjC', 'TjCpp', 'TjPython']\n",
            "['Java']\n"
          ]
        }
      ]
    },
    {
      "cell_type": "code",
      "source": [
        "# 49.Replace all Characters of a List Except the given character\n",
        "li=[i for i in input().split()]\n",
        "n=input()\n",
        "x=input()\n",
        "res=[]\n",
        "for i in li:\n",
        "  if i==n:\n",
        "    res.append(i)\n",
        "  else:\n",
        "    res.append(x)\n",
        "print(res)\n",
        "\n",
        "\n"
      ],
      "metadata": {
        "colab": {
          "base_uri": "https://localhost:8080/"
        },
        "id": "JIuYG7LtNVb9",
        "outputId": "ee5481bd-b7b7-4242-fe57-a75f078295cb"
      },
      "execution_count": null,
      "outputs": [
        {
          "output_type": "stream",
          "name": "stdout",
          "text": [
            "p y t h o n\n",
            "t\n",
            "@\n",
            "['@', '@', 't', '@', '@', '@']\n"
          ]
        }
      ]
    },
    {
      "cell_type": "code",
      "source": [
        "# 50.Add Space between Potential Words\n",
        "li=[i for i in input().split()]\n",
        "res=[]\n",
        "for i in li:\n",
        "  s=\"\"\n",
        "  for j in i:\n",
        "    if (j.isupper()):\n",
        "      s=s+\" \"+j\n",
        "    else:\n",
        "      s=s+j\n",
        "  res.append(s)\n",
        "print(res)\n",
        "\n",
        "\n"
      ],
      "metadata": {
        "colab": {
          "base_uri": "https://localhost:8080/"
        },
        "id": "DLUgACEfR4W4",
        "outputId": "1944bb96-1950-47ba-902c-89ba69c9e6e0"
      },
      "execution_count": null,
      "outputs": [
        {
          "output_type": "stream",
          "name": "stdout",
          "text": [
            "TutorJoes ComputerEducations\n",
            "[' Tutor Joes', ' Computer Educations']\n"
          ]
        }
      ]
    },
    {
      "cell_type": "markdown",
      "source": [
        "**TUPLES**"
      ],
      "metadata": {
        "id": "39zDbsT1dCoa"
      }
    },
    {
      "cell_type": "code",
      "source": [
        "# 1.create a tuple\n",
        "a=tuple()\n",
        "print(a)"
      ],
      "metadata": {
        "id": "jS-_axAoVT78",
        "colab": {
          "base_uri": "https://localhost:8080/"
        },
        "outputId": "06b49269-af5c-4057-94b0-d4ce984c3cd6"
      },
      "execution_count": null,
      "outputs": [
        {
          "output_type": "stream",
          "name": "stdout",
          "text": [
            "()\n"
          ]
        }
      ]
    },
    {
      "cell_type": "code",
      "source": [
        "# 2.create a tuple with different data types\n",
        "li=[i for i in input().split()]\n",
        "t=tuple(li)\n",
        "t"
      ],
      "metadata": {
        "colab": {
          "base_uri": "https://localhost:8080/"
        },
        "id": "7iKRc8A0qYm2",
        "outputId": "9693cb3a-9406-4b7f-a397-1510e65a577c"
      },
      "execution_count": null,
      "outputs": [
        {
          "name": "stdout",
          "output_type": "stream",
          "text": [
            "Tutor True T 3.21 10\n"
          ]
        },
        {
          "output_type": "execute_result",
          "data": {
            "text/plain": [
              "('Tutor', 'True', 'T', '3.21', '10')"
            ]
          },
          "metadata": {},
          "execution_count": 3
        }
      ]
    },
    {
      "cell_type": "code",
      "source": [
        "# 3.create a tuple with numbers and print one item\n",
        "n=input()\n",
        "t=tuple(n)\n",
        "type(t)"
      ],
      "metadata": {
        "colab": {
          "base_uri": "https://localhost:8080/"
        },
        "id": "p5Wxqs_ArJIV",
        "outputId": "cf1bc3a6-e28f-4215-d792-ef3b55126fce"
      },
      "execution_count": null,
      "outputs": [
        {
          "name": "stdout",
          "output_type": "stream",
          "text": [
            "10\n"
          ]
        },
        {
          "output_type": "execute_result",
          "data": {
            "text/plain": [
              "tuple"
            ]
          },
          "metadata": {},
          "execution_count": 7
        }
      ]
    },
    {
      "cell_type": "code",
      "source": [
        "# 4.unpack a tuple in several variables\n",
        "li=[i for i in input().split()]\n",
        "t=tuple(li)\n",
        "t\n",
        "\n",
        "a=input()\n",
        "b=input()\n",
        "c=input()\n",
        "\n",
        "(a,b,c)=t\n",
        "t\n"
      ],
      "metadata": {
        "colab": {
          "base_uri": "https://localhost:8080/"
        },
        "id": "9OMUVP14tpV6",
        "outputId": "f66a29fc-27d4-493f-ca9f-b07fb91094b3"
      },
      "execution_count": null,
      "outputs": [
        {
          "name": "stdout",
          "output_type": "stream",
          "text": [
            "4 8 3\n",
            "2\n",
            "5\n",
            "7\n"
          ]
        },
        {
          "output_type": "execute_result",
          "data": {
            "text/plain": [
              "('4', '8', '3')"
            ]
          },
          "metadata": {},
          "execution_count": 16
        }
      ]
    },
    {
      "cell_type": "code",
      "source": [
        "# 5.add an item in a tuple\n",
        "li=[i for i in input().split()]\n",
        "n=input()\n",
        "li.append(n)\n",
        "t=tuple(li)\n",
        "t\n",
        "\n"
      ],
      "metadata": {
        "colab": {
          "base_uri": "https://localhost:8080/"
        },
        "id": "FSX3oGQOscRY",
        "outputId": "5a3b4ea7-e711-420e-9747-67aaafdef016"
      },
      "execution_count": null,
      "outputs": [
        {
          "name": "stdout",
          "output_type": "stream",
          "text": [
            "10 40 50 70 90\n",
            "20\n"
          ]
        },
        {
          "output_type": "execute_result",
          "data": {
            "text/plain": [
              "('10', '40', '50', '70', '90', '20')"
            ]
          },
          "metadata": {},
          "execution_count": 11
        }
      ]
    },
    {
      "cell_type": "code",
      "source": [
        "# 6.convert a tuple to a string\n",
        "li=[i for i in input().split()]\n",
        "t=tuple(li)\n",
        "n=\"\".join(t)\n",
        "print(n)"
      ],
      "metadata": {
        "colab": {
          "base_uri": "https://localhost:8080/"
        },
        "id": "3hpUpJuGs35C",
        "outputId": "6cfab7a3-e7f0-4c37-8521-41814ecd6d7f"
      },
      "execution_count": null,
      "outputs": [
        {
          "output_type": "stream",
          "name": "stdout",
          "text": [
            "t u t o r\n",
            "tutor\n"
          ]
        }
      ]
    },
    {
      "cell_type": "code",
      "source": [
        "# 7.get the 4th element and 4th element from last of a tuple\n",
        "li=[i for i in input().split()]\n",
        "t=tuple(li)\n",
        "a=t[3]\n",
        "b=t[-4]\n",
        "print(a)\n",
        "print(b)"
      ],
      "metadata": {
        "colab": {
          "base_uri": "https://localhost:8080/"
        },
        "id": "gwCE8TUBu-cc",
        "outputId": "a25fe0f2-55b4-412f-ccaf-8720068d7430"
      },
      "execution_count": null,
      "outputs": [
        {
          "output_type": "stream",
          "name": "stdout",
          "text": [
            "w 3 r e s o u r c e\n",
            "e\n",
            "u\n"
          ]
        }
      ]
    },
    {
      "cell_type": "code",
      "source": [
        "# 8.create the colon of a tuple\n",
        "li=[i for i in input().split()]\n",
        "t=tuple(li)\n",
        "n=[]\n",
        "for i in t:\n",
        "  n.append(i)\n",
        "print(tuple(n))"
      ],
      "metadata": {
        "colab": {
          "base_uri": "https://localhost:8080/"
        },
        "id": "UKts74hGwOMY",
        "outputId": "4158a455-4361-4120-e2a0-8f73274bceb0"
      },
      "execution_count": null,
      "outputs": [
        {
          "output_type": "stream",
          "name": "stdout",
          "text": [
            "\"Tutor\", 'J', 23 , 56.67 , [23,12] , True\n",
            "('\"Tutor\",', \"'J',\", '23', ',', '56.67', ',', '[23,12]', ',', 'True')\n"
          ]
        }
      ]
    },
    {
      "cell_type": "code",
      "source": [
        "# 9.find the repeated items of a tuple\n",
        "li=[i for i in input().split()]\n",
        "t=tuple(li)\n",
        "n=input()\n",
        "print((t.count(n)))\n",
        "\n"
      ],
      "metadata": {
        "colab": {
          "base_uri": "https://localhost:8080/"
        },
        "id": "lX5K0_sAxDme",
        "outputId": "0f0f0327-6a87-4c4c-ec6b-bd18bfdeb715"
      },
      "execution_count": null,
      "outputs": [
        {
          "output_type": "stream",
          "name": "stdout",
          "text": [
            "2 5 6 8 2 3 4 7 2\n",
            "2\n",
            "3\n"
          ]
        }
      ]
    },
    {
      "cell_type": "code",
      "source": [
        "# 10.check whether an element exists within a tuple\n",
        "li=[i for i in input().split()]\n",
        "t=tuple(li)\n",
        "n=input()\n",
        "if n in t:\n",
        "  print(True)\n",
        "else:\n",
        "  print (False)\n"
      ],
      "metadata": {
        "colab": {
          "base_uri": "https://localhost:8080/"
        },
        "id": "PFfT1zPKyn8c",
        "outputId": "8d6f60c8-e168-45ef-bebf-46f086627899"
      },
      "execution_count": null,
      "outputs": [
        {
          "output_type": "stream",
          "name": "stdout",
          "text": [
            "t u t o r 7\n",
            "7\n",
            "True\n"
          ]
        }
      ]
    },
    {
      "cell_type": "code",
      "source": [
        "# 11.convert a list to a tuple\n",
        "li=[i for i in input().split()]\n",
        "t=tuple(li)\n",
        "t"
      ],
      "metadata": {
        "colab": {
          "base_uri": "https://localhost:8080/"
        },
        "id": "dgv9ZdD0zR99",
        "outputId": "307722fb-1111-41eb-acae-4ddac410a233"
      },
      "execution_count": null,
      "outputs": [
        {
          "name": "stdout",
          "output_type": "stream",
          "text": [
            "12 45 78 36 90\n"
          ]
        },
        {
          "output_type": "execute_result",
          "data": {
            "text/plain": [
              "('12', '45', '78', '36', '90')"
            ]
          },
          "metadata": {},
          "execution_count": 30
        }
      ]
    },
    {
      "cell_type": "code",
      "source": [
        "# 12.remove an item from a tuple\n",
        "li=[i for i in input().split()]\n",
        "n=input()\n",
        "li.remove(n)\n",
        "t=tuple(li)\n",
        "print(t)"
      ],
      "metadata": {
        "colab": {
          "base_uri": "https://localhost:8080/"
        },
        "id": "ezfCUtGIzs3r",
        "outputId": "fae4b939-3a50-47d9-f4a8-a2df81f0ded6"
      },
      "execution_count": null,
      "outputs": [
        {
          "output_type": "stream",
          "name": "stdout",
          "text": [
            "23 56 89 14 70\n",
            "56\n",
            "('23', '89', '14', '70')\n"
          ]
        }
      ]
    },
    {
      "cell_type": "code",
      "source": [
        "# 13.slice a tuple\n",
        "t=(10, 20, 30, 40, 50, 60, 70, 80, 90, 100)\n",
        "t[3:8]"
      ],
      "metadata": {
        "colab": {
          "base_uri": "https://localhost:8080/"
        },
        "id": "KkUko0Qzz8mC",
        "outputId": "b0799cb7-f3b2-41b9-a9ad-579a779409a0"
      },
      "execution_count": null,
      "outputs": [
        {
          "output_type": "execute_result",
          "data": {
            "text/plain": [
              "(40, 50, 60, 70, 80)"
            ]
          },
          "metadata": {},
          "execution_count": 33
        }
      ]
    },
    {
      "cell_type": "code",
      "source": [
        "# 14.find the index of an item of a tuple\n",
        "li=[i for i in input().split()]\n",
        "t=tuple(li)\n",
        "n=input()\n",
        "print((t.index(n)))"
      ],
      "metadata": {
        "colab": {
          "base_uri": "https://localhost:8080/"
        },
        "id": "omUZEkpo0jlS",
        "outputId": "f2c2baeb-f8bb-4c71-955c-c2993a1caa35"
      },
      "execution_count": null,
      "outputs": [
        {
          "output_type": "stream",
          "name": "stdout",
          "text": [
            "12 45 78 36 90\n",
            "78\n",
            "2\n"
          ]
        }
      ]
    },
    {
      "cell_type": "code",
      "source": [
        "# 15.find the length of a tuple\n",
        "li=[i for i in input().split()]\n",
        "t=tuple(li)\n",
        "print(len(t))"
      ],
      "metadata": {
        "colab": {
          "base_uri": "https://localhost:8080/"
        },
        "id": "hCKdIiL505WM",
        "outputId": "f1b418d0-1c66-4ec9-dc86-ac9f282fbcc6"
      },
      "execution_count": null,
      "outputs": [
        {
          "output_type": "stream",
          "name": "stdout",
          "text": [
            "lion cat dog fox\n",
            "4\n"
          ]
        }
      ]
    },
    {
      "cell_type": "code",
      "source": [
        "# 16."
      ],
      "metadata": {
        "id": "jXyeVkQz3E6B"
      },
      "execution_count": null,
      "outputs": []
    },
    {
      "cell_type": "code",
      "source": [
        "# 17.unzip a list of tuples into individual lists\n",
        "def unzip(li):\n",
        "  a=[]\n",
        "  b=[]\n",
        "  res=[]\n",
        "  for i in li:\n",
        "    a.append(i[0])\n",
        "    b.append(i[1])\n",
        "  res.append(tuple(a))\n",
        "  res.append(tuple(b))\n",
        "  print(res)\n",
        "li=[ (10,30), (60,90), (20,50) ]\n",
        "unzip(li)"
      ],
      "metadata": {
        "colab": {
          "base_uri": "https://localhost:8080/"
        },
        "id": "-kEA4VvJgrsz",
        "outputId": "915a3c0d-9158-42bb-ccc7-290d0cd4d80a"
      },
      "execution_count": null,
      "outputs": [
        {
          "output_type": "stream",
          "name": "stdout",
          "text": [
            "[(10, 60, 20), (30, 90, 50)]\n"
          ]
        }
      ]
    },
    {
      "cell_type": "code",
      "source": [
        "#  (or)\n",
        "def unzip(li):\n",
        "  res=zip(*li)\n",
        "  print(tuple(res))\n",
        "\n",
        "li=[ (10,30), (60,90), (20,50) ]\n",
        "unzip(li)"
      ],
      "metadata": {
        "colab": {
          "base_uri": "https://localhost:8080/"
        },
        "id": "bO1gSr9HgVBM",
        "outputId": "46e51c2b-bcce-4574-bbdc-72dd0bde75a7"
      },
      "execution_count": null,
      "outputs": [
        {
          "output_type": "stream",
          "name": "stdout",
          "text": [
            "((10, 60, 20), (30, 90, 50))\n"
          ]
        }
      ]
    },
    {
      "cell_type": "code",
      "source": [
        "# 18.reverse a tuple\n",
        "li=[i for i in input().split()]\n",
        "li.reverse()\n",
        "t=tuple(li)\n",
        "t"
      ],
      "metadata": {
        "colab": {
          "base_uri": "https://localhost:8080/"
        },
        "id": "dHgebASo2x__",
        "outputId": "473acca1-e939-4c1a-8b7b-ef37c10aa0db"
      },
      "execution_count": null,
      "outputs": [
        {
          "name": "stdout",
          "output_type": "stream",
          "text": [
            "23 56 98 41\n"
          ]
        },
        {
          "output_type": "execute_result",
          "data": {
            "text/plain": [
              "('41', '98', '56', '23')"
            ]
          },
          "metadata": {},
          "execution_count": 15
        }
      ]
    },
    {
      "cell_type": "code",
      "source": [
        "# 21.create a tuple with single item 23\n",
        "n=input()\n",
        "t=tuple(n)\n",
        "type(t)"
      ],
      "metadata": {
        "colab": {
          "base_uri": "https://localhost:8080/"
        },
        "id": "Bke_1oe-3RBh",
        "outputId": "2b97834a-6164-4b39-c455-21a29a27038c"
      },
      "execution_count": null,
      "outputs": [
        {
          "name": "stdout",
          "output_type": "stream",
          "text": [
            "23\n"
          ]
        },
        {
          "output_type": "execute_result",
          "data": {
            "text/plain": [
              "tuple"
            ]
          },
          "metadata": {},
          "execution_count": 42
        }
      ]
    },
    {
      "cell_type": "code",
      "source": [
        "# 22.Unpack the tuple into 5 variables\n",
        "li=[i for i in input().split()]\n",
        "t=tuple(li)\n",
        "t\n",
        "\n",
        "#a=input()\n",
        "#b=input()\n",
        "#c=input()\n",
        "#d=input()\n",
        "#e=input()\n",
        "\n",
        "(a,b,c,d,e)=t\n",
        "\n",
        "print(a)\n",
        "print(b)\n",
        "print(c)\n",
        "print(d)\n",
        "print(e)"
      ],
      "metadata": {
        "colab": {
          "base_uri": "https://localhost:8080/"
        },
        "id": "QRFfQc8n30nX",
        "outputId": "865ae1c4-3030-48c1-a932-51a76022b396"
      },
      "execution_count": null,
      "outputs": [
        {
          "output_type": "stream",
          "name": "stdout",
          "text": [
            "11 22 33 44 55\n",
            "11\n",
            "22\n",
            "33\n",
            "44\n",
            "55\n"
          ]
        }
      ]
    },
    {
      "cell_type": "code",
      "source": [
        "# 23.Swap two tuples\n",
        "l1=[i for i in input().split()]\n",
        "t1=tuple(l1)\n",
        "l2=[i for i in input().split()]\n",
        "t2=tuple(l2)\n",
        "temp=t1\n",
        "t1=t2\n",
        "t2=temp\n",
        "print(t1,t2)"
      ],
      "metadata": {
        "colab": {
          "base_uri": "https://localhost:8080/"
        },
        "id": "fyGACYgq5zeq",
        "outputId": "aa4a0ac5-2f48-46a8-cf5f-6c7cd623fe86"
      },
      "execution_count": null,
      "outputs": [
        {
          "output_type": "stream",
          "name": "stdout",
          "text": [
            "10\n",
            "20\n",
            "('20',) ('10',)\n"
          ]
        }
      ]
    },
    {
      "cell_type": "code",
      "source": [
        "# 24.Copy specific elements from one tuple to a new tuple\n",
        "li=[i for i in input().split()]\n",
        "t=tuple(li)\n",
        "n=t[3:8]\n",
        "print(tuple(n))"
      ],
      "metadata": {
        "colab": {
          "base_uri": "https://localhost:8080/"
        },
        "id": "8r5hb6Sb6t_Z",
        "outputId": "7fe71e95-97b1-42aa-b411-67809850b877"
      },
      "execution_count": null,
      "outputs": [
        {
          "output_type": "stream",
          "name": "stdout",
          "text": [
            "10 20 30 40 50 60 70 80 90\n",
            "('40', '50', '60', '70', '80')\n"
          ]
        }
      ]
    },
    {
      "cell_type": "code",
      "source": [
        "# 25.Modify the tuple\n",
        "li=[i for i in input().split()]\n",
        "n=input()\n",
        "li[2]=n\n",
        "t=tuple(li)\n",
        "print(t)"
      ],
      "metadata": {
        "colab": {
          "base_uri": "https://localhost:8080/"
        },
        "id": "F8m5AxGb8KrS",
        "outputId": "cbc8dec2-1cb7-4a1f-9300-ff1c16e421e4"
      },
      "execution_count": null,
      "outputs": [
        {
          "output_type": "stream",
          "name": "stdout",
          "text": [
            "10 20 30 40\n",
            "33\n",
            "('10', '20', '33', '40')\n"
          ]
        }
      ]
    },
    {
      "cell_type": "code",
      "source": [
        "# 26.Sort a tuple of tuples by 2nd item\n",
        "def sorting(t):\n",
        "  lst=len(t)\n",
        "  for i in range(0,lst):\n",
        "    for j in range(0,lst-i-1):\n",
        "      if (t[j][1]>t[j+1][1]):\n",
        "        temp=t[j]\n",
        "        t[j]=t[j+1]\n",
        "        t[j+1]=temp\n",
        "  return t\n",
        "\n",
        "t=[ ('a', 53), ('b', 37), ('c', 23), ('d', 1), ('e', 18) ]\n",
        "print(sorting(t))"
      ],
      "metadata": {
        "colab": {
          "base_uri": "https://localhost:8080/"
        },
        "id": "v0N2hiaBhOE_",
        "outputId": "dad48ce3-fcf7-491b-a142-c7e5429afbab"
      },
      "execution_count": null,
      "outputs": [
        {
          "output_type": "stream",
          "name": "stdout",
          "text": [
            "[('d', 1), ('e', 18), ('c', 23), ('b', 37), ('a', 53)]\n"
          ]
        }
      ]
    },
    {
      "cell_type": "code",
      "source": [
        "# 27.Counts the number of occurrences of item 30 from a tuple\n",
        "li=[i for i in input().split()]\n",
        "t=tuple(li)\n",
        "print((t.count(\"30\")))"
      ],
      "metadata": {
        "colab": {
          "base_uri": "https://localhost:8080/"
        },
        "id": "zJTjepkG8hym",
        "outputId": "20304964-3f30-4f4e-b6fd-ae60b2462e6e"
      },
      "execution_count": null,
      "outputs": [
        {
          "output_type": "stream",
          "name": "stdout",
          "text": [
            "30 20 10 30 60 50 30\n",
            "3\n"
          ]
        }
      ]
    },
    {
      "cell_type": "code",
      "source": [
        "# 28.compute element-wise sum of given tuples\n",
        "l1=[int(i) for i in input().split()]\n",
        "t1=tuple(l1)\n",
        "l2=[int(i) for i in input().split()]\n",
        "t2=tuple(l2)\n",
        "l3=[int(i) for i in input().split()]\n",
        "t3=tuple(l3)\n",
        "l4=[int(i) for i in input().split()]\n",
        "t4=tuple(l4)\n",
        "combine=zip(t1,t2,t3,t4)\n",
        "result=list(map(sum,combine))\n",
        "print(result)\n",
        "\n"
      ],
      "metadata": {
        "colab": {
          "base_uri": "https://localhost:8080/"
        },
        "id": "BsvXZFsY8_45",
        "outputId": "fea0d3c2-9ae4-4d48-b41c-d720442d6703"
      },
      "execution_count": null,
      "outputs": [
        {
          "output_type": "stream",
          "name": "stdout",
          "text": [
            "2 5 8\n",
            "6 5 1\n",
            "1 4 7\n",
            "3 7 2\n",
            "[12, 21, 18]\n"
          ]
        }
      ]
    },
    {
      "cell_type": "code",
      "source": [
        "# 29.sort a tuple by its float element\n",
        "def sorting(t):\n",
        "  lst=len(t)\n",
        "  for i in range(0,lst):\n",
        "    for j in range(0,lst-i-1):\n",
        "      if (t[j][1]<t[j+1][1]):\n",
        "        temp=t[j]\n",
        "        t[j]=t[j+1]\n",
        "        t[j+1]=temp\n",
        "  return t\n",
        "\n",
        "t=[('Ram', '89.20'), ('Siva', '76.45'), ('Pooja', '84.40'), ('Tara', '68.43'), ('Jeeva', '91.40') ]\n",
        "print(sorting(t))"
      ],
      "metadata": {
        "colab": {
          "base_uri": "https://localhost:8080/"
        },
        "id": "rlpmIhnQDEfp",
        "outputId": "7f38a294-d172-4975-bd39-4de2847513c3"
      },
      "execution_count": null,
      "outputs": [
        {
          "output_type": "stream",
          "name": "stdout",
          "text": [
            "[('Jeeva', '91.40'), ('Ram', '89.20'), ('Pooja', '84.40'), ('Siva', '76.45'), ('Tara', '68.43')]\n"
          ]
        }
      ]
    },
    {
      "cell_type": "code",
      "source": [
        "def last(li,r):\n",
        "  for i in li:\n",
        "\n",
        "      li.insert(j[-1],10)\n",
        "  print(li)\n",
        "li=[(5, 2, 3), (4, 7, 6), (8, 9, 6)]\n",
        "last(li)"
      ],
      "metadata": {
        "colab": {
          "base_uri": "https://localhost:8080/",
          "height": 331
        },
        "id": "_Ji49ktFsT1W",
        "outputId": "06e3cfd5-7eee-4835-bdb9-69abeb65c5be"
      },
      "execution_count": null,
      "outputs": [
        {
          "output_type": "error",
          "ename": "TypeError",
          "evalue": "ignored",
          "traceback": [
            "\u001b[0;31m---------------------------------------------------------------------------\u001b[0m",
            "\u001b[0;31mTypeError\u001b[0m                                 Traceback (most recent call last)",
            "\u001b[0;32m<ipython-input-53-79f6bfbd6995>\u001b[0m in \u001b[0;36m<cell line: 7>\u001b[0;34m()\u001b[0m\n\u001b[1;32m      5\u001b[0m   \u001b[0mprint\u001b[0m\u001b[0;34m(\u001b[0m\u001b[0mli\u001b[0m\u001b[0;34m)\u001b[0m\u001b[0;34m\u001b[0m\u001b[0;34m\u001b[0m\u001b[0m\n\u001b[1;32m      6\u001b[0m \u001b[0mli\u001b[0m\u001b[0;34m=\u001b[0m\u001b[0;34m[\u001b[0m\u001b[0;34m(\u001b[0m\u001b[0;36m5\u001b[0m\u001b[0;34m,\u001b[0m \u001b[0;36m2\u001b[0m\u001b[0;34m,\u001b[0m \u001b[0;36m3\u001b[0m\u001b[0;34m)\u001b[0m\u001b[0;34m,\u001b[0m \u001b[0;34m(\u001b[0m\u001b[0;36m4\u001b[0m\u001b[0;34m,\u001b[0m \u001b[0;36m7\u001b[0m\u001b[0;34m,\u001b[0m \u001b[0;36m6\u001b[0m\u001b[0;34m)\u001b[0m\u001b[0;34m,\u001b[0m \u001b[0;34m(\u001b[0m\u001b[0;36m8\u001b[0m\u001b[0;34m,\u001b[0m \u001b[0;36m9\u001b[0m\u001b[0;34m,\u001b[0m \u001b[0;36m6\u001b[0m\u001b[0;34m)\u001b[0m\u001b[0;34m]\u001b[0m\u001b[0;34m\u001b[0m\u001b[0;34m\u001b[0m\u001b[0m\n\u001b[0;32m----> 7\u001b[0;31m \u001b[0mlast\u001b[0m\u001b[0;34m(\u001b[0m\u001b[0mli\u001b[0m\u001b[0;34m)\u001b[0m\u001b[0;34m\u001b[0m\u001b[0;34m\u001b[0m\u001b[0m\n\u001b[0m",
            "\u001b[0;32m<ipython-input-53-79f6bfbd6995>\u001b[0m in \u001b[0;36mlast\u001b[0;34m(li)\u001b[0m\n\u001b[1;32m      2\u001b[0m   \u001b[0;32mfor\u001b[0m \u001b[0mi\u001b[0m \u001b[0;32min\u001b[0m \u001b[0mli\u001b[0m\u001b[0;34m:\u001b[0m\u001b[0;34m\u001b[0m\u001b[0;34m\u001b[0m\u001b[0m\n\u001b[1;32m      3\u001b[0m     \u001b[0;32mfor\u001b[0m \u001b[0mj\u001b[0m \u001b[0;32min\u001b[0m \u001b[0mi\u001b[0m\u001b[0;34m:\u001b[0m\u001b[0;34m\u001b[0m\u001b[0;34m\u001b[0m\u001b[0m\n\u001b[0;32m----> 4\u001b[0;31m       \u001b[0mli\u001b[0m\u001b[0;34m.\u001b[0m\u001b[0minsert\u001b[0m\u001b[0;34m(\u001b[0m\u001b[0mj\u001b[0m\u001b[0;34m[\u001b[0m\u001b[0;34m-\u001b[0m\u001b[0;36m1\u001b[0m\u001b[0;34m]\u001b[0m\u001b[0;34m,\u001b[0m\u001b[0;36m10\u001b[0m\u001b[0;34m)\u001b[0m\u001b[0;34m\u001b[0m\u001b[0;34m\u001b[0m\u001b[0m\n\u001b[0m\u001b[1;32m      5\u001b[0m   \u001b[0mprint\u001b[0m\u001b[0;34m(\u001b[0m\u001b[0mli\u001b[0m\u001b[0;34m)\u001b[0m\u001b[0;34m\u001b[0m\u001b[0;34m\u001b[0m\u001b[0m\n\u001b[1;32m      6\u001b[0m \u001b[0mli\u001b[0m\u001b[0;34m=\u001b[0m\u001b[0;34m[\u001b[0m\u001b[0;34m(\u001b[0m\u001b[0;36m5\u001b[0m\u001b[0;34m,\u001b[0m \u001b[0;36m2\u001b[0m\u001b[0;34m,\u001b[0m \u001b[0;36m3\u001b[0m\u001b[0;34m)\u001b[0m\u001b[0;34m,\u001b[0m \u001b[0;34m(\u001b[0m\u001b[0;36m4\u001b[0m\u001b[0;34m,\u001b[0m \u001b[0;36m7\u001b[0m\u001b[0;34m,\u001b[0m \u001b[0;36m6\u001b[0m\u001b[0;34m)\u001b[0m\u001b[0;34m,\u001b[0m \u001b[0;34m(\u001b[0m\u001b[0;36m8\u001b[0m\u001b[0;34m,\u001b[0m \u001b[0;36m9\u001b[0m\u001b[0;34m,\u001b[0m \u001b[0;36m6\u001b[0m\u001b[0;34m)\u001b[0m\u001b[0;34m]\u001b[0m\u001b[0;34m\u001b[0m\u001b[0;34m\u001b[0m\u001b[0m\n",
            "\u001b[0;31mTypeError\u001b[0m: 'int' object is not subscriptable"
          ]
        }
      ]
    },
    {
      "cell_type": "code",
      "source": [
        "# 32.Extract Symmetric Tuples\n",
        "def sym(li):\n",
        "  res=[]\n",
        "  n=set()\n",
        "  for i in li:\n",
        "    if i in n or (i[1],i[0]) in n:\n",
        "      res.append(i)\n",
        "    else:\n",
        "      n.add(i)\n",
        "  print(set(res))\n",
        "  print(n)\n",
        "li=[ (18, 23), (2, 9), (7, 6), (9, 2), (10, 2), (23, 18) ]\n",
        "sym(li)"
      ],
      "metadata": {
        "colab": {
          "base_uri": "https://localhost:8080/"
        },
        "id": "cNg1j_tPuJKm",
        "outputId": "4a87e3ae-0e80-4bfc-b6d6-9241a203d26e"
      },
      "execution_count": null,
      "outputs": [
        {
          "output_type": "stream",
          "name": "stdout",
          "text": [
            "{(23, 18), (9, 2)}\n",
            "{(2, 9), (7, 6), (18, 23), (10, 2)}\n"
          ]
        }
      ]
    },
    {
      "cell_type": "code",
      "source": [
        "# 33.Sort Tuples by their Maximum element\n",
        "l1=[(i) for i in input().split()]\n",
        "t1=(tuple(l1))\n",
        "t.sort(reverse=True)\n",
        "print(t)"
      ],
      "metadata": {
        "colab": {
          "base_uri": "https://localhost:8080/"
        },
        "id": "MaxZk63d1Yfg",
        "outputId": "a0ac0cb9-3b05-48e0-a7da-99b7e906f672"
      },
      "execution_count": null,
      "outputs": [
        {
          "output_type": "stream",
          "name": "stdout",
          "text": [
            "[ (4, 5, 5, 7), (1, 3, 7, 4), (19, 4, 5, 3), (1, 2) ]\n",
            "[(19, 4, 5, 3), (4, 5, 5, 7), (1, 3, 7, 4), (1, 2)]\n"
          ]
        }
      ]
    },
    {
      "cell_type": "code",
      "source": [
        "# 34.Remove nested records from tuple\n",
        "def rem(t1):\n",
        "  res=[]\n",
        "  for i in t1:\n",
        "    if type(i) is not tuple:\n",
        "      res.append(i)\n",
        "  print(res)\n",
        "t1=(10, 20, (30,), 40, (50, 60), 70)\n",
        "rem(t1)"
      ],
      "metadata": {
        "colab": {
          "base_uri": "https://localhost:8080/"
        },
        "id": "8hLdbKFb3X1Z",
        "outputId": "e71c40e3-b8dd-4ee9-bfa7-0414704a53d2"
      },
      "execution_count": null,
      "outputs": [
        {
          "output_type": "stream",
          "name": "stdout",
          "text": [
            "[10, 20, 40, 70]\n"
          ]
        }
      ]
    },
    {
      "cell_type": "code",
      "source": [
        "# 35.\n",
        "import collections\n",
        "li=[(i) for i in input().split()]\n",
        "t=tuple(li)\n",
        "n=collections.Counter(t)\n",
        "print(n)"
      ],
      "metadata": {
        "colab": {
          "base_uri": "https://localhost:8080/"
        },
        "id": "OMUDROBw6FuV",
        "outputId": "6db84ac1-e3a6-4783-a602-06d1ad0f70ae"
      },
      "execution_count": null,
      "outputs": [
        {
          "output_type": "stream",
          "name": "stdout",
          "text": [
            "(10, 20, (20, 10), 30, (40, 50, 60), 60, 70)\n",
            "Counter({'(10,': 1, '20,': 1, '(20,': 1, '10),': 1, '30,': 1, '(40,': 1, '50,': 1, '60),': 1, '60,': 1, '70)': 1})\n"
          ]
        }
      ]
    },
    {
      "cell_type": "code",
      "source": [
        "# 36. unique elements in nested tuple\n",
        "def unique(li):\n",
        "  res=[]\n",
        "  for i in li:\n",
        "    for j in i:\n",
        "      if not j in res:\n",
        "        res.append(j)\n",
        "  print(res)\n",
        "li=[ (1, 3, 5), (4, 5, 7), (1, 2, 6), (10, 9), (10,) ]\n",
        "unique(li)\n"
      ],
      "metadata": {
        "colab": {
          "base_uri": "https://localhost:8080/"
        },
        "id": "VM13f4Tp9cAj",
        "outputId": "2d429e2c-9a8e-41ee-f71d-e9a4a51f5900"
      },
      "execution_count": null,
      "outputs": [
        {
          "output_type": "stream",
          "name": "stdout",
          "text": [
            "[1, 3, 5, 4, 7, 2, 6, 10, 9]\n"
          ]
        }
      ]
    },
    {
      "cell_type": "code",
      "source": [
        "# 37.Concatenate tuples to nested tuples\n",
        "l1=[(i) for i in input().split()]\n",
        "t1=(tuple(l1))\n",
        "l2=[(i) for i in input().split()]\n",
        "t2=(tuple(l2))\n",
        "print(t1+t2)"
      ],
      "metadata": {
        "colab": {
          "base_uri": "https://localhost:8080/"
        },
        "id": "QxqO_pUZFOog",
        "outputId": "d5096a0f-4074-4fe1-ae3f-85d7c4a22b8b"
      },
      "execution_count": null,
      "outputs": [
        {
          "output_type": "stream",
          "name": "stdout",
          "text": [
            "(18 23 2 9)\n",
            "(10 3 11)\n",
            "('(18', '23', '2', '9)', '(10', '3', '11)')\n"
          ]
        }
      ]
    },
    {
      "cell_type": "code",
      "source": [
        "def sorting(t):\n",
        "\n",
        "  t.sort()\n",
        "  print(t)\n",
        "t=[ [10, 50, 60], [80, 20, 30], [70, 100, 40], (90,) ]\n",
        "\n",
        "sorting(t)"
      ],
      "metadata": {
        "colab": {
          "base_uri": "https://localhost:8080/",
          "height": 331
        },
        "id": "N-cL-oJmCeNK",
        "outputId": "5a08a846-d2e0-414f-c8df-4f195e5b8467"
      },
      "execution_count": null,
      "outputs": [
        {
          "output_type": "error",
          "ename": "TypeError",
          "evalue": "ignored",
          "traceback": [
            "\u001b[0;31m---------------------------------------------------------------------------\u001b[0m",
            "\u001b[0;31mTypeError\u001b[0m                                 Traceback (most recent call last)",
            "\u001b[0;32m<ipython-input-128-69c78df47542>\u001b[0m in \u001b[0;36m<cell line: 7>\u001b[0;34m()\u001b[0m\n\u001b[1;32m      5\u001b[0m \u001b[0mt\u001b[0m\u001b[0;34m=\u001b[0m\u001b[0;34m[\u001b[0m \u001b[0;34m[\u001b[0m\u001b[0;36m10\u001b[0m\u001b[0;34m,\u001b[0m \u001b[0;36m50\u001b[0m\u001b[0;34m,\u001b[0m \u001b[0;36m60\u001b[0m\u001b[0;34m]\u001b[0m\u001b[0;34m,\u001b[0m \u001b[0;34m[\u001b[0m\u001b[0;36m80\u001b[0m\u001b[0;34m,\u001b[0m \u001b[0;36m20\u001b[0m\u001b[0;34m,\u001b[0m \u001b[0;36m30\u001b[0m\u001b[0;34m]\u001b[0m\u001b[0;34m,\u001b[0m \u001b[0;34m[\u001b[0m\u001b[0;36m70\u001b[0m\u001b[0;34m,\u001b[0m \u001b[0;36m100\u001b[0m\u001b[0;34m,\u001b[0m \u001b[0;36m40\u001b[0m\u001b[0;34m]\u001b[0m\u001b[0;34m,\u001b[0m \u001b[0;34m(\u001b[0m\u001b[0;36m90\u001b[0m\u001b[0;34m,\u001b[0m\u001b[0;34m)\u001b[0m \u001b[0;34m]\u001b[0m\u001b[0;34m\u001b[0m\u001b[0;34m\u001b[0m\u001b[0m\n\u001b[1;32m      6\u001b[0m \u001b[0;34m\u001b[0m\u001b[0m\n\u001b[0;32m----> 7\u001b[0;31m \u001b[0msorting\u001b[0m\u001b[0;34m(\u001b[0m\u001b[0mt\u001b[0m\u001b[0;34m)\u001b[0m\u001b[0;34m\u001b[0m\u001b[0;34m\u001b[0m\u001b[0m\n\u001b[0m",
            "\u001b[0;32m<ipython-input-128-69c78df47542>\u001b[0m in \u001b[0;36msorting\u001b[0;34m(t)\u001b[0m\n\u001b[1;32m      1\u001b[0m \u001b[0;32mdef\u001b[0m \u001b[0msorting\u001b[0m\u001b[0;34m(\u001b[0m\u001b[0mt\u001b[0m\u001b[0;34m)\u001b[0m\u001b[0;34m:\u001b[0m\u001b[0;34m\u001b[0m\u001b[0;34m\u001b[0m\u001b[0m\n\u001b[1;32m      2\u001b[0m \u001b[0;34m\u001b[0m\u001b[0m\n\u001b[0;32m----> 3\u001b[0;31m   \u001b[0mt\u001b[0m\u001b[0;34m.\u001b[0m\u001b[0msort\u001b[0m\u001b[0;34m(\u001b[0m\u001b[0;34m)\u001b[0m\u001b[0;34m\u001b[0m\u001b[0;34m\u001b[0m\u001b[0m\n\u001b[0m\u001b[1;32m      4\u001b[0m   \u001b[0mprint\u001b[0m\u001b[0;34m(\u001b[0m\u001b[0mt\u001b[0m\u001b[0;34m)\u001b[0m\u001b[0;34m\u001b[0m\u001b[0;34m\u001b[0m\u001b[0m\n\u001b[1;32m      5\u001b[0m \u001b[0mt\u001b[0m\u001b[0;34m=\u001b[0m\u001b[0;34m[\u001b[0m \u001b[0;34m[\u001b[0m\u001b[0;36m10\u001b[0m\u001b[0;34m,\u001b[0m \u001b[0;36m50\u001b[0m\u001b[0;34m,\u001b[0m \u001b[0;36m60\u001b[0m\u001b[0;34m]\u001b[0m\u001b[0;34m,\u001b[0m \u001b[0;34m[\u001b[0m\u001b[0;36m80\u001b[0m\u001b[0;34m,\u001b[0m \u001b[0;36m20\u001b[0m\u001b[0;34m,\u001b[0m \u001b[0;36m30\u001b[0m\u001b[0;34m]\u001b[0m\u001b[0;34m,\u001b[0m \u001b[0;34m[\u001b[0m\u001b[0;36m70\u001b[0m\u001b[0;34m,\u001b[0m \u001b[0;36m100\u001b[0m\u001b[0;34m,\u001b[0m \u001b[0;36m40\u001b[0m\u001b[0;34m]\u001b[0m\u001b[0;34m,\u001b[0m \u001b[0;34m(\u001b[0m\u001b[0;36m90\u001b[0m\u001b[0;34m,\u001b[0m\u001b[0;34m)\u001b[0m \u001b[0;34m]\u001b[0m\u001b[0;34m\u001b[0m\u001b[0;34m\u001b[0m\u001b[0m\n",
            "\u001b[0;31mTypeError\u001b[0m: '<' not supported between instances of 'tuple' and 'list'"
          ]
        }
      ]
    },
    {
      "cell_type": "code",
      "source": [
        "# 38.\n",
        "def sorting(t):\n",
        "  lst=len(t)\n",
        "  for i in range(0,lst):\n",
        "    for j in range(0,lst-i-1):\n",
        "      t.sort()\n",
        "      if (t[j][0]>t[j+1][0]):\n",
        "        temp=t[j]\n",
        "        t[j]=t[j+1]\n",
        "        t[j+1]=temp\n",
        "  return t\n",
        "t=[ [10, 50, 60], [80, 20, 30], [70, 100, 40], (90,) ]\n",
        "\n",
        "sorting(t)"
      ],
      "metadata": {
        "id": "b-S4nR4RIKgv",
        "colab": {
          "base_uri": "https://localhost:8080/",
          "height": 331
        },
        "outputId": "a0bfe4fe-d98e-4bff-ba01-2031893bff82"
      },
      "execution_count": null,
      "outputs": [
        {
          "output_type": "error",
          "ename": "TypeError",
          "evalue": "ignored",
          "traceback": [
            "\u001b[0;31m---------------------------------------------------------------------------\u001b[0m",
            "\u001b[0;31mTypeError\u001b[0m                                 Traceback (most recent call last)",
            "\u001b[0;32m<ipython-input-130-403cfad56091>\u001b[0m in \u001b[0;36m<cell line: 15>\u001b[0;34m()\u001b[0m\n\u001b[1;32m     13\u001b[0m \u001b[0mt\u001b[0m\u001b[0;34m=\u001b[0m\u001b[0;34m[\u001b[0m \u001b[0;34m[\u001b[0m\u001b[0;36m10\u001b[0m\u001b[0;34m,\u001b[0m \u001b[0;36m50\u001b[0m\u001b[0;34m,\u001b[0m \u001b[0;36m60\u001b[0m\u001b[0;34m]\u001b[0m\u001b[0;34m,\u001b[0m \u001b[0;34m[\u001b[0m\u001b[0;36m80\u001b[0m\u001b[0;34m,\u001b[0m \u001b[0;36m20\u001b[0m\u001b[0;34m,\u001b[0m \u001b[0;36m30\u001b[0m\u001b[0;34m]\u001b[0m\u001b[0;34m,\u001b[0m \u001b[0;34m[\u001b[0m\u001b[0;36m70\u001b[0m\u001b[0;34m,\u001b[0m \u001b[0;36m100\u001b[0m\u001b[0;34m,\u001b[0m \u001b[0;36m40\u001b[0m\u001b[0;34m]\u001b[0m\u001b[0;34m,\u001b[0m \u001b[0;34m(\u001b[0m\u001b[0;36m90\u001b[0m\u001b[0;34m,\u001b[0m\u001b[0;34m)\u001b[0m \u001b[0;34m]\u001b[0m\u001b[0;34m\u001b[0m\u001b[0;34m\u001b[0m\u001b[0m\n\u001b[1;32m     14\u001b[0m \u001b[0;34m\u001b[0m\u001b[0m\n\u001b[0;32m---> 15\u001b[0;31m \u001b[0msorting\u001b[0m\u001b[0;34m(\u001b[0m\u001b[0mt\u001b[0m\u001b[0;34m)\u001b[0m\u001b[0;34m\u001b[0m\u001b[0;34m\u001b[0m\u001b[0m\n\u001b[0m",
            "\u001b[0;32m<ipython-input-130-403cfad56091>\u001b[0m in \u001b[0;36msorting\u001b[0;34m(t)\u001b[0m\n\u001b[1;32m      5\u001b[0m   \u001b[0;32mfor\u001b[0m \u001b[0mi\u001b[0m \u001b[0;32min\u001b[0m \u001b[0mrange\u001b[0m\u001b[0;34m(\u001b[0m\u001b[0;36m0\u001b[0m\u001b[0;34m,\u001b[0m\u001b[0mlst\u001b[0m\u001b[0;34m)\u001b[0m\u001b[0;34m:\u001b[0m\u001b[0;34m\u001b[0m\u001b[0;34m\u001b[0m\u001b[0m\n\u001b[1;32m      6\u001b[0m     \u001b[0;32mfor\u001b[0m \u001b[0mj\u001b[0m \u001b[0;32min\u001b[0m \u001b[0mrange\u001b[0m\u001b[0;34m(\u001b[0m\u001b[0;36m0\u001b[0m\u001b[0;34m,\u001b[0m\u001b[0mlst\u001b[0m\u001b[0;34m-\u001b[0m\u001b[0mi\u001b[0m\u001b[0;34m-\u001b[0m\u001b[0;36m1\u001b[0m\u001b[0;34m)\u001b[0m\u001b[0;34m:\u001b[0m\u001b[0;34m\u001b[0m\u001b[0;34m\u001b[0m\u001b[0m\n\u001b[0;32m----> 7\u001b[0;31m       \u001b[0ml\u001b[0m\u001b[0;34m.\u001b[0m\u001b[0msort\u001b[0m\u001b[0;34m(\u001b[0m\u001b[0;34m)\u001b[0m\u001b[0;34m\u001b[0m\u001b[0;34m\u001b[0m\u001b[0m\n\u001b[0m\u001b[1;32m      8\u001b[0m       \u001b[0;32mif\u001b[0m \u001b[0;34m(\u001b[0m\u001b[0ml\u001b[0m\u001b[0;34m[\u001b[0m\u001b[0mj\u001b[0m\u001b[0;34m]\u001b[0m\u001b[0;34m[\u001b[0m\u001b[0;36m0\u001b[0m\u001b[0;34m]\u001b[0m\u001b[0;34m>\u001b[0m\u001b[0ml\u001b[0m\u001b[0;34m[\u001b[0m\u001b[0mj\u001b[0m\u001b[0;34m+\u001b[0m\u001b[0;36m1\u001b[0m\u001b[0;34m]\u001b[0m\u001b[0;34m[\u001b[0m\u001b[0;36m0\u001b[0m\u001b[0;34m]\u001b[0m\u001b[0;34m)\u001b[0m\u001b[0;34m:\u001b[0m\u001b[0;34m\u001b[0m\u001b[0;34m\u001b[0m\u001b[0m\n\u001b[1;32m      9\u001b[0m         \u001b[0mtemp\u001b[0m\u001b[0;34m=\u001b[0m\u001b[0ml\u001b[0m\u001b[0;34m[\u001b[0m\u001b[0mj\u001b[0m\u001b[0;34m]\u001b[0m\u001b[0;34m\u001b[0m\u001b[0;34m\u001b[0m\u001b[0m\n",
            "\u001b[0;31mTypeError\u001b[0m: '<' not supported between instances of 'tuple' and 'list'"
          ]
        }
      ]
    },
    {
      "cell_type": "code",
      "source": [
        "# 39.Sort lists in tuple\n",
        "def lit(li):\n",
        "  res=list(map(sorted,li))\n",
        "  print(res)\n",
        "li=[[10, 50, 60], [80, 20, 30], [70, 100, 40], (90,) ]\n",
        "lit(li)"
      ],
      "metadata": {
        "colab": {
          "base_uri": "https://localhost:8080/"
        },
        "id": "QZJhyFkEJnRJ",
        "outputId": "f27270d1-ada6-4f72-cc65-49d7fc949530"
      },
      "execution_count": null,
      "outputs": [
        {
          "output_type": "stream",
          "name": "stdout",
          "text": [
            "[[10, 50, 60], [20, 30, 80], [40, 70, 100], [90]]\n"
          ]
        }
      ]
    },
    {
      "cell_type": "code",
      "source": [
        "# 40.Order Tuples using external List\n",
        "def sorting(t):\n",
        "  lst=len(t)\n",
        "  for i in range(0,lst):\n",
        "    for j in range(0,lst-i-1):\n",
        "      if (t[j][1]>t[j+1][1]):\n",
        "        temp=t[j]\n",
        "        t[j]=t[j+1]\n",
        "        t[j+1]=temp\n",
        "  return t\n",
        "t=[ ('B', 68), ('D', 70), ('A', 67), ('C', 69) ]\n",
        "sorting(t)"
      ],
      "metadata": {
        "colab": {
          "base_uri": "https://localhost:8080/"
        },
        "id": "L3BuXJa_Dn8V",
        "outputId": "3d4958b8-af4b-40f3-e87c-dfa5b7e62c06"
      },
      "execution_count": null,
      "outputs": [
        {
          "output_type": "execute_result",
          "data": {
            "text/plain": [
              "[('A', 67), ('B', 68), ('C', 69), ('D', 70)]"
            ]
          },
          "metadata": {},
          "execution_count": 131
        }
      ]
    },
    {
      "cell_type": "code",
      "source": [
        "# 41.Filter Tuples by Kth element from List\n",
        "def element(li,n,k):\n",
        "  res=[]\n",
        "  for i in li:\n",
        "    if i[k] in n:\n",
        "      res.append(i)\n",
        "  print(res)\n",
        "\n",
        "li=[ ('B', 68), ('D', 70), ('A', 67), ('C', 69) ]\n",
        "n=[67, 70 , 71, 75]\n",
        "k=1\n",
        "element(li,n,k)"
      ],
      "metadata": {
        "colab": {
          "base_uri": "https://localhost:8080/"
        },
        "id": "LCk0CBLWLUiY",
        "outputId": "c05aedf9-7a4d-4db0-d752-7e6c20415e08"
      },
      "execution_count": null,
      "outputs": [
        {
          "output_type": "stream",
          "name": "stdout",
          "text": [
            "[('D', 70), ('A', 67)]\n"
          ]
        }
      ]
    },
    {
      "cell_type": "code",
      "source": [
        "# 43.program to Tuple List intersection\n",
        "def inter(l1,l2):\n",
        "  res=[]\n",
        "  for i in l1:\n",
        "    for j in l2:\n",
        "      if set(i)==set(j):\n",
        "        res.append(i)\n",
        "  print(res)\n",
        "\n",
        "l1=[ (3, 4), (5, 6), (9, 10), (4, 5) ]\n",
        "l2=[ (5, 4), (3, 4), (6, 5), (9, 11) ]\n",
        "inter(l1,l2)"
      ],
      "metadata": {
        "colab": {
          "base_uri": "https://localhost:8080/"
        },
        "id": "rCegumMoFFzU",
        "outputId": "5bce3436-5c3f-457f-9706-c6a31ade8bec"
      },
      "execution_count": null,
      "outputs": [
        {
          "output_type": "stream",
          "name": "stdout",
          "text": [
            "[(3, 4), (5, 6), (4, 5)]\n"
          ]
        }
      ]
    },
    {
      "cell_type": "code",
      "source": [
        "# 44.Intersection in Tuple Records Data\n",
        "def intersect(l1,l2):\n",
        "  s1=set(l1)\n",
        "  s2=set(l2)\n",
        "  s=s1.intersection(s2)\n",
        "  n=list(s)\n",
        "  for i in range(0,len(n)):\n",
        "    for j in range(0,len(n)-i-1):\n",
        "       if (n[j][1]>n[j+1][1]):\n",
        "        temp=n[j]\n",
        "        n[j]=n[j+1]\n",
        "        n[j+1]=temp\n",
        "  return n\n",
        "\n",
        "l1=[ ('A', 65), ('D', 68), ('B', 66) ]\n",
        "l2=[ ('D', 68), ('C', 67), ('A', 65) ]\n",
        "intersect(l1,l2)"
      ],
      "metadata": {
        "colab": {
          "base_uri": "https://localhost:8080/"
        },
        "id": "FG6quPihEpxq",
        "outputId": "fb500522-333b-422e-b221-740375bcac08"
      },
      "execution_count": null,
      "outputs": [
        {
          "output_type": "execute_result",
          "data": {
            "text/plain": [
              "[('A', 65), ('D', 68)]"
            ]
          },
          "metadata": {},
          "execution_count": 147
        }
      ]
    },
    {
      "cell_type": "code",
      "source": [
        "def uniq(li):\n",
        "  s={}\n",
        "  count=0\n",
        "  for i in li:\n",
        "    n=tuple(sorted(i))\n",
        "    if n in s:\n",
        "      s[n]+=1\n",
        "    else:\n",
        "      s[n]=1\n",
        "  print(len(s))\n",
        "li=[ (3, 4), (1, 2), (4, 3), (5, 6) ]\n",
        "uniq(li)"
      ],
      "metadata": {
        "colab": {
          "base_uri": "https://localhost:8080/"
        },
        "id": "HyLdPyHvRQNn",
        "outputId": "accfabf2-4890-49f7-d278-d43c023433c2"
      },
      "execution_count": null,
      "outputs": [
        {
          "output_type": "stream",
          "name": "stdout",
          "text": [
            "3\n"
          ]
        }
      ]
    },
    {
      "cell_type": "code",
      "source": [
        "def uniq(li):\n",
        "  n1=tuple(map(sorted,li))\n",
        "  n2=list(set(map(tuple,n1)))\n",
        "  print(n1)\n",
        "  print(len(n2))\n",
        "\n",
        "\n",
        "li=[ (3, 4), (1, 2), (4, 3), (5, 6) ]\n",
        "uniq(li)"
      ],
      "metadata": {
        "colab": {
          "base_uri": "https://localhost:8080/"
        },
        "id": "RcgE3ZSMW6Bz",
        "outputId": "ed18b258-ddfe-4706-fa64-7a62e83b92d4"
      },
      "execution_count": null,
      "outputs": [
        {
          "output_type": "stream",
          "name": "stdout",
          "text": [
            "([3, 4], [1, 2], [3, 4], [5, 6])\n",
            "3\n"
          ]
        }
      ]
    },
    {
      "cell_type": "code",
      "source": [
        "def uniq(li):\n",
        "  for i in li:\n",
        "    res=list(set(tuple(sorted(i))))\n",
        "    print(res)\n",
        "  print(len(res))\n",
        "\n",
        "\n",
        "li=[ (3, 4), (1, 2), (4, 3), (5, 6) ]\n",
        "uniq(li)"
      ],
      "metadata": {
        "colab": {
          "base_uri": "https://localhost:8080/"
        },
        "id": "fVwroGePUJgG",
        "outputId": "ed826284-4b3c-4dc8-cbc9-e652ad63f1ed"
      },
      "execution_count": null,
      "outputs": [
        {
          "output_type": "stream",
          "name": "stdout",
          "text": [
            "[3, 4]\n",
            "[1, 2]\n",
            "[3, 4]\n",
            "[5, 6]\n",
            "2\n"
          ]
        }
      ]
    },
    {
      "cell_type": "code",
      "source": [],
      "metadata": {
        "id": "Gfs3DrE3vLHd"
      },
      "execution_count": null,
      "outputs": []
    },
    {
      "cell_type": "markdown",
      "source": [
        "**SETS**"
      ],
      "metadata": {
        "id": "tSTnIgHjfP7E"
      }
    },
    {
      "cell_type": "code",
      "source": [
        "#create a set\n",
        "li=(i for i in input().split())\n",
        "s=set(li)\n",
        "print(type(s))"
      ],
      "metadata": {
        "colab": {
          "base_uri": "https://localhost:8080/"
        },
        "id": "EAUQ-dy2fS-H",
        "outputId": "93c40305-dc8a-41c4-e33d-f6ef66cbf5d5"
      },
      "execution_count": null,
      "outputs": [
        {
          "output_type": "stream",
          "name": "stdout",
          "text": [
            "T True 45 23 56 Joes 45.6\n",
            "<class 'set'>\n"
          ]
        }
      ]
    },
    {
      "cell_type": "code",
      "source": [
        "#2 iteration over sets\n",
        "li=(i for i in input().split())\n",
        "s=set(li)\n",
        "for i in s:\n",
        "  print(i)"
      ],
      "metadata": {
        "colab": {
          "base_uri": "https://localhost:8080/"
        },
        "id": "8THtppuSf1Mf",
        "outputId": "b70dc2f7-f4d8-4e23-f5da-66211d584fbf"
      },
      "execution_count": null,
      "outputs": [
        {
          "output_type": "stream",
          "name": "stdout",
          "text": [
            "20 40 60 80\n",
            "20\n",
            "80\n",
            "40\n",
            "60\n"
          ]
        }
      ]
    },
    {
      "cell_type": "code",
      "source": [
        "# 3.add member(s) in a set\n",
        "li=(i for i in input().split())\n",
        "s=set(li)\n",
        "n=input()\n",
        "s.add(n)\n",
        "s"
      ],
      "metadata": {
        "colab": {
          "base_uri": "https://localhost:8080/"
        },
        "id": "lPvZRBTBgJZS",
        "outputId": "f51da89b-4546-4d07-c3b7-c86523e322a2"
      },
      "execution_count": null,
      "outputs": [
        {
          "name": "stdout",
          "output_type": "stream",
          "text": [
            "cat dog fox\n",
            "lion\n"
          ]
        },
        {
          "output_type": "execute_result",
          "data": {
            "text/plain": [
              "{'cat', 'dog', 'fox', 'lion'}"
            ]
          },
          "metadata": {},
          "execution_count": 6
        }
      ]
    },
    {
      "cell_type": "code",
      "source": [
        "# 4.remove item(s) from a given set\n",
        "li=(i for i in input().split())\n",
        "s=set(li)\n",
        "s.pop()         # removes any element by pop()\n",
        "s"
      ],
      "metadata": {
        "colab": {
          "base_uri": "https://localhost:8080/"
        },
        "id": "6OdGCof8hGIH",
        "outputId": "f38c549d-2ba5-4285-cf8e-0fa02c1a8a28"
      },
      "execution_count": null,
      "outputs": [
        {
          "name": "stdout",
          "output_type": "stream",
          "text": [
            "40 20 60 50\n"
          ]
        },
        {
          "output_type": "execute_result",
          "data": {
            "text/plain": [
              "{'40', '50', '60'}"
            ]
          },
          "metadata": {},
          "execution_count": 13
        }
      ]
    },
    {
      "cell_type": "code",
      "source": [
        "# 5.remove an item from a set if it is present in the set\n",
        "li=(i for i in input().split())\n",
        "s=set(li)\n",
        "n=input()\n",
        "#s.remove(n)          # remove and discard is used to remove particular element\n",
        "s.discard(n)\n",
        "s"
      ],
      "metadata": {
        "colab": {
          "base_uri": "https://localhost:8080/"
        },
        "id": "PaMWXdJEhPMZ",
        "outputId": "7a383f6c-6039-49b8-f39f-d9d50a0b4319"
      },
      "execution_count": null,
      "outputs": [
        {
          "name": "stdout",
          "output_type": "stream",
          "text": [
            "20 10 50\n",
            "10\n"
          ]
        },
        {
          "output_type": "execute_result",
          "data": {
            "text/plain": [
              "{'20', '50'}"
            ]
          },
          "metadata": {},
          "execution_count": 18
        }
      ]
    },
    {
      "cell_type": "code",
      "source": [
        "# 6.create an intersection of sets\n",
        "l1=[i for i in input().split()]\n",
        "s1=set(l1)\n",
        "s1\n",
        "l2=[i for i in input().split()]\n",
        "s2=set(l2)\n",
        "s2\n",
        "s=s1.intersection(s2)\n",
        "print(s)"
      ],
      "metadata": {
        "colab": {
          "base_uri": "https://localhost:8080/"
        },
        "id": "oKgI3J9Ch4No",
        "outputId": "722ff920-69cd-468d-ce0e-1c355c69ce34"
      },
      "execution_count": null,
      "outputs": [
        {
          "output_type": "stream",
          "name": "stdout",
          "text": [
            "40 20 70 30\n",
            "40 50 20 60\n",
            "{'20', '40'}\n"
          ]
        }
      ]
    },
    {
      "cell_type": "code",
      "source": [
        "# 7.create a union of sets\n",
        "l1=[i for i in input().split()]\n",
        "s1=set(l1)\n",
        "s1\n",
        "l2=[i for i in input().split()]\n",
        "s2=set(l2)\n",
        "s2\n",
        "s1.union(s2)\n",
        "print(s1)"
      ],
      "metadata": {
        "colab": {
          "base_uri": "https://localhost:8080/"
        },
        "id": "ghdaq6uRjsPz",
        "outputId": "6e9af8a2-4473-44f7-f244-406ac31aac4f"
      },
      "execution_count": null,
      "outputs": [
        {
          "output_type": "stream",
          "name": "stdout",
          "text": [
            "40 20 70 30\n",
            "40 50 20 60\n",
            "{'20', '30', '70', '40'}\n"
          ]
        }
      ]
    },
    {
      "cell_type": "code",
      "source": [
        "# 8.create set difference\n",
        "l1=[i for i in input().split()]\n",
        "s1=set(l1)\n",
        "s1\n",
        "l2=[i for i in input().split()]\n",
        "s2=set(l2)\n",
        "s2\n",
        "s=s1.difference(s2)\n",
        "print(s)"
      ],
      "metadata": {
        "colab": {
          "base_uri": "https://localhost:8080/"
        },
        "id": "QZsT5WtKj73s",
        "outputId": "8587091e-ac24-4258-9089-23bcfb3a81bc"
      },
      "execution_count": null,
      "outputs": [
        {
          "output_type": "stream",
          "name": "stdout",
          "text": [
            "80 50 20 70 40 30\n",
            "50 20 90 40 10 60\n",
            "{'30', '80', '70'}\n"
          ]
        }
      ]
    },
    {
      "cell_type": "code",
      "source": [
        "s=s2.difference(s1)\n",
        "print(s)"
      ],
      "metadata": {
        "colab": {
          "base_uri": "https://localhost:8080/"
        },
        "id": "ghNzp3fZkLIa",
        "outputId": "1e56f7e5-9b4e-4e3a-995d-e0c604c200df"
      },
      "execution_count": null,
      "outputs": [
        {
          "output_type": "stream",
          "name": "stdout",
          "text": [
            "{'10', '60', '90'}\n"
          ]
        }
      ]
    },
    {
      "cell_type": "code",
      "source": [
        "# 9.create a symmetric difference\n",
        "l1=[i for i in input().split()]\n",
        "s1=set(l1)\n",
        "s1\n",
        "l2=[i for i in input().split()]\n",
        "s2=set(l2)\n",
        "s2\n",
        "s=s1.symmetric_difference(s2)\n",
        "print(s)"
      ],
      "metadata": {
        "colab": {
          "base_uri": "https://localhost:8080/"
        },
        "id": "oR2uia3aknPp",
        "outputId": "f2bb70bb-6078-4078-b06d-688d27372dd7"
      },
      "execution_count": null,
      "outputs": [
        {
          "output_type": "stream",
          "name": "stdout",
          "text": [
            "80 50 20 70 40 30\n",
            "50 20 90 40 10 60\n",
            "{'60', '90', '30', '80', '10', '70'}\n"
          ]
        }
      ]
    },
    {
      "cell_type": "code",
      "source": [
        "s=s2.symmetric_difference(s1)\n",
        "print(s)"
      ],
      "metadata": {
        "colab": {
          "base_uri": "https://localhost:8080/"
        },
        "id": "fDWQq7F5kuXn",
        "outputId": "80498e4a-825c-4bdb-a3c8-6a6e9d66bae5"
      },
      "execution_count": null,
      "outputs": [
        {
          "output_type": "stream",
          "name": "stdout",
          "text": [
            "{'60', '90', '30', '80', '10', '70'}\n"
          ]
        }
      ]
    },
    {
      "cell_type": "code",
      "source": [
        "# 10.create a shallow copy of sets\n",
        "l1=[i for i in input().split()]\n",
        "s1=set(l1)\n",
        "l2=[i for i in input().split()]\n",
        "s2=set(l2)\n",
        "s1=s2.copy()\n",
        "print(s1)"
      ],
      "metadata": {
        "colab": {
          "base_uri": "https://localhost:8080/"
        },
        "id": "486K3h3hk9L5",
        "outputId": "fff8bbfb-75aa-4971-b6b9-57d5bee4eca9"
      },
      "execution_count": null,
      "outputs": [
        {
          "output_type": "stream",
          "name": "stdout",
          "text": [
            "tutor joes\n",
            "joes tutor\n",
            "{'tutor', 'joes'}\n"
          ]
        }
      ]
    },
    {
      "cell_type": "code",
      "source": [
        "#11.find the elements in a given set that are not in another set\n",
        "l1=[i for i in input().split()]\n",
        "s1=set(l1)\n",
        "s1\n",
        "l2=[i for i in input().split()]\n",
        "s2=set(l2)\n",
        "s2\n",
        "s=s1.difference(s2)\n",
        "print(s)"
      ],
      "metadata": {
        "colab": {
          "base_uri": "https://localhost:8080/"
        },
        "id": "6B0jSkzflakO",
        "outputId": "97cc2b7a-8e70-47ec-9df7-eb745962525d"
      },
      "execution_count": null,
      "outputs": [
        {
          "output_type": "stream",
          "name": "stdout",
          "text": [
            "50 20 70 40 10 60 30\n",
            "80 50 100 70 90 60\n",
            "{'20', '30', '10', '40'}\n"
          ]
        }
      ]
    },
    {
      "cell_type": "code",
      "source": [
        "s=s2.difference(s1)\n",
        "print(s)"
      ],
      "metadata": {
        "colab": {
          "base_uri": "https://localhost:8080/"
        },
        "id": "luIpQesOnId8",
        "outputId": "81553fb5-c471-48ed-c423-2b6e4e43c08d"
      },
      "execution_count": null,
      "outputs": [
        {
          "output_type": "stream",
          "name": "stdout",
          "text": [
            "{'100', '80', '90'}\n"
          ]
        }
      ]
    },
    {
      "cell_type": "code",
      "source": [
        "# 12.check if two given sets have no elements in common\n",
        "l1=[i for i in input().split()]\n",
        "s1=set(l1)\n",
        "l2=[i for i in input().split()]\n",
        "s2=set(l2)\n",
        "l3=[i for i in input().split()]\n",
        "z=set(l3)\n",
        "\n",
        "if s1.isdisjoint(s2):\n",
        "  print( True )\n",
        "else:\n",
        "  print(False)\n",
        "\n",
        "if s2.isdisjoint(z):\n",
        "  print( True )\n",
        "else:\n",
        "  print(False)\n",
        "\n",
        "if s1.isdisjoint(z):\n",
        "  print( True )\n",
        "else:\n",
        "  print(False)"
      ],
      "metadata": {
        "colab": {
          "base_uri": "https://localhost:8080/"
        },
        "id": "SD2Dodq4nQqO",
        "outputId": "7ce9edda-2961-4097-aeef-fabb813526a0"
      },
      "execution_count": null,
      "outputs": [
        {
          "output_type": "stream",
          "name": "stdout",
          "text": [
            "23 8 56 45 78\n",
            "42 26 55 87\n",
            "46 87\n",
            "True\n",
            "False\n",
            "True\n"
          ]
        }
      ]
    },
    {
      "cell_type": "code",
      "source": [
        "# 13.maximum and the minimum value in a set\n",
        "l1=[i for i in input().split()]\n",
        "s1=set(l1)\n",
        "s1\n",
        "max(s1)"
      ],
      "metadata": {
        "colab": {
          "base_uri": "https://localhost:8080/",
          "height": 53
        },
        "id": "LCU8yrn3olFb",
        "outputId": "08ca59b8-a8db-4c6a-e031-67508a7ff8c6"
      },
      "execution_count": null,
      "outputs": [
        {
          "name": "stdout",
          "output_type": "stream",
          "text": [
            "10 50 1 3 4 60\n"
          ]
        },
        {
          "output_type": "execute_result",
          "data": {
            "text/plain": [
              "'60'"
            ],
            "application/vnd.google.colaboratory.intrinsic+json": {
              "type": "string"
            }
          },
          "metadata": {},
          "execution_count": 43
        }
      ]
    },
    {
      "cell_type": "code",
      "source": [
        "min(s1)"
      ],
      "metadata": {
        "colab": {
          "base_uri": "https://localhost:8080/",
          "height": 36
        },
        "id": "mRBr8T9Wo_DL",
        "outputId": "b9363650-6484-4fb2-c660-d644c4e9cc9e"
      },
      "execution_count": null,
      "outputs": [
        {
          "output_type": "execute_result",
          "data": {
            "text/plain": [
              "'1'"
            ],
            "application/vnd.google.colaboratory.intrinsic+json": {
              "type": "string"
            }
          },
          "metadata": {},
          "execution_count": 44
        }
      ]
    },
    {
      "cell_type": "code",
      "source": [
        "# 14.remove all elements from a given set\n",
        "l1=[i for i in input().split()]\n",
        "s1=set(l1)\n",
        "s1.clear()"
      ],
      "metadata": {
        "colab": {
          "base_uri": "https://localhost:8080/"
        },
        "id": "ZH56QPGkpEVV",
        "outputId": "a2e44cf3-f849-47d2-ee3c-e76ec2dcd7ff"
      },
      "execution_count": null,
      "outputs": [
        {
          "name": "stdout",
          "output_type": "stream",
          "text": [
            "red pink yellow blue\n"
          ]
        }
      ]
    },
    {
      "cell_type": "code",
      "source": [
        "s1"
      ],
      "metadata": {
        "colab": {
          "base_uri": "https://localhost:8080/"
        },
        "id": "x6LI0E88p6cC",
        "outputId": "9345b9a1-5341-4919-95c4-a9bcb4c11b30"
      },
      "execution_count": null,
      "outputs": [
        {
          "output_type": "execute_result",
          "data": {
            "text/plain": [
              "set()"
            ]
          },
          "metadata": {},
          "execution_count": 48
        }
      ]
    },
    {
      "cell_type": "code",
      "source": [
        "# 15.Intersection of two lists\n",
        "l1=[i for i in input().split()]\n",
        "s1=set(l1)\n",
        "s1\n",
        "l2=[i for i in input().split()]\n",
        "s2=set(l2)\n",
        "s2\n",
        "s=s1.intersection(s2)\n",
        "print(s)\n"
      ],
      "metadata": {
        "colab": {
          "base_uri": "https://localhost:8080/"
        },
        "id": "mj9QILhpp_aG",
        "outputId": "50f1c236-4ae3-4fc6-d64f-3d1b455aef9d"
      },
      "execution_count": null,
      "outputs": [
        {
          "output_type": "stream",
          "name": "stdout",
          "text": [
            "1 2 3 4 5 6 7 8 \n",
            "11 2 43 48 55 6 76 8\n",
            "{'6', '8', '2'}\n"
          ]
        }
      ]
    },
    {
      "cell_type": "code",
      "source": [
        "# 16.Convert String to Set\n",
        "n=input()\n",
        "s=set(n)\n",
        "s"
      ],
      "metadata": {
        "colab": {
          "base_uri": "https://localhost:8080/"
        },
        "id": "wOURoFHtqdXX",
        "outputId": "38628ffa-9558-42e3-c6d3-06a26089b1b2"
      },
      "execution_count": null,
      "outputs": [
        {
          "name": "stdout",
          "output_type": "stream",
          "text": [
            "tutor\n"
          ]
        },
        {
          "output_type": "execute_result",
          "data": {
            "text/plain": [
              "{'o', 'r', 't', 'u'}"
            ]
          },
          "metadata": {},
          "execution_count": 50
        }
      ]
    },
    {
      "cell_type": "code",
      "source": [
        "# 17.Convert Set to String\n",
        "l1=[i for i in input().split()]\n",
        "s1=set(l1)\n",
        "n=str(s1)\n",
        "n"
      ],
      "metadata": {
        "colab": {
          "base_uri": "https://localhost:8080/",
          "height": 53
        },
        "id": "GkiCiSVGqrpX",
        "outputId": "b7a2e450-d7c2-4368-bcc2-6504c06a0dcf"
      },
      "execution_count": null,
      "outputs": [
        {
          "name": "stdout",
          "output_type": "stream",
          "text": [
            "t u t o r\n"
          ]
        },
        {
          "output_type": "execute_result",
          "data": {
            "text/plain": [
              "\"{'t', 'o', 'u', 'r'}\""
            ],
            "application/vnd.google.colaboratory.intrinsic+json": {
              "type": "string"
            }
          },
          "metadata": {},
          "execution_count": 52
        }
      ]
    },
    {
      "cell_type": "code",
      "source": [
        "type(n)"
      ],
      "metadata": {
        "colab": {
          "base_uri": "https://localhost:8080/"
        },
        "id": "Nk8Ee_yWq0WC",
        "outputId": "9f57347f-f839-49fd-d542-3b4bb262b854"
      },
      "execution_count": null,
      "outputs": [
        {
          "output_type": "execute_result",
          "data": {
            "text/plain": [
              "str"
            ]
          },
          "metadata": {},
          "execution_count": 53
        }
      ]
    },
    {
      "cell_type": "code",
      "source": [
        "# 20.Convert Set to List\n",
        "l1=[i for i in input().split()]\n",
        "s1=set(l1)\n",
        "n=list(s1)\n",
        "n"
      ],
      "metadata": {
        "colab": {
          "base_uri": "https://localhost:8080/"
        },
        "id": "dFVCjXMKrITP",
        "outputId": "320ea3bc-5a95-46c3-a058-497a36555b92"
      },
      "execution_count": null,
      "outputs": [
        {
          "name": "stdout",
          "output_type": "stream",
          "text": [
            "t u t o r\n"
          ]
        },
        {
          "output_type": "execute_result",
          "data": {
            "text/plain": [
              "['t', 'o', 'u', 'r']"
            ]
          },
          "metadata": {},
          "execution_count": 54
        }
      ]
    },
    {
      "cell_type": "code",
      "source": [
        "type(n)"
      ],
      "metadata": {
        "colab": {
          "base_uri": "https://localhost:8080/"
        },
        "id": "tgrXBR99rNwq",
        "outputId": "9cee5084-fdc9-4443-d5cf-82e42dbbb083"
      },
      "execution_count": null,
      "outputs": [
        {
          "output_type": "execute_result",
          "data": {
            "text/plain": [
              "list"
            ]
          },
          "metadata": {},
          "execution_count": 55
        }
      ]
    },
    {
      "cell_type": "code",
      "source": [
        "# 19.Convert Set to Tuple\n",
        "l1=[i for i in input().split()]\n",
        "s1=set(l1)\n",
        "n=tuple(s1)\n",
        "n"
      ],
      "metadata": {
        "colab": {
          "base_uri": "https://localhost:8080/"
        },
        "id": "duS3lJPErSAy",
        "outputId": "7a3f446c-45a2-4ece-9c80-f2c319b20b65"
      },
      "execution_count": null,
      "outputs": [
        {
          "name": "stdout",
          "output_type": "stream",
          "text": [
            "t u t o r\n"
          ]
        },
        {
          "output_type": "execute_result",
          "data": {
            "text/plain": [
              "('t', 'o', 'u', 'r')"
            ]
          },
          "metadata": {},
          "execution_count": 56
        }
      ]
    },
    {
      "cell_type": "code",
      "source": [
        "type(n)"
      ],
      "metadata": {
        "colab": {
          "base_uri": "https://localhost:8080/"
        },
        "id": "T0Gn4GsWrVRJ",
        "outputId": "4f00bb3f-1432-4770-b830-286017f246fe"
      },
      "execution_count": null,
      "outputs": [
        {
          "output_type": "execute_result",
          "data": {
            "text/plain": [
              "tuple"
            ]
          },
          "metadata": {},
          "execution_count": 57
        }
      ]
    },
    {
      "cell_type": "code",
      "source": [
        "# 20.Convert Tuple to Set\n",
        "l1=[i for i in input().split()]\n",
        "n=tuple(s1)\n",
        "s=set(n)\n",
        "s"
      ],
      "metadata": {
        "colab": {
          "base_uri": "https://localhost:8080/"
        },
        "id": "YcXBYy9NrYY-",
        "outputId": "fd30bbd5-7534-4d41-d4ea-780f8a7989a0"
      },
      "execution_count": null,
      "outputs": [
        {
          "name": "stdout",
          "output_type": "stream",
          "text": [
            "t u t o r\n"
          ]
        },
        {
          "output_type": "execute_result",
          "data": {
            "text/plain": [
              "{'o', 'r', 't', 'u'}"
            ]
          },
          "metadata": {},
          "execution_count": 58
        }
      ]
    },
    {
      "cell_type": "code",
      "source": [
        "type(s)"
      ],
      "metadata": {
        "colab": {
          "base_uri": "https://localhost:8080/"
        },
        "id": "km6yOggUrfwY",
        "outputId": "1e59ce8e-250c-473a-a58c-e2bc56970093"
      },
      "execution_count": null,
      "outputs": [
        {
          "output_type": "execute_result",
          "data": {
            "text/plain": [
              "set"
            ]
          },
          "metadata": {},
          "execution_count": 59
        }
      ]
    },
    {
      "cell_type": "code",
      "source": [
        "# 21.add all its elements into a given set\n",
        "l1=[i for i in input().split()]\n",
        "s1=set(l1)                        # set\n",
        "l2=[i for i in input().split()]   # list\n",
        "s1.update(l2)                     # adding elements in list and set\n",
        "print(s1)"
      ],
      "metadata": {
        "colab": {
          "base_uri": "https://localhost:8080/"
        },
        "id": "yCwT21S2rnlY",
        "outputId": "96f520f2-67a2-4cf3-9029-d63c0f83316f"
      },
      "execution_count": null,
      "outputs": [
        {
          "output_type": "stream",
          "name": "stdout",
          "text": [
            "10 20 30 40 50\n",
            "60 70 80 90 100\n",
            "{'100', '60', '90', '50', '30', '80', '20', '10', '70', '40'}\n"
          ]
        }
      ]
    },
    {
      "cell_type": "code",
      "source": [
        "# 22.return a new set with unique items from both sets by removing duplicates.\n",
        "l1=[i for i in input().split()]\n",
        "s1=set(l1)                        # set\n",
        "l2=[i for i in input().split()]\n",
        "s2=set(l2)                        # set\n",
        "print(s1.union(s2))               #adding 2 sets(set doesnot contain duplicates)"
      ],
      "metadata": {
        "colab": {
          "base_uri": "https://localhost:8080/"
        },
        "id": "1DJ6ue-nsEoI",
        "outputId": "6325b1df-db63-49ab-beab-9c475990c05b"
      },
      "execution_count": null,
      "outputs": [
        {
          "output_type": "stream",
          "name": "stdout",
          "text": [
            "10 20 30 40 50\n",
            "60 70 80 90 100\n",
            "{'100', '60', '90', '50', '30', '80', '20', '10', '70', '40'}\n"
          ]
        }
      ]
    },
    {
      "cell_type": "code",
      "source": [
        "# 23.Check if two sets have any elements in common.\n",
        "#    If yes, display the common elements\n",
        "l1=[i for i in input().split()]\n",
        "s1=set(l1)\n",
        "l2=[i for i in input().split()]\n",
        "s2=set(l2)\n",
        "l3=[i for i in input().split()]\n",
        "s3=set(l3)\n",
        "if s1.isdisjoint(s2):\n",
        "  print(\"No common elements\")\n",
        "else:\n",
        "  print(s1.intersection(s2))\n",
        "if s1.isdisjoint(s3):\n",
        "  print(\"No common elements\")\n",
        "else:\n",
        "  print(s1.intersection(s3))\n"
      ],
      "metadata": {
        "colab": {
          "base_uri": "https://localhost:8080/"
        },
        "id": "_ufL7B8ssPx7",
        "outputId": "acff73ea-2226-4f61-e74d-759751f2351d"
      },
      "execution_count": null,
      "outputs": [
        {
          "output_type": "stream",
          "name": "stdout",
          "text": [
            "1 2 3 4 5\n",
            "5 3 7 8 9 \n",
            "6 7 8 9 10\n",
            "{'3', '5'}\n",
            "No common elements\n"
          ]
        }
      ]
    },
    {
      "cell_type": "code",
      "source": [
        "# 24.checks if one set is subset of other set\n",
        "l1=[i for i in input().split()]\n",
        "s1=set(l1)\n",
        "s1\n",
        "l2=[i for i in input().split()]\n",
        "s2=set(l2)\n",
        "s2\n",
        "if s1.issubset(s2):\n",
        "  print(True)\n",
        "else:\n",
        "  print(False)\n",
        "if s2.issubset(s1):\n",
        "  print(True)\n",
        "else:\n",
        "  print(False)"
      ],
      "metadata": {
        "colab": {
          "base_uri": "https://localhost:8080/"
        },
        "id": "IpgHDui4ujPX",
        "outputId": "c3003b91-8526-4e96-d6ed-23950fe0fcd1"
      },
      "execution_count": null,
      "outputs": [
        {
          "output_type": "stream",
          "name": "stdout",
          "text": [
            "4 5\n",
            "1 2 3 4 5\n",
            "True\n",
            "False\n"
          ]
        }
      ]
    },
    {
      "cell_type": "code",
      "source": [
        "# 25.Check if a set is a subset, using comparison operators\n",
        "l1=[i for i in input().split()]\n",
        "s1=set(l1)\n",
        "s1\n",
        "l2=[i for i in input().split()]\n",
        "s2=set(l2)\n",
        "s2\n",
        "if s1<=s2:\n",
        "  print(True)\n",
        "else:\n",
        "  print(False)\n",
        "if s2<=s1:\n",
        "  print(True)\n",
        "else:\n",
        "  print(False)"
      ],
      "metadata": {
        "colab": {
          "base_uri": "https://localhost:8080/"
        },
        "id": "ZkjmZ5v3vQwu",
        "outputId": "10745d78-4a59-404b-bd21-1b2b7e8cc33f"
      },
      "execution_count": null,
      "outputs": [
        {
          "output_type": "stream",
          "name": "stdout",
          "text": [
            "a b\n",
            "a b c\n",
            "True\n",
            "False\n"
          ]
        }
      ]
    },
    {
      "cell_type": "code",
      "source": [
        "# 26.checks if one set is subset of itself\n",
        "l1=[i for i in input().split()]\n",
        "s1=set(l1)\n",
        "s1\n",
        "if s1.issubset(s1):\n",
        "  print(True)\n",
        "else:\n",
        "  print(False)"
      ],
      "metadata": {
        "colab": {
          "base_uri": "https://localhost:8080/"
        },
        "id": "VhnZVqoewTpq",
        "outputId": "668b5ae4-75ed-4349-a3bf-eab2397e5cd6"
      },
      "execution_count": null,
      "outputs": [
        {
          "output_type": "stream",
          "name": "stdout",
          "text": [
            "1 2 3 4 5\n",
            "True\n"
          ]
        }
      ]
    },
    {
      "cell_type": "code",
      "source": [
        "# 27.Check if a specific value exists in a set\n",
        "l1=[i for i in input().split()]\n",
        "s1=set(l1)\n",
        "n=input()\n",
        "if n in s1:\n",
        "  print(True)\n",
        "else:\n",
        "  print(False)"
      ],
      "metadata": {
        "colab": {
          "base_uri": "https://localhost:8080/"
        },
        "id": "4prXcJtjwmGm",
        "outputId": "ebce824c-3196-4fae-8087-712ce9c77b76"
      },
      "execution_count": null,
      "outputs": [
        {
          "output_type": "stream",
          "name": "stdout",
          "text": [
            "10 20 30 40 50\n",
            "30\n",
            "True\n"
          ]
        }
      ]
    },
    {
      "cell_type": "code",
      "source": [
        "# 28.Find the union, symmetric difference, and intersection of the two sets.\n",
        "l1=[i for i in input().split()]\n",
        "s1=set(l1)\n",
        "s1\n",
        "l2=[i for i in input().split()]\n",
        "s2=set(l2)\n",
        "s2\n",
        "print(s1.union(s2))\n",
        "print(s1.symmetric_difference(s2))\n",
        "print(s1.intersection(s2))"
      ],
      "metadata": {
        "colab": {
          "base_uri": "https://localhost:8080/"
        },
        "id": "LIHNJsC2w0GB",
        "outputId": "114f7569-c42b-4c6f-ff13-9bf5ddb0bfbb"
      },
      "execution_count": null,
      "outputs": [
        {
          "output_type": "stream",
          "name": "stdout",
          "text": [
            "1 2 3 4 5 67 8 9\n",
            "6 7 5 9 10 23\n",
            "{'8', '4', '6', '2', '3', '5', '7', '23', '67', '1', '9', '10'}\n",
            "{'8', '6', '7', '2', '4', '3', '23', '67', '1', '10'}\n",
            "{'5', '9'}\n"
          ]
        }
      ]
    },
    {
      "cell_type": "code",
      "source": [
        "# 29.Create a sequence of numbers using range, then ask the user to enter a number.\n",
        "#   Inform the user whether or not their number was within the range you specified\n",
        "a=list(range(0,50))\n",
        "n=int(input(\"Enter input:\"))\n",
        "if n in a:\n",
        "  print(\"number is within range\")\n",
        "else:\n",
        "  if n<a[0]:\n",
        "    print(\"enter high value\")\n",
        "  else:\n",
        "    print(\"enter low value\")\n"
      ],
      "metadata": {
        "colab": {
          "base_uri": "https://localhost:8080/"
        },
        "id": "vVO2QqLByu3x",
        "outputId": "b4123c96-35a4-41ff-c666-c5d0857c65ed"
      },
      "execution_count": null,
      "outputs": [
        {
          "output_type": "stream",
          "name": "stdout",
          "text": [
            "Enter input:10\n",
            "number is within range\n"
          ]
        }
      ]
    },
    {
      "cell_type": "code",
      "source": [
        "# 30. count number of vowels using sets in given string\n",
        "s1=input()\n",
        "v={\"a\",\"e\",\"i\",\"o\",\"u\"}\n",
        "count=0\n",
        "for i in s:\n",
        "  if i in v:\n",
        "    count+=1\n",
        "print(count)\n"
      ],
      "metadata": {
        "colab": {
          "base_uri": "https://localhost:8080/"
        },
        "id": "o9OLUyRL03rN",
        "outputId": "9772cb3b-efee-411b-97d4-03729c05c902"
      },
      "execution_count": null,
      "outputs": [
        {
          "output_type": "stream",
          "name": "stdout",
          "text": [
            "tutor\n",
            "2\n"
          ]
        }
      ]
    },
    {
      "cell_type": "markdown",
      "source": [
        "**DICTIONARY**"
      ],
      "metadata": {
        "id": "yz3wJUo25lRZ"
      }
    },
    {
      "cell_type": "code",
      "source": [
        "# 1.sort (ascending and descending) a dictionary by value\n",
        "# ascending order\n",
        "di={1: 2, 3: 4, 4: 3, 2: 1, 0: 0}\n",
        "myvalues=list(di.values())\n",
        "myvalues.sort()\n",
        "sortedic={di[i]:i for i in myvalues}\n",
        "print(sortedic)\n"
      ],
      "metadata": {
        "id": "07RmXnBj2unn",
        "colab": {
          "base_uri": "https://localhost:8080/"
        },
        "outputId": "adf67379-b7de-40e8-a353-476204d8e787"
      },
      "execution_count": null,
      "outputs": [
        {
          "output_type": "stream",
          "name": "stdout",
          "text": [
            "{0: 0, 2: 1, 1: 2, 4: 3, 3: 4}\n"
          ]
        }
      ]
    },
    {
      "cell_type": "code",
      "source": [
        "#decending order\n",
        "myvalues.sort(reverse=True)\n",
        "myvalues\n",
        "sortedict={di[i]:i for i in myvalues}\n",
        "print(sortedict)"
      ],
      "metadata": {
        "colab": {
          "base_uri": "https://localhost:8080/"
        },
        "id": "y0Ui--Kndgr0",
        "outputId": "0fb2e2b4-2f6a-40f4-90bd-07b8b3050012"
      },
      "execution_count": null,
      "outputs": [
        {
          "output_type": "stream",
          "name": "stdout",
          "text": [
            "{3: 4, 4: 3, 1: 2, 2: 1, 0: 0}\n"
          ]
        }
      ]
    },
    {
      "cell_type": "code",
      "source": [
        "# 2. add a key to a dictionary\n",
        "dictionary = {\"Name\" : \"Ram\" , \"Age\" : 23}\n",
        "add_key = {\"City\" : \"Salem\"}\n",
        "key=list(add_key.keys())\n",
        "value=list(add_key.values())\n",
        "print(key)\n",
        "dictionary[key[0]]=value[0]\n"
      ],
      "metadata": {
        "colab": {
          "base_uri": "https://localhost:8080/"
        },
        "id": "vxBhRc8pbga_",
        "outputId": "52cf4019-2847-4593-abe7-fe8eb66a5cd6"
      },
      "execution_count": null,
      "outputs": [
        {
          "output_type": "stream",
          "name": "stdout",
          "text": [
            "['City']\n"
          ]
        }
      ]
    },
    {
      "cell_type": "code",
      "source": [
        "dictionary"
      ],
      "metadata": {
        "colab": {
          "base_uri": "https://localhost:8080/"
        },
        "id": "WwCNUoFHflBR",
        "outputId": "e34cff2e-ffee-4a71-e8aa-80b3ac8497d7"
      },
      "execution_count": null,
      "outputs": [
        {
          "output_type": "execute_result",
          "data": {
            "text/plain": [
              "{'Name': 'Ram', 'Age': 23, 'City': 'Salem'}"
            ]
          },
          "metadata": {},
          "execution_count": 17
        }
      ]
    },
    {
      "cell_type": "code",
      "source": [
        "# 3.concatenate following dictionaries to create a new one\n",
        "d1 = {\"Name\" : \"Ram\" , \"Age\" : 23}\n",
        "d2 = {\"City\" : \"Salem\", \"Gender\" : \"Male\"}\n",
        "d1.update(d2)\n",
        "d1"
      ],
      "metadata": {
        "colab": {
          "base_uri": "https://localhost:8080/"
        },
        "id": "vfauYMh0ftaj",
        "outputId": "31df53d2-9ceb-4346-c48a-b1f69a5849da"
      },
      "execution_count": null,
      "outputs": [
        {
          "output_type": "execute_result",
          "data": {
            "text/plain": [
              "{'Name': 'Ram', 'Age': 23, 'City': 'Salem', 'Gender': 'Male'}"
            ]
          },
          "metadata": {},
          "execution_count": 18
        }
      ]
    },
    {
      "cell_type": "code",
      "source": [
        "# 4.check whether a given key already exists in a dictionary\n",
        "di={'Name' : 'Ram', 'Age' : 23}\n",
        "if \"Name\" in di:\n",
        "  print(\"Key is Available in the Dictionary\")"
      ],
      "metadata": {
        "colab": {
          "base_uri": "https://localhost:8080/"
        },
        "id": "qCTX6Uref9FU",
        "outputId": "6d29527d-aace-43bf-d27f-f703bfc45ea3"
      },
      "execution_count": null,
      "outputs": [
        {
          "output_type": "stream",
          "name": "stdout",
          "text": [
            "Key is Available in the Dictionary\n"
          ]
        }
      ]
    },
    {
      "cell_type": "code",
      "source": [
        "# 5.iterate over dictionaries using for loops\n",
        "di={\"Name\" : \"Ram\" , \"Age\" : 23 , \"City\" : \"Salem\", \"Gender\" : \"Male\"}\n",
        "for x,y in di.items():\n",
        "  print(x,':',y)"
      ],
      "metadata": {
        "colab": {
          "base_uri": "https://localhost:8080/"
        },
        "id": "fD2r7vNkgNOP",
        "outputId": "7f58095b-1117-4d1e-8bfb-206e99a84106"
      },
      "execution_count": null,
      "outputs": [
        {
          "output_type": "stream",
          "name": "stdout",
          "text": [
            "Name : Ram\n",
            "Age : 23\n",
            "City : Salem\n",
            "Gender : Male\n"
          ]
        }
      ]
    },
    {
      "cell_type": "code",
      "source": [
        "# 6.print a dictionary that contains a number (between 1 and n) in the form (x, x*x).\n",
        "d={}\n",
        "n=int(input())\n",
        "for i in range(1,n+1):\n",
        "  d[i]=i*i\n",
        "print(d)\n"
      ],
      "metadata": {
        "colab": {
          "base_uri": "https://localhost:8080/"
        },
        "id": "NWW0w-Jigd-j",
        "outputId": "ac611342-3c74-49f3-81ac-dc5aab2fbdb6"
      },
      "execution_count": null,
      "outputs": [
        {
          "output_type": "stream",
          "name": "stdout",
          "text": [
            "2\n",
            "{1: 1, 2: 4}\n"
          ]
        }
      ]
    },
    {
      "cell_type": "code",
      "source": [
        "# 7.print a dictionary where the keys are numbers between 1 and n (both included)\n",
        "#   and the values are square of keys\n",
        "d={}\n",
        "n=int(input())\n",
        "for i in range(1,n+1):\n",
        "  d[i]=i*i\n",
        "print(d)"
      ],
      "metadata": {
        "colab": {
          "base_uri": "https://localhost:8080/"
        },
        "id": "IXWyO0wiiSgg",
        "outputId": "5cfe76e1-85e3-411f-e919-e6c44eb7861d"
      },
      "execution_count": null,
      "outputs": [
        {
          "output_type": "stream",
          "name": "stdout",
          "text": [
            "5\n",
            "{1: 1, 2: 4, 3: 9, 4: 16, 5: 25}\n"
          ]
        }
      ]
    },
    {
      "cell_type": "code",
      "source": [
        "# 8.merge two Python dictionaries\n",
        "d1 = {\"Name\" : \"Ram\" , \"Age\" : 23}\n",
        "d2 = {\"City\" : \"Salem\", \"Gender\" : \"Male\"}\n",
        "d1.update(d2)\n",
        "d1"
      ],
      "metadata": {
        "colab": {
          "base_uri": "https://localhost:8080/"
        },
        "id": "f5tK7HQAi1B_",
        "outputId": "1dad9417-25fb-459b-ffce-c41848e6cb3c"
      },
      "execution_count": null,
      "outputs": [
        {
          "output_type": "execute_result",
          "data": {
            "text/plain": [
              "{'Name': 'Ram', 'Age': 23, 'City': 'Salem', 'Gender': 'Male'}"
            ]
          },
          "metadata": {},
          "execution_count": 32
        }
      ]
    },
    {
      "cell_type": "code",
      "source": [
        "# 9.iterate over dictionaries using for loops\n",
        "di={\"Name\" : \"Ram\" , \"Age\" : 23 , \"City\" : \"Salem\", \"Gender\" : \"Male\"}\n",
        "for x,y in di.items():\n",
        "  print(x,':',y)"
      ],
      "metadata": {
        "colab": {
          "base_uri": "https://localhost:8080/"
        },
        "id": "H9qMGZIsjCdz",
        "outputId": "c7f3e4c7-0c20-43ab-c79e-70262909a8db"
      },
      "execution_count": null,
      "outputs": [
        {
          "output_type": "stream",
          "name": "stdout",
          "text": [
            "Name : Ram\n",
            "Age : 23\n",
            "City : Salem\n",
            "Gender : Male\n"
          ]
        }
      ]
    },
    {
      "cell_type": "code",
      "source": [
        "# 10.sum all the items in a dictionary\n",
        "di={1 : 23, 2 : 45, 3 : -17, 4 : 87}\n",
        "print(sum(di.values()))"
      ],
      "metadata": {
        "colab": {
          "base_uri": "https://localhost:8080/"
        },
        "id": "-zHGJeohjEj5",
        "outputId": "9e7d5a78-e9dd-4276-92a9-978bd76e86f6"
      },
      "execution_count": null,
      "outputs": [
        {
          "output_type": "stream",
          "name": "stdout",
          "text": [
            "138\n"
          ]
        }
      ]
    },
    {
      "cell_type": "code",
      "source": [
        "# 11.Access dictionary key’s element by index\n",
        "di={\"Name\" : \"Pooja\", \"Age\" : 23, \"Gender\" : \"Female\", \"City\" : \"Salem\", \"Mark\" : 488}\n",
        "for i in di.keys():\n",
        "  print(i)"
      ],
      "metadata": {
        "colab": {
          "base_uri": "https://localhost:8080/"
        },
        "id": "efwNM0M9jow6",
        "outputId": "4bde3a16-b472-40a2-f6a2-83219a73dfed"
      },
      "execution_count": null,
      "outputs": [
        {
          "output_type": "stream",
          "name": "stdout",
          "text": [
            "Name\n",
            "Age\n",
            "Gender\n",
            "City\n",
            "Mark\n"
          ]
        }
      ]
    },
    {
      "cell_type": "code",
      "source": [
        "# 12.Drop empty Items from a given Dictionary\n",
        "di={'Name' : 'Pooja', 'Age' : 23, 'Gender' : None, 'Mark' : 488, 'City' : None}\n",
        "di"
      ],
      "metadata": {
        "colab": {
          "base_uri": "https://localhost:8080/"
        },
        "id": "UssD2Bt3kJvO",
        "outputId": "83b5582a-721f-48fa-cc4f-f4a063fed8e4"
      },
      "execution_count": null,
      "outputs": [
        {
          "output_type": "execute_result",
          "data": {
            "text/plain": [
              "{'Name': 'Pooja', 'Age': 23, 'Gender': None, 'Mark': 488, 'City': None}"
            ]
          },
          "metadata": {},
          "execution_count": 52
        }
      ]
    },
    {
      "cell_type": "code",
      "source": [
        "di.pop(\"Gender\")\n",
        "di"
      ],
      "metadata": {
        "colab": {
          "base_uri": "https://localhost:8080/"
        },
        "id": "oGIAas-1kSbz",
        "outputId": "e6ac7231-8ae5-465d-fbb9-a8ef94996618"
      },
      "execution_count": null,
      "outputs": [
        {
          "output_type": "execute_result",
          "data": {
            "text/plain": [
              "{'Name': 'Pooja', 'Age': 23, 'Mark': 488, 'City': None}"
            ]
          },
          "metadata": {},
          "execution_count": 54
        }
      ]
    },
    {
      "cell_type": "code",
      "source": [
        "di.pop(\"City\")\n",
        "di"
      ],
      "metadata": {
        "colab": {
          "base_uri": "https://localhost:8080/"
        },
        "id": "eRd7QERJkYZa",
        "outputId": "782e4d33-5712-4e78-8125-9d8ce8e56d83"
      },
      "execution_count": null,
      "outputs": [
        {
          "output_type": "execute_result",
          "data": {
            "text/plain": [
              "{'Name': 'Pooja', 'Age': 23, 'Mark': 488}"
            ]
          },
          "metadata": {},
          "execution_count": 56
        }
      ]
    },
    {
      "cell_type": "code",
      "source": [
        "# 13.Create a dictionary of keys a, b, and c\n",
        "d= { 'A' : [1, 2, 3, 4, 5, 6, 7, 8, 9, 10],\n",
        "               'Y' : [11, 12, 13, 14, 15, 16, 17, 18, 19, 20],\n",
        "               'Z' : [21, 22, 23, 24, 25, 26, 27, 28, 29, 30] }\n",
        "for x,y in d.items():\n",
        "  print(x,'=',y)"
      ],
      "metadata": {
        "colab": {
          "base_uri": "https://localhost:8080/"
        },
        "id": "YwKL_uFukpd2",
        "outputId": "171d2b5a-ebe3-45f7-d56b-86b8f8414e09"
      },
      "execution_count": null,
      "outputs": [
        {
          "output_type": "stream",
          "name": "stdout",
          "text": [
            "A = [1, 2, 3, 4, 5, 6, 7, 8, 9, 10]\n",
            "Y = [11, 12, 13, 14, 15, 16, 17, 18, 19, 20]\n",
            "Z = [21, 22, 23, 24, 25, 26, 27, 28, 29, 30]\n"
          ]
        }
      ]
    },
    {
      "cell_type": "code",
      "source": [
        "# 14.Match key values in two dictionaries\n",
        "A = {'Tamil' : 92, 'English' : 56, 'Maths' : 88, 'Sceince' : 97, 'Social' : 89}\n",
        "B= {'Tamil' : 78, 'English' : 68, 'Maths' : 88, 'Sceince' : 97, 'Social' : 56}\n",
        "k={}\n",
        "for k in A:\n",
        "  if k in B:\n",
        "    if A[k] == B[k]:\n",
        "      print (\"Present\")\n"
      ],
      "metadata": {
        "colab": {
          "base_uri": "https://localhost:8080/"
        },
        "id": "kh1RhLM6l1-m",
        "outputId": "c6625da7-8faf-4c3c-adf7-30cb44d88ff0"
      },
      "execution_count": null,
      "outputs": [
        {
          "output_type": "stream",
          "name": "stdout",
          "text": [
            "Present\n",
            "Present\n"
          ]
        }
      ]
    },
    {
      "cell_type": "code",
      "source": [
        "# 14.Match key values in two dictionaries\n",
        "A = {'Tamil' : 92, 'English' : 56, 'Maths' : 88, 'Sceince' : 97, 'Social' : 89}\n",
        "B= {'Tamil' : 78, 'English' : 68, 'Maths' : 88, 'Sceince' : 97, 'Social' : 56}\n",
        "for i in A.items():\n",
        "  if i in B.items():\n",
        "    print(i)"
      ],
      "metadata": {
        "colab": {
          "base_uri": "https://localhost:8080/"
        },
        "id": "b5g3JVAFYm-K",
        "outputId": "b8b602d8-9735-419a-9a3c-04696a5cd913"
      },
      "execution_count": null,
      "outputs": [
        {
          "output_type": "stream",
          "name": "stdout",
          "text": [
            "('Maths', 88)\n",
            "('Sceince', 97)\n"
          ]
        }
      ]
    },
    {
      "cell_type": "code",
      "source": [
        "# 15. Sort Counter by value\n",
        "di={ 'Tamil': 92, 'Math' : 88, 'Science' : 89, 'Social' : 89, 'English' : 56 }\n",
        "myvalues=list(di.values())\n",
        "myvalues.sort(reverse=True)\n",
        "myvalues\n",
        "sortedict={di[i]:i for i in myvalues}\n",
        "print(sortedict)"
      ],
      "metadata": {
        "colab": {
          "base_uri": "https://localhost:8080/",
          "height": 331
        },
        "id": "RtZd81jLgBOH",
        "outputId": "0226d048-af05-446c-daa8-c5d7f9e63be6"
      },
      "execution_count": null,
      "outputs": [
        {
          "output_type": "error",
          "ename": "KeyError",
          "evalue": "ignored",
          "traceback": [
            "\u001b[0;31m---------------------------------------------------------------------------\u001b[0m",
            "\u001b[0;31mKeyError\u001b[0m                                  Traceback (most recent call last)",
            "\u001b[0;32m<ipython-input-14-7fa62bee7b60>\u001b[0m in \u001b[0;36m<cell line: 6>\u001b[0;34m()\u001b[0m\n\u001b[1;32m      4\u001b[0m \u001b[0mmyvalues\u001b[0m\u001b[0;34m.\u001b[0m\u001b[0msort\u001b[0m\u001b[0;34m(\u001b[0m\u001b[0mreverse\u001b[0m\u001b[0;34m=\u001b[0m\u001b[0;32mTrue\u001b[0m\u001b[0;34m)\u001b[0m\u001b[0;34m\u001b[0m\u001b[0;34m\u001b[0m\u001b[0m\n\u001b[1;32m      5\u001b[0m \u001b[0mmyvalues\u001b[0m\u001b[0;34m\u001b[0m\u001b[0;34m\u001b[0m\u001b[0m\n\u001b[0;32m----> 6\u001b[0;31m \u001b[0msortedict\u001b[0m\u001b[0;34m=\u001b[0m\u001b[0;34m{\u001b[0m\u001b[0mdi\u001b[0m\u001b[0;34m[\u001b[0m\u001b[0mi\u001b[0m\u001b[0;34m]\u001b[0m\u001b[0;34m:\u001b[0m\u001b[0mi\u001b[0m \u001b[0;32mfor\u001b[0m \u001b[0mi\u001b[0m \u001b[0;32min\u001b[0m \u001b[0mmyvalues\u001b[0m\u001b[0;34m}\u001b[0m\u001b[0;34m\u001b[0m\u001b[0;34m\u001b[0m\u001b[0m\n\u001b[0m\u001b[1;32m      7\u001b[0m \u001b[0mprint\u001b[0m\u001b[0;34m(\u001b[0m\u001b[0msortedict\u001b[0m\u001b[0;34m)\u001b[0m\u001b[0;34m\u001b[0m\u001b[0;34m\u001b[0m\u001b[0m\n",
            "\u001b[0;32m<ipython-input-14-7fa62bee7b60>\u001b[0m in \u001b[0;36m<dictcomp>\u001b[0;34m(.0)\u001b[0m\n\u001b[1;32m      4\u001b[0m \u001b[0mmyvalues\u001b[0m\u001b[0;34m.\u001b[0m\u001b[0msort\u001b[0m\u001b[0;34m(\u001b[0m\u001b[0mreverse\u001b[0m\u001b[0;34m=\u001b[0m\u001b[0;32mTrue\u001b[0m\u001b[0;34m)\u001b[0m\u001b[0;34m\u001b[0m\u001b[0;34m\u001b[0m\u001b[0m\n\u001b[1;32m      5\u001b[0m \u001b[0mmyvalues\u001b[0m\u001b[0;34m\u001b[0m\u001b[0;34m\u001b[0m\u001b[0m\n\u001b[0;32m----> 6\u001b[0;31m \u001b[0msortedict\u001b[0m\u001b[0;34m=\u001b[0m\u001b[0;34m{\u001b[0m\u001b[0mdi\u001b[0m\u001b[0;34m[\u001b[0m\u001b[0mi\u001b[0m\u001b[0;34m]\u001b[0m\u001b[0;34m:\u001b[0m\u001b[0mi\u001b[0m \u001b[0;32mfor\u001b[0m \u001b[0mi\u001b[0m \u001b[0;32min\u001b[0m \u001b[0mmyvalues\u001b[0m\u001b[0;34m}\u001b[0m\u001b[0;34m\u001b[0m\u001b[0;34m\u001b[0m\u001b[0m\n\u001b[0m\u001b[1;32m      7\u001b[0m \u001b[0mprint\u001b[0m\u001b[0;34m(\u001b[0m\u001b[0msortedict\u001b[0m\u001b[0;34m)\u001b[0m\u001b[0;34m\u001b[0m\u001b[0;34m\u001b[0m\u001b[0m\n",
            "\u001b[0;31mKeyError\u001b[0m: 92"
          ]
        }
      ]
    },
    {
      "cell_type": "code",
      "source": [
        "# 16.count number of items in a dictionary value that is a list\n",
        "Dic = { 'M1' : [67,79,90,73,36], 'M2' : [89,67,84], 'M3' : [82,57] }\n",
        "count=0\n",
        "for key, value in Dic.items():\n",
        "  if isinstance(value, list):\n",
        "    count += len(value)\n",
        "print(count)\n"
      ],
      "metadata": {
        "colab": {
          "base_uri": "https://localhost:8080/"
        },
        "id": "nxboBsu_m3fE",
        "outputId": "2360c392-bd18-4dc5-d460-8062da41d52a"
      },
      "execution_count": null,
      "outputs": [
        {
          "output_type": "stream",
          "name": "stdout",
          "text": [
            "10\n"
          ]
        }
      ]
    },
    {
      "cell_type": "code",
      "source": [
        "# 17.check multiple keys exists in a dictionary\n",
        "di= { 'name' : 'Ram', 'age' : 23, 'city' : 'Salem' }\n",
        "print(di.keys()>={'age','name'})\n",
        "print(di.keys()>={'city','Salem'})"
      ],
      "metadata": {
        "id": "iD5SojARnGDq",
        "colab": {
          "base_uri": "https://localhost:8080/"
        },
        "outputId": "677388e8-fef5-4833-d108-7095eb40ac8e"
      },
      "execution_count": null,
      "outputs": [
        {
          "output_type": "stream",
          "name": "stdout",
          "text": [
            "True\n",
            "False\n"
          ]
        }
      ]
    },
    {
      "cell_type": "code",
      "source": [
        "# 18.print a dictionary line by line.\n",
        "Dict = {  \"Sam\" : {\"M1\" : 89, \"M2\" : 56, \"M3\" : 89},\n",
        "       \"Suresh\" : {\"M1\" : 49, \"M2\" : 96, \"M3\" : 89} }\n",
        "#for x,y in Dict.items():\n",
        "  #print(x,':',y)\n",
        "for a in Dict:\n",
        "  print(a)\n",
        "  for b in Dict[a]:\n",
        "    print (b,\":\",Dict[a][b])"
      ],
      "metadata": {
        "colab": {
          "base_uri": "https://localhost:8080/"
        },
        "id": "GiwscqJnkPBV",
        "outputId": "cda4e071-35db-4630-ab69-8ddb1a816862"
      },
      "execution_count": null,
      "outputs": [
        {
          "output_type": "stream",
          "name": "stdout",
          "text": [
            "Sam\n",
            "M1 : 89\n",
            "M2 : 56\n",
            "M3 : 89\n",
            "Suresh\n",
            "M1 : 49\n",
            "M2 : 96\n",
            "M3 : 89\n"
          ]
        }
      ]
    },
    {
      "cell_type": "code",
      "source": [
        "# 19.Convert two lists into a dictionary\n",
        "k = [\"One\", \"Two\", \"Three\", \"Four\", \"Five\"]\n",
        "v = [1, 2, 3, 4, 5]\n",
        "res=dict(zip(k,v))\n",
        "print(res)\n"
      ],
      "metadata": {
        "colab": {
          "base_uri": "https://localhost:8080/"
        },
        "id": "JIN1YnjVkbFP",
        "outputId": "22ba7d5a-1c22-4040-e51c-c7eb1acf14d7"
      },
      "execution_count": null,
      "outputs": [
        {
          "output_type": "stream",
          "name": "stdout",
          "text": [
            "{'One': 1, 'Two': 2, 'Three': 3, 'Four': 4, 'Five': 5}\n"
          ]
        }
      ]
    },
    {
      "cell_type": "code",
      "source": [
        "# 20.Merge two Python dictionaries into one\n",
        "k={\"Name\" : \"Ram\" , \"Age\" : 25 , \"City\" : \"Salem\"}\n",
        "v={\"Gender\" : \"Male\" , \"Mark\" : 422 , \"Percent\" : 84.4}\n",
        "k.update(v)\n",
        "k"
      ],
      "metadata": {
        "colab": {
          "base_uri": "https://localhost:8080/"
        },
        "id": "ViEmsprMkq7U",
        "outputId": "354ff368-e8bd-4c29-e6d7-98c8ecafd4d7"
      },
      "execution_count": null,
      "outputs": [
        {
          "output_type": "execute_result",
          "data": {
            "text/plain": [
              "{'Name': 'Ram',\n",
              " 'Age': 25,\n",
              " 'City': 'Salem',\n",
              " 'Gender': 'Male',\n",
              " 'Mark': 422,\n",
              " 'Percent': 84.4}"
            ]
          },
          "metadata": {},
          "execution_count": 31
        }
      ]
    },
    {
      "cell_type": "code",
      "source": [
        "# 22.extracting the keys from a given dictionary\n",
        "Di = {'Name' : 'Ram', 'Age' : 23, 'City' : 'Salem', 'Gender' : 'Male', 'Mark' : 450}\n",
        "keys = [\"Name\", \"City\", \"Mark\"]\n",
        "x={k:Di[k] for k in keys}\n",
        "print(x)"
      ],
      "metadata": {
        "colab": {
          "base_uri": "https://localhost:8080/"
        },
        "id": "PSKAvE6TlGi8",
        "outputId": "c0e13c10-b74a-4f36-ca1a-f20e17182ee1"
      },
      "execution_count": null,
      "outputs": [
        {
          "output_type": "stream",
          "name": "stdout",
          "text": [
            "{'Name': 'Ram', 'City': 'Salem', 'Mark': 450}\n"
          ]
        }
      ]
    },
    {
      "cell_type": "code",
      "source": [
        "# 23.Delete a list of keys from a dictionary\n",
        "Di = {\"Name\" : \"Tara\", \"RollNo\" : 130046, \"Mark\" : 450, \"Age\" : 16, \"Gender\" : \"Female\", \"City\" : \"Salem\"}\n",
        "keys=[\"Gender\", \"City\"]\n",
        "Di= {k: Di[k] for k in Di.keys() - keys}\n",
        "print(Di)"
      ],
      "metadata": {
        "colab": {
          "base_uri": "https://localhost:8080/"
        },
        "id": "ILo8Ajb5pATI",
        "outputId": "6dbc23ba-14d7-40c8-9b5e-94d0ba93ac1c"
      },
      "execution_count": null,
      "outputs": [
        {
          "output_type": "stream",
          "name": "stdout",
          "text": [
            "{'Name': 'Tara', 'RollNo': 130046, 'Mark': 450, 'Age': 16}\n"
          ]
        }
      ]
    },
    {
      "cell_type": "code",
      "source": [
        "# 24.Rename key of a dictionary\n",
        "di={'Name' : 'Tara', 'RollNo' : 130046, 'Mark' : 458, 'Age' : 16}\n",
        "di['Mark10']=di.pop('Mark')\n",
        "di['RegNo']=di.pop('RollNo')\n",
        "print(di)"
      ],
      "metadata": {
        "colab": {
          "base_uri": "https://localhost:8080/"
        },
        "id": "ErvQ4Vgtp6oP",
        "outputId": "3aff3e1c-3aed-4810-87f0-4c7e2b0ebe8a"
      },
      "execution_count": null,
      "outputs": [
        {
          "output_type": "stream",
          "name": "stdout",
          "text": [
            "{'Name': 'Tara', 'Age': 16, 'Mark10': 458, 'RegNo': 130046}\n"
          ]
        }
      ]
    },
    {
      "cell_type": "code",
      "source": [
        "# 25.print only keys of a dictionary\n",
        "Di = {\"Name\" : \"Tara\", \"RollNo\" : 130046, \"Mark\" : 450, \"Age\" : 16, \"Gender\" : \"Female\", \"City\" : \"Salem\"}\n",
        "for i in Di.keys():\n",
        "  print(i)"
      ],
      "metadata": {
        "colab": {
          "base_uri": "https://localhost:8080/"
        },
        "id": "IlUxMkyWqhth",
        "outputId": "d36e4506-9e63-458e-9569-dccf9820b98d"
      },
      "execution_count": null,
      "outputs": [
        {
          "output_type": "stream",
          "name": "stdout",
          "text": [
            "Name\n",
            "RollNo\n",
            "Mark\n",
            "Age\n",
            "Gender\n",
            "City\n"
          ]
        }
      ]
    },
    {
      "cell_type": "code",
      "source": [
        "# 27.print values of dictionary.\n",
        "Di = {\"Name\" : \"Tara\", \"RollNo\" : 130046, \"Mark\" : 450, \"Age\" : 16, \"Gender\" : \"Female\", \"City\" : \"Salem\"}\n",
        "for i in Di.values():\n",
        "  print(i)"
      ],
      "metadata": {
        "colab": {
          "base_uri": "https://localhost:8080/"
        },
        "id": "Oe8a7wKcq__4",
        "outputId": "4fb7ba29-6f93-40b5-ba02-5883b2fe30e1"
      },
      "execution_count": null,
      "outputs": [
        {
          "output_type": "stream",
          "name": "stdout",
          "text": [
            "Tara\n",
            "130046\n",
            "450\n",
            "16\n",
            "Female\n",
            "Salem\n"
          ]
        }
      ]
    },
    {
      "cell_type": "code",
      "source": [
        "# 1.sort (ascending and descending) a dictionary by value\n",
        "# ascending order\n",
        "di= { \"m1\" : 78 , \"m2\" : 89 , \"m3\" : 64 , \"m4\" : 35 , \"m5\" : 71 }\n",
        "myvalues=list(di.values())\n",
        "myvalues.sort()\n",
        "sortedic={di[i]:i for i in myvalues}\n",
        "print(sortedic)"
      ],
      "metadata": {
        "colab": {
          "base_uri": "https://localhost:8080/",
          "height": 331
        },
        "id": "p3jrBS8ErQfS",
        "outputId": "9662fa90-1db2-4e98-c4f0-f29e12600ca2"
      },
      "execution_count": null,
      "outputs": [
        {
          "output_type": "error",
          "ename": "KeyError",
          "evalue": "ignored",
          "traceback": [
            "\u001b[0;31m---------------------------------------------------------------------------\u001b[0m",
            "\u001b[0;31mKeyError\u001b[0m                                  Traceback (most recent call last)",
            "\u001b[0;32m<ipython-input-41-2bb0e0c891ca>\u001b[0m in \u001b[0;36m<cell line: 6>\u001b[0;34m()\u001b[0m\n\u001b[1;32m      4\u001b[0m \u001b[0mmyvalues\u001b[0m\u001b[0;34m=\u001b[0m\u001b[0mlist\u001b[0m\u001b[0;34m(\u001b[0m\u001b[0mdi\u001b[0m\u001b[0;34m.\u001b[0m\u001b[0mvalues\u001b[0m\u001b[0;34m(\u001b[0m\u001b[0;34m)\u001b[0m\u001b[0;34m)\u001b[0m\u001b[0;34m\u001b[0m\u001b[0;34m\u001b[0m\u001b[0m\n\u001b[1;32m      5\u001b[0m \u001b[0mmyvalues\u001b[0m\u001b[0;34m.\u001b[0m\u001b[0msort\u001b[0m\u001b[0;34m(\u001b[0m\u001b[0;34m)\u001b[0m\u001b[0;34m\u001b[0m\u001b[0;34m\u001b[0m\u001b[0m\n\u001b[0;32m----> 6\u001b[0;31m \u001b[0msortedic\u001b[0m\u001b[0;34m=\u001b[0m\u001b[0;34m{\u001b[0m\u001b[0mdi\u001b[0m\u001b[0;34m[\u001b[0m\u001b[0mi\u001b[0m\u001b[0;34m]\u001b[0m\u001b[0;34m:\u001b[0m\u001b[0mi\u001b[0m \u001b[0;32mfor\u001b[0m \u001b[0mi\u001b[0m \u001b[0;32min\u001b[0m \u001b[0mmyvalues\u001b[0m\u001b[0;34m}\u001b[0m\u001b[0;34m\u001b[0m\u001b[0;34m\u001b[0m\u001b[0m\n\u001b[0m\u001b[1;32m      7\u001b[0m \u001b[0mprint\u001b[0m\u001b[0;34m(\u001b[0m\u001b[0msortedic\u001b[0m\u001b[0;34m)\u001b[0m\u001b[0;34m\u001b[0m\u001b[0;34m\u001b[0m\u001b[0m\n",
            "\u001b[0;32m<ipython-input-41-2bb0e0c891ca>\u001b[0m in \u001b[0;36m<dictcomp>\u001b[0;34m(.0)\u001b[0m\n\u001b[1;32m      4\u001b[0m \u001b[0mmyvalues\u001b[0m\u001b[0;34m=\u001b[0m\u001b[0mlist\u001b[0m\u001b[0;34m(\u001b[0m\u001b[0mdi\u001b[0m\u001b[0;34m.\u001b[0m\u001b[0mvalues\u001b[0m\u001b[0;34m(\u001b[0m\u001b[0;34m)\u001b[0m\u001b[0;34m)\u001b[0m\u001b[0;34m\u001b[0m\u001b[0;34m\u001b[0m\u001b[0m\n\u001b[1;32m      5\u001b[0m \u001b[0mmyvalues\u001b[0m\u001b[0;34m.\u001b[0m\u001b[0msort\u001b[0m\u001b[0;34m(\u001b[0m\u001b[0;34m)\u001b[0m\u001b[0;34m\u001b[0m\u001b[0;34m\u001b[0m\u001b[0m\n\u001b[0;32m----> 6\u001b[0;31m \u001b[0msortedic\u001b[0m\u001b[0;34m=\u001b[0m\u001b[0;34m{\u001b[0m\u001b[0mdi\u001b[0m\u001b[0;34m[\u001b[0m\u001b[0mi\u001b[0m\u001b[0;34m]\u001b[0m\u001b[0;34m:\u001b[0m\u001b[0mi\u001b[0m \u001b[0;32mfor\u001b[0m \u001b[0mi\u001b[0m \u001b[0;32min\u001b[0m \u001b[0mmyvalues\u001b[0m\u001b[0;34m}\u001b[0m\u001b[0;34m\u001b[0m\u001b[0;34m\u001b[0m\u001b[0m\n\u001b[0m\u001b[1;32m      7\u001b[0m \u001b[0mprint\u001b[0m\u001b[0;34m(\u001b[0m\u001b[0msortedic\u001b[0m\u001b[0;34m)\u001b[0m\u001b[0;34m\u001b[0m\u001b[0;34m\u001b[0m\u001b[0m\n",
            "\u001b[0;31mKeyError\u001b[0m: 35"
          ]
        }
      ]
    },
    {
      "cell_type": "code",
      "source": [
        "# 29. maximum and minimum value of dictionary.\n",
        "di= { \"m1\" : 78 , \"m2\" : 89 , \"m3\" : 64 , \"m4\" : 35 , \"m5\" : 71 }\n",
        "print(max(di.values()))"
      ],
      "metadata": {
        "colab": {
          "base_uri": "https://localhost:8080/"
        },
        "id": "BbiCQA8ArdRp",
        "outputId": "cb3821f8-fd31-4fc1-e308-fa26626e153c"
      },
      "execution_count": null,
      "outputs": [
        {
          "output_type": "stream",
          "name": "stdout",
          "text": [
            "89\n"
          ]
        }
      ]
    },
    {
      "cell_type": "code",
      "source": [
        "print(min(di.values()))"
      ],
      "metadata": {
        "colab": {
          "base_uri": "https://localhost:8080/"
        },
        "id": "Phc5r0HDrpSQ",
        "outputId": "c526960c-744c-401e-f0ef-cfc54f892ff0"
      },
      "execution_count": null,
      "outputs": [
        {
          "output_type": "stream",
          "name": "stdout",
          "text": [
            "35\n"
          ]
        }
      ]
    },
    {
      "cell_type": "code",
      "source": [
        "# 30.sum all the values of a dictionary.\n",
        "di={ \"m1\" : 92 , \"m2\" : 56 , \"m3\" : 88 , \"m4\" : 97 , \"m5\" : 89 }\n",
        "print(sum(di.values()))"
      ],
      "metadata": {
        "colab": {
          "base_uri": "https://localhost:8080/"
        },
        "id": "jEUTKaMcrxos",
        "outputId": "394270df-8e1a-4f5a-a3d3-7712ec181bba"
      },
      "execution_count": null,
      "outputs": [
        {
          "output_type": "stream",
          "name": "stdout",
          "text": [
            "422\n"
          ]
        }
      ]
    },
    {
      "cell_type": "code",
      "source": [],
      "metadata": {
        "id": "ImeQPdCxr40P"
      },
      "execution_count": null,
      "outputs": []
    }
  ]
}