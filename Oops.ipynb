{
  "nbformat": 4,
  "nbformat_minor": 0,
  "metadata": {
    "colab": {
      "provenance": []
    },
    "kernelspec": {
      "name": "python3",
      "display_name": "Python 3"
    },
    "language_info": {
      "name": "python"
    }
  },
  "cells": [
    {
      "cell_type": "code",
      "source": [
        "'''\n",
        "class= variables and related methods\n",
        "'''"
      ],
      "metadata": {
        "id": "b4t_zEMTT9nE"
      },
      "execution_count": null,
      "outputs": []
    },
    {
      "cell_type": "code",
      "source": [
        "class Book: # class NameOfClass\n",
        "  #initializations - _init_\n",
        "  '''\n",
        "  Variables that are used in different methods are initialized\n",
        "  in the _init_ method\n",
        "  '''\n",
        "  def __init__(self,title,quantity,author,price):\n",
        "    self.title=title\n",
        "    self.quantity=quantity\n",
        "    self.author=author\n",
        "    self.price=price\n",
        "\n",
        "  def printtitle(self):\n",
        "    print(self.title)\n",
        "\n",
        "  def printrevenue(self):\n",
        "    print(self.price*self.quantity)\n",
        "\n",
        "  def __repr__(self):  #used for print statements\n",
        "    return f\"Book: {self.title}, Quantity: {self.quantity}, Author: {self.author}\"\n"
      ],
      "metadata": {
        "id": "fJVtyQviRLM-"
      },
      "execution_count": null,
      "outputs": []
    },
    {
      "cell_type": "code",
      "source": [
        "book=Book(\"Moon Light\",10,\"williams\",150)  # classname(initializations)\n",
        "book.printtitle()"
      ],
      "metadata": {
        "colab": {
          "base_uri": "https://localhost:8080/"
        },
        "id": "UXW3Dv5jRcWA",
        "outputId": "01d19c14-3282-4c8a-b450-ee5235cbf71f"
      },
      "execution_count": null,
      "outputs": [
        {
          "output_type": "stream",
          "name": "stdout",
          "text": [
            "Moon Light\n"
          ]
        }
      ]
    },
    {
      "cell_type": "code",
      "source": [
        "book.printrevenue()"
      ],
      "metadata": {
        "colab": {
          "base_uri": "https://localhost:8080/"
        },
        "id": "BGbKvrCcRhIf",
        "outputId": "7086a32c-2cc4-45a2-a71e-c9fbc934b2bd"
      },
      "execution_count": null,
      "outputs": [
        {
          "output_type": "stream",
          "name": "stdout",
          "text": [
            "1500\n"
          ]
        }
      ]
    },
    {
      "cell_type": "code",
      "source": [
        "book1 = Book(\"Moon light\",10,\"willams\",150) #classnema(initializarions)\n",
        "book2 = Book(\"Moon light\",40,\"willams\",200) #classnema(initializarions)\n",
        "book3 = Book(\"Moon light\",50,\"willams\",250) #classnema(initializarions)"
      ],
      "metadata": {
        "id": "EZGDy9DIRmWD"
      },
      "execution_count": null,
      "outputs": []
    },
    {
      "cell_type": "code",
      "source": [
        "book1"
      ],
      "metadata": {
        "colab": {
          "base_uri": "https://localhost:8080/"
        },
        "id": "LBHtXocERn_n",
        "outputId": "e60838e1-ecee-419e-991e-c3b72767dc7e"
      },
      "execution_count": null,
      "outputs": [
        {
          "output_type": "execute_result",
          "data": {
            "text/plain": [
              "Book: Moon light, Quantity: 10, Author: willams"
            ]
          },
          "metadata": {},
          "execution_count": 18
        }
      ]
    },
    {
      "cell_type": "code",
      "source": [
        "print(book1)"
      ],
      "metadata": {
        "colab": {
          "base_uri": "https://localhost:8080/"
        },
        "id": "EUca-GzfRyWr",
        "outputId": "2abafa30-2c48-433b-f74e-5a00ea2a573f"
      },
      "execution_count": null,
      "outputs": [
        {
          "output_type": "stream",
          "name": "stdout",
          "text": [
            "Book: Moon light, Quantity: 10, Author: willams\n"
          ]
        }
      ]
    },
    {
      "cell_type": "markdown",
      "source": [
        "Encapsulation"
      ],
      "metadata": {
        "id": "i1PM0HixzBtr"
      }
    },
    {
      "cell_type": "code",
      "source": [
        "# encapsulation to control access to an object's attributes (data) and methods (functions).\n",
        "# We can make some parts of an object private, while other parts can remain public and easily accessible.\n",
        "class Book:\n",
        "  def __init__(self,title,quantity,author,price):\n",
        "    self.title=title\n",
        "    self.quantity=quantity\n",
        "    self.author=author\n",
        "    self.price=price\n",
        "    self.__discount=0.15\n",
        "\n",
        "  ##setter method= modify hidden variable\n",
        "  def set_discount(self,discount):\n",
        "    self.__discount=discount\n",
        "\n",
        "  ##getter method= get the hidden variable\n",
        "  def get_price(self):\n",
        "    return self.price*(1-self.__discount)\n",
        "\n",
        "  def printtitle(self):\n",
        "    print(self.title)\n",
        "\n",
        "  def printrevenue(self):\n",
        "    print(self.price*self.quantity)\n",
        "\n",
        "  def __repr__(self):  #used for print statements\n",
        "    return f\"Book: {self.title}, Quantity: {self.quantity}, Author: {self.author}\"\n"
      ],
      "metadata": {
        "id": "HkzuBnmZ26JT"
      },
      "execution_count": null,
      "outputs": []
    },
    {
      "cell_type": "code",
      "execution_count": null,
      "metadata": {
        "colab": {
          "base_uri": "https://localhost:8080/"
        },
        "id": "3rETa98y24qN",
        "outputId": "6a4c7cf5-7dfe-435f-e523-5d983582b26d"
      },
      "outputs": [
        {
          "output_type": "stream",
          "name": "stdout",
          "text": [
            "Moon Light\n"
          ]
        }
      ],
      "source": [
        "book=Book(\"Moon Light\",10,\"williams\",150)  # classname(initializations)\n",
        "book.printtitle()"
      ]
    },
    {
      "cell_type": "code",
      "source": [
        "book = Book(\"Tow states\",1,\"chetan bhagath\",200)\n",
        "book.set_discount(0.2)\n",
        "book.get_price()"
      ],
      "metadata": {
        "colab": {
          "base_uri": "https://localhost:8080/"
        },
        "id": "C8iwvb8pT0FN",
        "outputId": "207c9e2c-3945-43d5-c1af-3864765787b2"
      },
      "execution_count": null,
      "outputs": [
        {
          "output_type": "execute_result",
          "data": {
            "text/plain": [
              "160.0"
            ]
          },
          "metadata": {},
          "execution_count": 22
        }
      ]
    },
    {
      "cell_type": "code",
      "source": [
        "'''\n",
        "Super Market\n",
        "(vegetables,fruits,chocolates)=price,quantity and discount\n",
        "'''"
      ],
      "metadata": {
        "id": "3LLnOrUMT5OO"
      },
      "execution_count": null,
      "outputs": []
    },
    {
      "cell_type": "code",
      "source": [
        "class Supermarket:\n",
        "  def __init__(self,veg_price,veg_quantity,fruits_price,fruits_quantity,choco_price,choco_quantity):\n",
        "    self.veg_price=veg_price\n",
        "    self.veg_quantity=veg_quantity\n",
        "    self.fruits_quantity=fruits_quantity\n",
        "    self.fruits_price=fruits_price\n",
        "    self.choco_price=choco_price\n",
        "    self.choco_quantity=choco_quantity\n",
        "    self.__discount_veg=0.2\n",
        "    self.__discount_fruits=0.1\n",
        "    self.__discount_choco=0.25\n",
        "\n",
        "  def set_discount(self,discount_veg,discount_fruits,discount_choco):\n",
        "    self.__discount_veg=discount_veg\n",
        "    self.__discount_fruits=discount_fruits\n",
        "    self.__discount_choco=discount_choco\n",
        "\n",
        "  def get_price(self):\n",
        "    self.cost_vegprice=(self.veg_price)*(self.veg_quantity)*(1-self.__discount_veg)\n",
        "    self.cost_fruitsprice=(self.fruits_price)*(self.fruits_quantity)*(1-self.__discount_fruits)\n",
        "    self.cost_chocoprice=(self.choco_price)*(self.choco_quantity)*(1-self.__discount_choco)\n",
        "    return f'cost price on veg: {self.cost_vegprice},cost price on fruits:{self.cost_fruitsprice},cost price on choco;{self.cost_chocoprice}'\n",
        "\n",
        "  def  __repr__(self):\n",
        "    return f'cost price of veg,fruits,choco{self.cost_vegprice},{self.cost_fruitsprice}{self.cost_chocoprice}'\n"
      ],
      "metadata": {
        "id": "UbYbI0y45hd1"
      },
      "execution_count": null,
      "outputs": []
    },
    {
      "cell_type": "code",
      "source": [
        "market=Supermarket(20,5,30,10,80,1)"
      ],
      "metadata": {
        "id": "QpYRQzMBUi7e"
      },
      "execution_count": null,
      "outputs": []
    },
    {
      "cell_type": "code",
      "source": [
        "market.veg_price"
      ],
      "metadata": {
        "colab": {
          "base_uri": "https://localhost:8080/"
        },
        "id": "x33dgGspUy6e",
        "outputId": "d6296bff-40e6-4837-a2fc-bbff353503c9"
      },
      "execution_count": null,
      "outputs": [
        {
          "output_type": "execute_result",
          "data": {
            "text/plain": [
              "20"
            ]
          },
          "metadata": {},
          "execution_count": 34
        }
      ]
    },
    {
      "cell_type": "code",
      "source": [
        "market=Supermarket(50,5,110,20,150,2)\n",
        "market.set_discount(0.2,0.5,0.4)\n",
        "market.get_price()\n"
      ],
      "metadata": {
        "colab": {
          "base_uri": "https://localhost:8080/",
          "height": 36
        },
        "id": "vArxBhIJaf8H",
        "outputId": "7eca63f0-adf3-4733-8094-ac1b45a27b4a"
      },
      "execution_count": null,
      "outputs": [
        {
          "output_type": "execute_result",
          "data": {
            "text/plain": [
              "'cost price on veg: 200.0,cost price on fruits:1100.0,cost price on choco;180.0'"
            ],
            "application/vnd.google.colaboratory.intrinsic+json": {
              "type": "string"
            }
          },
          "metadata": {},
          "execution_count": 36
        }
      ]
    },
    {
      "cell_type": "markdown",
      "source": [
        "Inheritence"
      ],
      "metadata": {
        "id": "OYt8GZPuzF3W"
      }
    },
    {
      "cell_type": "code",
      "source": [
        "'''\n",
        "Inheritence : Ability of the class to inherit methods or properties from another class\n",
        "class 1 - Methods - Parent Class\n",
        "class 2 - Use those methods defined in class 1 into class 2 - Child Class\n",
        "'''"
      ],
      "metadata": {
        "id": "fRo7NiUn1EXL"
      },
      "execution_count": null,
      "outputs": []
    },
    {
      "cell_type": "code",
      "source": [
        "# Parent class\n",
        "class Book:\n",
        "  def __init__(self,title,quantity,author,price):\n",
        "    self.title=title\n",
        "    self.quantity=quantity\n",
        "    self.author=author\n",
        "    self.price=price\n",
        "    self.__discount=None\n",
        "\n",
        "  ##setter method= modify hidden variable\n",
        "  def set_discount(self,discount):\n",
        "    self.__discount=discount\n",
        "\n",
        "  ##getter method= get the hidden variable\n",
        "  def get_price(self):\n",
        "    return self.price*(1-self.__discount)\n",
        "\n",
        "  def __repr__(self):  #used for print statements\n",
        "    return f\"Book: {self.title}, Quantity: {self.quantity}, Author: {self.author}\"\n"
      ],
      "metadata": {
        "id": "godS36KkdEi2"
      },
      "execution_count": null,
      "outputs": []
    },
    {
      "cell_type": "code",
      "source": [
        "# Child class\n",
        "class Novel(Book):  #childclassname(parentclassname)\n",
        "  def __init__(self,title,quantity,author,price):\n",
        "    super().__init__(title,quantity,author,price)  # means that it will take all the initialization of parent class\n",
        "\n",
        "# Child class\n",
        "class Academic(Book):\n",
        "  def __init__(self,title,quantity,author,price,branch):  # child class can also have additional attributes\n",
        "    super().__init__(title,quantity,author,price)\n",
        "    self.branch=branch"
      ],
      "metadata": {
        "id": "t_9HDIsIzjF2"
      },
      "execution_count": null,
      "outputs": []
    },
    {
      "cell_type": "code",
      "source": [
        "novel1=Novel(\"Tow states\",1,\"chetan bhagath\",200)\n",
        "novel1.set_discount(0.25)"
      ],
      "metadata": {
        "id": "4uBjevVA0v3e"
      },
      "execution_count": null,
      "outputs": []
    },
    {
      "cell_type": "code",
      "source": [
        "print(novel1)"
      ],
      "metadata": {
        "colab": {
          "base_uri": "https://localhost:8080/"
        },
        "id": "cwBkzrZ_1jaT",
        "outputId": "92acc5d9-4176-43a9-abdd-0b428f6378f3"
      },
      "execution_count": null,
      "outputs": [
        {
          "output_type": "stream",
          "name": "stdout",
          "text": [
            "Book: Tow states, Quantity: 1, Author: chetan bhagath\n"
          ]
        }
      ]
    },
    {
      "cell_type": "code",
      "source": [
        "novel1.get_price()"
      ],
      "metadata": {
        "colab": {
          "base_uri": "https://localhost:8080/"
        },
        "id": "5NWOlMbh1mlB",
        "outputId": "eb8f5b82-1bc8-4953-a918-da4ad319351a"
      },
      "execution_count": null,
      "outputs": [
        {
          "output_type": "execute_result",
          "data": {
            "text/plain": [
              "150.0"
            ]
          },
          "metadata": {},
          "execution_count": 13
        }
      ]
    },
    {
      "cell_type": "code",
      "source": [
        "academic1=Academic(\"Tow states\",1,\"chetan bhagath\",200,\"EEE\")\n",
        "academic1.set_discount(0.25)"
      ],
      "metadata": {
        "id": "0Mo7X_2y16dd"
      },
      "execution_count": null,
      "outputs": []
    },
    {
      "cell_type": "code",
      "source": [
        "print(academic1)"
      ],
      "metadata": {
        "colab": {
          "base_uri": "https://localhost:8080/"
        },
        "id": "POubjBok2sgd",
        "outputId": "b2c24f3f-5fd6-473b-c5da-52cf7bd8aa71"
      },
      "execution_count": null,
      "outputs": [
        {
          "output_type": "stream",
          "name": "stdout",
          "text": [
            "Book: Tow states, Quantity: 1, Author: chetan bhagath\n"
          ]
        }
      ]
    },
    {
      "cell_type": "code",
      "source": [
        "academic1.get_price()"
      ],
      "metadata": {
        "colab": {
          "base_uri": "https://localhost:8080/"
        },
        "id": "JPGVEnhS2wEE",
        "outputId": "8bcb5d57-cdfe-4f0f-8f0d-592f08329998"
      },
      "execution_count": null,
      "outputs": [
        {
          "output_type": "execute_result",
          "data": {
            "text/plain": [
              "150.0"
            ]
          },
          "metadata": {},
          "execution_count": 16
        }
      ]
    },
    {
      "cell_type": "markdown",
      "source": [
        "Polymorphism"
      ],
      "metadata": {
        "id": "6_8Xh13K3NoL"
      }
    },
    {
      "cell_type": "code",
      "source": [
        "'''\n",
        "refers to child class ability to adapt to a method already present in the parent class with modifications\n",
        "'''"
      ],
      "metadata": {
        "id": "sfT60ujq23Xf"
      },
      "execution_count": null,
      "outputs": []
    },
    {
      "cell_type": "code",
      "source": [
        "# Parent class\n",
        "class Book:\n",
        "  def __init__(self,title,quantity,author,price):\n",
        "    self.title=title\n",
        "    self.quantity=quantity\n",
        "    self.author=author\n",
        "    self.price=price\n",
        "    self.__discount=None\n",
        "\n",
        "  ##setter method= modify hidden variable\n",
        "  def set_discount(self,discount):\n",
        "    self.__discount=discount\n",
        "\n",
        "  ##getter method= get the hidden variable\n",
        "  def get_price(self):\n",
        "    return self.price*(1-self.__discount)\n",
        "\n",
        "  def __repr__(self):  #used for print statements\n",
        "    return f\"Book: {self.title}, Quantity: {self.quantity}, Author: {self.author}\"\n"
      ],
      "metadata": {
        "id": "hSfEf3Ii3gVN"
      },
      "execution_count": null,
      "outputs": []
    },
    {
      "cell_type": "code",
      "source": [
        "# Child class\n",
        "class Novel(Book):  #childclassname(parentclassname)\n",
        "  def __init__(self,title,quantity,author,price):\n",
        "    super().__init__(title,quantity,author,price)  # means that it will take all the initialization of parent class\n",
        "\n",
        "# Child class\n",
        "class Academic(Book):\n",
        "  def __init__(self,title,quantity,author,price,branch):  # child class can also have additional attributes\n",
        "    super().__init__(title,quantity,author,price)\n",
        "    self.branch=branch\n",
        "\n",
        "  # def __repr__(self):  #used to print branch that is being recently added in child class\n",
        "    # return f\"Book: {self.title}, Quantity: {self.quantity}, Author: {self.author}, Branch: {self.branch}\""
      ],
      "metadata": {
        "id": "yVWsIz-k3mTk"
      },
      "execution_count": null,
      "outputs": []
    },
    {
      "cell_type": "code",
      "source": [
        "academic1=Academic(\"Tow states\",1,\"chetan bhagath\",200,\"EEE\")"
      ],
      "metadata": {
        "id": "yLuVjXuj3sSh"
      },
      "execution_count": null,
      "outputs": []
    },
    {
      "cell_type": "code",
      "source": [
        "print(academic1)"
      ],
      "metadata": {
        "colab": {
          "base_uri": "https://localhost:8080/"
        },
        "id": "RksntOQU3yYk",
        "outputId": "d615c033-6d0f-4587-bd73-198553b1080f"
      },
      "execution_count": null,
      "outputs": [
        {
          "output_type": "stream",
          "name": "stdout",
          "text": [
            "Book: Tow states, Quantity: 1, Author: chetan bhagath, Branch: EEE\n"
          ]
        }
      ]
    },
    {
      "cell_type": "markdown",
      "source": [
        "Abstraction"
      ],
      "metadata": {
        "id": "IdAUGKz95K5l"
      }
    },
    {
      "cell_type": "code",
      "source": [
        "'''\n",
        "U can have multiple abstractmethods in one class\n",
        "1. Isn't directly supported by python = from abc import ABC, abstractmethod\n",
        "2. If an abstract method is declared in parent class, then every child class should have implementation of that method\n",
        "\n",
        "'''"
      ],
      "metadata": {
        "id": "KhqsjLRs326r"
      },
      "execution_count": null,
      "outputs": []
    },
    {
      "cell_type": "code",
      "source": [
        "from abc import ABC, abstractmethod\n",
        "\n",
        "class Book(ABC):\n",
        "  def __init__(self,title,quantity,author,price):\n",
        "    self.title=title\n",
        "    self.quantity=quantity\n",
        "    self.author=author\n",
        "    self.price=price\n",
        "    self.__discount=None\n",
        "\n",
        "  ##setter method= modify hidden variable\n",
        "  def set_discount(self,discount):\n",
        "    self.__discount=discount\n",
        "\n",
        "  ##getter method= get the hidden variable\n",
        "  def get_price(self):\n",
        "    return self.price*(1-self.__discount)\n",
        "\n",
        "  @abstractmethod\n",
        "  def __repr__(self):  #used for print statements\n",
        "    return f\"Book: {self.title}, Quantity: {self.quantity}, Author: {self.author}\"\n"
      ],
      "metadata": {
        "id": "oYQ9ZrzI53oK"
      },
      "execution_count": null,
      "outputs": []
    },
    {
      "cell_type": "code",
      "source": [
        "# Child class\n",
        "class Novel(Book):  #childclassname(parentclassname)\n",
        "  def __init__(self,title,quantity,author,price,pages):\n",
        "    super().__init__(title,quantity,author,price)\n",
        "    self.pages=pages\n",
        "\n",
        "  def __repr__(self):  #as this is abstractmethod every class should have this abstractmethod\n",
        "    return f\"Book: {self.title}, Quantity: {self.quantity}, Author: {self.author}, Pages: {self.pages}\""
      ],
      "metadata": {
        "id": "Hv3CfJgo6RVo"
      },
      "execution_count": null,
      "outputs": []
    },
    {
      "cell_type": "code",
      "source": [
        "novel1=Novel(\"Tow states\",1,\"chetan bhagath\",200,400)\n",
        "print(novel1)"
      ],
      "metadata": {
        "colab": {
          "base_uri": "https://localhost:8080/"
        },
        "id": "AmDzk1Y66e4j",
        "outputId": "39e4c84e-0f9e-4da8-f224-61e20cf80829"
      },
      "execution_count": null,
      "outputs": [
        {
          "output_type": "stream",
          "name": "stdout",
          "text": [
            "Book: Tow states, Quantity: 1, Author: chetan bhagath, Pages: 400\n"
          ]
        }
      ]
    },
    {
      "cell_type": "markdown",
      "source": [
        "Args and Kwargs"
      ],
      "metadata": {
        "id": "mXesfKS3-FNl"
      }
    },
    {
      "cell_type": "code",
      "source": [
        "'''\n",
        "*args and **kwargs - helps in passing variable number of arguments to a function\n",
        "\n",
        "*args -> Non keyword arguments\n",
        "**kwargs -> Keyword arguments\n",
        "\n",
        "'''"
      ],
      "metadata": {
        "id": "TiYzBnX77I2w"
      },
      "execution_count": null,
      "outputs": []
    },
    {
      "cell_type": "code",
      "source": [
        "# *args or *argv\n",
        "def myFunc(*args):   # when ur not sure of how many arguments you want to pass then we use this args\n",
        "  for arg in args:\n",
        "    print(arg)"
      ],
      "metadata": {
        "id": "Eeqepglk-xL0"
      },
      "execution_count": null,
      "outputs": []
    },
    {
      "cell_type": "code",
      "source": [
        "myFunc(\"Hello\",\"Hi\",\"Welcome\")"
      ],
      "metadata": {
        "colab": {
          "base_uri": "https://localhost:8080/"
        },
        "id": "ot5Qdpud_ACH",
        "outputId": "65e7d5fb-1193-45c9-bcec-4e8a7f4890f9"
      },
      "execution_count": null,
      "outputs": [
        {
          "output_type": "stream",
          "name": "stdout",
          "text": [
            "Hello\n",
            "Hi\n",
            "Welcome\n"
          ]
        }
      ]
    },
    {
      "cell_type": "code",
      "source": [
        "def myFunc(arg1, *args):   # when u know only 1st argument and ur not sure about other arguments\n",
        "  print(arg1)\n",
        "  for arg in args:\n",
        "    print(arg)"
      ],
      "metadata": {
        "id": "OLjM6tgF_LO5"
      },
      "execution_count": null,
      "outputs": []
    },
    {
      "cell_type": "code",
      "source": [
        "myFunc(1,2,5,8,6,3)"
      ],
      "metadata": {
        "colab": {
          "base_uri": "https://localhost:8080/"
        },
        "id": "OYHnpRjb_vAe",
        "outputId": "12980fa7-aba6-46c1-9ffb-74d844e8f07d"
      },
      "execution_count": null,
      "outputs": [
        {
          "output_type": "stream",
          "name": "stdout",
          "text": [
            "1\n",
            "2\n",
            "5\n",
            "8\n",
            "6\n",
            "3\n"
          ]
        }
      ]
    },
    {
      "cell_type": "code",
      "source": [
        "# **kwargs\n",
        "def myFunc(**kwargs):\n",
        "  for key,value in kwargs.items():\n",
        "    print(key,value)"
      ],
      "metadata": {
        "id": "5y_Gy3Sh_yER"
      },
      "execution_count": null,
      "outputs": []
    },
    {
      "cell_type": "code",
      "source": [
        "myFunc(first=\"Gundala\",second=\"Sneha\", third=\"Reddy\")"
      ],
      "metadata": {
        "colab": {
          "base_uri": "https://localhost:8080/"
        },
        "id": "jna-8dPWAPzg",
        "outputId": "858eb93c-3cd5-45b6-b1c8-d795bb2bd34e"
      },
      "execution_count": null,
      "outputs": [
        {
          "output_type": "stream",
          "name": "stdout",
          "text": [
            "first Gundala\n",
            "second Sneha\n",
            "third Reddy\n"
          ]
        }
      ]
    },
    {
      "cell_type": "code",
      "source": [
        "def myFunc(**kwargs):\n",
        "  for key,value in kwargs.items():\n",
        "    print(\"%s == %s\" %(key,value))\n",
        "#driver code\n",
        "myFunc(first=\"Gundala\",second=\"Sneha\", third=\"Reddy\")"
      ],
      "metadata": {
        "colab": {
          "base_uri": "https://localhost:8080/"
        },
        "id": "58UDE5EYAhaT",
        "outputId": "b002a86f-a764-475c-fb7c-72f9621d96d4"
      },
      "execution_count": null,
      "outputs": [
        {
          "output_type": "stream",
          "name": "stdout",
          "text": [
            "first == Gundala\n",
            "second == Sneha\n",
            "third == Reddy\n"
          ]
        }
      ]
    },
    {
      "cell_type": "code",
      "source": [
        "# Combination of args and kwargs\n",
        "def myFunc(*args, **kwargs):\n",
        "    print(\"args: \", args)     # represented in form of tuple\n",
        "    print(\"kwargs: \", kwargs) # represented in form of sets\n",
        "myFunc(\"Hello\",\"Hi\",\"Welcome\",first=\"Gundala\",second=\"Sneha\", third=\"Reddy\")"
      ],
      "metadata": {
        "colab": {
          "base_uri": "https://localhost:8080/"
        },
        "id": "YbFSgTE9A2pS",
        "outputId": "2965b131-91f2-4b28-f486-ca0c19d17b06"
      },
      "execution_count": null,
      "outputs": [
        {
          "output_type": "stream",
          "name": "stdout",
          "text": [
            "args:  ('Hello', 'Hi', 'Welcome')\n",
            "kwargs:  {'first': 'Gundala', 'second': 'Sneha', 'third': 'Reddy'}\n"
          ]
        }
      ]
    },
    {
      "cell_type": "markdown",
      "source": [
        "Method Overloading"
      ],
      "metadata": {
        "id": "Ag2wbae4M3U8"
      }
    },
    {
      "cell_type": "code",
      "source": [
        "'''\n",
        "ability to define multiple methods in the same class with the same name but different parameters\n",
        "'''"
      ],
      "metadata": {
        "id": "IaKRcYuqBktX"
      },
      "execution_count": null,
      "outputs": []
    },
    {
      "cell_type": "code",
      "source": [
        "class Calculator:\n",
        "\n",
        "  def __init__(self):\n",
        "    pass\n",
        "\n",
        "  def add(self,x,y):\n",
        "    return x+y\n",
        "\n",
        "  def add(self,x,y,z):\n",
        "    return x+y+z"
      ],
      "metadata": {
        "id": "Onvv65XNaaf-"
      },
      "execution_count": 2,
      "outputs": []
    },
    {
      "cell_type": "markdown",
      "source": [
        "Method Overriding"
      ],
      "metadata": {
        "id": "jHhLbtmYajCi"
      }
    },
    {
      "cell_type": "code",
      "source": [
        "'''\n",
        "occurs when a subclass provides a specific implementation for a method that is already defined in its superclass\n",
        "'''"
      ],
      "metadata": {
        "id": "J6N1rVVDao4S"
      },
      "execution_count": null,
      "outputs": []
    },
    {
      "cell_type": "code",
      "source": [
        "class Parentclass:\n",
        "  def __init__(self):\n",
        "    pass\n",
        "  def call_me(self):\n",
        "    print(\"Call me Parent Class\")\n",
        "\n",
        "class Childclass(Parentclass):\n",
        "  def __init__(self):\n",
        "    super().__init__()\n",
        "    pass\n",
        "\n",
        "  def call_me(self):\n",
        "    print(\"Call me Child class\")\n",
        "    super().call_me()"
      ],
      "metadata": {
        "id": "cSUVPdiQagYC"
      },
      "execution_count": null,
      "outputs": []
    },
    {
      "cell_type": "code",
      "source": [
        "par = Parentclass()\n",
        "par.call_me()"
      ],
      "metadata": {
        "colab": {
          "base_uri": "https://localhost:8080/"
        },
        "id": "GxCzz7ifardR",
        "outputId": "c0ecfde0-8425-438d-b57c-52ad27acb451"
      },
      "execution_count": null,
      "outputs": [
        {
          "output_type": "stream",
          "name": "stdout",
          "text": [
            "Call me Parent Class\n"
          ]
        }
      ]
    },
    {
      "cell_type": "code",
      "source": [
        "chilclass = Childclass()\n",
        "chilclass.call_me()"
      ],
      "metadata": {
        "colab": {
          "base_uri": "https://localhost:8080/"
        },
        "id": "WvogIkbSavB1",
        "outputId": "e5ef6ef6-c65e-497a-f24c-bf780a374e8f"
      },
      "execution_count": null,
      "outputs": [
        {
          "output_type": "stream",
          "name": "stdout",
          "text": [
            "Call me Child class\n",
            "Call me Parent Class\n"
          ]
        }
      ]
    },
    {
      "cell_type": "code",
      "source": [],
      "metadata": {
        "id": "YcXwiOt8axvn"
      },
      "execution_count": null,
      "outputs": []
    }
  ]
}