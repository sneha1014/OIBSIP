{
  "nbformat": 4,
  "nbformat_minor": 0,
  "metadata": {
    "colab": {
      "provenance": []
    },
    "kernelspec": {
      "name": "python3",
      "display_name": "Python 3"
    },
    "language_info": {
      "name": "python"
    }
  },
  "cells": [
    {
      "cell_type": "code",
      "execution_count": null,
      "metadata": {
        "colab": {
          "base_uri": "https://localhost:8080/"
        },
        "id": "Y_6CtX_Tw4Ei",
        "outputId": "480a8535-3351-441a-f765-b48ab6e39ca7"
      },
      "outputs": [
        {
          "output_type": "stream",
          "name": "stdout",
          "text": [
            "Hello World\n"
          ]
        }
      ],
      "source": [
        "print(\"Hello World\")"
      ]
    },
    {
      "cell_type": "code",
      "source": [
        "print('Hello World')"
      ],
      "metadata": {
        "colab": {
          "base_uri": "https://localhost:8080/"
        },
        "id": "-LRZY8WZxbE_",
        "outputId": "94f9c4ca-cb06-4a5a-d474-d9bc6b4a8307"
      },
      "execution_count": null,
      "outputs": [
        {
          "output_type": "stream",
          "name": "stdout",
          "text": [
            "Hello World\n"
          ]
        }
      ]
    },
    {
      "cell_type": "code",
      "source": [
        "#variable\n",
        "apples=5  #declaring varaiable and assigning value\n",
        "oranges=6\n",
        "bananas=7\n",
        "print(apples+oranges+bananas)"
      ],
      "metadata": {
        "colab": {
          "base_uri": "https://localhost:8080/"
        },
        "id": "bs0YiyKHyrg6",
        "outputId": "7dff599f-85b1-4a26-f471-ddb406738a3c"
      },
      "execution_count": null,
      "outputs": [
        {
          "output_type": "stream",
          "name": "stdout",
          "text": [
            "18\n"
          ]
        }
      ]
    },
    {
      "cell_type": "code",
      "source": [
        "#apples=5\n",
        "id(apples) #id(variable_name): I will get memory location"
      ],
      "metadata": {
        "colab": {
          "base_uri": "https://localhost:8080/"
        },
        "id": "Y2OjMG-9yxk8",
        "outputId": "3cd5e99b-9f9c-44f1-aa68-9790a48c5023"
      },
      "execution_count": null,
      "outputs": [
        {
          "output_type": "execute_result",
          "data": {
            "text/plain": [
              "137242855424368"
            ]
          },
          "metadata": {},
          "execution_count": 9
        }
      ]
    },
    {
      "cell_type": "code",
      "source": [
        "id(oranges)"
      ],
      "metadata": {
        "colab": {
          "base_uri": "https://localhost:8080/"
        },
        "id": "W6lizAZXz4Gg",
        "outputId": "e82cb0f2-8d1f-425e-8f12-96ae70b19e16"
      },
      "execution_count": null,
      "outputs": [
        {
          "output_type": "execute_result",
          "data": {
            "text/plain": [
              "137242855424400"
            ]
          },
          "metadata": {},
          "execution_count": 10
        }
      ]
    },
    {
      "cell_type": "code",
      "source": [
        "#variable\n",
        "a=3\n",
        "b= 4.5698\n",
        "c='Ram'\n",
        "d=\"Ram\""
      ],
      "metadata": {
        "id": "-SjI2TfS0Elk"
      },
      "execution_count": null,
      "outputs": []
    },
    {
      "cell_type": "code",
      "source": [
        "apples=20\n",
        "print(f'I have bought {apples} apples') #formatting"
      ],
      "metadata": {
        "colab": {
          "base_uri": "https://localhost:8080/"
        },
        "id": "T9EN1CdN0s1o",
        "outputId": "42d31b86-f0cb-4ac6-cd93-f1ef7f9edf8e"
      },
      "execution_count": null,
      "outputs": [
        {
          "output_type": "stream",
          "name": "stdout",
          "text": [
            "I have bought 20 apples\n"
          ]
        }
      ]
    },
    {
      "cell_type": "code",
      "source": [
        "# declare 10 bananas and 6 oranges and print I have bought 10 bananas and 6 oranges\n",
        "bananas=10\n",
        "oranges=6\n",
        "print(f'I have bought {bananas} bananas and {oranges} oranges')"
      ],
      "metadata": {
        "colab": {
          "base_uri": "https://localhost:8080/"
        },
        "id": "-JnER34r04TB",
        "outputId": "7fb193fe-01df-448a-e017-482500ee0902"
      },
      "execution_count": null,
      "outputs": [
        {
          "output_type": "stream",
          "name": "stdout",
          "text": [
            "I have bought 10 bananas and 6 oranges\n"
          ]
        }
      ]
    },
    {
      "cell_type": "code",
      "source": [
        "fruit1, fruit2, fruit3= 'orange','banana','mango'"
      ],
      "metadata": {
        "id": "9P3j7Iu71OQD"
      },
      "execution_count": null,
      "outputs": []
    },
    {
      "cell_type": "code",
      "source": [
        "fruit1"
      ],
      "metadata": {
        "colab": {
          "base_uri": "https://localhost:8080/",
          "height": 36
        },
        "id": "WI_uMDSt2O2j",
        "outputId": "116fcd22-0247-407d-b8a1-6a2a6b01a4c6"
      },
      "execution_count": null,
      "outputs": [
        {
          "output_type": "execute_result",
          "data": {
            "text/plain": [
              "'orange'"
            ],
            "application/vnd.google.colaboratory.intrinsic+json": {
              "type": "string"
            }
          },
          "metadata": {},
          "execution_count": 16
        }
      ]
    },
    {
      "cell_type": "code",
      "source": [
        "x=y=z=3"
      ],
      "metadata": {
        "id": "7v-QGWhv2Q1F"
      },
      "execution_count": null,
      "outputs": []
    },
    {
      "cell_type": "code",
      "source": [
        "x"
      ],
      "metadata": {
        "colab": {
          "base_uri": "https://localhost:8080/"
        },
        "id": "RSXCHOTS2YY1",
        "outputId": "c9ad5b60-4178-4e69-bea5-bbcff747b0cc"
      },
      "execution_count": null,
      "outputs": [
        {
          "output_type": "execute_result",
          "data": {
            "text/plain": [
              "3"
            ]
          },
          "metadata": {},
          "execution_count": 18
        }
      ]
    },
    {
      "cell_type": "code",
      "source": [
        "y"
      ],
      "metadata": {
        "colab": {
          "base_uri": "https://localhost:8080/"
        },
        "id": "AFGMVjLl2ZVQ",
        "outputId": "42a09dbc-d1d7-4bb7-c6b7-ea89fff5f21a"
      },
      "execution_count": null,
      "outputs": [
        {
          "output_type": "execute_result",
          "data": {
            "text/plain": [
              "3"
            ]
          },
          "metadata": {},
          "execution_count": 19
        }
      ]
    },
    {
      "cell_type": "code",
      "source": [
        "z"
      ],
      "metadata": {
        "colab": {
          "base_uri": "https://localhost:8080/"
        },
        "id": "_PbgI2N02aJq",
        "outputId": "e3990d8d-a831-4fd1-d05c-0fc949ca6bee"
      },
      "execution_count": null,
      "outputs": [
        {
          "output_type": "execute_result",
          "data": {
            "text/plain": [
              "3"
            ]
          },
          "metadata": {},
          "execution_count": 20
        }
      ]
    },
    {
      "cell_type": "code",
      "source": [
        "x='Python'\n",
        "y='is'\n",
        "z='Programming'\n",
        "w='Language'\n",
        "\n",
        "print(x+' '+y+' '+z+' '+w)"
      ],
      "metadata": {
        "colab": {
          "base_uri": "https://localhost:8080/"
        },
        "id": "xnZ3yzTm2ag1",
        "outputId": "1a87a896-2682-4f19-e9a8-8d368adbc1fc"
      },
      "execution_count": null,
      "outputs": [
        {
          "output_type": "stream",
          "name": "stdout",
          "text": [
            "Python is Programming Language\n"
          ]
        }
      ]
    },
    {
      "cell_type": "code",
      "source": [
        "print(x+y+z+w)"
      ],
      "metadata": {
        "colab": {
          "base_uri": "https://localhost:8080/"
        },
        "id": "tvL6m9cxuSEW",
        "outputId": "2c15e7f6-24aa-4838-e396-f4f96e6b98c4"
      },
      "execution_count": null,
      "outputs": [
        {
          "output_type": "stream",
          "name": "stdout",
          "text": [
            "PythonisProgrammingLanguage\n"
          ]
        }
      ]
    },
    {
      "cell_type": "code",
      "source": [
        "print(x,y,z,w) #Easy method"
      ],
      "metadata": {
        "colab": {
          "base_uri": "https://localhost:8080/"
        },
        "id": "OnpFx3uX2jiW",
        "outputId": "2e04cef7-9487-4bac-afb5-4e46d7006896"
      },
      "execution_count": null,
      "outputs": [
        {
          "output_type": "stream",
          "name": "stdout",
          "text": [
            "Python is Programming Language\n"
          ]
        }
      ]
    },
    {
      "cell_type": "code",
      "source": [
        "x=5\n",
        "y=10\n",
        "#Arthemetic Operations\n",
        "print(x+y)\n",
        "print(x-y)\n",
        "print(x*y)\n",
        "print(x/y)"
      ],
      "metadata": {
        "colab": {
          "base_uri": "https://localhost:8080/"
        },
        "id": "JfsUCFwO2zNy",
        "outputId": "a7604212-f6f5-436b-ae1a-e871698973f7"
      },
      "execution_count": null,
      "outputs": [
        {
          "output_type": "stream",
          "name": "stdout",
          "text": [
            "15\n",
            "-5\n",
            "50\n",
            "0.5\n"
          ]
        }
      ]
    },
    {
      "cell_type": "code",
      "source": [
        "#declare a variable as 5 and vikram and perform multiplica\n",
        "x=5\n",
        "y='vikram'\n"
      ],
      "metadata": {
        "id": "dCZtMOk23KuK"
      },
      "execution_count": null,
      "outputs": []
    },
    {
      "cell_type": "code",
      "source": [
        "print(x+y) #Error"
      ],
      "metadata": {
        "colab": {
          "base_uri": "https://localhost:8080/",
          "height": 175
        },
        "id": "85PFs9wz3hU7",
        "outputId": "543509a3-8de6-40e5-e530-d2d40da1eb25"
      },
      "execution_count": null,
      "outputs": [
        {
          "output_type": "error",
          "ename": "TypeError",
          "evalue": "ignored",
          "traceback": [
            "\u001b[0;31m---------------------------------------------------------------------------\u001b[0m",
            "\u001b[0;31mTypeError\u001b[0m                                 Traceback (most recent call last)",
            "\u001b[0;32m<ipython-input-27-39cb3db33052>\u001b[0m in \u001b[0;36m<cell line: 1>\u001b[0;34m()\u001b[0m\n\u001b[0;32m----> 1\u001b[0;31m \u001b[0mprint\u001b[0m\u001b[0;34m(\u001b[0m\u001b[0mx\u001b[0m\u001b[0;34m+\u001b[0m\u001b[0my\u001b[0m\u001b[0;34m)\u001b[0m\u001b[0;34m\u001b[0m\u001b[0;34m\u001b[0m\u001b[0m\n\u001b[0m",
            "\u001b[0;31mTypeError\u001b[0m: unsupported operand type(s) for +: 'int' and 'str'"
          ]
        }
      ]
    },
    {
      "cell_type": "code",
      "source": [
        "print(x-y) #Error"
      ],
      "metadata": {
        "colab": {
          "base_uri": "https://localhost:8080/",
          "height": 175
        },
        "id": "6r_tj0IJ3pwe",
        "outputId": "2ffc8915-acf1-4719-8f82-e6f99bfec0a8"
      },
      "execution_count": null,
      "outputs": [
        {
          "output_type": "error",
          "ename": "TypeError",
          "evalue": "ignored",
          "traceback": [
            "\u001b[0;31m---------------------------------------------------------------------------\u001b[0m",
            "\u001b[0;31mTypeError\u001b[0m                                 Traceback (most recent call last)",
            "\u001b[0;32m<ipython-input-28-258426c8f1fd>\u001b[0m in \u001b[0;36m<cell line: 1>\u001b[0;34m()\u001b[0m\n\u001b[0;32m----> 1\u001b[0;31m \u001b[0mprint\u001b[0m\u001b[0;34m(\u001b[0m\u001b[0mx\u001b[0m\u001b[0;34m-\u001b[0m\u001b[0my\u001b[0m\u001b[0;34m)\u001b[0m\u001b[0;34m\u001b[0m\u001b[0;34m\u001b[0m\u001b[0m\n\u001b[0m",
            "\u001b[0;31mTypeError\u001b[0m: unsupported operand type(s) for -: 'int' and 'str'"
          ]
        }
      ]
    },
    {
      "cell_type": "code",
      "source": [
        "print(x*y) #vikramvikramvikramvikramvikram"
      ],
      "metadata": {
        "colab": {
          "base_uri": "https://localhost:8080/"
        },
        "id": "8Tv-UqWp3r4w",
        "outputId": "7ef94991-4d00-4d18-8810-bc6b746b7b68"
      },
      "execution_count": null,
      "outputs": [
        {
          "output_type": "stream",
          "name": "stdout",
          "text": [
            "vikramvikramvikramvikramvikram\n"
          ]
        }
      ]
    },
    {
      "cell_type": "code",
      "source": [
        "print(x/y) #Error"
      ],
      "metadata": {
        "colab": {
          "base_uri": "https://localhost:8080/",
          "height": 175
        },
        "id": "zKRcDpMT3uVo",
        "outputId": "ce376efc-3ad1-473b-c41b-d4bffeb2e6b6"
      },
      "execution_count": null,
      "outputs": [
        {
          "output_type": "error",
          "ename": "TypeError",
          "evalue": "ignored",
          "traceback": [
            "\u001b[0;31m---------------------------------------------------------------------------\u001b[0m",
            "\u001b[0;31mTypeError\u001b[0m                                 Traceback (most recent call last)",
            "\u001b[0;32m<ipython-input-30-f8055c7c2d78>\u001b[0m in \u001b[0;36m<cell line: 1>\u001b[0;34m()\u001b[0m\n\u001b[0;32m----> 1\u001b[0;31m \u001b[0mprint\u001b[0m\u001b[0;34m(\u001b[0m\u001b[0mx\u001b[0m\u001b[0;34m/\u001b[0m\u001b[0my\u001b[0m\u001b[0;34m)\u001b[0m\u001b[0;34m\u001b[0m\u001b[0;34m\u001b[0m\u001b[0m\n\u001b[0m",
            "\u001b[0;31mTypeError\u001b[0m: unsupported operand type(s) for /: 'int' and 'str'"
          ]
        }
      ]
    },
    {
      "cell_type": "markdown",
      "source": [
        "Functions"
      ],
      "metadata": {
        "id": "-PH6kwfxMBA6"
      }
    },
    {
      "cell_type": "code",
      "source": [
        "#function\n",
        "def multiplication(a,b):\n",
        "  result = a*b\n",
        "  #print(result)\n",
        "  return result\n",
        "\n",
        "multiplication(5,4)"
      ],
      "metadata": {
        "colab": {
          "base_uri": "https://localhost:8080/"
        },
        "id": "LGO5UZ4X3y2U",
        "outputId": "dea89863-a43d-4f5b-d32d-c95d027ba58a"
      },
      "execution_count": null,
      "outputs": [
        {
          "output_type": "stream",
          "name": "stdout",
          "text": [
            "20\n"
          ]
        }
      ]
    },
    {
      "cell_type": "code",
      "source": [
        "#write a function that adds three numbers\n",
        "def summation(a,b,c):\n",
        "  result = a+b+c\n",
        "  #print(result)\n",
        "  return result\n",
        "\n",
        "summation(5,4,3)"
      ],
      "metadata": {
        "colab": {
          "base_uri": "https://localhost:8080/"
        },
        "id": "WlMHIx_z5Nq3",
        "outputId": "67e127ed-9f2a-4cb5-9cff-e2a1e48cb3e0"
      },
      "execution_count": null,
      "outputs": [
        {
          "output_type": "execute_result",
          "data": {
            "text/plain": [
              "12"
            ]
          },
          "metadata": {},
          "execution_count": 39
        }
      ]
    },
    {
      "cell_type": "code",
      "source": [
        "x=4 #int\n",
        "x=4.5 #float\n",
        "\n",
        "print (x)"
      ],
      "metadata": {
        "colab": {
          "base_uri": "https://localhost:8080/"
        },
        "id": "BtUA4p5g5oXD",
        "outputId": "6873cd58-6e26-4267-f7e7-ae759a767ef9"
      },
      "execution_count": null,
      "outputs": [
        {
          "output_type": "stream",
          "name": "stdout",
          "text": [
            "4.5\n"
          ]
        }
      ]
    },
    {
      "cell_type": "code",
      "source": [
        "x=10\n",
        "y=20\n",
        "x,y=y,x\n",
        "print(x,y)"
      ],
      "metadata": {
        "colab": {
          "base_uri": "https://localhost:8080/"
        },
        "id": "R59JgNtI58mC",
        "outputId": "ad2cf100-22e1-4792-f728-5aeba9e82d74"
      },
      "execution_count": null,
      "outputs": [
        {
          "output_type": "stream",
          "name": "stdout",
          "text": [
            "20 10\n"
          ]
        }
      ]
    },
    {
      "cell_type": "code",
      "source": [
        "#To check datatype\n",
        "x='vinay'\n",
        "y=4.56\n",
        "z=9\n",
        "type(x)\n"
      ],
      "metadata": {
        "colab": {
          "base_uri": "https://localhost:8080/"
        },
        "id": "C9VdSNLs7_um",
        "outputId": "63c607b5-869b-486a-c39c-a0ba78a20e41"
      },
      "execution_count": null,
      "outputs": [
        {
          "output_type": "execute_result",
          "data": {
            "text/plain": [
              "str"
            ]
          },
          "metadata": {},
          "execution_count": 48
        }
      ]
    },
    {
      "cell_type": "code",
      "source": [
        "type(y)"
      ],
      "metadata": {
        "colab": {
          "base_uri": "https://localhost:8080/"
        },
        "id": "aAadVz628lFG",
        "outputId": "5e73e7f4-46e2-4409-f083-dde3bfb173ad"
      },
      "execution_count": null,
      "outputs": [
        {
          "output_type": "execute_result",
          "data": {
            "text/plain": [
              "float"
            ]
          },
          "metadata": {},
          "execution_count": 47
        }
      ]
    },
    {
      "cell_type": "code",
      "source": [
        "type(z)"
      ],
      "metadata": {
        "colab": {
          "base_uri": "https://localhost:8080/"
        },
        "id": "tN1EvO3F88DA",
        "outputId": "4bc89a03-d6be-4e17-9ae5-7e3e1d1e1ebe"
      },
      "execution_count": null,
      "outputs": [
        {
          "output_type": "execute_result",
          "data": {
            "text/plain": [
              "int"
            ]
          },
          "metadata": {},
          "execution_count": 49
        }
      ]
    },
    {
      "cell_type": "code",
      "source": [
        "x,y=True,False\n",
        "type(x)\n",
        "type(y)"
      ],
      "metadata": {
        "colab": {
          "base_uri": "https://localhost:8080/"
        },
        "id": "CZvNTYOg8-g2",
        "outputId": "ea0f974e-99c8-43d0-f749-7e2410c692c1"
      },
      "execution_count": null,
      "outputs": [
        {
          "output_type": "execute_result",
          "data": {
            "text/plain": [
              "bool"
            ]
          },
          "metadata": {},
          "execution_count": 50
        }
      ]
    },
    {
      "cell_type": "code",
      "source": [
        "x=1\n",
        "y=2.8\n",
        "z='6'"
      ],
      "metadata": {
        "id": "_wWq4EST9Hcd"
      },
      "execution_count": null,
      "outputs": []
    },
    {
      "cell_type": "code",
      "source": [
        "#convert x to float\n",
        "float(x)"
      ],
      "metadata": {
        "colab": {
          "base_uri": "https://localhost:8080/"
        },
        "id": "dW1XnU3h9NT7",
        "outputId": "e46f98d7-033f-49df-c7d8-1edd6fb8397b"
      },
      "execution_count": null,
      "outputs": [
        {
          "output_type": "execute_result",
          "data": {
            "text/plain": [
              "1.0"
            ]
          },
          "metadata": {},
          "execution_count": 52
        }
      ]
    },
    {
      "cell_type": "code",
      "source": [
        "#convert y to integer\n",
        "int(y)"
      ],
      "metadata": {
        "colab": {
          "base_uri": "https://localhost:8080/"
        },
        "id": "EdU2kv639SPd",
        "outputId": "8315d835-67b3-4e57-f60f-48a35ece224d"
      },
      "execution_count": null,
      "outputs": [
        {
          "output_type": "execute_result",
          "data": {
            "text/plain": [
              "2"
            ]
          },
          "metadata": {},
          "execution_count": 53
        }
      ]
    },
    {
      "cell_type": "code",
      "source": [
        "#convert x to string\n",
        "str(x)"
      ],
      "metadata": {
        "colab": {
          "base_uri": "https://localhost:8080/",
          "height": 36
        },
        "id": "5pxQtgzN9XXw",
        "outputId": "d9a91de2-196f-490b-f2d5-ecabc35f0e98"
      },
      "execution_count": null,
      "outputs": [
        {
          "output_type": "execute_result",
          "data": {
            "text/plain": [
              "'1'"
            ],
            "application/vnd.google.colaboratory.intrinsic+json": {
              "type": "string"
            }
          },
          "metadata": {},
          "execution_count": 54
        }
      ]
    },
    {
      "cell_type": "code",
      "source": [
        "a=5    #1\n",
        "b=4    #2\n",
        "c=3    #3\n",
        "def summation(a,b,c):    #4\n",
        "  result = a+b+c #cant be printed\n",
        "  #print(result)\n",
        "  return result #cant be printed\n",
        "\n",
        "print(summation(5,4,3))    #5"
      ],
      "metadata": {
        "colab": {
          "base_uri": "https://localhost:8080/"
        },
        "id": "xidGlNmS9cWc",
        "outputId": "67122d43-9e65-4a9f-94e1-db6d18b10434"
      },
      "execution_count": null,
      "outputs": [
        {
          "output_type": "stream",
          "name": "stdout",
          "text": [
            "12\n"
          ]
        }
      ]
    },
    {
      "cell_type": "code",
      "source": [
        "x='Python'  #positive indexing and negative indexing"
      ],
      "metadata": {
        "id": "RdGTM6gOBMfp"
      },
      "execution_count": null,
      "outputs": []
    },
    {
      "cell_type": "code",
      "source": [
        "x[0]\n"
      ],
      "metadata": {
        "colab": {
          "base_uri": "https://localhost:8080/",
          "height": 36
        },
        "id": "EzNCkZPbl6MP",
        "outputId": "6ce0ba8e-4eca-478d-b7da-be86c9936970"
      },
      "execution_count": null,
      "outputs": [
        {
          "output_type": "execute_result",
          "data": {
            "text/plain": [
              "'P'"
            ],
            "application/vnd.google.colaboratory.intrinsic+json": {
              "type": "string"
            }
          },
          "metadata": {},
          "execution_count": 2
        }
      ]
    },
    {
      "cell_type": "code",
      "source": [
        "x[-3]"
      ],
      "metadata": {
        "colab": {
          "base_uri": "https://localhost:8080/",
          "height": 36
        },
        "id": "ABxE-pZwl8_0",
        "outputId": "61778cb2-eb4d-48cc-add8-39aa0de6c834"
      },
      "execution_count": null,
      "outputs": [
        {
          "output_type": "execute_result",
          "data": {
            "text/plain": [
              "'h'"
            ],
            "application/vnd.google.colaboratory.intrinsic+json": {
              "type": "string"
            }
          },
          "metadata": {},
          "execution_count": 3
        }
      ]
    },
    {
      "cell_type": "code",
      "source": [
        "x='Python'\n",
        "x[0:4]  #start_position: end_position+1"
      ],
      "metadata": {
        "colab": {
          "base_uri": "https://localhost:8080/",
          "height": 36
        },
        "id": "nS6Ec5GimBtM",
        "outputId": "6a7babba-e6aa-43fd-db50-a70bc5e4521a"
      },
      "execution_count": null,
      "outputs": [
        {
          "output_type": "execute_result",
          "data": {
            "text/plain": [
              "'Pyth'"
            ],
            "application/vnd.google.colaboratory.intrinsic+json": {
              "type": "string"
            }
          },
          "metadata": {},
          "execution_count": 4
        }
      ]
    },
    {
      "cell_type": "code",
      "source": [
        "#to access every element in the string: for loop\n",
        "x='Quality Thought'\n",
        "for i in x:\n",
        "  print(i)"
      ],
      "metadata": {
        "colab": {
          "base_uri": "https://localhost:8080/"
        },
        "id": "iwX3rdKvmyuJ",
        "outputId": "a47346e6-2935-4777-ede1-3e60a1449ab9"
      },
      "execution_count": null,
      "outputs": [
        {
          "output_type": "stream",
          "name": "stdout",
          "text": [
            "Q\n",
            "u\n",
            "a\n",
            "l\n",
            "i\n",
            "t\n",
            "y\n",
            " \n",
            "T\n",
            "h\n",
            "o\n",
            "u\n",
            "g\n",
            "h\n",
            "t\n"
          ]
        }
      ]
    },
    {
      "cell_type": "code",
      "source": [
        "len(x)  #length"
      ],
      "metadata": {
        "colab": {
          "base_uri": "https://localhost:8080/"
        },
        "id": "Q7Iu4pQLn25f",
        "outputId": "ad4d350e-c491-41b3-e5ba-92003c9f33a2"
      },
      "execution_count": null,
      "outputs": [
        {
          "output_type": "execute_result",
          "data": {
            "text/plain": [
              "15"
            ]
          },
          "metadata": {},
          "execution_count": 6
        }
      ]
    },
    {
      "cell_type": "code",
      "source": [
        "for i in range(0,len(x)):  #range is keyword in python that creates values between 0 and 14\n",
        "  print (x[i])  #indexing"
      ],
      "metadata": {
        "colab": {
          "base_uri": "https://localhost:8080/"
        },
        "id": "rfseJEo9n9DC",
        "outputId": "dd11e2c5-10c2-470d-ab3c-fb01e9cb7ff3"
      },
      "execution_count": null,
      "outputs": [
        {
          "output_type": "stream",
          "name": "stdout",
          "text": [
            "Q\n",
            "u\n",
            "a\n",
            "l\n",
            "i\n",
            "t\n",
            "y\n",
            " \n",
            "T\n",
            "h\n",
            "o\n",
            "u\n",
            "g\n",
            "h\n",
            "t\n"
          ]
        }
      ]
    },
    {
      "cell_type": "code",
      "source": [
        "#check if woed present in string\n",
        "x='jack and jill went up the hill'\n",
        "'up' in x"
      ],
      "metadata": {
        "colab": {
          "base_uri": "https://localhost:8080/"
        },
        "id": "efh8PUwVoSE8",
        "outputId": "eedc4dbe-dfc3-4241-f80d-bcf3c27acc1f"
      },
      "execution_count": null,
      "outputs": [
        {
          "output_type": "execute_result",
          "data": {
            "text/plain": [
              "True"
            ]
          },
          "metadata": {},
          "execution_count": 12
        }
      ]
    },
    {
      "cell_type": "code",
      "source": [
        "'down' in x"
      ],
      "metadata": {
        "colab": {
          "base_uri": "https://localhost:8080/"
        },
        "id": "KZ80fFtno6e3",
        "outputId": "f3026f59-5984-425d-a3ae-58685c9df102"
      },
      "execution_count": null,
      "outputs": [
        {
          "output_type": "execute_result",
          "data": {
            "text/plain": [
              "False"
            ]
          },
          "metadata": {},
          "execution_count": 10
        }
      ]
    },
    {
      "cell_type": "code",
      "source": [
        "if 'up' in x:\n",
        "  print('present')\n",
        "else:\n",
        "  print('absent')"
      ],
      "metadata": {
        "colab": {
          "base_uri": "https://localhost:8080/"
        },
        "id": "zpQgTdLYpCzS",
        "outputId": "f68e5c26-6d6d-4a4c-82dc-e7221fa65a32"
      },
      "execution_count": null,
      "outputs": [
        {
          "output_type": "stream",
          "name": "stdout",
          "text": [
            "present\n"
          ]
        }
      ]
    },
    {
      "cell_type": "code",
      "source": [
        "b='datascience'\n",
        "b.upper()"
      ],
      "metadata": {
        "colab": {
          "base_uri": "https://localhost:8080/",
          "height": 36
        },
        "id": "gW8n4yzopfuQ",
        "outputId": "04080a48-8970-4612-9f0b-33c59b83505e"
      },
      "execution_count": null,
      "outputs": [
        {
          "output_type": "execute_result",
          "data": {
            "text/plain": [
              "'DATASCIENCE'"
            ],
            "application/vnd.google.colaboratory.intrinsic+json": {
              "type": "string"
            }
          },
          "metadata": {},
          "execution_count": 16
        }
      ]
    },
    {
      "cell_type": "code",
      "source": [
        "b.lower()"
      ],
      "metadata": {
        "colab": {
          "base_uri": "https://localhost:8080/",
          "height": 36
        },
        "id": "2oZY74pbp2yq",
        "outputId": "c34c7ae7-b2a6-4e95-904b-4e36e01222a4"
      },
      "execution_count": null,
      "outputs": [
        {
          "output_type": "execute_result",
          "data": {
            "text/plain": [
              "'datascience'"
            ],
            "application/vnd.google.colaboratory.intrinsic+json": {
              "type": "string"
            }
          },
          "metadata": {},
          "execution_count": 17
        }
      ]
    },
    {
      "cell_type": "code",
      "source": [
        "b.split()"
      ],
      "metadata": {
        "colab": {
          "base_uri": "https://localhost:8080/"
        },
        "id": "PiSIjQGDp5Wh",
        "outputId": "542c3d4a-16f7-4da5-f41a-24cf8df2f3fa"
      },
      "execution_count": null,
      "outputs": [
        {
          "output_type": "execute_result",
          "data": {
            "text/plain": [
              "['datascience']"
            ]
          },
          "metadata": {},
          "execution_count": 18
        }
      ]
    },
    {
      "cell_type": "code",
      "source": [
        "a='I want to go to banglore'\n",
        "a.split()"
      ],
      "metadata": {
        "colab": {
          "base_uri": "https://localhost:8080/"
        },
        "id": "4ivvE0JSp-If",
        "outputId": "2d6a5be6-7d70-4e91-9777-7fe3048f1376"
      },
      "execution_count": null,
      "outputs": [
        {
          "output_type": "execute_result",
          "data": {
            "text/plain": [
              "['I', 'want', 'to', 'go', 'to', 'banglore']"
            ]
          },
          "metadata": {},
          "execution_count": 19
        }
      ]
    },
    {
      "cell_type": "code",
      "source": [
        "a.split('to')"
      ],
      "metadata": {
        "colab": {
          "base_uri": "https://localhost:8080/"
        },
        "id": "RH5sgLeWqHMO",
        "outputId": "c9b99402-920d-427e-df97-074c4bc22a5c"
      },
      "execution_count": null,
      "outputs": [
        {
          "output_type": "execute_result",
          "data": {
            "text/plain": [
              "['I want ', ' go ', ' banglore']"
            ]
          },
          "metadata": {},
          "execution_count": 21
        }
      ]
    },
    {
      "cell_type": "code",
      "source": [
        "a.split('go')"
      ],
      "metadata": {
        "colab": {
          "base_uri": "https://localhost:8080/"
        },
        "id": "89nPEPCMqN4i",
        "outputId": "effcc86a-f0c1-4202-b335-2953bc503322"
      },
      "execution_count": null,
      "outputs": [
        {
          "output_type": "execute_result",
          "data": {
            "text/plain": [
              "['I want to ', ' to banglore']"
            ]
          },
          "metadata": {},
          "execution_count": 22
        }
      ]
    },
    {
      "cell_type": "code",
      "source": [
        "a='new'\n",
        "b='delhi'\n",
        "a+''+b"
      ],
      "metadata": {
        "colab": {
          "base_uri": "https://localhost:8080/",
          "height": 36
        },
        "id": "iMeS0i49qV5j",
        "outputId": "23761ef1-571f-4af4-c684-8791e66b4523"
      },
      "execution_count": null,
      "outputs": [
        {
          "output_type": "execute_result",
          "data": {
            "text/plain": [
              "'newdelhi'"
            ],
            "application/vnd.google.colaboratory.intrinsic+json": {
              "type": "string"
            }
          },
          "metadata": {},
          "execution_count": 24
        }
      ]
    },
    {
      "cell_type": "code",
      "source": [
        "a+' '+b"
      ],
      "metadata": {
        "colab": {
          "base_uri": "https://localhost:8080/",
          "height": 36
        },
        "id": "23nz9R6QqlOP",
        "outputId": "32d28d32-6365-4535-fd30-afe38cd8490d"
      },
      "execution_count": null,
      "outputs": [
        {
          "output_type": "execute_result",
          "data": {
            "text/plain": [
              "'new delhi'"
            ],
            "application/vnd.google.colaboratory.intrinsic+json": {
              "type": "string"
            }
          },
          "metadata": {},
          "execution_count": 25
        }
      ]
    },
    {
      "cell_type": "code",
      "source": [
        "#operators\n",
        "x=10\n",
        "y=5\n",
        "x=y  #assignment operator"
      ],
      "metadata": {
        "id": "DqfQ-xMfqvGh"
      },
      "execution_count": null,
      "outputs": []
    },
    {
      "cell_type": "code",
      "source": [
        "print (x)\n"
      ],
      "metadata": {
        "colab": {
          "base_uri": "https://localhost:8080/"
        },
        "id": "mBYCxaX2q4zq",
        "outputId": "7f2d3ccb-6a5e-4630-d26e-ee4cf63e5dc8"
      },
      "execution_count": null,
      "outputs": [
        {
          "output_type": "stream",
          "name": "stdout",
          "text": [
            "5\n"
          ]
        }
      ]
    },
    {
      "cell_type": "code",
      "source": [
        "print (y)"
      ],
      "metadata": {
        "colab": {
          "base_uri": "https://localhost:8080/"
        },
        "id": "o3Phw-t3rBMZ",
        "outputId": "e351c462-d843-4d54-c084-7a4cd0828cd7"
      },
      "execution_count": null,
      "outputs": [
        {
          "output_type": "stream",
          "name": "stdout",
          "text": [
            "5\n"
          ]
        }
      ]
    },
    {
      "cell_type": "code",
      "source": [
        "x=10\n",
        "y=5\n",
        "x==y  #comparision operator"
      ],
      "metadata": {
        "colab": {
          "base_uri": "https://localhost:8080/"
        },
        "id": "q2Az-LV9rO7G",
        "outputId": "74854d8b-9536-405d-9294-e01db69c9a9d"
      },
      "execution_count": null,
      "outputs": [
        {
          "output_type": "execute_result",
          "data": {
            "text/plain": [
              "False"
            ]
          },
          "metadata": {},
          "execution_count": 34
        }
      ]
    },
    {
      "cell_type": "code",
      "source": [
        "x>y"
      ],
      "metadata": {
        "colab": {
          "base_uri": "https://localhost:8080/"
        },
        "id": "vdKbZzyyrg2B",
        "outputId": "6e24dd2b-3696-4b3e-acf7-0400b07f408c"
      },
      "execution_count": null,
      "outputs": [
        {
          "output_type": "execute_result",
          "data": {
            "text/plain": [
              "True"
            ]
          },
          "metadata": {},
          "execution_count": 35
        }
      ]
    },
    {
      "cell_type": "code",
      "source": [
        "#python code to declare 2 variables as 200 and 33 and use if else to print which is greater than\n",
        "x=200\n",
        "y=33\n",
        "if(x>y):\n",
        "  print('x is greater than y')\n",
        "else:\n",
        "  print('y is greater than x')"
      ],
      "metadata": {
        "colab": {
          "base_uri": "https://localhost:8080/"
        },
        "id": "YMeJX2m0rwtr",
        "outputId": "18df7791-18b1-4f44-d4ea-f6531720b794"
      },
      "execution_count": null,
      "outputs": [
        {
          "output_type": "stream",
          "name": "stdout",
          "text": [
            "x is greater than y\n"
          ]
        }
      ]
    },
    {
      "cell_type": "code",
      "source": [
        "#python code to declare two variables as 'hello' and 15 and type cast it to boolean\n",
        "x='hello'\n",
        "y=15\n",
        "bool(x)"
      ],
      "metadata": {
        "colab": {
          "base_uri": "https://localhost:8080/"
        },
        "id": "ze-MPvkWsT3E",
        "outputId": "5c98f25d-4a2b-4645-8dcc-432ad976c033"
      },
      "execution_count": null,
      "outputs": [
        {
          "output_type": "execute_result",
          "data": {
            "text/plain": [
              "True"
            ]
          },
          "metadata": {},
          "execution_count": 37
        }
      ]
    },
    {
      "cell_type": "code",
      "source": [
        "bool(y)"
      ],
      "metadata": {
        "colab": {
          "base_uri": "https://localhost:8080/"
        },
        "id": "XcOZg9CRso21",
        "outputId": "6342cfbe-6626-4696-f81e-fa5fccd37da9"
      },
      "execution_count": null,
      "outputs": [
        {
          "output_type": "execute_result",
          "data": {
            "text/plain": [
              "True"
            ]
          },
          "metadata": {},
          "execution_count": 38
        }
      ]
    },
    {
      "cell_type": "code",
      "source": [
        "'''\n",
        "1. Python code to declare a string \"Cats come from tiger family\"\n",
        "\n",
        "a. check if Tiger is in sentence\n",
        "b. convet to upper case\n",
        "c. convert to lower case\n",
        "d. split at white spaces\n",
        "e. you have to check if cats and tiger are present in the sentence print True\n",
        "f. extract from position 5 to 9 with both negative and positice indeings\n",
        "g. use for loop to print characters in the steing.\n",
        "h. length of the string\n",
        "'''"
      ],
      "metadata": {
        "colab": {
          "base_uri": "https://localhost:8080/",
          "height": 70
        },
        "id": "X6OFY5TFsq4Y",
        "outputId": "b9f68a1e-c36c-4395-e467-1ead5128f96c"
      },
      "execution_count": null,
      "outputs": [
        {
          "output_type": "execute_result",
          "data": {
            "text/plain": [
              "'\\n1. Python code to declare a string \"Cats come from tiger family\"\\n\\na. check if Tiger is in sentence\\nb. convet to upper case\\nc. convert to lower case\\nd. split at white spaces\\ne. you have to check if cats and tiger are present in the sentence print True\\nf. extract from position 5 to 9 with both negative and positice indeings\\ng. use for loop to print characters in the steing.\\nh. length of the string\\n'"
            ],
            "application/vnd.google.colaboratory.intrinsic+json": {
              "type": "string"
            }
          },
          "metadata": {},
          "execution_count": 39
        }
      ]
    },
    {
      "cell_type": "code",
      "source": [
        "x=\"Cats come from tiger family\""
      ],
      "metadata": {
        "id": "cvDuKLdfs2yK"
      },
      "execution_count": null,
      "outputs": []
    },
    {
      "cell_type": "code",
      "source": [
        "'Tiger' in x"
      ],
      "metadata": {
        "colab": {
          "base_uri": "https://localhost:8080/"
        },
        "id": "0vNdadN1s92m",
        "outputId": "455ea893-b8d4-49e4-8f09-5d76ea98ab88"
      },
      "execution_count": null,
      "outputs": [
        {
          "output_type": "execute_result",
          "data": {
            "text/plain": [
              "False"
            ]
          },
          "metadata": {},
          "execution_count": 41
        }
      ]
    },
    {
      "cell_type": "code",
      "source": [
        "x.upper()"
      ],
      "metadata": {
        "colab": {
          "base_uri": "https://localhost:8080/",
          "height": 36
        },
        "id": "uIkaU7BdtCGL",
        "outputId": "e7af7136-36d2-49a6-da9f-0546cb93c15f"
      },
      "execution_count": null,
      "outputs": [
        {
          "output_type": "execute_result",
          "data": {
            "text/plain": [
              "'CATS COME FROM TIGER FAMILY'"
            ],
            "application/vnd.google.colaboratory.intrinsic+json": {
              "type": "string"
            }
          },
          "metadata": {},
          "execution_count": 42
        }
      ]
    },
    {
      "cell_type": "code",
      "source": [
        "x.lower()"
      ],
      "metadata": {
        "colab": {
          "base_uri": "https://localhost:8080/",
          "height": 36
        },
        "id": "-AYp6sDxtFZt",
        "outputId": "f4ec5c66-cfba-4ca7-8b7f-fe2ac390341c"
      },
      "execution_count": null,
      "outputs": [
        {
          "output_type": "execute_result",
          "data": {
            "text/plain": [
              "'cats come from tiger family'"
            ],
            "application/vnd.google.colaboratory.intrinsic+json": {
              "type": "string"
            }
          },
          "metadata": {},
          "execution_count": 43
        }
      ]
    },
    {
      "cell_type": "code",
      "source": [
        "x.split()"
      ],
      "metadata": {
        "colab": {
          "base_uri": "https://localhost:8080/"
        },
        "id": "Cque3gFTtHcF",
        "outputId": "e9b395d6-002e-47d7-cf25-51bd9a292c40"
      },
      "execution_count": null,
      "outputs": [
        {
          "output_type": "execute_result",
          "data": {
            "text/plain": [
              "['Cats', 'come', 'from', 'tiger', 'family']"
            ]
          },
          "metadata": {},
          "execution_count": 44
        }
      ]
    },
    {
      "cell_type": "code",
      "source": [
        "if ('cats' in x) and ('tigers' in x):\n",
        "  print('true')\n",
        "else:\n",
        "  print('false')"
      ],
      "metadata": {
        "colab": {
          "base_uri": "https://localhost:8080/"
        },
        "id": "NkxZ_x0etLCB",
        "outputId": "931f8c8c-c550-43f0-9c48-a607f2bcdf5b"
      },
      "execution_count": null,
      "outputs": [
        {
          "output_type": "stream",
          "name": "stdout",
          "text": [
            "false\n"
          ]
        }
      ]
    },
    {
      "cell_type": "code",
      "source": [
        "('cats' in x) and ('tigers' in x)"
      ],
      "metadata": {
        "colab": {
          "base_uri": "https://localhost:8080/"
        },
        "id": "5jeE5Q5WtdqZ",
        "outputId": "b3eda8bf-52a0-4b8c-838f-e13d27f28782"
      },
      "execution_count": null,
      "outputs": [
        {
          "output_type": "execute_result",
          "data": {
            "text/plain": [
              "False"
            ]
          },
          "metadata": {},
          "execution_count": 50
        }
      ]
    },
    {
      "cell_type": "code",
      "source": [
        "x[5:9]"
      ],
      "metadata": {
        "colab": {
          "base_uri": "https://localhost:8080/",
          "height": 36
        },
        "id": "RDcKoafauNw7",
        "outputId": "922ca541-88d2-4e04-fd7e-77d5ba89a590"
      },
      "execution_count": null,
      "outputs": [
        {
          "output_type": "execute_result",
          "data": {
            "text/plain": [
              "'come'"
            ],
            "application/vnd.google.colaboratory.intrinsic+json": {
              "type": "string"
            }
          },
          "metadata": {},
          "execution_count": 52
        }
      ]
    },
    {
      "cell_type": "code",
      "source": [
        "x[5:10]"
      ],
      "metadata": {
        "colab": {
          "base_uri": "https://localhost:8080/",
          "height": 36
        },
        "id": "jjtEqIZSuujU",
        "outputId": "e5038188-c084-49f5-e167-87c4811943f5"
      },
      "execution_count": null,
      "outputs": [
        {
          "output_type": "execute_result",
          "data": {
            "text/plain": [
              "'come '"
            ],
            "application/vnd.google.colaboratory.intrinsic+json": {
              "type": "string"
            }
          },
          "metadata": {},
          "execution_count": 53
        }
      ]
    },
    {
      "cell_type": "code",
      "source": [
        "len(x)"
      ],
      "metadata": {
        "colab": {
          "base_uri": "https://localhost:8080/"
        },
        "id": "JRAZlAUWuyih",
        "outputId": "f667a9f2-de19-4730-8eb2-a7ae130b6b4e"
      },
      "execution_count": null,
      "outputs": [
        {
          "output_type": "execute_result",
          "data": {
            "text/plain": [
              "27"
            ]
          },
          "metadata": {},
          "execution_count": 54
        }
      ]
    },
    {
      "cell_type": "code",
      "source": [
        "for i in x:\n",
        "  print(i)"
      ],
      "metadata": {
        "colab": {
          "base_uri": "https://localhost:8080/"
        },
        "id": "EeoSfXeHvBwT",
        "outputId": "03b825d1-99ba-4f6d-cf00-1eaafcf35d90"
      },
      "execution_count": null,
      "outputs": [
        {
          "output_type": "stream",
          "name": "stdout",
          "text": [
            "C\n",
            "a\n",
            "t\n",
            "s\n",
            " \n",
            "c\n",
            "o\n",
            "m\n",
            "e\n",
            " \n",
            "f\n",
            "r\n",
            "o\n",
            "m\n",
            " \n",
            "t\n",
            "i\n",
            "g\n",
            "e\n",
            "r\n",
            " \n",
            "f\n",
            "a\n",
            "m\n",
            "i\n",
            "l\n",
            "y\n"
          ]
        }
      ]
    },
    {
      "cell_type": "code",
      "source": [
        "x[-19:-23]"
      ],
      "metadata": {
        "colab": {
          "base_uri": "https://localhost:8080/",
          "height": 36
        },
        "id": "XRVn9FXdvIQU",
        "outputId": "252194b4-09cc-4d14-c7ac-68d30c606d40"
      },
      "execution_count": null,
      "outputs": [
        {
          "output_type": "execute_result",
          "data": {
            "text/plain": [
              "''"
            ],
            "application/vnd.google.colaboratory.intrinsic+json": {
              "type": "string"
            }
          },
          "metadata": {},
          "execution_count": 58
        }
      ]
    },
    {
      "cell_type": "code",
      "source": [
        "x[-22:-17]"
      ],
      "metadata": {
        "colab": {
          "base_uri": "https://localhost:8080/",
          "height": 36
        },
        "id": "Xa_upCiwvT25",
        "outputId": "bdbad801-dd44-4be2-99ed-ed34afa18ce1"
      },
      "execution_count": null,
      "outputs": [
        {
          "output_type": "execute_result",
          "data": {
            "text/plain": [
              "'come '"
            ],
            "application/vnd.google.colaboratory.intrinsic+json": {
              "type": "string"
            }
          },
          "metadata": {},
          "execution_count": 60
        }
      ]
    },
    {
      "cell_type": "code",
      "source": [
        "x[-22:-18]"
      ],
      "metadata": {
        "colab": {
          "base_uri": "https://localhost:8080/",
          "height": 36
        },
        "id": "J2TKVKtvvaHY",
        "outputId": "9ffbd02e-e6b4-42ca-e833-d235df90b4ab"
      },
      "execution_count": null,
      "outputs": [
        {
          "output_type": "execute_result",
          "data": {
            "text/plain": [
              "'come'"
            ],
            "application/vnd.google.colaboratory.intrinsic+json": {
              "type": "string"
            }
          },
          "metadata": {},
          "execution_count": 59
        }
      ]
    },
    {
      "cell_type": "code",
      "source": [
        "'''\n",
        "C\n",
        "a\n",
        "t\n",
        "s\n",
        "\n",
        "c -22\n",
        "o -21\n",
        "m -20\n",
        "e -19\n",
        "  -18\n",
        "f -17\n",
        "r -16\n",
        "o -15\n",
        "m -14\n",
        "   -13\n",
        "t -12\n",
        "i -11\n",
        "g -10\n",
        "e -9\n",
        "r -8\n",
        " -7\n",
        "f -6\n",
        "a -5\n",
        "m -4\n",
        "i -3\n",
        "l -2\n",
        "y -1\n",
        "'''"
      ],
      "metadata": {
        "colab": {
          "base_uri": "https://localhost:8080/",
          "height": 36
        },
        "id": "G8b06dC6v4jP",
        "outputId": "2699d60d-c190-42d4-b227-ab9d99bd605f"
      },
      "execution_count": null,
      "outputs": [
        {
          "output_type": "execute_result",
          "data": {
            "text/plain": [
              "'\\nC\\na\\nt\\ns\\n\\nc -22\\no -21\\nm -20\\ne -19\\n  -18\\nf -17\\nr -16\\no -15\\nm -14\\n   -13\\nt -12\\ni -11\\ng -10\\ne -9\\nr -8\\n -7\\nf -6\\na -5\\nm -4\\ni -3\\nl -2\\ny -1\\n'"
            ],
            "application/vnd.google.colaboratory.intrinsic+json": {
              "type": "string"
            }
          },
          "metadata": {},
          "execution_count": 61
        }
      ]
    },
    {
      "cell_type": "code",
      "source": [
        "'''\n",
        "1. Write a python program to reverse a string \"canvas\"\n",
        "2. Write a python program to count vowels and Consonant in a string : \"Rome is city\"\n",
        "3. Write a python program to count number of letters in the steing : \"Covid10 is affected\n",
        "   with SARS virus\"\n",
        "4. Write a python program to print count of numeric, upper, lower and speciall characters in the\n",
        "   string : \"@pyTh)nlobb!Y34\"\n",
        "'''"
      ],
      "metadata": {
        "colab": {
          "base_uri": "https://localhost:8080/",
          "height": 70
        },
        "id": "_RK4lZ5SwKZg",
        "outputId": "d8e2b02e-41ea-4e49-876d-0ba326139167"
      },
      "execution_count": null,
      "outputs": [
        {
          "output_type": "execute_result",
          "data": {
            "text/plain": [
              "'\\n1. Write a python program to reverse a string \"canvas\"\\n2. Write a python program to count vowels and Consonant in a string : \"Rome is city\"\\n3. Write a python program to count number of letters in the steing : \"Covid10 is affected\\n   with SARS virus\"\\n4. Write a python program to print count of numeric, upper, lower and speciall characters in the\\n   string : \"@pyTh)nlobb!Y34\"\\n'"
            ],
            "application/vnd.google.colaboratory.intrinsic+json": {
              "type": "string"
            }
          },
          "metadata": {},
          "execution_count": 62
        }
      ]
    },
    {
      "cell_type": "code",
      "source": [
        "\n",
        "def reverse(x):\n",
        "  return x[::-1]\n",
        "\n",
        "y=reverse(\"canvas\")\n",
        "print(y)\n",
        "\n"
      ],
      "metadata": {
        "colab": {
          "base_uri": "https://localhost:8080/"
        },
        "id": "9P9DS5IUwUxS",
        "outputId": "3cbe0eb1-2ac9-414e-8d8c-e83b8bfb1818"
      },
      "execution_count": null,
      "outputs": [
        {
          "output_type": "stream",
          "name": "stdout",
          "text": [
            "savnac\n"
          ]
        }
      ]
    },
    {
      "cell_type": "code",
      "source": [
        "x=['a','e','i','o','u']\n",
        "s=input()\n",
        "vowels=0\n",
        "consonants=0\n",
        "for i in range(0,len(s)):\n",
        "  if s[i] in x:\n",
        "    vowels+=1\n",
        "  else:\n",
        "    consonants+=1\n",
        "print(\"Vowels:\",vowels)\n",
        "print(\"Consonants:\",consonants)\n"
      ],
      "metadata": {
        "id": "xHjzz95IwXyf",
        "colab": {
          "base_uri": "https://localhost:8080/"
        },
        "outputId": "92cb77a0-6e21-45d3-e40a-6c4b1d6745f6"
      },
      "execution_count": null,
      "outputs": [
        {
          "output_type": "stream",
          "name": "stdout",
          "text": [
            "Our\n",
            "Vowels: 1\n",
            "Consonants: 2\n"
          ]
        }
      ]
    },
    {
      "cell_type": "code",
      "source": [
        "s=input()\n",
        "vowels = 0\n",
        "consonants = 0\n",
        "\n",
        "for i in s:\n",
        "    if(i == 'a' or i == 'e' or i == 'i' or i == 'o' or i == 'u'\n",
        "       or i == 'A' or i == 'E' or i == 'I' or i == 'O' or i == 'U'):\n",
        "        vowels = vowels + 1\n",
        "    else:\n",
        "        consonants = consonants + 1\n",
        "print(\"Vowels:\",vowels)\n",
        "print(\"Consonants:\",consonants)"
      ],
      "metadata": {
        "id": "3Ltmk1XhyDMy",
        "colab": {
          "base_uri": "https://localhost:8080/"
        },
        "outputId": "782ce78b-9951-4d80-85b3-9e36bcba6cc1"
      },
      "execution_count": null,
      "outputs": [
        {
          "output_type": "stream",
          "name": "stdout",
          "text": [
            "Out\n",
            "Vowels: 2\n",
            "Consonants: 1\n"
          ]
        }
      ]
    },
    {
      "cell_type": "code",
      "source": [
        "s=input()\n",
        "count=0\n",
        "for i in range(0,len(s)):\n",
        "  count+=1\n",
        "print(count)"
      ],
      "metadata": {
        "colab": {
          "base_uri": "https://localhost:8080/"
        },
        "id": "8xy2DVbxgSR3",
        "outputId": "043be39b-c838-43bd-dc7b-52dff67f91b1"
      },
      "execution_count": null,
      "outputs": [
        {
          "output_type": "stream",
          "name": "stdout",
          "text": [
            "Covid10 is affected    with SARS virus\n",
            "38\n"
          ]
        }
      ]
    },
    {
      "cell_type": "code",
      "source": [
        "s=input()\n",
        "upper=0\n",
        "lower=0\n",
        "number=0\n",
        "special=0\n",
        "for i in range(0,len(s)):\n",
        "  if s[i].isupper():\n",
        "    upper+=1\n",
        "  elif s[i].islower():\n",
        "    lower+=1\n",
        "  elif s[i].isnumeric():\n",
        "    number+=1\n",
        "  else:\n",
        "    special+=1\n",
        "print(\"Upper\",upper)\n",
        "print(\"Lower\",lower)\n",
        "print(\"Number\",number)\n",
        "print(\"Special\",special)"
      ],
      "metadata": {
        "colab": {
          "base_uri": "https://localhost:8080/"
        },
        "id": "4fW_3RYJlOSl",
        "outputId": "7222348c-b502-4104-f64a-afdc893f3f1d"
      },
      "execution_count": null,
      "outputs": [
        {
          "output_type": "stream",
          "name": "stdout",
          "text": [
            "@pyTh)nlobb!Y34\n",
            "Upper 2\n",
            "Lower 8\n",
            "Number 2\n",
            "Special 3\n"
          ]
        }
      ]
    },
    {
      "cell_type": "code",
      "source": [
        "a=[1,2,3]\n",
        "for i in range(0,len(a)):\n",
        "  num=a[i]\n",
        "  perm=a[:i]+a[i+1:]\n",
        "  print(perm)"
      ],
      "metadata": {
        "colab": {
          "base_uri": "https://localhost:8080/"
        },
        "id": "IuswSD4dgVpG",
        "outputId": "83306379-9230-44f9-df7a-d9c8c38fcbf6"
      },
      "execution_count": null,
      "outputs": [
        {
          "output_type": "stream",
          "name": "stdout",
          "text": [
            "[2, 3]\n",
            "[1, 3]\n",
            "[1, 2]\n"
          ]
        }
      ]
    },
    {
      "cell_type": "code",
      "source": [
        "l1=[8,8,12,12,8]\n",
        "l2=[8,8,8,12,12]"
      ],
      "metadata": {
        "id": "yUjXUlqHoR1i"
      },
      "execution_count": null,
      "outputs": []
    },
    {
      "cell_type": "code",
      "source": [
        "newl1=[l1[-1]]+l1[:-1]"
      ],
      "metadata": {
        "id": "yEmR90DRpPkc"
      },
      "execution_count": null,
      "outputs": []
    },
    {
      "cell_type": "code",
      "source": [
        "for i in range(0,len(l1)):\n",
        "  if l1[i]==l2[i]:\n",
        "    print()"
      ],
      "metadata": {
        "colab": {
          "base_uri": "https://localhost:8080/"
        },
        "id": "-hoPsJEapZJM",
        "outputId": "3cac8d6c-fad1-43fd-997e-ad7ca27a3cf1"
      },
      "execution_count": null,
      "outputs": [
        {
          "output_type": "stream",
          "name": "stdout",
          "text": [
            "\n",
            "\n",
            "\n"
          ]
        }
      ]
    },
    {
      "cell_type": "code",
      "source": [
        "def fn(a):\n",
        "  x='fantastic'\n",
        "  print(f\"python is {a}\")\n",
        "x='awesome'\n",
        "fn(x)"
      ],
      "metadata": {
        "id": "WZKA7NwmDoTe",
        "colab": {
          "base_uri": "https://localhost:8080/"
        },
        "outputId": "23cad6ef-4523-4502-feed-5a9689b97570"
      },
      "execution_count": null,
      "outputs": [
        {
          "output_type": "stream",
          "name": "stdout",
          "text": [
            "python is awesome\n"
          ]
        }
      ]
    },
    {
      "cell_type": "code",
      "source": [
        "x=\"awesome\"\n",
        "def fn(a):\n",
        "  print(f'python is {a}')\n",
        "fn(x)"
      ],
      "metadata": {
        "id": "OssbxKNBGOM1",
        "colab": {
          "base_uri": "https://localhost:8080/"
        },
        "outputId": "5b234960-076f-4590-c4ea-9638848a5e1f"
      },
      "execution_count": null,
      "outputs": [
        {
          "output_type": "stream",
          "name": "stdout",
          "text": [
            "python is awesome\n"
          ]
        }
      ]
    },
    {
      "cell_type": "code",
      "source": [
        "def summul(a,b,c,op):\n",
        "  if(op==sum):\n",
        "    x=a+b+c\n",
        "  if(op==mul):\n",
        "    x=a*b*c\n",
        "  return x\n",
        "\n",
        "\n",
        "#summul(2,3,6,sum)"
      ],
      "metadata": {
        "id": "i3aFFcHjDnW1"
      },
      "execution_count": null,
      "outputs": []
    },
    {
      "cell_type": "code",
      "source": [
        "def fn(num):\n",
        "  if(num%2==0):\n",
        "    print(\"even\")\n",
        "  else:\n",
        "    print(\"Odd\")\n",
        "fn(45)"
      ],
      "metadata": {
        "colab": {
          "base_uri": "https://localhost:8080/"
        },
        "id": "UsxhKTOeEKIK",
        "outputId": "690a371a-3905-460d-e020-540b92108a49"
      },
      "execution_count": null,
      "outputs": [
        {
          "output_type": "stream",
          "name": "stdout",
          "text": [
            "Odd\n"
          ]
        }
      ]
    },
    {
      "cell_type": "code",
      "source": [
        "a=\"hello\"\n",
        "for i in a:\n",
        "  print(i)"
      ],
      "metadata": {
        "colab": {
          "base_uri": "https://localhost:8080/"
        },
        "id": "rpJi-xa5GeRY",
        "outputId": "fde94a10-4f62-41bd-ba10-1b09a03673e8"
      },
      "execution_count": null,
      "outputs": [
        {
          "output_type": "stream",
          "name": "stdout",
          "text": [
            "h\n",
            "e\n",
            "l\n",
            "l\n",
            "o\n"
          ]
        }
      ]
    },
    {
      "cell_type": "code",
      "source": [
        "for i in range(0,len(a)):\n",
        "  print(a[i])"
      ],
      "metadata": {
        "colab": {
          "base_uri": "https://localhost:8080/"
        },
        "id": "1QiXA9r5INrL",
        "outputId": "8db12d34-fa75-4dd4-b9a9-c62a9a119a80"
      },
      "execution_count": null,
      "outputs": [
        {
          "output_type": "stream",
          "name": "stdout",
          "text": [
            "h\n",
            "e\n",
            "l\n",
            "l\n",
            "o\n"
          ]
        }
      ]
    },
    {
      "cell_type": "code",
      "source": [
        "a= \"Hi Guys\"\n",
        "a[:]"
      ],
      "metadata": {
        "colab": {
          "base_uri": "https://localhost:8080/",
          "height": 36
        },
        "id": "KsSFYZ0wIefV",
        "outputId": "0bc714bf-eb93-4ccc-b590-7970ed04b3de"
      },
      "execution_count": null,
      "outputs": [
        {
          "output_type": "execute_result",
          "data": {
            "text/plain": [
              "'Hi Guys'"
            ],
            "application/vnd.google.colaboratory.intrinsic+json": {
              "type": "string"
            }
          },
          "metadata": {},
          "execution_count": 23
        }
      ]
    },
    {
      "cell_type": "code",
      "source": [
        "a[3]"
      ],
      "metadata": {
        "colab": {
          "base_uri": "https://localhost:8080/",
          "height": 36
        },
        "id": "2znvGSjIJF04",
        "outputId": "02f3ecea-ac93-4eb9-ad7b-93406d918b22"
      },
      "execution_count": null,
      "outputs": [
        {
          "output_type": "execute_result",
          "data": {
            "text/plain": [
              "'G'"
            ],
            "application/vnd.google.colaboratory.intrinsic+json": {
              "type": "string"
            }
          },
          "metadata": {},
          "execution_count": 24
        }
      ]
    },
    {
      "cell_type": "code",
      "source": [
        "a[2]"
      ],
      "metadata": {
        "colab": {
          "base_uri": "https://localhost:8080/",
          "height": 36
        },
        "id": "cdeQYdTdJgw5",
        "outputId": "d9dc5483-af0d-4871-91b8-58197c95a596"
      },
      "execution_count": null,
      "outputs": [
        {
          "output_type": "execute_result",
          "data": {
            "text/plain": [
              "' '"
            ],
            "application/vnd.google.colaboratory.intrinsic+json": {
              "type": "string"
            }
          },
          "metadata": {},
          "execution_count": 25
        }
      ]
    },
    {
      "cell_type": "code",
      "source": [
        "a[0:6]"
      ],
      "metadata": {
        "colab": {
          "base_uri": "https://localhost:8080/",
          "height": 36
        },
        "id": "vymku2MgJj71",
        "outputId": "9bed5d3b-892a-4f34-8a51-26f029b0f4fb"
      },
      "execution_count": null,
      "outputs": [
        {
          "output_type": "execute_result",
          "data": {
            "text/plain": [
              "'Hi Guy'"
            ],
            "application/vnd.google.colaboratory.intrinsic+json": {
              "type": "string"
            }
          },
          "metadata": {},
          "execution_count": 26
        }
      ]
    },
    {
      "cell_type": "code",
      "source": [
        "a[0:7]"
      ],
      "metadata": {
        "colab": {
          "base_uri": "https://localhost:8080/",
          "height": 36
        },
        "id": "WQNC-cX5JqKV",
        "outputId": "d60fe76d-f7c3-4430-863e-b29f3a40a733"
      },
      "execution_count": null,
      "outputs": [
        {
          "output_type": "execute_result",
          "data": {
            "text/plain": [
              "'Hi Guys'"
            ],
            "application/vnd.google.colaboratory.intrinsic+json": {
              "type": "string"
            }
          },
          "metadata": {},
          "execution_count": 27
        }
      ]
    },
    {
      "cell_type": "code",
      "source": [
        "a[:7]"
      ],
      "metadata": {
        "colab": {
          "base_uri": "https://localhost:8080/",
          "height": 36
        },
        "id": "ChvE306SJsqb",
        "outputId": "cad2dfa7-2021-4730-d12f-7ae9c17ac9ec"
      },
      "execution_count": null,
      "outputs": [
        {
          "output_type": "execute_result",
          "data": {
            "text/plain": [
              "'Hi Guys'"
            ],
            "application/vnd.google.colaboratory.intrinsic+json": {
              "type": "string"
            }
          },
          "metadata": {},
          "execution_count": 28
        }
      ]
    },
    {
      "cell_type": "code",
      "source": [
        "a[-1:]"
      ],
      "metadata": {
        "colab": {
          "base_uri": "https://localhost:8080/",
          "height": 36
        },
        "id": "8oo6MM9SJvbn",
        "outputId": "3f5c9908-c61b-40f3-a960-444d9292db1a"
      },
      "execution_count": null,
      "outputs": [
        {
          "output_type": "execute_result",
          "data": {
            "text/plain": [
              "'s'"
            ],
            "application/vnd.google.colaboratory.intrinsic+json": {
              "type": "string"
            }
          },
          "metadata": {},
          "execution_count": 29
        }
      ]
    },
    {
      "cell_type": "code",
      "source": [
        "a[:-1]"
      ],
      "metadata": {
        "colab": {
          "base_uri": "https://localhost:8080/",
          "height": 36
        },
        "id": "mRju7kfvJzpH",
        "outputId": "4bb2addd-7dec-472c-a271-13a8e11bc745"
      },
      "execution_count": null,
      "outputs": [
        {
          "output_type": "execute_result",
          "data": {
            "text/plain": [
              "'Hi Guy'"
            ],
            "application/vnd.google.colaboratory.intrinsic+json": {
              "type": "string"
            }
          },
          "metadata": {},
          "execution_count": 30
        }
      ]
    },
    {
      "cell_type": "code",
      "source": [
        "a=\"hi\"\n",
        "b=\"guys\"\n",
        "print(a+b)"
      ],
      "metadata": {
        "colab": {
          "base_uri": "https://localhost:8080/"
        },
        "id": "HoreYlokJ2si",
        "outputId": "02410795-c67c-4650-f995-f939497348ac"
      },
      "execution_count": null,
      "outputs": [
        {
          "output_type": "stream",
          "name": "stdout",
          "text": [
            "higuys\n"
          ]
        }
      ]
    },
    {
      "cell_type": "code",
      "source": [
        "a=\"hi\"\n",
        "b=\"guys\"\n",
        "print (a,b)"
      ],
      "metadata": {
        "colab": {
          "base_uri": "https://localhost:8080/"
        },
        "id": "c8hAPRXsKD7G",
        "outputId": "61470b93-5f7d-4e3d-f614-15a8154fb987"
      },
      "execution_count": null,
      "outputs": [
        {
          "output_type": "stream",
          "name": "stdout",
          "text": [
            "hi guys\n"
          ]
        }
      ]
    },
    {
      "cell_type": "code",
      "source": [
        "def all(x,op):\n",
        "  if(op==a):\n",
        "    sum=0\n",
        "    for i in x:\n",
        "      sum=sum+i\n",
        "    return sum\n",
        "  if(op==m):\n",
        "    mul=1\n",
        "    for i in x:\n",
        "      mul=mul*i\n",
        "    return mul\n",
        "  if(op==d):\n",
        "    div=x[0]\n",
        "    for i in a[1:]:\n",
        "      div=div/i\n",
        "    return div\n",
        "  if(op==s):\n",
        "    sub=x[0]\n",
        "    for i in a[1:]:\n",
        "      sub=sub-i\n",
        "    return sub\n",
        "\n",
        "\n",
        "x=[1,2,4,5]\n",
        "all(x,a)"
      ],
      "metadata": {
        "colab": {
          "base_uri": "https://localhost:8080/"
        },
        "id": "MssK4MvPKJun",
        "outputId": "6008a840-2b5a-4b4c-dc91-929342a1b77c"
      },
      "execution_count": null,
      "outputs": [
        {
          "output_type": "execute_result",
          "data": {
            "text/plain": [
              "12"
            ]
          },
          "metadata": {},
          "execution_count": 36
        }
      ]
    },
    {
      "cell_type": "code",
      "source": [
        "def total(x,op):\n",
        "  if(op==a):\n",
        "    sum=x[0]\n",
        "    for i in x[1:]:\n",
        "      sum=sum+i\n",
        "    return sum\n",
        "x=[1,2,4,5]\n",
        "total(x,a)"
      ],
      "metadata": {
        "colab": {
          "base_uri": "https://localhost:8080/"
        },
        "id": "cXm_Fy6FMiTc",
        "outputId": "f5f0e7df-f946-480a-df75-c098c7bdcbc4"
      },
      "execution_count": null,
      "outputs": [
        {
          "output_type": "execute_result",
          "data": {
            "text/plain": [
              "12"
            ]
          },
          "metadata": {},
          "execution_count": 38
        }
      ]
    },
    {
      "cell_type": "code",
      "source": [
        "for i in range(1,10):\n",
        "  print(i)"
      ],
      "metadata": {
        "colab": {
          "base_uri": "https://localhost:8080/"
        },
        "id": "00_yUPKZNTDz",
        "outputId": "cae5077f-a19e-41eb-8104-00fdee08ba78"
      },
      "execution_count": null,
      "outputs": [
        {
          "output_type": "stream",
          "name": "stdout",
          "text": [
            "1\n",
            "2\n",
            "3\n",
            "4\n",
            "5\n",
            "6\n",
            "7\n",
            "8\n",
            "9\n"
          ]
        }
      ]
    },
    {
      "cell_type": "code",
      "source": [
        "a=list(range(0,10))"
      ],
      "metadata": {
        "id": "L8UxEvjOTUqC"
      },
      "execution_count": null,
      "outputs": []
    },
    {
      "cell_type": "code",
      "source": [
        "a"
      ],
      "metadata": {
        "colab": {
          "base_uri": "https://localhost:8080/"
        },
        "id": "jVwm4hQOTb1i",
        "outputId": "660136cc-4858-4261-f356-9cd40ed2d5fb"
      },
      "execution_count": null,
      "outputs": [
        {
          "output_type": "execute_result",
          "data": {
            "text/plain": [
              "[0, 1, 2, 3, 4, 5, 6, 7, 8, 9]"
            ]
          },
          "metadata": {},
          "execution_count": 63
        }
      ]
    },
    {
      "cell_type": "code",
      "source": [
        "sum=0\n",
        "for i in range(0,len(a)):\n",
        "  if(i%2==0):\n",
        "    sum=sum+a[i]"
      ],
      "metadata": {
        "id": "0pWvP6ErTdkQ"
      },
      "execution_count": null,
      "outputs": []
    },
    {
      "cell_type": "code",
      "source": [
        "sum"
      ],
      "metadata": {
        "colab": {
          "base_uri": "https://localhost:8080/"
        },
        "id": "tcv3FBXaUJtK",
        "outputId": "c6aab8e1-415f-4efe-ab41-6e44345475e6"
      },
      "execution_count": null,
      "outputs": [
        {
          "output_type": "execute_result",
          "data": {
            "text/plain": [
              "20"
            ]
          },
          "metadata": {},
          "execution_count": 66
        }
      ]
    },
    {
      "cell_type": "markdown",
      "source": [
        "List"
      ],
      "metadata": {
        "id": "VT5XSeI8M_Tt"
      }
    },
    {
      "cell_type": "code",
      "source": [
        "l1=[i for i in range(20,40)]\n",
        "print(l1)"
      ],
      "metadata": {
        "colab": {
          "base_uri": "https://localhost:8080/"
        },
        "id": "79lID16UNCgk",
        "outputId": "08df0feb-d4bc-404f-e1f7-ce665c18fc44"
      },
      "execution_count": null,
      "outputs": [
        {
          "output_type": "stream",
          "name": "stdout",
          "text": [
            "[20, 21, 22, 23, 24, 25, 26, 27, 28, 29, 30, 31, 32, 33, 34, 35, 36, 37, 38, 39]\n"
          ]
        }
      ]
    },
    {
      "cell_type": "code",
      "source": [
        "type(l1)"
      ],
      "metadata": {
        "colab": {
          "base_uri": "https://localhost:8080/"
        },
        "id": "Npr5RricNv2F",
        "outputId": "7200e32a-396a-4617-eea0-14a2d004ef37"
      },
      "execution_count": null,
      "outputs": [
        {
          "output_type": "execute_result",
          "data": {
            "text/plain": [
              "list"
            ]
          },
          "metadata": {},
          "execution_count": 8
        }
      ]
    },
    {
      "cell_type": "code",
      "source": [
        "l2=[i for i in range(20,40,4)]\n",
        "l2"
      ],
      "metadata": {
        "colab": {
          "base_uri": "https://localhost:8080/"
        },
        "id": "znrHjuSRNaFW",
        "outputId": "25fb7be7-38dc-4fbc-df55-692af3a20477"
      },
      "execution_count": null,
      "outputs": [
        {
          "output_type": "execute_result",
          "data": {
            "text/plain": [
              "[20, 24, 28, 32, 36]"
            ]
          },
          "metadata": {},
          "execution_count": 4
        }
      ]
    },
    {
      "cell_type": "code",
      "source": [
        "a=('abs','bdg','bgf')\n",
        "b=list(reversed(a))\n",
        "print(b)"
      ],
      "metadata": {
        "colab": {
          "base_uri": "https://localhost:8080/"
        },
        "id": "0AbLlH3KUQts",
        "outputId": "caa4b79a-87e2-4230-8d6c-562feb1fc49a"
      },
      "execution_count": null,
      "outputs": [
        {
          "output_type": "stream",
          "name": "stdout",
          "text": [
            "['bgf', 'bdg', 'abs']\n"
          ]
        }
      ]
    },
    {
      "cell_type": "code",
      "source": [
        "a=[1,2,3]\n",
        "a.append(4)\n",
        "print (a)"
      ],
      "metadata": {
        "colab": {
          "base_uri": "https://localhost:8080/"
        },
        "id": "24TxG-hTWZuf",
        "outputId": "57be1c02-778a-40c5-954e-6f6552ff9bc1"
      },
      "execution_count": null,
      "outputs": [
        {
          "output_type": "stream",
          "name": "stdout",
          "text": [
            "[1, 2, 3, 4]\n"
          ]
        }
      ]
    },
    {
      "cell_type": "code",
      "source": [
        "list=['apple','tomato','orange']\n",
        "list[1]"
      ],
      "metadata": {
        "colab": {
          "base_uri": "https://localhost:8080/",
          "height": 36
        },
        "id": "A0j2Eo_fWyKB",
        "outputId": "cd1132a7-c8ca-4657-992e-5e49cdc36908"
      },
      "execution_count": null,
      "outputs": [
        {
          "output_type": "execute_result",
          "data": {
            "text/plain": [
              "'tomato'"
            ],
            "application/vnd.google.colaboratory.intrinsic+json": {
              "type": "string"
            }
          },
          "metadata": {},
          "execution_count": 90
        }
      ]
    },
    {
      "cell_type": "code",
      "source": [
        "list=['apple','tomato','orange']\n",
        "list[1]='cherry'"
      ],
      "metadata": {
        "id": "Cw1e0pBAZPeQ"
      },
      "execution_count": null,
      "outputs": []
    },
    {
      "cell_type": "code",
      "source": [
        "li=[i for i in input().split()]\n",
        "for i in li:\n",
        "  print(i)\n"
      ],
      "metadata": {
        "colab": {
          "base_uri": "https://localhost:8080/"
        },
        "id": "0jful-GKD810",
        "outputId": "c2fad1ba-caf5-446f-da38-279067cfcbbf"
      },
      "execution_count": null,
      "outputs": [
        {
          "output_type": "stream",
          "name": "stdout",
          "text": [
            "mango cherry banana orange\n",
            "mango\n",
            "cherry\n",
            "banana\n",
            "orange\n"
          ]
        }
      ]
    },
    {
      "cell_type": "code",
      "source": [
        "li=[i for i in input().split()]\n",
        "for i in li:\n",
        "  if i==i:\n",
        "    print(i)"
      ],
      "metadata": {
        "colab": {
          "base_uri": "https://localhost:8080/"
        },
        "id": "oZIiYZtpEbNi",
        "outputId": "3653e4d4-89d3-47a0-956f-889200c4d86e"
      },
      "execution_count": null,
      "outputs": [
        {
          "output_type": "stream",
          "name": "stdout",
          "text": [
            "mango cherry banana orange\n",
            "mango\n",
            "cherry\n",
            "banana\n",
            "orange\n"
          ]
        }
      ]
    },
    {
      "cell_type": "code",
      "source": [
        "li=[i for i in input().split()]\n",
        "for i in range(0,len(li)):\n",
        "  print(li[i])"
      ],
      "metadata": {
        "colab": {
          "base_uri": "https://localhost:8080/"
        },
        "id": "C110NfzdFbMF",
        "outputId": "94b6e196-ff83-45c7-a912-31b8bffe3ea7"
      },
      "execution_count": null,
      "outputs": [
        {
          "output_type": "stream",
          "name": "stdout",
          "text": [
            "mango cherry banana orange\n",
            "mango\n",
            "cherry\n",
            "banana\n",
            "orange\n"
          ]
        }
      ]
    },
    {
      "cell_type": "code",
      "source": [
        "li=[i for i in input().split()]\n",
        "i=0\n",
        "while(i<len(li)):\n",
        "  print(li[i])\n",
        "  i=i+1\n"
      ],
      "metadata": {
        "colab": {
          "base_uri": "https://localhost:8080/"
        },
        "id": "pDjrxESmFlJC",
        "outputId": "91efdc87-edf9-497b-b702-30625d9ca9d2"
      },
      "execution_count": null,
      "outputs": [
        {
          "output_type": "stream",
          "name": "stdout",
          "text": [
            "mango cherry banana orange\n",
            "mango\n",
            "cherry\n",
            "banana\n",
            "orange\n"
          ]
        }
      ]
    },
    {
      "cell_type": "code",
      "source": [
        "li=[i for i in input().split()]\n",
        "for i in range(0,len(li)):\n",
        "  print(len(li[i]))"
      ],
      "metadata": {
        "colab": {
          "base_uri": "https://localhost:8080/"
        },
        "id": "aTTlvAhCEqTE",
        "outputId": "215341de-c884-440a-f391-50efab366868"
      },
      "execution_count": null,
      "outputs": [
        {
          "output_type": "stream",
          "name": "stdout",
          "text": [
            "mango cherry banana orange\n",
            "5\n",
            "6\n",
            "6\n",
            "6\n"
          ]
        }
      ]
    },
    {
      "cell_type": "code",
      "source": [
        "#check a letter a present in list\n",
        "li=[i for i in input().split()]\n",
        "n=[]\n",
        "for i in li:\n",
        "  if 'a' in i:\n",
        "    n.append(i)\n",
        "print(n)"
      ],
      "metadata": {
        "colab": {
          "base_uri": "https://localhost:8080/"
        },
        "id": "kCJSoQreF6II",
        "outputId": "cc9b4a42-355d-4a61-d820-56b752bdd877"
      },
      "execution_count": null,
      "outputs": [
        {
          "output_type": "stream",
          "name": "stdout",
          "text": [
            "mango cherry banana orange\n",
            "['mango', 'banana', 'orange']\n"
          ]
        }
      ]
    },
    {
      "cell_type": "code",
      "source": [
        "#  (or)\n",
        "li=[i for i in li if 'a' in i]\n",
        "li\n"
      ],
      "metadata": {
        "colab": {
          "base_uri": "https://localhost:8080/"
        },
        "id": "JjGaScPyGUyv",
        "outputId": "ffb53e92-9b98-4b69-f4cb-7c84d76a8736"
      },
      "execution_count": null,
      "outputs": [
        {
          "output_type": "execute_result",
          "data": {
            "text/plain": [
              "['mango', 'banana', 'orange']"
            ]
          },
          "metadata": {},
          "execution_count": 13
        }
      ]
    },
    {
      "cell_type": "code",
      "source": [
        "li=[int(i) for i in input().split()]\n",
        "li.sort()\n",
        "li"
      ],
      "metadata": {
        "colab": {
          "base_uri": "https://localhost:8080/"
        },
        "id": "uCWtn7EIHKBM",
        "outputId": "0824cf3e-1a17-4b0e-9a9d-dbc6a68f0f3b"
      },
      "execution_count": null,
      "outputs": [
        {
          "name": "stdout",
          "output_type": "stream",
          "text": [
            "100 30 50 20\n"
          ]
        },
        {
          "output_type": "execute_result",
          "data": {
            "text/plain": [
              "[20, 30, 50, 100]"
            ]
          },
          "metadata": {},
          "execution_count": 16
        }
      ]
    },
    {
      "cell_type": "code",
      "source": [
        "li.sort(reverse=True)\n",
        "li"
      ],
      "metadata": {
        "colab": {
          "base_uri": "https://localhost:8080/"
        },
        "id": "tDnQpUXNHkso",
        "outputId": "101f8d28-f562-4a08-b129-4909ead5497e"
      },
      "execution_count": null,
      "outputs": [
        {
          "output_type": "execute_result",
          "data": {
            "text/plain": [
              "[100, 50, 30, 20]"
            ]
          },
          "metadata": {},
          "execution_count": 17
        }
      ]
    },
    {
      "cell_type": "code",
      "source": [
        "###\n",
        "def func(n):\n",
        "  i=n-50\n",
        "  if i<0:\n",
        "    i*=-1\n",
        "  return i\n",
        "\n",
        "func(10)"
      ],
      "metadata": {
        "id": "JAUNjfgDH-3A"
      },
      "execution_count": null,
      "outputs": []
    },
    {
      "cell_type": "code",
      "source": [
        "li.sort(key=func)\n",
        "li"
      ],
      "metadata": {
        "colab": {
          "base_uri": "https://localhost:8080/"
        },
        "id": "2pVnyzp5Ht7C",
        "outputId": "c696087a-44ee-4cf0-d967-a0b1610ae97a"
      },
      "execution_count": null,
      "outputs": [
        {
          "output_type": "execute_result",
          "data": {
            "text/plain": [
              "[50, 30, 20, 100]"
            ]
          },
          "metadata": {},
          "execution_count": 20
        }
      ]
    },
    {
      "cell_type": "code",
      "source": [
        "l1=[int(i) for i in input().split()]\n",
        "l2=l1.copy()\n",
        "l2"
      ],
      "metadata": {
        "colab": {
          "base_uri": "https://localhost:8080/"
        },
        "id": "R1TdKLZaIYyf",
        "outputId": "e0436578-879f-4b32-bd14-2203f5486878"
      },
      "execution_count": null,
      "outputs": [
        {
          "name": "stdout",
          "output_type": "stream",
          "text": [
            "20 30 50 60\n"
          ]
        },
        {
          "output_type": "execute_result",
          "data": {
            "text/plain": [
              "[20, 30, 50, 60]"
            ]
          },
          "metadata": {},
          "execution_count": 21
        }
      ]
    },
    {
      "cell_type": "code",
      "source": [
        "l2[2]=80\n",
        "l2"
      ],
      "metadata": {
        "colab": {
          "base_uri": "https://localhost:8080/"
        },
        "id": "bbzCF35EIhJD",
        "outputId": "02d57a04-a2c8-4ac8-da9c-5e3a4cdc865e"
      },
      "execution_count": null,
      "outputs": [
        {
          "output_type": "execute_result",
          "data": {
            "text/plain": [
              "[20, 30, 80, 60]"
            ]
          },
          "metadata": {},
          "execution_count": 23
        }
      ]
    },
    {
      "cell_type": "code",
      "source": [
        "#add\n",
        "l1=[i for i in input().split()]\n",
        "l2=[i for i in input().split()]\n",
        "l1+l2"
      ],
      "metadata": {
        "colab": {
          "base_uri": "https://localhost:8080/"
        },
        "id": "OlFZ9YlXItiz",
        "outputId": "f0ddfd68-4a59-4566-ff10-cbf89d0ac276"
      },
      "execution_count": null,
      "outputs": [
        {
          "name": "stdout",
          "output_type": "stream",
          "text": [
            "a b c\n",
            "1 2 3\n"
          ]
        },
        {
          "output_type": "execute_result",
          "data": {
            "text/plain": [
              "['a', 'b', 'c', '1', '2', '3']"
            ]
          },
          "metadata": {},
          "execution_count": 25
        }
      ]
    },
    {
      "cell_type": "code",
      "source": [
        "#   (or)\n",
        "l1=[i for i in input().split()]\n",
        "l2=[i for i in input().split()]\n",
        "for i in l2:\n",
        "  l1.append(i)\n",
        "print(l1)"
      ],
      "metadata": {
        "colab": {
          "base_uri": "https://localhost:8080/"
        },
        "id": "PU3i2D4eJEj3",
        "outputId": "81ea4739-6d6c-41ba-9b67-9a0ee5d21827"
      },
      "execution_count": null,
      "outputs": [
        {
          "output_type": "stream",
          "name": "stdout",
          "text": [
            "a b c\n",
            "1 2 3\n",
            "['a', 'b', 'c', '1', '2', '3']\n"
          ]
        }
      ]
    },
    {
      "cell_type": "code",
      "source": [
        "#duplicates list\n",
        "x=[int(i) for i in input().split()]\n",
        "y=[]    #nos\n",
        "z=[]    #duplicates\n",
        "for i in x:\n",
        "  if i not in y:\n",
        "    y.append(i)\n",
        "  else:\n",
        "    z.append(i)\n",
        "print (z)\n",
        "\n"
      ],
      "metadata": {
        "colab": {
          "base_uri": "https://localhost:8080/"
        },
        "id": "1MCgx4YaZUt3",
        "outputId": "2a1d7b86-b669-41b5-e2f4-a6688512c7dc"
      },
      "execution_count": null,
      "outputs": [
        {
          "output_type": "stream",
          "name": "stdout",
          "text": [
            "1 2 3 4 2 1\n",
            "[2, 1]\n"
          ]
        }
      ]
    },
    {
      "cell_type": "code",
      "source": [
        "'''\n",
        "Python code to create a list of 10 numbers from 0 to 9\n",
        "i. print even numbers\n",
        "ii. print odd numbers\n",
        "iii. append 10 to even numbers and 11 to odd numbers\n",
        "\n",
        "'''"
      ],
      "metadata": {
        "id": "ObnVs9NdJvGb"
      },
      "execution_count": null,
      "outputs": []
    },
    {
      "cell_type": "code",
      "source": [
        "x=[]\n",
        "for i in range(0,10):\n",
        "  x.append(i)\n",
        "print(x)\n"
      ],
      "metadata": {
        "colab": {
          "base_uri": "https://localhost:8080/"
        },
        "id": "hWa1lAqZJxmb",
        "outputId": "b295bca9-0d61-460f-8ce8-0ba0241697b7"
      },
      "execution_count": null,
      "outputs": [
        {
          "output_type": "stream",
          "name": "stdout",
          "text": [
            "[0, 1, 2, 3, 4, 5, 6, 7, 8, 9]\n"
          ]
        }
      ]
    },
    {
      "cell_type": "code",
      "source": [
        "even=[]\n",
        "odd=[]\n",
        "for i in x:\n",
        "  if(i%2==0):\n",
        "    even.append(i)\n",
        "  else:\n",
        "    odd.append(i)\n",
        "print(even)\n",
        "print(odd)"
      ],
      "metadata": {
        "colab": {
          "base_uri": "https://localhost:8080/"
        },
        "id": "hLvYDdyiKQH0",
        "outputId": "58b76b5a-cb3a-4ba5-93d1-e9c368b3c893"
      },
      "execution_count": null,
      "outputs": [
        {
          "output_type": "stream",
          "name": "stdout",
          "text": [
            "[0, 2, 4, 6, 8]\n",
            "[1, 3, 5, 7, 9]\n"
          ]
        }
      ]
    },
    {
      "cell_type": "code",
      "source": [
        "even.append(10)\n",
        "even"
      ],
      "metadata": {
        "colab": {
          "base_uri": "https://localhost:8080/"
        },
        "id": "UrWklYmkKpaI",
        "outputId": "c3fc6d56-71df-4bc3-f8a5-d2c7e95a4688"
      },
      "execution_count": null,
      "outputs": [
        {
          "output_type": "execute_result",
          "data": {
            "text/plain": [
              "[0, 2, 4, 6, 8, 10]"
            ]
          },
          "metadata": {},
          "execution_count": 31
        }
      ]
    },
    {
      "cell_type": "code",
      "source": [
        "odd.append(11)\n",
        "odd"
      ],
      "metadata": {
        "colab": {
          "base_uri": "https://localhost:8080/"
        },
        "id": "yvS0GffxLGWB",
        "outputId": "dc7316f5-4aed-4356-c12f-6e35fb5ef507"
      },
      "execution_count": null,
      "outputs": [
        {
          "output_type": "execute_result",
          "data": {
            "text/plain": [
              "[1, 3, 5, 7, 9, 11]"
            ]
          },
          "metadata": {},
          "execution_count": 32
        }
      ]
    },
    {
      "cell_type": "code",
      "source": [
        "'''\n",
        "1.\n",
        "name = ['Snowball', 'Chewy', 'Bubbles', 'Gruff']\n",
        "animal = ['Cat', 'Dog', 'Fish', 'Goat']\n",
        "age = [1, 2, 2, 6]\n",
        "\n",
        "Snowball cat is 1\n",
        "\n",
        "'''"
      ],
      "metadata": {
        "id": "5YVHXOkGLR4q"
      },
      "execution_count": null,
      "outputs": []
    },
    {
      "cell_type": "code",
      "source": [
        "name = ['Snowball', 'Chewy', 'Bubbles', 'Gruff']\n",
        "animal = ['Cat', 'Dog', 'Fish', 'Goat']\n",
        "age = [1, 2, 2, 6]\n",
        "\n",
        "for  x,y,z in zip(name,animal,age):\n",
        "  print(f'{x} {y} is {z}')"
      ],
      "metadata": {
        "colab": {
          "base_uri": "https://localhost:8080/"
        },
        "id": "IwdFlbDFLUk_",
        "outputId": "7bdd16d5-73b1-42af-8e36-9fae650ce337"
      },
      "execution_count": null,
      "outputs": [
        {
          "output_type": "stream",
          "name": "stdout",
          "text": [
            "Snowball Cat is 1\n",
            "Chewy Dog is 2\n",
            "Bubbles Fish is 2\n",
            "Gruff Goat is 6\n"
          ]
        }
      ]
    },
    {
      "cell_type": "code",
      "source": [
        "#Reverse\n",
        "x = [100, 200, 300, 400, 500]\n",
        "x[::-1]"
      ],
      "metadata": {
        "colab": {
          "base_uri": "https://localhost:8080/"
        },
        "id": "DoAov6fAMKSr",
        "outputId": "ddb4c7c4-ac1c-4fac-cc8d-d4aca9135fa0"
      },
      "execution_count": null,
      "outputs": [
        {
          "output_type": "execute_result",
          "data": {
            "text/plain": [
              "[100, 200, 300, 400]"
            ]
          },
          "metadata": {},
          "execution_count": 39
        }
      ]
    },
    {
      "cell_type": "code",
      "source": [
        "'''\n",
        "list1 = [\"M\", \"na\", \"i\", \"Ke\"]\n",
        "list2 = [\"y\", \"me\", \"s\", \"lly\"]\n",
        "\n",
        "write a python code to concatenate two list based on index\n",
        "My name is Kelly\n",
        "'''"
      ],
      "metadata": {
        "id": "Fat9izcGNZ__"
      },
      "execution_count": null,
      "outputs": []
    },
    {
      "cell_type": "code",
      "source": [
        "list1 = [\"M\", \"na\", \"i\", \"Ke\"]\n",
        "list2 = [\"y\", \"me\", \"s\", \"lly\"]\n",
        "a=[]\n",
        "for i,j in zip(list1,list2):\n",
        "  a.append(i+j)\n",
        "\" \".join(a)\n"
      ],
      "metadata": {
        "colab": {
          "base_uri": "https://localhost:8080/",
          "height": 36
        },
        "id": "B9xINsP1Nhom",
        "outputId": "60559345-f224-4d70-df23-cd9514df7334"
      },
      "execution_count": null,
      "outputs": [
        {
          "output_type": "execute_result",
          "data": {
            "text/plain": [
              "'My name is Kelly'"
            ],
            "application/vnd.google.colaboratory.intrinsic+json": {
              "type": "string"
            }
          },
          "metadata": {},
          "execution_count": 42
        }
      ]
    },
    {
      "cell_type": "code",
      "source": [
        "'''\n",
        "Python code\n",
        "\n",
        "list1 = [\"Hello\",\"take\"]\n",
        "list2 = [\"Dear\",\"son\"]\n",
        "\n",
        "['Hello Dear', 'Hello son', 'take Dear', 'take son']\n",
        "\n",
        "'''"
      ],
      "metadata": {
        "id": "6bdVTJKvOMsz"
      },
      "execution_count": null,
      "outputs": []
    },
    {
      "cell_type": "code",
      "source": [
        "a=[]\n",
        "list1 = [\"Hello\",\"take\"]\n",
        "list2 = [\"Dear\",\"son\"]\n",
        "for i in list1:\n",
        "  for j in list2:\n",
        "    k=i+\" \"+j\n",
        "    a.append(k)\n",
        "print(a)"
      ],
      "metadata": {
        "colab": {
          "base_uri": "https://localhost:8080/"
        },
        "id": "157xnrR_ONwL",
        "outputId": "a131f8c7-1535-4c91-db93-ddc995c2060a"
      },
      "execution_count": null,
      "outputs": [
        {
          "output_type": "stream",
          "name": "stdout",
          "text": [
            "['Hello Dear', 'Hello son', 'take Dear', 'take son']\n"
          ]
        }
      ]
    },
    {
      "cell_type": "code",
      "source": [
        "'''\n",
        "list1 = [10, 20, 30, 40]\n",
        "list2 = [100, 200, 300, 400]\n",
        "Output:\n",
        "10 400\n",
        "20 300\n",
        "30 200\n",
        "40 100\n",
        "'''\n"
      ],
      "metadata": {
        "id": "FwqK7ddJOsc-"
      },
      "execution_count": null,
      "outputs": []
    },
    {
      "cell_type": "code",
      "source": [
        "list1 = [10, 20, 30, 40]\n",
        "list2 = [100, 200, 300, 400]\n",
        "l2=list2[::-1]\n",
        "l2"
      ],
      "metadata": {
        "colab": {
          "base_uri": "https://localhost:8080/"
        },
        "id": "xZErZHmfO03P",
        "outputId": "f29d73bb-64c9-4a37-fef9-200a907b594f"
      },
      "execution_count": null,
      "outputs": [
        {
          "output_type": "execute_result",
          "data": {
            "text/plain": [
              "[400, 300, 200, 100]"
            ]
          },
          "metadata": {},
          "execution_count": 47
        }
      ]
    },
    {
      "cell_type": "code",
      "source": [
        "list1 = [10, 20, 30, 40]\n",
        "#list2 = [100, 200, 300, 400]\n",
        "l2=[400, 300, 200, 100]\n",
        "for i,j in zip(list1,l2):\n",
        "  print(i,j)"
      ],
      "metadata": {
        "colab": {
          "base_uri": "https://localhost:8080/"
        },
        "id": "738VgE9dPBbc",
        "outputId": "d32887f1-07f8-43ea-9a34-822602484a53"
      },
      "execution_count": null,
      "outputs": [
        {
          "output_type": "stream",
          "name": "stdout",
          "text": [
            "10 400\n",
            "20 300\n",
            "30 200\n",
            "40 100\n"
          ]
        }
      ]
    },
    {
      "cell_type": "code",
      "source": [
        "'''\n",
        "1. Remove empty strings from the list of strings list1 = [\"Mike\", \"\", \"Emma\", \"Kelly\", \"\", \"Brad\"]\n",
        "2. list1 = [10, 20, [300, 400, [5000, 6000], 500], 30, 40]\n",
        "           [10, 20, [300, 400, [5000, 6000, 7000], 500], 30, 40] append 7000 to the list\n",
        "3.  Replace list’s item with new value if found\n",
        "    You have given a Python list. Write a program to find value 20 in the list,\n",
        "    and if it is present, replace it with 200. Only update the first occurrence of an item.\n",
        "4.  Remove all occurrences of a specific item from a list.\n",
        "Given a Python list, write a program to remove all occurrences of item 20\n",
        "'''"
      ],
      "metadata": {
        "id": "2x9kzE8sL75I"
      },
      "execution_count": null,
      "outputs": []
    },
    {
      "cell_type": "code",
      "source": [
        "li=[str(i) for i in input().split()]\n",
        "for i in li:\n",
        "    if(len(i)==0):\n",
        "        li.remove(\"\")\n",
        "print(li)"
      ],
      "metadata": {
        "id": "YNbUGVsgKcs9"
      },
      "execution_count": null,
      "outputs": []
    },
    {
      "cell_type": "code",
      "source": [
        "def emp(li):\n",
        "  for i in li:\n",
        "    if(len(i)==0):\n",
        "        li.remove(\"\")\n",
        "  print(li)\n",
        "\n",
        "li=[\"mick\", \"\", \"rick\"]\n",
        "emp(li)"
      ],
      "metadata": {
        "colab": {
          "base_uri": "https://localhost:8080/"
        },
        "id": "XcJwFwfSnXQK",
        "outputId": "1f1c6fa1-fbff-40b6-f754-8b23288e68ae"
      },
      "execution_count": null,
      "outputs": [
        {
          "output_type": "stream",
          "name": "stdout",
          "text": [
            "['mick', 'rick']\n"
          ]
        }
      ]
    },
    {
      "cell_type": "code",
      "source": [
        "def ads(li):\n",
        "  #for i in range(0,len(li)):\n",
        "    #for j in i:\n",
        "  li[2][2].append(7000)\n",
        "print(li)\n",
        "\n",
        "li=[10,20,[300,400,[5000,6000],500],30,40]\n",
        "ads(li)\n"
      ],
      "metadata": {
        "colab": {
          "base_uri": "https://localhost:8080/"
        },
        "id": "S_hqAWg0EhpB",
        "outputId": "19d72aa3-97fb-4520-b4f6-032bf9256450"
      },
      "execution_count": null,
      "outputs": [
        {
          "output_type": "stream",
          "name": "stdout",
          "text": [
            "[10, 20, [300, 400, [5000, 6000, 7000], 500], 30, 40]\n"
          ]
        }
      ]
    },
    {
      "cell_type": "code",
      "source": [
        "li=[int(i) for i in input().split()]\n",
        "for i in range(0,len(li)):\n",
        "  if(li[i]==20):\n",
        "    n=200\n",
        "    li[i]=n\n",
        "    break\n",
        "print(li)\n"
      ],
      "metadata": {
        "colab": {
          "base_uri": "https://localhost:8080/"
        },
        "id": "r-lN2GV6nt7m",
        "outputId": "5b24e6e9-149f-4163-ab9c-8c3aadb4ff1e"
      },
      "execution_count": null,
      "outputs": [
        {
          "output_type": "stream",
          "name": "stdout",
          "text": [
            "10 20 30 20\n",
            "[10, 200, 30, 20]\n"
          ]
        }
      ]
    },
    {
      "cell_type": "code",
      "source": [
        "li=[int(i) for i in input().split()]\n",
        "for i in range(0,len(li)-1):\n",
        "  if(li[i]==20):\n",
        "    li.remove(li[i])\n",
        "print(li)"
      ],
      "metadata": {
        "colab": {
          "base_uri": "https://localhost:8080/"
        },
        "id": "8U3Yvwq6tPWO",
        "outputId": "313caa6f-7055-4232-ee73-5ccc3dc20b8d"
      },
      "execution_count": null,
      "outputs": [
        {
          "output_type": "stream",
          "name": "stdout",
          "text": [
            "10 20 30 20\n",
            "[10, 30]\n"
          ]
        }
      ]
    },
    {
      "cell_type": "markdown",
      "source": [
        "Tuples"
      ],
      "metadata": {
        "id": "IIQuHAaL1cOZ"
      }
    },
    {
      "cell_type": "code",
      "source": [
        "#tuples will be declared in(\"x\")"
      ],
      "metadata": {
        "id": "70z8AkfN1T8H"
      },
      "execution_count": null,
      "outputs": []
    },
    {
      "cell_type": "code",
      "source": [
        "thistuple=(\"apple\",\"banana\",\"cherry\",\"apple\",\"cherry\")\n",
        "len(thistuple)"
      ],
      "metadata": {
        "id": "SQ1Dkyptv7Em",
        "colab": {
          "base_uri": "https://localhost:8080/"
        },
        "outputId": "eb249411-be73-414b-dfe0-cf8bf5022006"
      },
      "execution_count": null,
      "outputs": [
        {
          "output_type": "execute_result",
          "data": {
            "text/plain": [
              "5"
            ]
          },
          "metadata": {},
          "execution_count": 1
        }
      ]
    },
    {
      "cell_type": "code",
      "source": [
        "type(thistuple)"
      ],
      "metadata": {
        "colab": {
          "base_uri": "https://localhost:8080/"
        },
        "id": "s1yfUiMnzBcF",
        "outputId": "cebc54df-d544-4769-cc8c-dc5ce0b71d68"
      },
      "execution_count": null,
      "outputs": [
        {
          "output_type": "execute_result",
          "data": {
            "text/plain": [
              "tuple"
            ]
          },
          "metadata": {},
          "execution_count": 2
        }
      ]
    },
    {
      "cell_type": "code",
      "source": [
        "#tuple can be string numbers and booleans and numbers\n",
        "t1=(\"apple\",\"banana\",\"cherry\")\n",
        "t2=(True,False,True)\n",
        "t3=(1,2,3,4)\n",
        "t4=(\"apple\",True,5)"
      ],
      "metadata": {
        "id": "MXhqwEKxzD3s"
      },
      "execution_count": null,
      "outputs": []
    },
    {
      "cell_type": "code",
      "source": [
        "t=(1,2,3,4)\n",
        "type(t)"
      ],
      "metadata": {
        "colab": {
          "base_uri": "https://localhost:8080/"
        },
        "id": "OnpO7k-xQBdo",
        "outputId": "ea91da01-8af5-46d6-9c13-729cf677d243"
      },
      "execution_count": null,
      "outputs": [
        {
          "output_type": "execute_result",
          "data": {
            "text/plain": [
              "tuple"
            ]
          },
          "metadata": {},
          "execution_count": 9
        }
      ]
    },
    {
      "cell_type": "code",
      "source": [
        "thistuple=(\"apple\",\"banana\",\"cherry\",\"apple\",\"cherry\")\n",
        "thistuple[0]"
      ],
      "metadata": {
        "colab": {
          "base_uri": "https://localhost:8080/",
          "height": 36
        },
        "id": "pbaYrCi3zYmV",
        "outputId": "d312eca0-fc10-44f3-d5dd-6a11b5eaa10b"
      },
      "execution_count": null,
      "outputs": [
        {
          "output_type": "execute_result",
          "data": {
            "text/plain": [
              "'apple'"
            ],
            "application/vnd.google.colaboratory.intrinsic+json": {
              "type": "string"
            }
          },
          "metadata": {},
          "execution_count": 11
        }
      ]
    },
    {
      "cell_type": "code",
      "source": [
        "thistuple[-1]"
      ],
      "metadata": {
        "colab": {
          "base_uri": "https://localhost:8080/",
          "height": 36
        },
        "id": "RJ0TxXJbzbIG",
        "outputId": "593ff89a-3f6e-4e86-d5aa-8dd361d779b6"
      },
      "execution_count": null,
      "outputs": [
        {
          "output_type": "execute_result",
          "data": {
            "text/plain": [
              "'cherry'"
            ],
            "application/vnd.google.colaboratory.intrinsic+json": {
              "type": "string"
            }
          },
          "metadata": {},
          "execution_count": 4
        }
      ]
    },
    {
      "cell_type": "code",
      "source": [
        "thistuple[1:]"
      ],
      "metadata": {
        "colab": {
          "base_uri": "https://localhost:8080/"
        },
        "id": "iuLvEfF0zgZj",
        "outputId": "96c0fb10-e256-4eec-8fef-4f4772309809"
      },
      "execution_count": null,
      "outputs": [
        {
          "output_type": "execute_result",
          "data": {
            "text/plain": [
              "('banana', 'cherry', 'apple', 'cherry')"
            ]
          },
          "metadata": {},
          "execution_count": 5
        }
      ]
    },
    {
      "cell_type": "code",
      "source": [
        "if \"apple\" in thistuple:\n",
        "  print(\"present\")"
      ],
      "metadata": {
        "colab": {
          "base_uri": "https://localhost:8080/"
        },
        "id": "Z5x_IzWfzjzu",
        "outputId": "b0df865b-db5e-48a8-ad7a-1fa728e3a76c"
      },
      "execution_count": null,
      "outputs": [
        {
          "output_type": "stream",
          "name": "stdout",
          "text": [
            "present\n"
          ]
        }
      ]
    },
    {
      "cell_type": "code",
      "source": [
        "thistuple"
      ],
      "metadata": {
        "colab": {
          "base_uri": "https://localhost:8080/"
        },
        "id": "o0hi6FGQzpvn",
        "outputId": "8d7e7172-9caf-460d-f16d-88f9148e0b76"
      },
      "execution_count": null,
      "outputs": [
        {
          "output_type": "execute_result",
          "data": {
            "text/plain": [
              "('apple', 'banana', 'cherry', 'apple', 'cherry')"
            ]
          },
          "metadata": {},
          "execution_count": 7
        }
      ]
    },
    {
      "cell_type": "code",
      "source": [
        "#in tuple values can not be added or remove\n",
        "thistuple.append(\"orange\")"
      ],
      "metadata": {
        "colab": {
          "base_uri": "https://localhost:8080/",
          "height": 175
        },
        "id": "ur4_goJmz-PL",
        "outputId": "238c57b2-b562-4e8b-c9b0-a824ec992002"
      },
      "execution_count": null,
      "outputs": [
        {
          "output_type": "error",
          "ename": "AttributeError",
          "evalue": "ignored",
          "traceback": [
            "\u001b[0;31m---------------------------------------------------------------------------\u001b[0m",
            "\u001b[0;31mAttributeError\u001b[0m                            Traceback (most recent call last)",
            "\u001b[0;32m<ipython-input-8-d50346e2659c>\u001b[0m in \u001b[0;36m<cell line: 1>\u001b[0;34m()\u001b[0m\n\u001b[0;32m----> 1\u001b[0;31m \u001b[0mthistuple\u001b[0m\u001b[0;34m.\u001b[0m\u001b[0mappend\u001b[0m\u001b[0;34m(\u001b[0m\u001b[0;34m\"orange\"\u001b[0m\u001b[0;34m)\u001b[0m\u001b[0;34m\u001b[0m\u001b[0;34m\u001b[0m\u001b[0m\n\u001b[0m",
            "\u001b[0;31mAttributeError\u001b[0m: 'tuple' object has no attribute 'append'"
          ]
        }
      ]
    },
    {
      "cell_type": "code",
      "source": [
        "#instead conbert tuple into list and then add  or remove value and convert list to tuple\n",
        "li=list(thistuple)\n",
        "li.append(\"orange\")\n",
        "thistuple=tuple(li)"
      ],
      "metadata": {
        "id": "sTkZdXU00Bc4"
      },
      "execution_count": null,
      "outputs": []
    },
    {
      "cell_type": "code",
      "source": [
        "thistuple"
      ],
      "metadata": {
        "colab": {
          "base_uri": "https://localhost:8080/"
        },
        "id": "WIUPk2oe0G4b",
        "outputId": "5ffb808e-b31e-41f1-c014-e7b34176e5e5"
      },
      "execution_count": null,
      "outputs": [
        {
          "output_type": "execute_result",
          "data": {
            "text/plain": [
              "('apple', 'banana', 'cherry', 'apple', 'cherry', 'orange')"
            ]
          },
          "metadata": {},
          "execution_count": 12
        }
      ]
    },
    {
      "cell_type": "code",
      "source": [
        "tup1=(\"apple\",\"banana\",\"orange\")\n",
        "for i in tup1:\n",
        "  print(i)"
      ],
      "metadata": {
        "colab": {
          "base_uri": "https://localhost:8080/"
        },
        "id": "3cMgTozt0Yja",
        "outputId": "4993b0ae-8566-4dc9-bf8d-7883c9bb291f"
      },
      "execution_count": null,
      "outputs": [
        {
          "output_type": "stream",
          "name": "stdout",
          "text": [
            "apple\n",
            "banana\n",
            "orange\n"
          ]
        }
      ]
    },
    {
      "cell_type": "code",
      "source": [
        "#   (or)\n",
        "tup1=(\"apple\",\"banana\",\"orange\")\n",
        "for i in range(0,len(tup1)):\n",
        "  print(tup1[i])"
      ],
      "metadata": {
        "colab": {
          "base_uri": "https://localhost:8080/"
        },
        "id": "Ef1YYFUHQTbm",
        "outputId": "e184059d-bcb9-4cb4-ff31-aced5d0e4c42"
      },
      "execution_count": null,
      "outputs": [
        {
          "output_type": "stream",
          "name": "stdout",
          "text": [
            "apple\n",
            "banana\n",
            "orange\n"
          ]
        }
      ]
    },
    {
      "cell_type": "code",
      "source": [
        "#   (or)\n",
        "i=0\n",
        "while(i<len(tup1)):\n",
        "  print(tup1[i])\n",
        "  i=i+1"
      ],
      "metadata": {
        "colab": {
          "base_uri": "https://localhost:8080/"
        },
        "id": "wthPL-rOQyCR",
        "outputId": "b50b7697-1c6e-44af-cd3c-6b10f3a63441"
      },
      "execution_count": null,
      "outputs": [
        {
          "output_type": "stream",
          "name": "stdout",
          "text": [
            "apple\n",
            "banana\n",
            "orange\n"
          ]
        }
      ]
    },
    {
      "cell_type": "code",
      "source": [
        "# length\n",
        "i=0\n",
        "while(i<len(tup1)):\n",
        "  print(len(tup1[i]))\n",
        "  i=i+1"
      ],
      "metadata": {
        "id": "Xo59JNJwRc6S"
      },
      "execution_count": null,
      "outputs": []
    },
    {
      "cell_type": "code",
      "source": [
        "li=[1,2,34,5]\n",
        "for i in li:\n",
        "  n=li.count(i)\n",
        "print(n)"
      ],
      "metadata": {
        "id": "fVC5s7KY04_Q",
        "colab": {
          "base_uri": "https://localhost:8080/"
        },
        "outputId": "7303cefc-4c07-4cf8-9511-014e5e38555c"
      },
      "execution_count": null,
      "outputs": [
        {
          "output_type": "stream",
          "name": "stdout",
          "text": [
            "1\n"
          ]
        }
      ]
    },
    {
      "cell_type": "code",
      "source": [
        "a=['Tutor', 'joes', 'Computer', 'Education']\n",
        "a[::-1]\n"
      ],
      "metadata": {
        "id": "e3vzqx5-DRdj"
      },
      "execution_count": null,
      "outputs": []
    },
    {
      "cell_type": "code",
      "source": [
        "a=['Tutor', 'joes', 'Computer', 'Education']\n",
        "for i in a:\n",
        "  n=i[::-1]\n",
        "  print(n)"
      ],
      "metadata": {
        "colab": {
          "base_uri": "https://localhost:8080/"
        },
        "id": "RAQ0-GbjER-3",
        "outputId": "e1f059bf-75ac-4a04-ec73-94c230b06bb1"
      },
      "execution_count": null,
      "outputs": [
        {
          "output_type": "stream",
          "name": "stdout",
          "text": [
            "rotuT\n",
            "seoj\n",
            "retupmoC\n",
            "noitacudE\n"
          ]
        }
      ]
    },
    {
      "cell_type": "code",
      "source": [
        "res = [i[::-1] for i in a]"
      ],
      "metadata": {
        "id": "cJ8ZWcAgNR2s"
      },
      "execution_count": null,
      "outputs": []
    },
    {
      "cell_type": "code",
      "source": [
        "print (res)"
      ],
      "metadata": {
        "colab": {
          "base_uri": "https://localhost:8080/"
        },
        "id": "Qq9SMwQVOmUk",
        "outputId": "284c693a-726d-4781-d284-7b423008e0ae"
      },
      "execution_count": null,
      "outputs": [
        {
          "output_type": "stream",
          "name": "stdout",
          "text": [
            "['rotuT', 'seoj', 'retupmoC', 'noitacudE']\n"
          ]
        }
      ]
    },
    {
      "cell_type": "markdown",
      "source": [
        "sets\n"
      ],
      "metadata": {
        "id": "cJGXCqTP7iQg"
      }
    },
    {
      "cell_type": "code",
      "source": [
        "myset={\"orange\",\"banana\",\"cherry\"}"
      ],
      "metadata": {
        "id": "Ek-nWXEgOvZM"
      },
      "execution_count": null,
      "outputs": []
    },
    {
      "cell_type": "code",
      "source": [
        "'''\n",
        "unordered\n",
        "unchanged\n",
        "no duplicates\n",
        "canot be accesed with index\n",
        "'''"
      ],
      "metadata": {
        "colab": {
          "base_uri": "https://localhost:8080/",
          "height": 36
        },
        "id": "rbLZ3Dln7sxL",
        "outputId": "93501d84-aa70-41f4-8895-1988b096c1ff"
      },
      "execution_count": null,
      "outputs": [
        {
          "output_type": "execute_result",
          "data": {
            "text/plain": [
              "'\\nunordered\\nunchanged\\ncanot be accesed with index\\n'"
            ],
            "application/vnd.google.colaboratory.intrinsic+json": {
              "type": "string"
            }
          },
          "metadata": {},
          "execution_count": 2
        }
      ]
    },
    {
      "cell_type": "code",
      "source": [
        "myset={\"cococnut\",\"mango\",\"orange\"}\n",
        "mytup=(\"cococnut\",\"mango\",\"orange\")\n",
        "mylist=[\"cococnut\",\"mango\",\"orange\"]\n",
        "\n",
        "print(myset)\n",
        "print(mytup)\n",
        "print(mylist)"
      ],
      "metadata": {
        "colab": {
          "base_uri": "https://localhost:8080/"
        },
        "id": "46Q4pGP5Xw2y",
        "outputId": "0b9a4dfb-cf81-4f13-d128-6f95945cfb17"
      },
      "execution_count": null,
      "outputs": [
        {
          "output_type": "stream",
          "name": "stdout",
          "text": [
            "{'cococnut', 'orange', 'mango'}\n",
            "('cococnut', 'mango', 'orange')\n",
            "['cococnut', 'mango', 'orange']\n"
          ]
        }
      ]
    },
    {
      "cell_type": "code",
      "source": [
        "myset[0]"
      ],
      "metadata": {
        "colab": {
          "base_uri": "https://localhost:8080/",
          "height": 175
        },
        "id": "3gdvyldF73nZ",
        "outputId": "b6ecbba9-1bc3-4a34-b9f9-d3b22214d0f2"
      },
      "execution_count": null,
      "outputs": [
        {
          "output_type": "error",
          "ename": "TypeError",
          "evalue": "ignored",
          "traceback": [
            "\u001b[0;31m---------------------------------------------------------------------------\u001b[0m",
            "\u001b[0;31mTypeError\u001b[0m                                 Traceback (most recent call last)",
            "\u001b[0;32m<ipython-input-3-5445583283da>\u001b[0m in \u001b[0;36m<cell line: 1>\u001b[0;34m()\u001b[0m\n\u001b[0;32m----> 1\u001b[0;31m \u001b[0mmyset\u001b[0m\u001b[0;34m[\u001b[0m\u001b[0;36m0\u001b[0m\u001b[0;34m]\u001b[0m\u001b[0;34m\u001b[0m\u001b[0;34m\u001b[0m\u001b[0m\n\u001b[0m",
            "\u001b[0;31mTypeError\u001b[0m: 'set' object is not subscriptable"
          ]
        }
      ]
    },
    {
      "cell_type": "code",
      "source": [
        "myset={\"orange\",\"banana\",\"cherry\",\"orange\"}\n",
        "myset"
      ],
      "metadata": {
        "colab": {
          "base_uri": "https://localhost:8080/"
        },
        "id": "U9L13CKL76rV",
        "outputId": "d5cb8463-5956-463d-d75c-7fe9547b19ef"
      },
      "execution_count": null,
      "outputs": [
        {
          "output_type": "execute_result",
          "data": {
            "text/plain": [
              "{'banana', 'cherry', 'orange'}"
            ]
          },
          "metadata": {},
          "execution_count": 4
        }
      ]
    },
    {
      "cell_type": "code",
      "source": [
        "myset={\"orange\",\"banana\",\"cherry\",True,1,2}  #sets assume that true is same as 1\n",
        "myset"
      ],
      "metadata": {
        "colab": {
          "base_uri": "https://localhost:8080/"
        },
        "id": "vE9Mn-C_8Hlv",
        "outputId": "bbc2a001-54b1-4546-8f9a-288ca199cff8"
      },
      "execution_count": null,
      "outputs": [
        {
          "output_type": "execute_result",
          "data": {
            "text/plain": [
              "{2, True, 'banana', 'cherry', 'orange'}"
            ]
          },
          "metadata": {},
          "execution_count": 6
        }
      ]
    },
    {
      "cell_type": "code",
      "source": [
        "myset={\"orange\",\"banana\",\"cherry\"}\n",
        "len(myset)"
      ],
      "metadata": {
        "colab": {
          "base_uri": "https://localhost:8080/"
        },
        "id": "awPyvVdJ8QdV",
        "outputId": "e798b085-233f-465e-98d7-d6010f5f53b3"
      },
      "execution_count": null,
      "outputs": [
        {
          "output_type": "execute_result",
          "data": {
            "text/plain": [
              "3"
            ]
          },
          "metadata": {},
          "execution_count": 18
        }
      ]
    },
    {
      "cell_type": "code",
      "source": [
        "type(myset)"
      ],
      "metadata": {
        "id": "67kJQBbUX9HU",
        "outputId": "63be08f7-403d-4419-85d1-f1da070550fb",
        "colab": {
          "base_uri": "https://localhost:8080/"
        }
      },
      "execution_count": null,
      "outputs": [
        {
          "output_type": "execute_result",
          "data": {
            "text/plain": [
              "set"
            ]
          },
          "metadata": {},
          "execution_count": 19
        }
      ]
    },
    {
      "cell_type": "code",
      "source": [
        "myset={\"orange\",\"banana\",\"cherry\"}\n",
        "myset={1,5,9,6,4}\n",
        "myset={True,False}\n",
        "#or combination of those"
      ],
      "metadata": {
        "id": "fDpmYv4D8f2c"
      },
      "execution_count": null,
      "outputs": []
    },
    {
      "cell_type": "code",
      "source": [
        "#set you cannot delete the elements but you can add elements\n",
        "myset={\"orange\",\"banana\",\"cherry\"}\n",
        "myset.add(\"apple\")\n",
        "myset"
      ],
      "metadata": {
        "colab": {
          "base_uri": "https://localhost:8080/"
        },
        "id": "1XSJ6lVn8yX2",
        "outputId": "54b33124-362d-4823-df3b-0a535051a8e8"
      },
      "execution_count": null,
      "outputs": [
        {
          "output_type": "execute_result",
          "data": {
            "text/plain": [
              "{'apple', 'banana', 'cherry', 'orange'}"
            ]
          },
          "metadata": {},
          "execution_count": 11
        }
      ]
    },
    {
      "cell_type": "code",
      "source": [
        "#to combine two sets\n",
        "myset1={\"orange\",\"banana\",\"cherry\"}\n",
        "myset2={1,5,9,6,4}\n",
        "myset1.union(myset2)\n"
      ],
      "metadata": {
        "colab": {
          "base_uri": "https://localhost:8080/"
        },
        "id": "Z_HssjCU9Fv5",
        "outputId": "b9554e27-19a0-426f-918d-d66c7dd19557"
      },
      "execution_count": null,
      "outputs": [
        {
          "output_type": "execute_result",
          "data": {
            "text/plain": [
              "{1, 4, 5, 6, 9, 'banana', 'cherry', 'orange'}"
            ]
          },
          "metadata": {},
          "execution_count": 12
        }
      ]
    },
    {
      "cell_type": "code",
      "source": [
        "#to combine two sets\n",
        "myset1={\"orange\",\"banana\",\"cherry\"}\n",
        "myset2={1,5,9,6,4}\n",
        "myset1.update(myset2)\n",
        "myset1"
      ],
      "metadata": {
        "colab": {
          "base_uri": "https://localhost:8080/"
        },
        "id": "3L4W4Eah-NFg",
        "outputId": "76ed312c-44ee-4437-929e-ea8149107025"
      },
      "execution_count": null,
      "outputs": [
        {
          "output_type": "execute_result",
          "data": {
            "text/plain": [
              "{1, 4, 5, 6, 9, 'banana', 'cherry', 'orange'}"
            ]
          },
          "metadata": {},
          "execution_count": 14
        }
      ]
    },
    {
      "cell_type": "code",
      "source": [
        "set1={\"a\",\"b\",\"c\"}\n"
      ],
      "metadata": {
        "id": "IN48AC4n-ioR"
      },
      "execution_count": null,
      "outputs": []
    },
    {
      "cell_type": "code",
      "source": [
        "\"a\" in set1"
      ],
      "metadata": {
        "colab": {
          "base_uri": "https://localhost:8080/"
        },
        "id": "TtnFGPEt-snT",
        "outputId": "e7f12d27-3b53-4101-b7c9-fe3abc983011"
      },
      "execution_count": null,
      "outputs": [
        {
          "output_type": "execute_result",
          "data": {
            "text/plain": [
              "True"
            ]
          },
          "metadata": {},
          "execution_count": 17
        }
      ]
    },
    {
      "cell_type": "code",
      "source": [
        "if \"a\" in set1:\n",
        "  print(\"present\")"
      ],
      "metadata": {
        "colab": {
          "base_uri": "https://localhost:8080/"
        },
        "id": "V2gcPpPJ-xv7",
        "outputId": "6760e8b2-a454-488a-9023-e8ec1f306eef"
      },
      "execution_count": null,
      "outputs": [
        {
          "output_type": "stream",
          "name": "stdout",
          "text": [
            "present\n"
          ]
        }
      ]
    },
    {
      "cell_type": "code",
      "source": [
        "#for 1-1 comparision we use zip"
      ],
      "metadata": {
        "id": "mmlMe_Qf-C7u"
      },
      "execution_count": null,
      "outputs": []
    },
    {
      "cell_type": "code",
      "source": [
        "#common in two sets\n",
        "set1={\"green\",\"blue\"}\n",
        "set2={\"yellow\",\"blue\"}\n",
        "l=[]\n",
        "for i in set1:\n",
        "  for j in set2:\n",
        "    if i==j:\n",
        "      l.append(i)\n",
        "print(l)"
      ],
      "metadata": {
        "colab": {
          "base_uri": "https://localhost:8080/"
        },
        "id": "e7xLmdtq9pPP",
        "outputId": "39337bb3-5aac-41ba-9e8c-7a16723edd01"
      },
      "execution_count": null,
      "outputs": [
        {
          "output_type": "stream",
          "name": "stdout",
          "text": [
            "['blue']\n"
          ]
        }
      ]
    },
    {
      "cell_type": "code",
      "source": [
        "set(l)"
      ],
      "metadata": {
        "colab": {
          "base_uri": "https://localhost:8080/"
        },
        "id": "BKvzgLJE_8Xj",
        "outputId": "ef0eda72-0530-4684-9d40-86dee9dd4e04"
      },
      "execution_count": null,
      "outputs": [
        {
          "output_type": "execute_result",
          "data": {
            "text/plain": [
              "{'blue'}"
            ]
          },
          "metadata": {},
          "execution_count": 29
        }
      ]
    },
    {
      "cell_type": "code",
      "source": [
        "set1={\"green\",\"blue\"}\n",
        "set2={\"yellow\",\"blue\"}\n",
        "set1.difference(set2)"
      ],
      "metadata": {
        "colab": {
          "base_uri": "https://localhost:8080/"
        },
        "id": "Ow9XQVBE-6Av",
        "outputId": "6a4c8c04-2331-4587-c68b-8253252769fb"
      },
      "execution_count": null,
      "outputs": [
        {
          "output_type": "execute_result",
          "data": {
            "text/plain": [
              "{'green'}"
            ]
          },
          "metadata": {},
          "execution_count": 23
        }
      ]
    },
    {
      "cell_type": "code",
      "source": [
        "set1={52,63,97,1,69,3,2}\n",
        "max(set1)"
      ],
      "metadata": {
        "colab": {
          "base_uri": "https://localhost:8080/"
        },
        "id": "Z6pHY1kr_UhX",
        "outputId": "fe7ef12b-c926-4cf8-9896-e38d062e5555"
      },
      "execution_count": null,
      "outputs": [
        {
          "output_type": "execute_result",
          "data": {
            "text/plain": [
              "97"
            ]
          },
          "metadata": {},
          "execution_count": 25
        }
      ]
    },
    {
      "cell_type": "code",
      "source": [
        "min(set1)"
      ],
      "metadata": {
        "colab": {
          "base_uri": "https://localhost:8080/"
        },
        "id": "cn97Zc_V_elD",
        "outputId": "c21fee38-f4be-412e-efbf-17148654541e"
      },
      "execution_count": null,
      "outputs": [
        {
          "output_type": "execute_result",
          "data": {
            "text/plain": [
              "1"
            ]
          },
          "metadata": {},
          "execution_count": 26
        }
      ]
    },
    {
      "cell_type": "markdown",
      "source": [
        "dictionaries"
      ],
      "metadata": {
        "id": "FpzthcgIqprp"
      }
    },
    {
      "cell_type": "code",
      "source": [
        "thisdict={\"brand\":\"ford\",\"model\":\"mustang\",\"year\":1964}\n",
        "'''\n",
        "{}\n",
        "key:value(pairs)\n",
        "to access elements in dict we use keys not by indexing\n",
        "'''"
      ],
      "metadata": {
        "id": "Qq5Gphmy_n6y",
        "colab": {
          "base_uri": "https://localhost:8080/",
          "height": 36
        },
        "outputId": "2eaa9300-876c-429f-cf0e-33e8a357ac43"
      },
      "execution_count": null,
      "outputs": [
        {
          "output_type": "execute_result",
          "data": {
            "text/plain": [
              "'\\n{}\\nkey:value(pairs)\\nto access elements in dict we use keys not by indexing\\n'"
            ],
            "application/vnd.google.colaboratory.intrinsic+json": {
              "type": "string"
            }
          },
          "metadata": {},
          "execution_count": 4
        }
      ]
    },
    {
      "cell_type": "code",
      "source": [
        "thisdict"
      ],
      "metadata": {
        "colab": {
          "base_uri": "https://localhost:8080/"
        },
        "id": "e2nCgOI2rL5a",
        "outputId": "ba469900-5258-494a-b74a-e8ebae20fdf2"
      },
      "execution_count": null,
      "outputs": [
        {
          "output_type": "execute_result",
          "data": {
            "text/plain": [
              "{'brand': 'ford', 'model': 'mustang', 'year': 1964}"
            ]
          },
          "metadata": {},
          "execution_count": 5
        }
      ]
    },
    {
      "cell_type": "code",
      "source": [
        "thisdict['year']"
      ],
      "metadata": {
        "colab": {
          "base_uri": "https://localhost:8080/"
        },
        "id": "7Y9s3w6IrNJF",
        "outputId": "32d93397-0780-4876-c723-a3e765a34bf1"
      },
      "execution_count": null,
      "outputs": [
        {
          "output_type": "execute_result",
          "data": {
            "text/plain": [
              "1964"
            ]
          },
          "metadata": {},
          "execution_count": 6
        }
      ]
    },
    {
      "cell_type": "code",
      "source": [
        "len(thisdict)"
      ],
      "metadata": {
        "colab": {
          "base_uri": "https://localhost:8080/"
        },
        "id": "bUYebrLHrTHe",
        "outputId": "d7ecd16f-3260-4100-f4d6-95ed5c178f8f"
      },
      "execution_count": null,
      "outputs": [
        {
          "output_type": "execute_result",
          "data": {
            "text/plain": [
              "3"
            ]
          },
          "metadata": {},
          "execution_count": 7
        }
      ]
    },
    {
      "cell_type": "code",
      "source": [
        "thisdict={\n",
        "    \"brand\":\"ford\",\n",
        "    \"electric\":False,\n",
        "    \"year\":1964,\n",
        "    \"colors\":[\"red\",\"white\"]\n",
        "}"
      ],
      "metadata": {
        "id": "rg8cwX6_rXhg"
      },
      "execution_count": null,
      "outputs": []
    },
    {
      "cell_type": "code",
      "source": [
        "thisdict.keys()   # to get list of keys"
      ],
      "metadata": {
        "colab": {
          "base_uri": "https://localhost:8080/"
        },
        "id": "q21NobWhrz9C",
        "outputId": "a4dee9dd-f644-49f3-8f76-2a029e568084"
      },
      "execution_count": null,
      "outputs": [
        {
          "output_type": "execute_result",
          "data": {
            "text/plain": [
              "dict_keys(['brand', 'electric', 'year', 'colors'])"
            ]
          },
          "metadata": {},
          "execution_count": 10
        }
      ]
    },
    {
      "cell_type": "code",
      "source": [
        "thisdict"
      ],
      "metadata": {
        "colab": {
          "base_uri": "https://localhost:8080/"
        },
        "id": "6FI4VnQrr7T3",
        "outputId": "ee22415d-9756-4fe2-d948-9b56ed7f5fc6"
      },
      "execution_count": null,
      "outputs": [
        {
          "output_type": "execute_result",
          "data": {
            "text/plain": [
              "{'brand': 'ford', 'electric': False, 'year': 1964, 'colors': ['red', 'white']}"
            ]
          },
          "metadata": {},
          "execution_count": 11
        }
      ]
    },
    {
      "cell_type": "code",
      "source": [
        "thisdict.values()\n"
      ],
      "metadata": {
        "colab": {
          "base_uri": "https://localhost:8080/"
        },
        "id": "ROKhliVur9Db",
        "outputId": "92eee0a9-1b5a-4afd-cbee-209554cc606b"
      },
      "execution_count": null,
      "outputs": [
        {
          "output_type": "execute_result",
          "data": {
            "text/plain": [
              "dict_values(['ford', False, 1964, ['red', 'white']])"
            ]
          },
          "metadata": {},
          "execution_count": 12
        }
      ]
    },
    {
      "cell_type": "code",
      "source": [
        "thisdict.items()    # gives tuples"
      ],
      "metadata": {
        "colab": {
          "base_uri": "https://localhost:8080/"
        },
        "id": "vVkJy-_NsDAr",
        "outputId": "3781a078-edfb-4744-e073-5b32fd6b39c7"
      },
      "execution_count": null,
      "outputs": [
        {
          "output_type": "execute_result",
          "data": {
            "text/plain": [
              "dict_items([('brand', 'ford'), ('electric', False), ('year', 1964), ('colors', ['red', 'white'])])"
            ]
          },
          "metadata": {},
          "execution_count": 13
        }
      ]
    },
    {
      "cell_type": "code",
      "source": [
        "'year' in thisdict   # checks only if there is a matching key present in list"
      ],
      "metadata": {
        "colab": {
          "base_uri": "https://localhost:8080/"
        },
        "id": "I3J6ER2osFcR",
        "outputId": "0be0a53a-0fe1-4c72-afa4-2d4714ada53d"
      },
      "execution_count": null,
      "outputs": [
        {
          "output_type": "execute_result",
          "data": {
            "text/plain": [
              "True"
            ]
          },
          "metadata": {},
          "execution_count": 15
        }
      ]
    },
    {
      "cell_type": "code",
      "source": [
        "False in thisdict"
      ],
      "metadata": {
        "colab": {
          "base_uri": "https://localhost:8080/"
        },
        "id": "hUYkL_W-sQ0z",
        "outputId": "6e0c4ee4-64ec-414b-9f8b-f1121dceaa39"
      },
      "execution_count": null,
      "outputs": [
        {
          "output_type": "execute_result",
          "data": {
            "text/plain": [
              "False"
            ]
          },
          "metadata": {},
          "execution_count": 16
        }
      ]
    },
    {
      "cell_type": "code",
      "source": [
        "False in thisdict.values()     # checks only if there is a matching value present in list"
      ],
      "metadata": {
        "colab": {
          "base_uri": "https://localhost:8080/"
        },
        "id": "v166vLcwslMC",
        "outputId": "ea7e3c8c-9458-4a45-a84c-12ff1ef20ab4"
      },
      "execution_count": null,
      "outputs": [
        {
          "output_type": "execute_result",
          "data": {
            "text/plain": [
              "True"
            ]
          },
          "metadata": {},
          "execution_count": 17
        }
      ]
    },
    {
      "cell_type": "code",
      "source": [
        "# modifying values\n",
        "thisdict['year']=2023"
      ],
      "metadata": {
        "id": "eHQFc3Mnsphh"
      },
      "execution_count": null,
      "outputs": []
    },
    {
      "cell_type": "code",
      "source": [
        "thisdict"
      ],
      "metadata": {
        "colab": {
          "base_uri": "https://localhost:8080/"
        },
        "id": "67L_7W9ws18k",
        "outputId": "7274d7e7-0951-468e-f480-c3d08f64a28e"
      },
      "execution_count": null,
      "outputs": [
        {
          "output_type": "execute_result",
          "data": {
            "text/plain": [
              "{'brand': 'ford', 'electric': False, 'year': 2023, 'colors': ['red', 'white']}"
            ]
          },
          "metadata": {},
          "execution_count": 19
        }
      ]
    },
    {
      "cell_type": "code",
      "source": [
        "thisdict.pop('year')   #removes value of the key"
      ],
      "metadata": {
        "colab": {
          "base_uri": "https://localhost:8080/"
        },
        "id": "u-zB3WRUs4JH",
        "outputId": "5270155a-7216-44af-aeb5-ef3301168740"
      },
      "execution_count": null,
      "outputs": [
        {
          "output_type": "execute_result",
          "data": {
            "text/plain": [
              "2023"
            ]
          },
          "metadata": {},
          "execution_count": 20
        }
      ]
    },
    {
      "cell_type": "code",
      "source": [
        "for x in thisdict:\n",
        "  print(x)"
      ],
      "metadata": {
        "colab": {
          "base_uri": "https://localhost:8080/"
        },
        "id": "hbcIfpiss_Z9",
        "outputId": "71e34dbb-f7ea-49bb-fdb6-dccd5f83b6cc"
      },
      "execution_count": null,
      "outputs": [
        {
          "output_type": "stream",
          "name": "stdout",
          "text": [
            "brand\n",
            "electric\n",
            "colors\n"
          ]
        }
      ]
    },
    {
      "cell_type": "code",
      "source": [
        "for x in thisdict:\n",
        "  print(thisdict[x])"
      ],
      "metadata": {
        "colab": {
          "base_uri": "https://localhost:8080/"
        },
        "id": "lcTIP2sptOPs",
        "outputId": "703da186-1561-43ca-8cfe-eec9e12ab601"
      },
      "execution_count": null,
      "outputs": [
        {
          "output_type": "stream",
          "name": "stdout",
          "text": [
            "ford\n",
            "False\n",
            "['red', 'white']\n"
          ]
        }
      ]
    },
    {
      "cell_type": "code",
      "source": [
        "for x in thisdict.values():\n",
        "  print(x)"
      ],
      "metadata": {
        "colab": {
          "base_uri": "https://localhost:8080/"
        },
        "id": "wvy71CWltT6V",
        "outputId": "2df270cc-6f31-4aa8-9fb2-2c069716f26b"
      },
      "execution_count": null,
      "outputs": [
        {
          "output_type": "stream",
          "name": "stdout",
          "text": [
            "ford\n",
            "False\n",
            "['red', 'white']\n"
          ]
        }
      ]
    },
    {
      "cell_type": "code",
      "source": [
        "for x in thisdict.keys():\n",
        "  print(x)"
      ],
      "metadata": {
        "colab": {
          "base_uri": "https://localhost:8080/"
        },
        "id": "kio7AHZLtZOA",
        "outputId": "3c8aaa2a-cae1-43fe-d529-db5ff5ceb8f1"
      },
      "execution_count": null,
      "outputs": [
        {
          "output_type": "stream",
          "name": "stdout",
          "text": [
            "brand\n",
            "electric\n",
            "colors\n"
          ]
        }
      ]
    },
    {
      "cell_type": "code",
      "source": [
        "for x,y in thisdict.items():          # to access both keys and values\n",
        "  print(f'Key: {x}')\n",
        "  print(f'Values: {y}')"
      ],
      "metadata": {
        "colab": {
          "base_uri": "https://localhost:8080/"
        },
        "id": "z8z0GekTtd-8",
        "outputId": "8e5138f6-9e6e-4f4e-d4e3-8ccfe5893d51"
      },
      "execution_count": null,
      "outputs": [
        {
          "output_type": "stream",
          "name": "stdout",
          "text": [
            "Key: brand\n",
            "Values: ford\n",
            "Key: electric\n",
            "Values: False\n",
            "Key: colors\n",
            "Values: ['red', 'white']\n"
          ]
        }
      ]
    },
    {
      "cell_type": "code",
      "source": [
        "#nested dictionaries           # dictionaries within dictionaries\n",
        "myfamily={\n",
        "    \"child1\":{\n",
        "        \"name\":\"emil\",\n",
        "        \"year\":\"2004\",\n",
        "    },\n",
        "    \"child2\":{\n",
        "        \"name\":\"roby\",\n",
        "        \"year\":\"2007\",\n",
        "    },\n",
        "     \"child3\":{\n",
        "        \"name\":\"linus\",\n",
        "        \"year\":\"2011\",\n",
        "    },\n",
        "}"
      ],
      "metadata": {
        "id": "xu3woeYhttTj"
      },
      "execution_count": null,
      "outputs": []
    },
    {
      "cell_type": "code",
      "source": [
        "myfamily"
      ],
      "metadata": {
        "colab": {
          "base_uri": "https://localhost:8080/"
        },
        "id": "s3MM9KsDAB_R",
        "outputId": "b2da8f93-18d0-40a9-b125-7f3b0ae6b8ea"
      },
      "execution_count": null,
      "outputs": [
        {
          "output_type": "execute_result",
          "data": {
            "text/plain": [
              "{'child1': {'name': 'emil', 'year': '2004'},\n",
              " 'child2': {'name': 'roby', 'year': '2007'},\n",
              " 'child3': {'name': 'linus', 'year': '2011'}}"
            ]
          },
          "metadata": {},
          "execution_count": 7
        }
      ]
    },
    {
      "cell_type": "code",
      "source": [
        "myfamily.keys()"
      ],
      "metadata": {
        "colab": {
          "base_uri": "https://localhost:8080/"
        },
        "id": "1Sh6HYfxAGz2",
        "outputId": "bf5cada9-4e56-49c2-bd1d-5cecb59f528c"
      },
      "execution_count": null,
      "outputs": [
        {
          "output_type": "execute_result",
          "data": {
            "text/plain": [
              "dict_keys(['child1', 'child2', 'child3'])"
            ]
          },
          "metadata": {},
          "execution_count": 8
        }
      ]
    },
    {
      "cell_type": "code",
      "source": [
        "myfamily.values()"
      ],
      "metadata": {
        "colab": {
          "base_uri": "https://localhost:8080/"
        },
        "id": "q-JAXcQOAGP9",
        "outputId": "15cc66fd-b248-4244-ef27-2ff10f00c2ca"
      },
      "execution_count": null,
      "outputs": [
        {
          "output_type": "execute_result",
          "data": {
            "text/plain": [
              "dict_values([{'name': 'emil', 'year': '2004'}, {'name': 'roby', 'year': '2007'}, {'name': 'linus', 'year': '2011'}])"
            ]
          },
          "metadata": {},
          "execution_count": 9
        }
      ]
    },
    {
      "cell_type": "code",
      "source": [
        "myfamily['child1']"
      ],
      "metadata": {
        "colab": {
          "base_uri": "https://localhost:8080/"
        },
        "id": "d4L2uxqjAF_i",
        "outputId": "027ce651-f38e-49f0-81a9-651b4c7c23e0"
      },
      "execution_count": null,
      "outputs": [
        {
          "output_type": "execute_result",
          "data": {
            "text/plain": [
              "{'name': 'emil', 'year': '2004'}"
            ]
          },
          "metadata": {},
          "execution_count": 10
        }
      ]
    },
    {
      "cell_type": "code",
      "source": [
        "myfamily['child1']['name']"
      ],
      "metadata": {
        "colab": {
          "base_uri": "https://localhost:8080/",
          "height": 36
        },
        "id": "td46v9jYAPnW",
        "outputId": "91eaa545-7b5a-42d7-b9a4-6dd5d85429b0"
      },
      "execution_count": null,
      "outputs": [
        {
          "output_type": "execute_result",
          "data": {
            "text/plain": [
              "'emil'"
            ],
            "application/vnd.google.colaboratory.intrinsic+json": {
              "type": "string"
            }
          },
          "metadata": {},
          "execution_count": 11
        }
      ]
    },
    {
      "cell_type": "code",
      "source": [
        "'''\n",
        "write a python script to sort (ascending and descending) a dictionary by value\n",
        "{1:2,3:4,4:3,2:1,0:0}\n",
        "'''\n",
        "di={1:2,3:4,4:3,2:1,0:0}\n"
      ],
      "metadata": {
        "id": "UWr52LIWuk95"
      },
      "execution_count": null,
      "outputs": []
    },
    {
      "cell_type": "code",
      "source": [
        "'''"
      ],
      "metadata": {
        "colab": {
          "base_uri": "https://localhost:8080/"
        },
        "id": "zpKcViSqvGWX",
        "outputId": "cf8061ec-12ba-493f-b173-4a347295b148"
      },
      "execution_count": null,
      "outputs": [
        {
          "output_type": "stream",
          "name": "stdout",
          "text": [
            "2\n",
            "4\n",
            "3\n",
            "1\n",
            "0\n"
          ]
        }
      ]
    },
    {
      "cell_type": "code",
      "source": [
        "d1={\"name\":\"ram\",\"age\":23}\n",
        "d2={\"city\":\"saleem\"}\n",
        "d1.update(d2)"
      ],
      "metadata": {
        "id": "t9PGpkuAvtPz"
      },
      "execution_count": null,
      "outputs": []
    },
    {
      "cell_type": "code",
      "source": [
        "print(d1)"
      ],
      "metadata": {
        "colab": {
          "base_uri": "https://localhost:8080/"
        },
        "id": "dXE7Kx2tx-5A",
        "outputId": "42cc3bbf-479b-4ef4-ac56-ae308feb8b02"
      },
      "execution_count": null,
      "outputs": [
        {
          "output_type": "stream",
          "name": "stdout",
          "text": [
            "{'name': 'ram', 'age': 23, 'city': 'saleem'}\n"
          ]
        }
      ]
    },
    {
      "cell_type": "code",
      "source": [
        "d2.keys()"
      ],
      "metadata": {
        "id": "WuRa9GDFytnD",
        "outputId": "ca644b13-c007-434b-b5a6-ad34c7dee654",
        "colab": {
          "base_uri": "https://localhost:8080/"
        }
      },
      "execution_count": null,
      "outputs": [
        {
          "output_type": "execute_result",
          "data": {
            "text/plain": [
              "dict_keys(['city'])"
            ]
          },
          "metadata": {},
          "execution_count": 40
        }
      ]
    },
    {
      "cell_type": "code",
      "source": [
        "key=list(d2.keys())\n",
        "value=list(d2.values())\n",
        "print(key)\n",
        "d1[key[0]]=value[0]"
      ],
      "metadata": {
        "colab": {
          "base_uri": "https://localhost:8080/"
        },
        "id": "DGWrmmMxyDbs",
        "outputId": "59199bc9-1499-429b-bc7b-58aaef5006fd"
      },
      "execution_count": null,
      "outputs": [
        {
          "output_type": "stream",
          "name": "stdout",
          "text": [
            "['city']\n"
          ]
        }
      ]
    },
    {
      "cell_type": "code",
      "source": [
        "d1= {\"ram\":10,\"rahul\":20,\"john\":30,\"john\":40} #remove duplicate values and print updated value\n",
        "d1"
      ],
      "metadata": {
        "id": "PQ3c5EFKyhB-",
        "colab": {
          "base_uri": "https://localhost:8080/"
        },
        "outputId": "7e17835b-31d2-4d24-b909-547950e4032b"
      },
      "execution_count": null,
      "outputs": [
        {
          "output_type": "execute_result",
          "data": {
            "text/plain": [
              "{'ram': 10, 'rahul': 20, 'john': 40}"
            ]
          },
          "metadata": {},
          "execution_count": 1
        }
      ]
    },
    {
      "cell_type": "code",
      "source": [
        "for k,v in d1.items():\n",
        "  print(k)\n",
        "  print(v)"
      ],
      "metadata": {
        "colab": {
          "base_uri": "https://localhost:8080/"
        },
        "id": "FUtkyuc2_fi5",
        "outputId": "d77de1a7-5544-4622-95dc-1d8979503e6f"
      },
      "execution_count": null,
      "outputs": [
        {
          "output_type": "stream",
          "name": "stdout",
          "text": [
            "ram\n",
            "10\n",
            "rahul\n",
            "20\n",
            "john\n",
            "40\n"
          ]
        }
      ]
    },
    {
      "cell_type": "code",
      "source": [
        "thisdict={\"marks_5_unjects\":[24,68,94,56],\"average\":0,\"rank\":1}"
      ],
      "metadata": {
        "id": "fRmgtVVG_j_W"
      },
      "execution_count": null,
      "outputs": []
    },
    {
      "cell_type": "code",
      "source": [
        "for k,v in thisdict.items():\n",
        "  if k == \"marks_5_unjects\":\n",
        "    sum=0\n",
        "    for i in v:\n",
        "      sum+=i\n",
        "    av = sum/len(v)\n",
        "  if k == \"average\":\n",
        "    thisdict[k] =  av\n",
        "print(thisdict)"
      ],
      "metadata": {
        "colab": {
          "base_uri": "https://localhost:8080/"
        },
        "id": "HkOUM3YX_wI_",
        "outputId": "12cdb63c-f0b2-46f9-af0e-1ab784b846e9"
      },
      "execution_count": null,
      "outputs": [
        {
          "output_type": "stream",
          "name": "stdout",
          "text": [
            "{'marks_5_unjects': [24, 68, 94, 56], 'average': 60.5, 'rank': 1}\n"
          ]
        }
      ]
    },
    {
      "cell_type": "code",
      "source": [
        "thisdict[\"height\"]=156\n",
        "thisdict"
      ],
      "metadata": {
        "colab": {
          "base_uri": "https://localhost:8080/"
        },
        "id": "5uBpYKsP_zAM",
        "outputId": "106d1bcc-b498-4171-9ba6-1e694bb9abdb"
      },
      "execution_count": null,
      "outputs": [
        {
          "output_type": "execute_result",
          "data": {
            "text/plain": [
              "{'marks_5_unjects': [24, 68, 94, 56],\n",
              " 'average': 60.5,\n",
              " 'rank': 1,\n",
              " 'height': 156}"
            ]
          },
          "metadata": {},
          "execution_count": 5
        }
      ]
    },
    {
      "cell_type": "code",
      "source": [
        "dict1={\"ram\":14,\"john\":67,\"ravi\":42,\"vijay\":34}\n",
        "for k,v in dict1.items():\n",
        "  if v>40 and v<80:\n",
        "    print(k)"
      ],
      "metadata": {
        "colab": {
          "base_uri": "https://localhost:8080/"
        },
        "id": "cQCRYIoP_7am",
        "outputId": "4e9176f8-8041-445d-ed1c-7a194fd9c95b"
      },
      "execution_count": null,
      "outputs": [
        {
          "output_type": "stream",
          "name": "stdout",
          "text": [
            "john\n",
            "ravi\n"
          ]
        }
      ]
    },
    {
      "cell_type": "code",
      "source": [],
      "metadata": {
        "id": "p7qK5gKCAlCm"
      },
      "execution_count": null,
      "outputs": []
    }
  ]
}