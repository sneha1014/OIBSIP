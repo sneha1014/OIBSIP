{
  "nbformat": 4,
  "nbformat_minor": 0,
  "metadata": {
    "colab": {
      "provenance": []
    },
    "kernelspec": {
      "name": "python3",
      "display_name": "Python 3"
    },
    "language_info": {
      "name": "python"
    }
  },
  "cells": [
    {
      "cell_type": "code",
      "source": [
        "def function():\n",
        "  print(\"Hello\")\n",
        "function()"
      ],
      "metadata": {
        "colab": {
          "base_uri": "https://localhost:8080/"
        },
        "id": "J15bE6CIgkR2",
        "outputId": "feedb33b-88db-43ba-9e29-6d694d2a6ed5"
      },
      "execution_count": null,
      "outputs": [
        {
          "output_type": "stream",
          "name": "stdout",
          "text": [
            "Hello\n"
          ]
        }
      ]
    },
    {
      "cell_type": "code",
      "source": [
        "def fn(first):\n",
        "  print(first+\"Reddy\")\n",
        "fn(\"Sneha \")\n",
        "fn(\"Sadvika \")"
      ],
      "metadata": {
        "colab": {
          "base_uri": "https://localhost:8080/"
        },
        "id": "QHe-wK1HkQp1",
        "outputId": "81cb0b77-954a-4da7-9fd4-a4cdd84f0c34"
      },
      "execution_count": null,
      "outputs": [
        {
          "output_type": "stream",
          "name": "stdout",
          "text": [
            "Sneha Reddy\n",
            "Sadvika Reddy\n"
          ]
        }
      ]
    },
    {
      "cell_type": "code",
      "source": [
        "x=-3\n",
        "abs(x)  #absolute number"
      ],
      "metadata": {
        "colab": {
          "base_uri": "https://localhost:8080/"
        },
        "id": "qv5Fqs7-kvSv",
        "outputId": "b2784a95-a04f-4cbd-bd44-907d40770fd8"
      },
      "execution_count": null,
      "outputs": [
        {
          "output_type": "execute_result",
          "data": {
            "text/plain": [
              "3"
            ]
          },
          "metadata": {},
          "execution_count": 25
        }
      ]
    },
    {
      "cell_type": "markdown",
      "source": [
        "'''\n",
        "Data types in python: lists,tuple,set and dictionaries"
      ],
      "metadata": {
        "id": "WHCAWUmJii5M"
      }
    },
    {
      "cell_type": "code",
      "source": [
        "'''\n",
        "Lists:\n",
        "declared in [] seperated by ,\n",
        "ued to store multiple values in single variable\n",
        "duplicates can be allowed\n",
        "mutable i.e can be changed\n",
        "methods that can be performed in lists are append(),insert(),extend(),copy(),list(),reverse(),sort(),join(),remove(),pop(),del(),clear(),index(),isupper(),islower(),split(),count()"
      ],
      "metadata": {
        "id": "4Ko8Ky7chqVh"
      },
      "execution_count": null,
      "outputs": []
    },
    {
      "cell_type": "code",
      "source": [
        "x,y=[int(i) for i in input().split()]\n",
        "print(\"{}{}\".format(x,y))"
      ],
      "metadata": {
        "colab": {
          "base_uri": "https://localhost:8080/"
        },
        "id": "S2jSUFeNPYKg",
        "outputId": "192d6dc9-c8f2-4539-c327-bac72dbe4e10"
      },
      "execution_count": null,
      "outputs": [
        {
          "output_type": "stream",
          "name": "stdout",
          "text": [
            "4 5\n",
            "45\n"
          ]
        }
      ]
    },
    {
      "cell_type": "code",
      "source": [
        "x,y=[int(i) for i in input().split()]\n",
        "print(\"x={} and y={}\".format(x,y))"
      ],
      "metadata": {
        "colab": {
          "base_uri": "https://localhost:8080/"
        },
        "id": "rl4OcwclGz2-",
        "outputId": "6cd71d0e-afd8-4c02-fd0e-bd719e1c6b68"
      },
      "execution_count": null,
      "outputs": [
        {
          "output_type": "stream",
          "name": "stdout",
          "text": [
            "4 5\n",
            "x=4 and y=5\n"
          ]
        }
      ]
    },
    {
      "cell_type": "code",
      "source": [
        "#(or)\n",
        "a,b,c=[(i) for i in input().split()]\n",
        "print(\"{1} {0} {2}\".format(a,b,c))"
      ],
      "metadata": {
        "colab": {
          "base_uri": "https://localhost:8080/"
        },
        "id": "hzjMzMgfNmqS",
        "outputId": "049c1431-71f4-478d-d0bd-90a6c08f7332"
      },
      "execution_count": null,
      "outputs": [
        {
          "output_type": "stream",
          "name": "stdout",
          "text": [
            "hi hello bye\n",
            "hello hi bye\n"
          ]
        }
      ]
    },
    {
      "cell_type": "code",
      "source": [
        "#(or)\n",
        "a,b,c=[(i) for i in input().split()]\n",
        "print(\"{r} {s} {l}\".format(r=c,s=b,l=a))"
      ],
      "metadata": {
        "colab": {
          "base_uri": "https://localhost:8080/"
        },
        "id": "Et31NQxAOcHx",
        "outputId": "5af231e0-4a97-49a6-b389-e961275a3994"
      },
      "execution_count": null,
      "outputs": [
        {
          "output_type": "stream",
          "name": "stdout",
          "text": [
            "laxman sita ram\n",
            "ram sita laxman\n"
          ]
        }
      ]
    },
    {
      "cell_type": "code",
      "source": [
        "#copying list\n",
        "li=[i for i in input().split()]\n",
        "c=li.copy()\n",
        "print(c)"
      ],
      "metadata": {
        "colab": {
          "base_uri": "https://localhost:8080/"
        },
        "id": "FHlwHd-yPI_b",
        "outputId": "59111b82-97fc-4d60-fa1e-1f24f7cbe5c0"
      },
      "execution_count": null,
      "outputs": [
        {
          "output_type": "stream",
          "name": "stdout",
          "text": [
            "a b c\n",
            "['a', 'b', 'c']\n"
          ]
        }
      ]
    },
    {
      "cell_type": "code",
      "source": [
        "#sorting\n",
        "li=[i for i in input().split()]\n",
        "li.sort()\n",
        "print(li)"
      ],
      "metadata": {
        "colab": {
          "base_uri": "https://localhost:8080/"
        },
        "id": "6NfPOITtPVkq",
        "outputId": "feb46fcb-20bf-48cc-fd9f-777f805021db"
      },
      "execution_count": null,
      "outputs": [
        {
          "output_type": "stream",
          "name": "stdout",
          "text": [
            "50 10 70 30 90 20\n",
            "['10', '20', '30', '50', '70', '90']\n"
          ]
        }
      ]
    },
    {
      "cell_type": "code",
      "source": [
        "1#all : if every element in list is true then prints true\n",
        "l1=[]\n",
        "l2=[]\n",
        "for i in range(0,21):\n",
        "  l1.append(4*i)\n",
        "for i in range(0,20):\n",
        "  l2.append(l1[i]%5==1)\n",
        "print(all(l2))\n",
        "\n"
      ],
      "metadata": {
        "colab": {
          "base_uri": "https://localhost:8080/"
        },
        "id": "UUhBUCPSHl_7",
        "outputId": "287b942f-9cdc-4cef-a1e9-0ea5ac10546c"
      },
      "execution_count": null,
      "outputs": [
        {
          "output_type": "stream",
          "name": "stdout",
          "text": [
            "False\n"
          ]
        }
      ]
    },
    {
      "cell_type": "code",
      "source": [
        "#any : if any one of the element is true in list then prints true\n",
        "l1=[]\n",
        "l2=[]\n",
        "for i in range(0,21):\n",
        "  l1.append(4*i)\n",
        "for i in range(0,20):\n",
        "  l2.append(l1[i]%5==1)\n",
        "print(any(l2))"
      ],
      "metadata": {
        "colab": {
          "base_uri": "https://localhost:8080/"
        },
        "id": "lzpi4w1LIczl",
        "outputId": "96366f3e-8412-4464-80ea-00579d7379c2"
      },
      "execution_count": null,
      "outputs": [
        {
          "output_type": "stream",
          "name": "stdout",
          "text": [
            "True\n"
          ]
        }
      ]
    },
    {
      "cell_type": "code",
      "source": [
        "#using join and reverse\n",
        "n=input()\n",
        "p=\"\".join(reversed(n))\n",
        "print(p)\n",
        "# (or)\n",
        "#print(\"\".join(reversed(n)))"
      ],
      "metadata": {
        "colab": {
          "base_uri": "https://localhost:8080/"
        },
        "id": "rrlPla5tIiMY",
        "outputId": "739a7539-3154-45b7-aba3-a578a4364f43"
      },
      "execution_count": null,
      "outputs": [
        {
          "output_type": "stream",
          "name": "stdout",
          "text": [
            "hi\n",
            "ih\n"
          ]
        }
      ]
    },
    {
      "cell_type": "code",
      "source": [
        "#(or)\n",
        "#by using function\n",
        "def reverse(n):\n",
        "  n=\"\".join(reversed(n))\n",
        "  return n\n",
        "n=\"hello\"\n",
        "reverse(n)\n"
      ],
      "metadata": {
        "colab": {
          "base_uri": "https://localhost:8080/",
          "height": 36
        },
        "id": "z7aYcjJwRdWU",
        "outputId": "760bce91-b0ac-4026-acf8-3b0a4e10762e"
      },
      "execution_count": null,
      "outputs": [
        {
          "output_type": "execute_result",
          "data": {
            "text/plain": [
              "'olleh'"
            ],
            "application/vnd.google.colaboratory.intrinsic+json": {
              "type": "string"
            }
          },
          "metadata": {},
          "execution_count": 48
        }
      ]
    },
    {
      "cell_type": "code",
      "source": [
        "# reversing of string without using join\n",
        "n=input()\n",
        "print(n[::-1])"
      ],
      "metadata": {
        "colab": {
          "base_uri": "https://localhost:8080/"
        },
        "id": "jBiEWcgsJ5AK",
        "outputId": "8594aa60-53be-4f8b-cb13-ed22d41c99dc"
      },
      "execution_count": null,
      "outputs": [
        {
          "output_type": "stream",
          "name": "stdout",
          "text": [
            "hi\n",
            "ih\n"
          ]
        }
      ]
    },
    {
      "cell_type": "code",
      "source": [
        "#(or)\n",
        "#by using function\n",
        "def reverse(n):\n",
        "  n=n[::-1]\n",
        "  return n\n",
        "n=\"hello\"\n",
        "reverse(n)"
      ],
      "metadata": {
        "colab": {
          "base_uri": "https://localhost:8080/",
          "height": 36
        },
        "id": "p0kJLpz8RwJ9",
        "outputId": "c2a1de50-dc28-40f1-ae7a-d9422635f504"
      },
      "execution_count": null,
      "outputs": [
        {
          "output_type": "execute_result",
          "data": {
            "text/plain": [
              "'olleh'"
            ],
            "application/vnd.google.colaboratory.intrinsic+json": {
              "type": "string"
            }
          },
          "metadata": {},
          "execution_count": 49
        }
      ]
    },
    {
      "cell_type": "code",
      "source": [
        "n=input()\n",
        "if len(n)==0:\n",
        "  print(n)\n",
        "else:\n",
        "  print(reverse(n[1:]+n[0]))"
      ],
      "metadata": {
        "colab": {
          "base_uri": "https://localhost:8080/"
        },
        "id": "1mFurrBNR_U8",
        "outputId": "6de38cab-9a66-4256-86dd-57b2e0f25fd1"
      },
      "execution_count": null,
      "outputs": [
        {
          "output_type": "stream",
          "name": "stdout",
          "text": [
            "hello\n",
            "holle\n"
          ]
        }
      ]
    },
    {
      "cell_type": "code",
      "source": [
        "#reverse of a string\n",
        "n=(input())\n",
        "rev=list(reversed(n))\n",
        "print (rev)"
      ],
      "metadata": {
        "colab": {
          "base_uri": "https://localhost:8080/"
        },
        "id": "ajIoiMzWXTMY",
        "outputId": "02341e43-5e5b-4638-8d0e-14404877e976"
      },
      "execution_count": null,
      "outputs": [
        {
          "output_type": "stream",
          "name": "stdout",
          "text": [
            "bf145fx\n",
            "['x', 'f', '5', '4', '1', 'f', 'b']\n"
          ]
        }
      ]
    },
    {
      "cell_type": "code",
      "source": [
        "#reverse of a list\n",
        "li=[(i) for i in input().split()]\n",
        "li.reverse()\n",
        "print (li)"
      ],
      "metadata": {
        "colab": {
          "base_uri": "https://localhost:8080/"
        },
        "id": "dxoUDGAxW7og",
        "outputId": "c0fd829f-ed05-424b-c9a5-3dfc5056c599"
      },
      "execution_count": null,
      "outputs": [
        {
          "output_type": "stream",
          "name": "stdout",
          "text": [
            "5 4\n",
            "['4', '5']\n"
          ]
        }
      ]
    },
    {
      "cell_type": "code",
      "source": [
        "#deleting a element cannot be performed instead we can use slice to do\n",
        "#slice for deletion\n",
        "n=\"hello\"\n",
        "p=n[0:2]+n[3:]\n",
        "print(p)"
      ],
      "metadata": {
        "colab": {
          "base_uri": "https://localhost:8080/"
        },
        "id": "kG-NykxdKutT",
        "outputId": "47edd1f1-02a8-4afd-9e8e-92403edc65bb"
      },
      "execution_count": null,
      "outputs": [
        {
          "output_type": "stream",
          "name": "stdout",
          "text": [
            "helo\n"
          ]
        }
      ]
    },
    {
      "cell_type": "code",
      "source": [
        "#delete can be performed with lists\n",
        "li=[int(i) for i in input().split()]\n",
        "del li[1:2]\n",
        "li"
      ],
      "metadata": {
        "colab": {
          "base_uri": "https://localhost:8080/"
        },
        "id": "aoZ96STWzMJI",
        "outputId": "2b4d9410-e29a-4fa1-f440-afcedca767e0"
      },
      "execution_count": null,
      "outputs": [
        {
          "name": "stdout",
          "output_type": "stream",
          "text": [
            "1 2 3 6 5\n"
          ]
        },
        {
          "output_type": "execute_result",
          "data": {
            "text/plain": [
              "[1, 3, 6, 5]"
            ]
          },
          "metadata": {},
          "execution_count": 22
        }
      ]
    },
    {
      "cell_type": "code",
      "source": [
        "#inserting elements in list using insert()\n",
        "li=[1,2,3,4]\n",
        "li.insert(3,5)#(index,value)\n",
        "li.insert(4,\"hi\")\n",
        "print(li)"
      ],
      "metadata": {
        "colab": {
          "base_uri": "https://localhost:8080/"
        },
        "id": "pZke7HYsMiB0",
        "outputId": "ae4f31de-98c4-4f1a-bb4c-48b977a3f2f6"
      },
      "execution_count": null,
      "outputs": [
        {
          "output_type": "stream",
          "name": "stdout",
          "text": [
            "[1, 2, 3, 5, 'hi', 4]\n"
          ]
        }
      ]
    },
    {
      "cell_type": "code",
      "source": [
        "#replacing 2 values of list by insert()\n",
        "li=[int(i) for i in input().split()]\n",
        "l=[]\n",
        "for i in li:\n",
        "  l.insert(0,i)  # in place of 0(index) the last value will be printed\n",
        "print(l)"
      ],
      "metadata": {
        "colab": {
          "base_uri": "https://localhost:8080/"
        },
        "id": "EdEoVwFr1WgD",
        "outputId": "ced538c1-e066-4158-ce42-66f12894e0ee"
      },
      "execution_count": null,
      "outputs": [
        {
          "output_type": "stream",
          "name": "stdout",
          "text": [
            "10 20 30 40\n",
            "[40, 30, 20, 10]\n"
          ]
        }
      ]
    },
    {
      "cell_type": "code",
      "source": [
        "#for extending the list by adding elements at once\n",
        "li=[1,5,7,6]\n",
        "li.extend([3,\"hi\"])\n",
        "print(li)"
      ],
      "metadata": {
        "colab": {
          "base_uri": "https://localhost:8080/"
        },
        "id": "9iwA_E1DT2Kb",
        "outputId": "46b3718f-417e-4bcb-fd06-fe6bcba00667"
      },
      "execution_count": null,
      "outputs": [
        {
          "output_type": "stream",
          "name": "stdout",
          "text": [
            "[1, 5, 7, 6, 3, 'hi']\n"
          ]
        }
      ]
    },
    {
      "cell_type": "code",
      "source": [
        "#inserting elements at the last of list\n",
        "li=[1,5,7,6]\n",
        "li.insert(4,5)\n",
        "print (li)"
      ],
      "metadata": {
        "colab": {
          "base_uri": "https://localhost:8080/"
        },
        "id": "DfE0Qa9_V_Ql",
        "outputId": "19644a43-39e0-41ed-a700-1646dcb00c60"
      },
      "execution_count": null,
      "outputs": [
        {
          "output_type": "stream",
          "name": "stdout",
          "text": [
            "[1, 5, 7, 6, 5]\n"
          ]
        }
      ]
    },
    {
      "cell_type": "code",
      "source": [
        "#removing elements from list\n",
        "li=[4,5,8,9]\n",
        "li.remove(5) #value\n",
        "print(li)"
      ],
      "metadata": {
        "colab": {
          "base_uri": "https://localhost:8080/"
        },
        "id": "T1RqRBkqWMpb",
        "outputId": "4e04a8f5-e6fd-48b3-d281-7b677ea411be"
      },
      "execution_count": null,
      "outputs": [
        {
          "output_type": "stream",
          "name": "stdout",
          "text": [
            "[4, 8, 9]\n"
          ]
        }
      ]
    },
    {
      "cell_type": "code",
      "source": [
        "#removing even elements from list\n",
        "li=[5,7,6,9,4,3,8,1,2]\n",
        "for i in li:\n",
        "  if(i%2==0):\n",
        "    li.remove(i) #value\n",
        "print(li)"
      ],
      "metadata": {
        "colab": {
          "base_uri": "https://localhost:8080/"
        },
        "id": "A0X-AKerWw9o",
        "outputId": "80f25af6-48ee-42c6-8cdd-a008e7aa7c48"
      },
      "execution_count": null,
      "outputs": [
        {
          "output_type": "stream",
          "name": "stdout",
          "text": [
            "[5, 7, 9, 3, 1]\n"
          ]
        }
      ]
    },
    {
      "cell_type": "code",
      "source": [
        "#removing elemnts by value\n",
        "li=[int(i) for i in input().split()] #list\n",
        "n=[int(i) for i in input().split()] #value\n",
        "for i in n:\n",
        "  li.remove(i)\n",
        "print(li)"
      ],
      "metadata": {
        "colab": {
          "base_uri": "https://localhost:8080/"
        },
        "id": "5lu5Pcr-ctqz",
        "outputId": "f276be37-aaff-47de-bf95-0f2466a3353a"
      },
      "execution_count": null,
      "outputs": [
        {
          "output_type": "stream",
          "name": "stdout",
          "text": [
            "1 5 3 4\n",
            "3\n",
            "[1, 5, 4]\n"
          ]
        }
      ]
    },
    {
      "cell_type": "code",
      "source": [
        "#remove elements by using pop\n",
        "li=[4,5,8,9]\n",
        "li.pop(2) #index\n",
        "print(li)"
      ],
      "metadata": {
        "colab": {
          "base_uri": "https://localhost:8080/"
        },
        "id": "DgccGHkFaeDw",
        "outputId": "38610a3a-c492-4212-d9a0-81759dc2c8ea"
      },
      "execution_count": null,
      "outputs": [
        {
          "output_type": "stream",
          "name": "stdout",
          "text": [
            "[4, 5, 9]\n"
          ]
        }
      ]
    },
    {
      "cell_type": "code",
      "source": [
        "# to clear all the elements in list we use pop ()\n",
        "li=[int(i) for i in input().split()]\n",
        "while(len(li)!=0):\n",
        "  li.pop()\n",
        "print(li)"
      ],
      "metadata": {
        "colab": {
          "base_uri": "https://localhost:8080/"
        },
        "id": "5xpvCUKHz3yI",
        "outputId": "2de4f712-a03c-4eb5-da6e-96022ce6b8ce"
      },
      "execution_count": null,
      "outputs": [
        {
          "output_type": "stream",
          "name": "stdout",
          "text": [
            "1 2 3 6\n",
            "[]\n"
          ]
        }
      ]
    },
    {
      "cell_type": "code",
      "source": [
        "#clear elements in list using slice\n",
        "li=[int(i) for i in input().split()]\n",
        "print(li[:0])"
      ],
      "metadata": {
        "colab": {
          "base_uri": "https://localhost:8080/"
        },
        "id": "BSpa_HP00a4D",
        "outputId": "3365a3f4-8e36-4112-e953-39641c922fff"
      },
      "execution_count": null,
      "outputs": [
        {
          "output_type": "stream",
          "name": "stdout",
          "text": [
            "1 4 5 6\n",
            "[]\n"
          ]
        }
      ]
    },
    {
      "cell_type": "code",
      "source": [
        "#removing elemnts by index in pop\n",
        "li=[int(i) for i in input().split()] #list\n",
        "n=[int(i) for i in input().split()] #index\n",
        "for i in n:\n",
        "  li.pop(i)\n",
        "print(li)"
      ],
      "metadata": {
        "colab": {
          "base_uri": "https://localhost:8080/"
        },
        "id": "jLYwDl1ccBzZ",
        "outputId": "f5e1b597-e08d-4d86-9d48-914f26e5e036"
      },
      "execution_count": null,
      "outputs": [
        {
          "output_type": "stream",
          "name": "stdout",
          "text": [
            "1 4 5 3\n",
            "2\n",
            "[1, 4, 3]\n"
          ]
        }
      ]
    },
    {
      "cell_type": "code",
      "source": [
        "#print elements between 2 numbers\n",
        "def create(l1,l2):\n",
        "  return [i for i in range(l1,l2+1)]\n",
        "l1,l2=1,9\n",
        "print(create(l1,l2))"
      ],
      "metadata": {
        "colab": {
          "base_uri": "https://localhost:8080/"
        },
        "id": "ursUZDDudVKl",
        "outputId": "accfbb0f-f166-4924-ab55-37e89ce9404e"
      },
      "execution_count": null,
      "outputs": [
        {
          "output_type": "stream",
          "name": "stdout",
          "text": [
            "[1, 2, 3, 4, 5, 6, 7, 8, 9]\n"
          ]
        }
      ]
    },
    {
      "cell_type": "code",
      "source": [
        "#print elements between 2 numbers\n",
        "def create(l1,l2,n):\n",
        "  if l1==l2+1:\n",
        "    return n\n",
        "  else:\n",
        "    n.append(l1)\n",
        "    return create(l1+1,l2,n)\n",
        "l1,l2=1,9\n",
        "print(create(l1,l2,[]))"
      ],
      "metadata": {
        "colab": {
          "base_uri": "https://localhost:8080/"
        },
        "id": "1wQsdivgeuQT",
        "outputId": "c981e337-f211-4ef4-bd09-f3731dcf4c53"
      },
      "execution_count": null,
      "outputs": [
        {
          "output_type": "stream",
          "name": "stdout",
          "text": [
            "[1, 2, 3, 4, 5, 6, 7, 8, 9]\n"
          ]
        }
      ]
    },
    {
      "cell_type": "code",
      "source": [
        "#print index and value of an element in list\n",
        "li=[int(i) for i in input().split()]\n",
        "print([list((i,li[i]))for i in range(len(li))])"
      ],
      "metadata": {
        "colab": {
          "base_uri": "https://localhost:8080/"
        },
        "id": "-LJyO7IZfyQa",
        "outputId": "f3c5b6c6-9f08-4598-e826-62ef48f6b5bd"
      },
      "execution_count": null,
      "outputs": [
        {
          "output_type": "stream",
          "name": "stdout",
          "text": [
            "1 2 5 6\n",
            "[[0, 1], [1, 2], [2, 5], [3, 6]]\n"
          ]
        }
      ]
    },
    {
      "cell_type": "code",
      "source": [
        "#print index and value of an element in list\n",
        "li=[(i) for i in input().split()]\n",
        "for index,value in zip(range(len(li)),li):\n",
        "  print(index,value)\n"
      ],
      "metadata": {
        "colab": {
          "base_uri": "https://localhost:8080/"
        },
        "id": "dZLvNm7Pg5ZI",
        "outputId": "58a8cf75-49b5-4ed2-a6bb-c718280c77e8"
      },
      "execution_count": null,
      "outputs": [
        {
          "output_type": "stream",
          "name": "stdout",
          "text": [
            "1 4 5 6\n",
            "0 1\n",
            "1 4\n",
            "2 5\n",
            "3 6\n"
          ]
        }
      ]
    },
    {
      "cell_type": "code",
      "source": [
        "#count number of elements in list\n",
        "li=[int(i) for i in input().split()]\n",
        "c=0\n",
        "for i in li:\n",
        "  c=c+1\n",
        "print(c)"
      ],
      "metadata": {
        "colab": {
          "base_uri": "https://localhost:8080/"
        },
        "id": "lAwSh5sohxdS",
        "outputId": "48535be3-6abf-421a-920e-1182fa3266fa"
      },
      "execution_count": null,
      "outputs": [
        {
          "output_type": "stream",
          "name": "stdout",
          "text": [
            "1 5 9 3\n",
            "4\n"
          ]
        }
      ]
    },
    {
      "cell_type": "code",
      "source": [
        "#count of a particular element in the list\n",
        "li=[int(i) for i in input().split()]\n",
        "n=int(input())\n",
        "for i in li:\n",
        "  x=li.count(n)\n",
        "print(x)"
      ],
      "metadata": {
        "id": "LXnBBkyHipte",
        "colab": {
          "base_uri": "https://localhost:8080/"
        },
        "outputId": "b7b56af6-67e0-4123-b032-01bd436bbe6a"
      },
      "execution_count": null,
      "outputs": [
        {
          "output_type": "stream",
          "name": "stdout",
          "text": [
            "2 5 6 8 3 4 9 5\n",
            "5\n",
            "2\n"
          ]
        }
      ]
    },
    {
      "cell_type": "code",
      "source": [
        "#find the element in list\n",
        "li=[(i) for i in input().split()]\n",
        "n=(input())\n",
        "flag=False\n",
        "for i in li:\n",
        "  if i.find(n)==0:\n",
        "    flag=True\n",
        "print(flag)\n"
      ],
      "metadata": {
        "colab": {
          "base_uri": "https://localhost:8080/"
        },
        "id": "Eakw4Q9Aunlr",
        "outputId": "98d0a729-5baf-4e83-e126-23be7e516d58"
      },
      "execution_count": null,
      "outputs": [
        {
          "output_type": "stream",
          "name": "stdout",
          "text": [
            "2 3 5 6\n",
            "2\n",
            "True\n"
          ]
        }
      ]
    },
    {
      "cell_type": "code",
      "source": [
        "# to find the index of a element in list\n",
        "li=[(i) for i in input().split()]\n",
        "n=(input())\n",
        "for i in li:\n",
        "  if i.find(n)==0:\n",
        "    print(i.index(n))\n"
      ],
      "metadata": {
        "colab": {
          "base_uri": "https://localhost:8080/"
        },
        "id": "hEn1Hfx6dE9G",
        "outputId": "6bfe04d5-7d5f-4543-834b-929af557e770"
      },
      "execution_count": null,
      "outputs": [
        {
          "output_type": "stream",
          "name": "stdout",
          "text": [
            "2 3 5 6\n",
            "2\n",
            "0\n"
          ]
        }
      ]
    },
    {
      "cell_type": "code",
      "source": [
        "'''\n",
        "Tuple\n",
        "declared in () seperated by ,\n",
        "same like tuple but if once declared cannot be modified again\n",
        "used to store multiple values in single variable\n",
        "faster than list\n",
        "allows duplicates\n",
        "immutable i.e cannot be changed\n",
        "methods that can be performed in tuple are count(),index(),del()\n",
        "'''"
      ],
      "metadata": {
        "id": "NB_4K9SwyvYe"
      },
      "execution_count": null,
      "outputs": []
    },
    {
      "cell_type": "code",
      "source": [],
      "metadata": {
        "id": "rmlca-wjmLkl"
      },
      "execution_count": null,
      "outputs": []
    },
    {
      "cell_type": "code",
      "source": [
        "#declaration of tuple\n",
        "li=[i for i in input().split()]\n",
        "t=tuple(li)\n",
        "t"
      ],
      "metadata": {
        "colab": {
          "base_uri": "https://localhost:8080/"
        },
        "id": "K5dRdX0WhhRv",
        "outputId": "0bc48902-d22f-4284-a19c-15ef9af49346"
      },
      "execution_count": null,
      "outputs": [
        {
          "name": "stdout",
          "output_type": "stream",
          "text": [
            "orange yellow\n"
          ]
        },
        {
          "output_type": "execute_result",
          "data": {
            "text/plain": [
              "('orange', 'yellow')"
            ]
          },
          "metadata": {},
          "execution_count": 48
        }
      ]
    },
    {
      "cell_type": "code",
      "source": [
        "li=[i for i in input().split()]\n",
        "t=tuple(li)\n",
        "t\n",
        "for i in t:\n",
        "  print(i)"
      ],
      "metadata": {
        "colab": {
          "base_uri": "https://localhost:8080/"
        },
        "id": "tL_w8LwZo8zz",
        "outputId": "7b5b92d4-4af9-40e6-9c96-93231ceab685"
      },
      "execution_count": null,
      "outputs": [
        {
          "output_type": "stream",
          "name": "stdout",
          "text": [
            "2 5 6 3\n",
            "2\n",
            "5\n",
            "6\n",
            "3\n"
          ]
        }
      ]
    },
    {
      "cell_type": "code",
      "source": [
        "li=[i for i in input().split()]\n",
        "t=tuple(li)\n",
        "t\n",
        "for i in range(0,len(t)):\n",
        "  print(t[i])"
      ],
      "metadata": {
        "colab": {
          "base_uri": "https://localhost:8080/"
        },
        "id": "dGx9bKE-2LW6",
        "outputId": "5d318a71-bb5a-4e99-802e-615e0def0712"
      },
      "execution_count": null,
      "outputs": [
        {
          "output_type": "stream",
          "name": "stdout",
          "text": [
            "5 6 9 8 3\n",
            "5\n",
            "6\n",
            "9\n",
            "8\n",
            "3\n"
          ]
        }
      ]
    },
    {
      "cell_type": "code",
      "source": [
        "li=[i for i in input().split()]\n",
        "t=tuple(li)\n",
        "i=0\n",
        "while i<len(t):\n",
        "  print(t[i])\n",
        "  i+=1"
      ],
      "metadata": {
        "colab": {
          "base_uri": "https://localhost:8080/"
        },
        "id": "PrEc2lyh2Xm3",
        "outputId": "98f2a8bd-726c-4cd1-ee34-44eb43bda22e"
      },
      "execution_count": null,
      "outputs": [
        {
          "output_type": "stream",
          "name": "stdout",
          "text": [
            "2 5 7 \n",
            "2\n",
            "5\n",
            "7\n"
          ]
        }
      ]
    },
    {
      "cell_type": "code",
      "source": [
        "#indexing\n",
        "t[1]"
      ],
      "metadata": {
        "colab": {
          "base_uri": "https://localhost:8080/",
          "height": 36
        },
        "id": "w5z4nh3_mhX7",
        "outputId": "fb17e5bd-f352-4b7a-87a9-2f00309d9e4a"
      },
      "execution_count": null,
      "outputs": [
        {
          "output_type": "execute_result",
          "data": {
            "text/plain": [
              "'2'"
            ],
            "application/vnd.google.colaboratory.intrinsic+json": {
              "type": "string"
            }
          },
          "metadata": {},
          "execution_count": 25
        }
      ]
    },
    {
      "cell_type": "code",
      "source": [
        "t[-1]"
      ],
      "metadata": {
        "colab": {
          "base_uri": "https://localhost:8080/",
          "height": 36
        },
        "id": "pPIm40rZmtdV",
        "outputId": "99081b6f-f861-4812-9d28-1219a565cd9f"
      },
      "execution_count": null,
      "outputs": [
        {
          "output_type": "execute_result",
          "data": {
            "text/plain": [
              "'5'"
            ],
            "application/vnd.google.colaboratory.intrinsic+json": {
              "type": "string"
            }
          },
          "metadata": {},
          "execution_count": 26
        }
      ]
    },
    {
      "cell_type": "code",
      "source": [
        "t[:]"
      ],
      "metadata": {
        "colab": {
          "base_uri": "https://localhost:8080/"
        },
        "id": "NEmJ1LihmxH5",
        "outputId": "45179ff8-8b0c-4c7f-d339-c799bbfc8849"
      },
      "execution_count": null,
      "outputs": [
        {
          "output_type": "execute_result",
          "data": {
            "text/plain": [
              "('1', '2', '3', '5')"
            ]
          },
          "metadata": {},
          "execution_count": 27
        }
      ]
    },
    {
      "cell_type": "code",
      "source": [
        "#check if element is present in tuple or not\n",
        "li=[i for i in input().split()]\n",
        "n=(input())\n",
        "t=tuple(li)\n",
        "t\n",
        "for i in t:\n",
        "  if n in i:\n",
        "    print (\"present\")"
      ],
      "metadata": {
        "colab": {
          "base_uri": "https://localhost:8080/"
        },
        "id": "2NkXQNhMm1Dn",
        "outputId": "eb93ab16-ce3d-4697-878a-8a892db9a88b"
      },
      "execution_count": null,
      "outputs": [
        {
          "output_type": "stream",
          "name": "stdout",
          "text": [
            "2 3 5 6\n",
            "2\n",
            "present\n",
            "no\n",
            "no\n",
            "no\n"
          ]
        }
      ]
    },
    {
      "cell_type": "code",
      "source": [
        "#add elements in tuple is not possible but adding tuples can be done\n",
        "#adding elements in tuple by converting them into list and then list is converted into tuple\n",
        "li=[i for i in input().split()]\n",
        "n=(input())\n",
        "li.append(n)\n",
        "t=tuple(li)\n",
        "t\n"
      ],
      "metadata": {
        "colab": {
          "base_uri": "https://localhost:8080/"
        },
        "id": "eDaZenFlnPo6",
        "outputId": "ef13dd20-7686-4b28-b1ad-461182ebf41e"
      },
      "execution_count": null,
      "outputs": [
        {
          "name": "stdout",
          "output_type": "stream",
          "text": [
            "5 6 8 9\n",
            "2\n"
          ]
        },
        {
          "output_type": "execute_result",
          "data": {
            "text/plain": [
              "('5', '6', '8', '9', '2')"
            ]
          },
          "metadata": {},
          "execution_count": 41
        }
      ]
    },
    {
      "cell_type": "code",
      "source": [
        "#adding 2 tuples\n",
        "l1=[i for i in input().split()]\n",
        "t1=tuple(l1)\n",
        "t1\n",
        "l2=[i for i in input().split()]\n",
        "t2=tuple(l2)\n",
        "t2\n",
        "print (t1+t2)"
      ],
      "metadata": {
        "colab": {
          "base_uri": "https://localhost:8080/"
        },
        "id": "CLg9a3kEqIlp",
        "outputId": "da77f837-6f0e-478f-bef8-a554d4d162cd"
      },
      "execution_count": null,
      "outputs": [
        {
          "output_type": "stream",
          "name": "stdout",
          "text": [
            "orange yellow\n",
            "blue green\n",
            "('orange', 'yellow', 'blue', 'green')\n"
          ]
        }
      ]
    },
    {
      "cell_type": "code",
      "source": [
        "#multiplying tuple : tuple should be multiplied with an integer\n",
        "li=[i for i in input().split()]\n",
        "t=tuple(li)\n",
        "t\n",
        "n=int(input())\n",
        "print(t*n)"
      ],
      "metadata": {
        "colab": {
          "base_uri": "https://localhost:8080/"
        },
        "id": "0i-hzwOA2r2p",
        "outputId": "5740999d-ae16-4ae5-9416-b38e348f055e"
      },
      "execution_count": null,
      "outputs": [
        {
          "output_type": "stream",
          "name": "stdout",
          "text": [
            "blue green\n",
            "2\n",
            "('blue', 'green', 'blue', 'green')\n"
          ]
        }
      ]
    },
    {
      "cell_type": "code",
      "source": [
        "#removing elements in tuple is not possible but deleting tuple can be done\n",
        "#removing elements in tuple by converting them into list and then list is converted into tuple\n",
        "li=[i for i in input().split()]\n",
        "n=(input())\n",
        "li.remove(n)\n",
        "t=tuple(li)\n",
        "t"
      ],
      "metadata": {
        "colab": {
          "base_uri": "https://localhost:8080/"
        },
        "id": "m0KSvd5HqcFO",
        "outputId": "1555bf4d-1302-40c2-9d10-505a582262ec"
      },
      "execution_count": null,
      "outputs": [
        {
          "name": "stdout",
          "output_type": "stream",
          "text": [
            "orange banana cherry grapes\n",
            "grapes\n"
          ]
        },
        {
          "output_type": "execute_result",
          "data": {
            "text/plain": [
              "('orange', 'banana', 'cherry')"
            ]
          },
          "metadata": {},
          "execution_count": 50
        }
      ]
    },
    {
      "cell_type": "code",
      "source": [
        "#deleting tuple\n",
        "li=[i for i in input().split()]\n",
        "t=tuple(li)\n",
        "t\n",
        "\n"
      ],
      "metadata": {
        "colab": {
          "base_uri": "https://localhost:8080/"
        },
        "id": "ZtCFIas2rIdJ",
        "outputId": "eb5fc828-3e20-42ea-bbea-38e475751cb1"
      },
      "execution_count": null,
      "outputs": [
        {
          "name": "stdout",
          "output_type": "stream",
          "text": [
            "4 58 9\n"
          ]
        },
        {
          "output_type": "execute_result",
          "data": {
            "text/plain": [
              "('4', '58', '9')"
            ]
          },
          "metadata": {},
          "execution_count": 52
        }
      ]
    },
    {
      "cell_type": "code",
      "source": [
        "del t"
      ],
      "metadata": {
        "id": "UdjeBHKasVhJ"
      },
      "execution_count": null,
      "outputs": []
    },
    {
      "cell_type": "code",
      "source": [
        "fruits = (\"apple\", \"banana\", \"cherry\")\n",
        "\n",
        "(green, yellow, red) = fruits\n",
        "\n",
        "print(green)\n",
        "print(yellow)\n",
        "print(red)"
      ],
      "metadata": {
        "colab": {
          "base_uri": "https://localhost:8080/"
        },
        "id": "0j4095XKs7Sn",
        "outputId": "fff9a1a3-ea07-4e6a-cdfc-a4a75b811e13"
      },
      "execution_count": null,
      "outputs": [
        {
          "output_type": "stream",
          "name": "stdout",
          "text": [
            "apple\n",
            "banana\n",
            "cherry\n"
          ]
        }
      ]
    },
    {
      "cell_type": "code",
      "source": [
        "#unpacking\n",
        "li=[i for i in input().split()]\n",
        "t=tuple(li)\n",
        "t\n",
        "\n",
        "a=input()\n",
        "b=input()\n",
        "c=input()\n",
        "\n",
        "(a,b,c)=t\n",
        "\n",
        "print(a)\n",
        "print(b)\n",
        "print(c)"
      ],
      "metadata": {
        "colab": {
          "base_uri": "https://localhost:8080/"
        },
        "id": "gzcL6y5psg58",
        "outputId": "59aced38-3474-461a-80b4-e58888fb9272"
      },
      "execution_count": null,
      "outputs": [
        {
          "output_type": "stream",
          "name": "stdout",
          "text": [
            "apple banana cherry\n",
            "green\n",
            "blue\n",
            "yellow\n",
            "apple\n",
            "banana\n",
            "cherry\n"
          ]
        }
      ]
    },
    {
      "cell_type": "code",
      "source": [
        "#unpacking using *\n",
        "li=[i for i in input().split()]\n",
        "t=tuple(li)\n",
        "t\n",
        "\n",
        "a=input()\n",
        "b=input()\n",
        "c=input()\n",
        "\n",
        "(a,b,*c)=t\n",
        "\n",
        "print(a)\n",
        "print(b)\n",
        "print(c)"
      ],
      "metadata": {
        "colab": {
          "base_uri": "https://localhost:8080/"
        },
        "id": "p9HcPiX-tZ2E",
        "outputId": "b3a97e89-c6cc-4973-b921-7fb347577851"
      },
      "execution_count": null,
      "outputs": [
        {
          "output_type": "stream",
          "name": "stdout",
          "text": [
            "apple banana cherry orange grapes\n",
            "green\n",
            "blue\n",
            "yellow\n",
            "apple\n",
            "banana\n",
            "['cherry', 'orange', 'grapes']\n"
          ]
        }
      ]
    },
    {
      "cell_type": "code",
      "source": [
        "'''\n",
        "Sets:\n",
        "declared with {} seperated by ,\n",
        "used to store multiple items in single variable\n",
        "No duplicate values\n",
        "unchangable( cannot remove or add elements)\n",
        "unordered and unindexed(doesnot follow any order so indexing cannot be possible)\n",
        "methods that can be performed in sets are:add(),clear(),copy(),difference(),difference_update(),union(),update(),discard(),remove(),pop(),intersection(),intersection_update(),isdisjoint(),issubset(),issuperset(),symmetric difference(),symmetric_difference_update(),max(),min()"
      ],
      "metadata": {
        "id": "6hXlGIoP1s6T"
      },
      "execution_count": null,
      "outputs": []
    },
    {
      "cell_type": "code",
      "source": [
        "myset={\"orange\",\"banana\",\"cherry\",True,1,2}  #sets assume that true is same as 1\n",
        "myset"
      ],
      "metadata": {
        "colab": {
          "base_uri": "https://localhost:8080/"
        },
        "id": "quL8IT9oHJCu",
        "outputId": "b07f1f9f-9e0c-4082-81c9-8b2949d8a238"
      },
      "execution_count": null,
      "outputs": [
        {
          "output_type": "execute_result",
          "data": {
            "text/plain": [
              "{2, True, 'banana', 'cherry', 'orange'}"
            ]
          },
          "metadata": {},
          "execution_count": 102
        }
      ]
    },
    {
      "cell_type": "code",
      "source": [
        "li=[i for i in input().split()]\n",
        "s=set(li)\n",
        "s"
      ],
      "metadata": {
        "colab": {
          "base_uri": "https://localhost:8080/"
        },
        "id": "m-rQtc8W5dDw",
        "outputId": "1b1e65e1-289c-44a0-be5a-4e47b7498fd4"
      },
      "execution_count": null,
      "outputs": [
        {
          "name": "stdout",
          "output_type": "stream",
          "text": [
            "5 8 7 1 2\n"
          ]
        },
        {
          "output_type": "execute_result",
          "data": {
            "text/plain": [
              "{'1', '2', '5', '7', '8'}"
            ]
          },
          "metadata": {},
          "execution_count": 63
        }
      ]
    },
    {
      "cell_type": "code",
      "source": [
        "li=[i for i in input().split()]\n",
        "s=set(li)\n",
        "s\n",
        "for i in s:\n",
        "  print(i)     # gets output will not be in the way we give input bcz in sets indexing is not possible"
      ],
      "metadata": {
        "colab": {
          "base_uri": "https://localhost:8080/"
        },
        "id": "eFpV37Qk5gNz",
        "outputId": "fd08f7b3-233e-473f-cc92-0600ede4fae3"
      },
      "execution_count": null,
      "outputs": [
        {
          "output_type": "stream",
          "name": "stdout",
          "text": [
            "2 5 7 1 6\n",
            "7\n",
            "6\n",
            "5\n",
            "2\n",
            "1\n"
          ]
        }
      ]
    },
    {
      "cell_type": "code",
      "source": [
        "# copy of a set\n",
        "li=[i for i in input().split()]\n",
        "s=set(li)\n",
        "print(s.copy())"
      ],
      "metadata": {
        "colab": {
          "base_uri": "https://localhost:8080/"
        },
        "id": "M3YUfSCZJaXr",
        "outputId": "8d9b8591-6f24-43f7-ead8-f918b16a2a7f"
      },
      "execution_count": null,
      "outputs": [
        {
          "output_type": "stream",
          "name": "stdout",
          "text": [
            "a b c\n",
            "{'b', 'a', 'c'}\n"
          ]
        }
      ]
    },
    {
      "cell_type": "code",
      "source": [
        "#Once a set is created, you cannot change its items, but you can add new items\n",
        "# adding elements in set by using add()\n",
        "li=[i for i in input().split()]\n",
        "s=set(li)\n",
        "n=input()\n",
        "s.add(n)\n",
        "print(s)  # n can be printed anywhere in the set"
      ],
      "metadata": {
        "colab": {
          "base_uri": "https://localhost:8080/"
        },
        "id": "T_1V7aJ165NI",
        "outputId": "db53a3c2-35fc-4719-d03e-2fc76f5c8930"
      },
      "execution_count": null,
      "outputs": [
        {
          "output_type": "stream",
          "name": "stdout",
          "text": [
            "1 5 9 3 7\n",
            "2\n",
            "{'7', '5', '9', '2', '3', '1'}\n"
          ]
        }
      ]
    },
    {
      "cell_type": "code",
      "source": [
        "#To add items from another set into the current set, use the update() method\n",
        "# adding 2 sets by using update()\n",
        "l1=[i for i in input().split()]\n",
        "s1=set(l1)\n",
        "l2=[i for i in input().split()]\n",
        "s2=set(l2)\n",
        "s1.update(s2)           # adding 2 sets\n",
        "print(s1)"
      ],
      "metadata": {
        "colab": {
          "base_uri": "https://localhost:8080/"
        },
        "id": "4Ha1kgth7SAV",
        "outputId": "79884822-59cb-495d-ec55-29015083e744"
      },
      "execution_count": null,
      "outputs": [
        {
          "output_type": "stream",
          "name": "stdout",
          "text": [
            "orange apple\n",
            "banana cherry\n",
            "{'orange', 'cherry', 'apple', 'banana'}\n"
          ]
        }
      ]
    },
    {
      "cell_type": "code",
      "source": [
        "print(s2)"
      ],
      "metadata": {
        "colab": {
          "base_uri": "https://localhost:8080/"
        },
        "id": "WP5CWqTX7tjj",
        "outputId": "f0093657-1bf0-42fb-e305-829d499c8505"
      },
      "execution_count": null,
      "outputs": [
        {
          "output_type": "stream",
          "name": "stdout",
          "text": [
            "{'cherry', 'banana'}\n"
          ]
        }
      ]
    },
    {
      "cell_type": "code",
      "source": [
        "# adding 1 set and 1 list by using update()\n",
        "l1=[i for i in input().split()]\n",
        "s1=set(l1)                        # set\n",
        "l2=[i for i in input().split()]   # list\n",
        "s1.update(l2)                     # adding elements in list and set\n",
        "print(s1)"
      ],
      "metadata": {
        "colab": {
          "base_uri": "https://localhost:8080/"
        },
        "id": "gUHhVDKw72Bf",
        "outputId": "bad11a75-e734-462e-d11f-a4e0251954cc"
      },
      "execution_count": null,
      "outputs": [
        {
          "output_type": "stream",
          "name": "stdout",
          "text": [
            "orange yellow\n",
            "blue green\n",
            "{'orange', 'yellow', 'blue', 'green'}\n"
          ]
        }
      ]
    },
    {
      "cell_type": "code",
      "source": [
        "# adding 1 set and 1 tuple by using update()\n",
        "l1=[i for i in input().split()]\n",
        "s=set(l1)                        # set\n",
        "\n",
        "l2=[i for i in input().split()]  # tuple\n",
        "t=tuple(l2)\n",
        "\n",
        "s.update(t)                      # adding elements in tuple and set\n",
        "print(s)"
      ],
      "metadata": {
        "colab": {
          "base_uri": "https://localhost:8080/"
        },
        "id": "4Mb_V9sK8BJI",
        "outputId": "c13b3b0c-15e9-4a71-e0e9-5e5cafc74846"
      },
      "execution_count": null,
      "outputs": [
        {
          "output_type": "stream",
          "name": "stdout",
          "text": [
            "apple banana\n",
            "orange cherry\n",
            "{'orange', 'cherry', 'apple', 'banana'}\n"
          ]
        }
      ]
    },
    {
      "cell_type": "code",
      "source": [
        "# adding 2 sets by using union()\n",
        "l1=[i for i in input().split()]\n",
        "s1=set(l1)\n",
        "s1\n",
        "l2=[i for i in input().split()]\n",
        "s2=set(l2)\n",
        "s2\n",
        "print (s1.union(s2))"
      ],
      "metadata": {
        "colab": {
          "base_uri": "https://localhost:8080/"
        },
        "id": "H55zAhW0BTTy",
        "outputId": "dfff1c02-e592-420c-e2dc-fedd41066268"
      },
      "execution_count": null,
      "outputs": [
        {
          "output_type": "stream",
          "name": "stdout",
          "text": [
            "a b c\n",
            "1 2 3\n",
            "{'b', '2', 'c', 'a', '3', '1'}\n"
          ]
        }
      ]
    },
    {
      "cell_type": "code",
      "source": [
        "# adding 2 sets and printing the duplicate element\n",
        "l1=[i for i in input().split()]\n",
        "s1=set(l1)\n",
        "s1\n",
        "l2=[i for i in input().split()]\n",
        "s2=set(l2)\n",
        "s2\n",
        "s=s1.intersection(s2)\n",
        "print(s)"
      ],
      "metadata": {
        "colab": {
          "base_uri": "https://localhost:8080/"
        },
        "id": "WOTDTL11Cup-",
        "outputId": "debd627f-59ac-4e24-9f88-f77f0cf25bc8"
      },
      "execution_count": null,
      "outputs": [
        {
          "output_type": "stream",
          "name": "stdout",
          "text": [
            "a b c\n",
            "0 1 a\n",
            "{'a'}\n"
          ]
        }
      ]
    },
    {
      "cell_type": "code",
      "source": [
        "# adding 2 sets and printing the duplicate element\n",
        "l1=[i for i in input().split()]\n",
        "s1=set(l1)\n",
        "s1\n",
        "l2=[i for i in input().split()]\n",
        "s2=set(l2)\n",
        "s2\n",
        "s1.intersection_update(s2)      # in update s1 will have values of s2\n",
        "print(s1)"
      ],
      "metadata": {
        "colab": {
          "base_uri": "https://localhost:8080/"
        },
        "id": "SaX4CAbsDG5g",
        "outputId": "1b52016e-f868-4d60-f29d-7f82a2235a83"
      },
      "execution_count": null,
      "outputs": [
        {
          "output_type": "stream",
          "name": "stdout",
          "text": [
            "a b c\n",
            "0 1 a\n",
            "{'a'}\n"
          ]
        }
      ]
    },
    {
      "cell_type": "code",
      "source": [
        "# adding 2 sets and removing the duplicate element\n",
        "l1=[i for i in input().split()]\n",
        "s1=set(l1)\n",
        "s1\n",
        "l2=[i for i in input().split()]\n",
        "s2=set(l2)\n",
        "s2\n",
        "s=s1.symmetric_difference(s2)\n",
        "print(s)"
      ],
      "metadata": {
        "colab": {
          "base_uri": "https://localhost:8080/"
        },
        "id": "pu84D7mvFXZq",
        "outputId": "1c94cab5-ff25-4f34-df24-8e026f222a83"
      },
      "execution_count": null,
      "outputs": [
        {
          "output_type": "stream",
          "name": "stdout",
          "text": [
            "a b c\n",
            "0 1 a\n",
            "{'b', 'c', '0', '1'}\n"
          ]
        }
      ]
    },
    {
      "cell_type": "code",
      "source": [
        "# adding 2 sets and removing the duplicate element\n",
        "l1=[i for i in input().split()]\n",
        "s1=set(l1)\n",
        "s1\n",
        "l2=[i for i in input().split()]\n",
        "s2=set(l2)\n",
        "s2\n",
        "s1.symmetric_difference_update(s2)      #in update s1 will have values of s2\n",
        "print(s1)"
      ],
      "metadata": {
        "colab": {
          "base_uri": "https://localhost:8080/"
        },
        "id": "7sNMNXwdFYX2",
        "outputId": "29626c16-f9cf-4fe8-90bd-e38ad84d3fae"
      },
      "execution_count": null,
      "outputs": [
        {
          "output_type": "stream",
          "name": "stdout",
          "text": [
            "a b c\n",
            "0 1 a\n",
            "{'c', '0', 'b', '1'}\n"
          ]
        }
      ]
    },
    {
      "cell_type": "code",
      "source": [
        "# deleting a set\n",
        "li=[i for i in input().split()]\n",
        "s=set(li)\n",
        "x=s.clear()\n",
        "print(x)"
      ],
      "metadata": {
        "colab": {
          "base_uri": "https://localhost:8080/"
        },
        "id": "ajflr5HxJ8o3",
        "outputId": "b10b23ec-e4a6-4fec-cbb1-ac059a087a46"
      },
      "execution_count": null,
      "outputs": [
        {
          "output_type": "stream",
          "name": "stdout",
          "text": [
            "a b v\n",
            "None\n"
          ]
        }
      ]
    },
    {
      "cell_type": "code",
      "source": [
        "#removing element from set by using remove()\n",
        "li=[i for i in input().split()]\n",
        "s=set(li)\n",
        "n=input()\n",
        "s.remove(n)\n",
        "print(s)"
      ],
      "metadata": {
        "colab": {
          "base_uri": "https://localhost:8080/"
        },
        "id": "MHpOHaCY8Snq",
        "outputId": "6aa9f0cb-cdf6-4a5b-ba61-619dc70b93a4"
      },
      "execution_count": null,
      "outputs": [
        {
          "output_type": "stream",
          "name": "stdout",
          "text": [
            "apple banana cherry orange\n",
            "orange\n",
            "{'cherry', 'apple', 'banana'}\n"
          ]
        }
      ]
    },
    {
      "cell_type": "code",
      "source": [
        "#removing element from set by using discard()\n",
        "li=[i for i in input().split()]\n",
        "s=set(li)\n",
        "n=input()\n",
        "s.discard(n)\n",
        "print(s)"
      ],
      "metadata": {
        "colab": {
          "base_uri": "https://localhost:8080/"
        },
        "id": "KdeWytpM-y2k",
        "outputId": "9c548824-48e0-4567-fb20-645ae96e2393"
      },
      "execution_count": null,
      "outputs": [
        {
          "output_type": "stream",
          "name": "stdout",
          "text": [
            "apple banana cherry orange\n",
            "orange\n",
            "{'cherry', 'apple', 'banana'}\n"
          ]
        }
      ]
    },
    {
      "cell_type": "code",
      "source": [
        "#removing element from set by using pop()\n",
        "li=[i for i in input().split()]\n",
        "s=set(li)\n",
        "x=s.pop()\n",
        "print(x)      # the element that is being removed"
      ],
      "metadata": {
        "colab": {
          "base_uri": "https://localhost:8080/"
        },
        "id": "Xy9VvZSD_Ggf",
        "outputId": "1437b8bd-fef4-463f-ccce-f6b1a5c5ca87"
      },
      "execution_count": null,
      "outputs": [
        {
          "output_type": "stream",
          "name": "stdout",
          "text": [
            "apple banana cherry orange\n",
            "orange\n"
          ]
        }
      ]
    },
    {
      "cell_type": "code",
      "source": [
        "print(s)    # output after removing any one of the element from the list"
      ],
      "metadata": {
        "colab": {
          "base_uri": "https://localhost:8080/"
        },
        "id": "v2DDT74rAEa8",
        "outputId": "d4ab4abf-93f0-4f10-f137-ba0f823daaa3"
      },
      "execution_count": null,
      "outputs": [
        {
          "output_type": "stream",
          "name": "stdout",
          "text": [
            "{'cherry', 'apple', 'banana'}\n"
          ]
        }
      ]
    },
    {
      "cell_type": "code",
      "source": [
        "# checks if one set is subset of other set\n",
        "l1=[i for i in input().split()]\n",
        "s1=set(l1)\n",
        "s1\n",
        "l2=[i for i in input().split()]\n",
        "s2=set(l2)\n",
        "s2\n",
        "if s1.issubset(s2):\n",
        "  print(\"Yes\")\n",
        "else:\n",
        "  print(\"No\")"
      ],
      "metadata": {
        "colab": {
          "base_uri": "https://localhost:8080/"
        },
        "id": "z2v6IeaRAeq7",
        "outputId": "4c11ea2b-7d04-4554-a533-817021973f7f"
      },
      "execution_count": null,
      "outputs": [
        {
          "output_type": "stream",
          "name": "stdout",
          "text": [
            "a b c \n",
            "a b c d e f\n",
            "Yes\n"
          ]
        }
      ]
    },
    {
      "cell_type": "code",
      "source": [
        "# checks if one set is superset of other set\n",
        "l1=[i for i in input().split()]\n",
        "s1=set(l1)\n",
        "s1\n",
        "l2=[i for i in input().split()]\n",
        "s2=set(l2)\n",
        "s2\n",
        "if s1.issuperset(s2):\n",
        "  print(\"Yes\")\n",
        "else:\n",
        "  print(\"No\")"
      ],
      "metadata": {
        "colab": {
          "base_uri": "https://localhost:8080/"
        },
        "id": "mHccn-t1KspS",
        "outputId": "2d1f35ae-7024-472b-b280-c164d337c435"
      },
      "execution_count": null,
      "outputs": [
        {
          "output_type": "stream",
          "name": "stdout",
          "text": [
            "a b c d e f\n",
            "a b c\n",
            "Yes\n"
          ]
        }
      ]
    },
    {
      "cell_type": "code",
      "source": [
        "#checks if two sets have common elements or not by using isdisjoint()\n",
        "l1=[i for i in input().split()]\n",
        "s1=set(l1)\n",
        "s1\n",
        "l2=[i for i in input().split()]\n",
        "s2=set(l2)\n",
        "s2\n",
        "if s1.isdisjoint(s2):\n",
        "  print(\"Yes\")\n",
        "else:\n",
        "  print(\"No\")"
      ],
      "metadata": {
        "colab": {
          "base_uri": "https://localhost:8080/"
        },
        "id": "CnncqsuQLPgZ",
        "outputId": "a4eeae29-82ac-45d4-9cc5-74dd20be6c6d"
      },
      "execution_count": null,
      "outputs": [
        {
          "output_type": "stream",
          "name": "stdout",
          "text": [
            "a b c d \n",
            "1 2 3 4\n",
            "Yes\n"
          ]
        }
      ]
    },
    {
      "cell_type": "code",
      "source": [
        "# comparing 2 sets and removing the common element and prints the value of 1 set\n",
        "l1=[i for i in input().split()]\n",
        "s1=set(l1)\n",
        "s1\n",
        "l2=[i for i in input().split()]\n",
        "s2=set(l2)\n",
        "s2\n",
        "s1.difference_update(s2)   #in update s1 will have values of s2\n",
        "print(s1)"
      ],
      "metadata": {
        "colab": {
          "base_uri": "https://localhost:8080/"
        },
        "id": "IJCPryXaLp1X",
        "outputId": "de5dec67-6de4-435e-a181-42bc96932631"
      },
      "execution_count": null,
      "outputs": [
        {
          "output_type": "stream",
          "name": "stdout",
          "text": [
            "a b c\n",
            "0 1 a\n",
            "{'b', 'c'}\n"
          ]
        }
      ]
    },
    {
      "cell_type": "code",
      "source": [
        "s2.difference_update(s1)   #in update s1 will have values of s2\n",
        "print(s2)"
      ],
      "metadata": {
        "colab": {
          "base_uri": "https://localhost:8080/"
        },
        "id": "DPc2XhLyOFgF",
        "outputId": "54e89d5d-a983-4aec-aed1-5b6ce55a4c97"
      },
      "execution_count": null,
      "outputs": [
        {
          "output_type": "stream",
          "name": "stdout",
          "text": [
            "{'0', '1'}\n"
          ]
        }
      ]
    },
    {
      "cell_type": "code",
      "source": [
        "# comparing 2 sets and removing the common element and prints the value of 1 set\n",
        "l1=[i for i in input().split()]\n",
        "s1=set(l1)\n",
        "s1\n",
        "l2=[i for i in input().split()]\n",
        "s2=set(l2)\n",
        "s2\n",
        "s=s1.difference(s2)\n",
        "print(s)"
      ],
      "metadata": {
        "colab": {
          "base_uri": "https://localhost:8080/"
        },
        "id": "ZWep9cVdM2KW",
        "outputId": "6dda2b28-ce87-4e33-e317-0a0814c9bfac"
      },
      "execution_count": null,
      "outputs": [
        {
          "output_type": "stream",
          "name": "stdout",
          "text": [
            "a b c\n",
            "0 1 a\n",
            "{'b', 'c'}\n"
          ]
        }
      ]
    },
    {
      "cell_type": "code",
      "source": [
        "s=s2.difference(s1)\n",
        "print(s)"
      ],
      "metadata": {
        "colab": {
          "base_uri": "https://localhost:8080/"
        },
        "id": "_pfWytzVNL4E",
        "outputId": "7bfd33fb-e768-4a30-f658-2c84c585a7e7"
      },
      "execution_count": null,
      "outputs": [
        {
          "output_type": "stream",
          "name": "stdout",
          "text": [
            "{'0', '1'}\n"
          ]
        }
      ]
    },
    {
      "cell_type": "code",
      "source": [
        "#finding max number\n",
        "l1=[i for i in input().split()]\n",
        "s1=set(l1)\n",
        "s1\n",
        "max(s1)"
      ],
      "metadata": {
        "colab": {
          "base_uri": "https://localhost:8080/",
          "height": 53
        },
        "id": "F8VZwn05OBzc",
        "outputId": "7d7e291e-f4ec-44f8-ff2c-4c3fcd959e97"
      },
      "execution_count": null,
      "outputs": [
        {
          "name": "stdout",
          "output_type": "stream",
          "text": [
            "20 40 30 60\n"
          ]
        },
        {
          "output_type": "execute_result",
          "data": {
            "text/plain": [
              "'60'"
            ],
            "application/vnd.google.colaboratory.intrinsic+json": {
              "type": "string"
            }
          },
          "metadata": {},
          "execution_count": 125
        }
      ]
    },
    {
      "cell_type": "code",
      "source": [
        "#finding min number\n",
        "l1=[i for i in input().split()]\n",
        "s1=set(l1)\n",
        "s1\n",
        "min(s1)"
      ],
      "metadata": {
        "colab": {
          "base_uri": "https://localhost:8080/",
          "height": 53
        },
        "id": "DuyAo4ExQ0lo",
        "outputId": "610f9959-1c00-458a-cadd-7d5af65e9065"
      },
      "execution_count": null,
      "outputs": [
        {
          "name": "stdout",
          "output_type": "stream",
          "text": [
            "20 40 30 60\n"
          ]
        },
        {
          "output_type": "execute_result",
          "data": {
            "text/plain": [
              "'20'"
            ],
            "application/vnd.google.colaboratory.intrinsic+json": {
              "type": "string"
            }
          },
          "metadata": {},
          "execution_count": 126
        }
      ]
    },
    {
      "cell_type": "markdown",
      "source": [
        "**DICTONARIES**"
      ],
      "metadata": {
        "id": "nifznZ9bA4F1"
      }
    },
    {
      "cell_type": "code",
      "source": [
        "'''\n",
        "Dictionaries:\n",
        "{}\n",
        "used to store key : value pairs\n",
        "oredered, changable but not duplicates\n",
        "reffered using key name\n",
        "values can be of any datatype\n",
        "indexing and slicing not applicable\n",
        "methods that can be performed in dictionaries are: clear(),copy(),fromkeys(),get(),items(),keys(),pop(),popitem(),setdefault(),update(),values()\n",
        "'''"
      ],
      "metadata": {
        "id": "bwt4kesLQ8cl"
      },
      "execution_count": null,
      "outputs": []
    },
    {
      "cell_type": "code",
      "source": [
        "#creation\n",
        "d={}\n",
        "while(True):\n",
        "  n=(input())\n",
        "  if n.lower()=='q':   # quits\n",
        "    break\n",
        "  key,value=n.split(':')    # splits input into keys and values\n",
        "  d[key.strip()] = value.strip()    #add key value pairs to dict\n",
        "print(d)\n"
      ],
      "metadata": {
        "colab": {
          "base_uri": "https://localhost:8080/"
        },
        "id": "qCRB0cOtVd2C",
        "outputId": "0a32ed2c-4d55-4af0-ae2c-07f3b0437983"
      },
      "execution_count": null,
      "outputs": [
        {
          "output_type": "stream",
          "name": "stdout",
          "text": [
            "name:anu\n",
            "age:20\n",
            "city:hyd\n",
            "q\n",
            "{'name': 'anu', 'age': '20', 'city': 'hyd'}\n"
          ]
        }
      ]
    },
    {
      "cell_type": "code",
      "source": [
        "#Converting list into dictionary\n",
        "def con(li):\n",
        "  d={}\n",
        "  d=dict(li)\n",
        "  print(d)\n",
        "li=[(1, 'Geeks'), (2, 'For')]\n",
        "con(li)"
      ],
      "metadata": {
        "colab": {
          "base_uri": "https://localhost:8080/"
        },
        "id": "1kB2lwczbI53",
        "outputId": "494d0149-cb73-4631-bc58-882b7d003518"
      },
      "execution_count": null,
      "outputs": [
        {
          "output_type": "stream",
          "name": "stdout",
          "text": [
            "{1: 'Geeks', 2: 'For'}\n"
          ]
        }
      ]
    },
    {
      "cell_type": "code",
      "source": [
        "#creating empty dictionary\n",
        "d={}\n",
        "#(or)\n",
        "d=dict()"
      ],
      "metadata": {
        "id": "PMBK33xFCfkw"
      },
      "execution_count": null,
      "outputs": []
    },
    {
      "cell_type": "code",
      "source": [
        "#creating dictionary\n",
        "thisdict = {\n",
        "  \"brand\": \"Ford\",\n",
        "  \"model\": \"Mustang\",\n",
        "  \"year\": 1964\n",
        "}\n",
        "print(thisdict)"
      ],
      "metadata": {
        "colab": {
          "base_uri": "https://localhost:8080/"
        },
        "id": "80gnTZnuHkkg",
        "outputId": "fcc98e7a-e947-4df6-db3e-0352a9b04044"
      },
      "execution_count": null,
      "outputs": [
        {
          "output_type": "stream",
          "name": "stdout",
          "text": [
            "{'brand': 'Ford', 'model': 'Mustang', 'year': 1964}\n"
          ]
        }
      ]
    },
    {
      "cell_type": "code",
      "source": [
        "#(or)\n",
        "thisdict = dict(name = \"John\", age = 36, country = \"Norway\")\n",
        "print(thisdict)"
      ],
      "metadata": {
        "colab": {
          "base_uri": "https://localhost:8080/"
        },
        "id": "vMZl__p5Jgfq",
        "outputId": "54845de3-8536-4d7d-af8a-65a613c68b62"
      },
      "execution_count": null,
      "outputs": [
        {
          "output_type": "stream",
          "name": "stdout",
          "text": [
            "{'name': 'John', 'age': 36, 'country': 'Norway'}\n"
          ]
        }
      ]
    },
    {
      "cell_type": "code",
      "source": [
        "#copy()\n",
        "thisdict = {\n",
        "  \"brand\": \"Ford\",\n",
        "  \"model\": \"Mustang\",\n",
        "  \"year\": 1964\n",
        "}\n",
        "mydict = thisdict.copy()\n",
        "print(mydict)"
      ],
      "metadata": {
        "colab": {
          "base_uri": "https://localhost:8080/"
        },
        "id": "c3U0EQQOQhNe",
        "outputId": "d4a1c240-9f37-40f7-dce6-c0bca4e855ee"
      },
      "execution_count": null,
      "outputs": [
        {
          "output_type": "stream",
          "name": "stdout",
          "text": [
            "{'brand': 'Ford', 'model': 'Mustang', 'year': 1964}\n"
          ]
        }
      ]
    },
    {
      "cell_type": "code",
      "source": [
        "mydict"
      ],
      "metadata": {
        "colab": {
          "base_uri": "https://localhost:8080/"
        },
        "id": "OzahKaDuQqGT",
        "outputId": "6c0e59b0-ebe9-4411-e94d-2357931b10b7"
      },
      "execution_count": null,
      "outputs": [
        {
          "output_type": "execute_result",
          "data": {
            "text/plain": [
              "{'brand': 'Ford', 'model': 'Mustang', 'year': 1964}"
            ]
          },
          "metadata": {},
          "execution_count": 52
        }
      ]
    },
    {
      "cell_type": "code",
      "source": [
        "#(or) by using dict()\n",
        "mydict = dict(thisdict)\n",
        "print(mydict)"
      ],
      "metadata": {
        "colab": {
          "base_uri": "https://localhost:8080/"
        },
        "id": "cDeOEFSwQvhX",
        "outputId": "92617748-1d86-4a64-fbbb-70d823401619"
      },
      "execution_count": null,
      "outputs": [
        {
          "output_type": "stream",
          "name": "stdout",
          "text": [
            "{'brand': 'Ford', 'model': 'Mustang', 'year': 1964}\n"
          ]
        }
      ]
    },
    {
      "cell_type": "code",
      "source": [
        "thisdict = {\n",
        "  \"brand\": \"Ford\",\n",
        "  \"model\": \"Mustang\",\n",
        "  \"year\": 1964\n",
        "}\n",
        "print(thisdict[\"brand\"])"
      ],
      "metadata": {
        "colab": {
          "base_uri": "https://localhost:8080/"
        },
        "id": "-NMTbPX_IioE",
        "outputId": "a46b2ceb-4726-47db-a9f6-7b4a52cd4e90"
      },
      "execution_count": null,
      "outputs": [
        {
          "output_type": "stream",
          "name": "stdout",
          "text": [
            "Ford\n"
          ]
        }
      ]
    },
    {
      "cell_type": "code",
      "source": [
        "x=thisdict.get(\"model\")\n",
        "x"
      ],
      "metadata": {
        "colab": {
          "base_uri": "https://localhost:8080/",
          "height": 36
        },
        "id": "6alcVioxJtGE",
        "outputId": "972925a6-e37f-4e5f-c3f4-e9cba32726f3"
      },
      "execution_count": null,
      "outputs": [
        {
          "output_type": "execute_result",
          "data": {
            "text/plain": [
              "'Mustang'"
            ],
            "application/vnd.google.colaboratory.intrinsic+json": {
              "type": "string"
            }
          },
          "metadata": {},
          "execution_count": 12
        }
      ]
    },
    {
      "cell_type": "code",
      "source": [
        "#duplicates are not allowed\n",
        "thisdict = {\n",
        "  \"brand\": \"Ford\",\n",
        "  \"model\": \"Mustang\",\n",
        "  \"year\": 1964,\n",
        "  \"year\": 2020\n",
        "}\n",
        "print(thisdict)"
      ],
      "metadata": {
        "colab": {
          "base_uri": "https://localhost:8080/"
        },
        "id": "xtT4mmDMIqey",
        "outputId": "537b907c-8b3c-4ad7-9a30-c9dcddedd0e2"
      },
      "execution_count": null,
      "outputs": [
        {
          "output_type": "stream",
          "name": "stdout",
          "text": [
            "{'brand': 'Ford', 'model': 'Mustang', 'year': 2020}\n"
          ]
        }
      ]
    },
    {
      "cell_type": "code",
      "source": [
        "print(len(thisdict))"
      ],
      "metadata": {
        "colab": {
          "base_uri": "https://localhost:8080/"
        },
        "id": "2eFba9aXI8MN",
        "outputId": "9cc7f44e-0ed4-4347-ab60-c4509acaf758"
      },
      "execution_count": null,
      "outputs": [
        {
          "output_type": "stream",
          "name": "stdout",
          "text": [
            "3\n"
          ]
        }
      ]
    },
    {
      "cell_type": "code",
      "source": [
        "# data items(values) are of any datatype\n",
        "thisdict = {\n",
        "  \"brand\": \"Ford\",\n",
        "  \"electric\": False,\n",
        "  \"year\": 1964,\n",
        "  \"colors\": [\"red\", \"white\", \"blue\"]\n",
        "}"
      ],
      "metadata": {
        "id": "m3Ub_J71JFoI"
      },
      "execution_count": null,
      "outputs": []
    },
    {
      "cell_type": "code",
      "source": [
        "print(type(thisdict))"
      ],
      "metadata": {
        "colab": {
          "base_uri": "https://localhost:8080/"
        },
        "id": "LZM5Rl_lJSAj",
        "outputId": "007e99c6-7434-4b25-db60-2c84e78c0e28"
      },
      "execution_count": null,
      "outputs": [
        {
          "output_type": "stream",
          "name": "stdout",
          "text": [
            "<class 'dict'>\n"
          ]
        }
      ]
    },
    {
      "cell_type": "code",
      "source": [
        "#adding values in dict\n",
        "di={}\n",
        "di[0]=\"orange\"\n",
        "di[1]=\"yellow\"\n",
        "di[2]=\"blue\"\n",
        "di[3]=\"red\"\n",
        "print(di)"
      ],
      "metadata": {
        "colab": {
          "base_uri": "https://localhost:8080/"
        },
        "id": "oe5mDZhTcPTg",
        "outputId": "608dae7a-4636-4bfa-a94d-f830b4b7d038"
      },
      "execution_count": null,
      "outputs": [
        {
          "output_type": "stream",
          "name": "stdout",
          "text": [
            "{0: 'orange', 1: 'yellow', 2: 'blue', 3: 'red'}\n"
          ]
        }
      ]
    },
    {
      "cell_type": "code",
      "source": [
        "#list to dict\n",
        "roll_no = [10, 20, 30, 40, 50]\n",
        "names = ['Ramesh', 'Mahesh', 'Kamlesh',\n",
        "         'Suresh', 'Dinesh']\n",
        "\n",
        "students = dict(zip(roll_no, names))\n",
        "print(students)"
      ],
      "metadata": {
        "colab": {
          "base_uri": "https://localhost:8080/"
        },
        "id": "La_AaFOXdDpm",
        "outputId": "f6f0c447-dba0-48b4-fe64-47182357fca5"
      },
      "execution_count": null,
      "outputs": [
        {
          "output_type": "stream",
          "name": "stdout",
          "text": [
            "{10: 'Ramesh', 20: 'Mahesh', 30: 'Kamlesh', 40: 'Suresh', 50: 'Dinesh'}\n"
          ]
        }
      ]
    },
    {
      "cell_type": "code",
      "source": [
        "#used to convert a python list into a python dictionary with indexes as keys.\n",
        "names = ['Ramesh', 'Mahesh', 'Kamlesh',\n",
        "         'Suresh', 'Dinesh']\n",
        "students = dict(enumerate(names))\n",
        "print(students)"
      ],
      "metadata": {
        "colab": {
          "base_uri": "https://localhost:8080/"
        },
        "id": "9iGmlSo0eUAg",
        "outputId": "804bbc28-896a-461a-9b3e-a0bb8bfb1192"
      },
      "execution_count": null,
      "outputs": [
        {
          "output_type": "stream",
          "name": "stdout",
          "text": [
            "{0: 'Ramesh', 1: 'Mahesh', 2: 'Kamlesh', 3: 'Suresh', 4: 'Dinesh'}\n"
          ]
        }
      ]
    },
    {
      "cell_type": "code",
      "source": [
        "#keys\n",
        "x=thisdict.keys()\n",
        "x"
      ],
      "metadata": {
        "colab": {
          "base_uri": "https://localhost:8080/"
        },
        "id": "bCQU3cx1JXf3",
        "outputId": "a3ba6d5a-6547-45ba-8570-7bffa5c3a067"
      },
      "execution_count": null,
      "outputs": [
        {
          "output_type": "execute_result",
          "data": {
            "text/plain": [
              "dict_keys(['brand', 'electric', 'year', 'colors'])"
            ]
          },
          "metadata": {},
          "execution_count": 15
        }
      ]
    },
    {
      "cell_type": "code",
      "source": [
        "# adding key value pair\n",
        "thisdict[\"model\"]=\"mustang\"\n",
        "x"
      ],
      "metadata": {
        "colab": {
          "base_uri": "https://localhost:8080/"
        },
        "id": "BdJ13DwnKGO_",
        "outputId": "39ac6fc6-8d9b-40f9-8536-99d984cdf146"
      },
      "execution_count": null,
      "outputs": [
        {
          "output_type": "execute_result",
          "data": {
            "text/plain": [
              "dict_keys(['brand', 'electric', 'year', 'colors', 'model'])"
            ]
          },
          "metadata": {},
          "execution_count": 17
        }
      ]
    },
    {
      "cell_type": "code",
      "source": [
        "#(or) can be added using update\n",
        "thisdict.update({\"model\":\"mustang\"})\n",
        "thisdict"
      ],
      "metadata": {
        "colab": {
          "base_uri": "https://localhost:8080/"
        },
        "id": "-jBbjLSKMIgn",
        "outputId": "f1f029da-016f-432b-87b5-0114ca29235b"
      },
      "execution_count": null,
      "outputs": [
        {
          "output_type": "execute_result",
          "data": {
            "text/plain": [
              "{'brand': 'Ford',\n",
              " 'electric': False,\n",
              " 'year': 2020,\n",
              " 'colors': ['red', 'white', 'blue'],\n",
              " 'model': 'mustang'}"
            ]
          },
          "metadata": {},
          "execution_count": 30
        }
      ]
    },
    {
      "cell_type": "code",
      "source": [
        "#values\n",
        "x=thisdict.values()\n",
        "x"
      ],
      "metadata": {
        "colab": {
          "base_uri": "https://localhost:8080/"
        },
        "id": "pjYN5p3uKbDn",
        "outputId": "36ce2e8a-562a-4297-a995-15cac51a7003"
      },
      "execution_count": null,
      "outputs": [
        {
          "output_type": "execute_result",
          "data": {
            "text/plain": [
              "dict_values(['Ford', False, 1964, ['red', 'white', 'blue'], 'mustang'])"
            ]
          },
          "metadata": {},
          "execution_count": 19
        }
      ]
    },
    {
      "cell_type": "code",
      "source": [
        "#changing value of key\n",
        "thisdict[\"year\"]=2020\n",
        "x"
      ],
      "metadata": {
        "colab": {
          "base_uri": "https://localhost:8080/"
        },
        "id": "3o9LDPHkKngj",
        "outputId": "5c849c99-e64c-42da-c73d-9807447dedb0"
      },
      "execution_count": null,
      "outputs": [
        {
          "output_type": "execute_result",
          "data": {
            "text/plain": [
              "dict_values(['Ford', False, 2020, ['red', 'white', 'blue'], 'mustang'])"
            ]
          },
          "metadata": {},
          "execution_count": 20
        }
      ]
    },
    {
      "cell_type": "code",
      "source": [
        "#(or) can be changed by using update\n",
        "thisdict.update({\"year\":2020})\n",
        "thisdict"
      ],
      "metadata": {
        "colab": {
          "base_uri": "https://localhost:8080/"
        },
        "id": "Pt6H4XUmL127",
        "outputId": "78aaaddd-d69e-4053-e24e-75478accbbba"
      },
      "execution_count": null,
      "outputs": [
        {
          "output_type": "execute_result",
          "data": {
            "text/plain": [
              "{'brand': 'Ford',\n",
              " 'electric': False,\n",
              " 'year': 2020,\n",
              " 'colors': ['red', 'white', 'blue'],\n",
              " 'model': 'mustang'}"
            ]
          },
          "metadata": {},
          "execution_count": 25
        }
      ]
    },
    {
      "cell_type": "code",
      "source": [
        "#items()\n",
        "x=thisdict.items()\n",
        "x"
      ],
      "metadata": {
        "colab": {
          "base_uri": "https://localhost:8080/"
        },
        "id": "yDp-Kz--KypU",
        "outputId": "5b791d1a-a83e-440e-8cc1-167cb98192c8"
      },
      "execution_count": null,
      "outputs": [
        {
          "output_type": "execute_result",
          "data": {
            "text/plain": [
              "dict_items([('brand', 'Ford'), ('electric', False), ('year', 2020), ('colors', ['red', 'white', 'blue']), ('model', 'mustang')])"
            ]
          },
          "metadata": {},
          "execution_count": 22
        }
      ]
    },
    {
      "cell_type": "code",
      "source": [
        "if \"model\" in thisdict:\n",
        "  print(\"yes\")"
      ],
      "metadata": {
        "colab": {
          "base_uri": "https://localhost:8080/"
        },
        "id": "Y9T_SFGeLIC1",
        "outputId": "e72df305-5dbc-45d3-e96a-13ef56c7d917"
      },
      "execution_count": null,
      "outputs": [
        {
          "output_type": "stream",
          "name": "stdout",
          "text": [
            "yes\n"
          ]
        }
      ]
    },
    {
      "cell_type": "code",
      "source": [
        "#removing items by using popitem()\n",
        "thisdict = {\n",
        "  \"brand\": \"Ford\",\n",
        "  \"model\": \"Mustang\",\n",
        "  \"year\": 1964\n",
        "}\n",
        "thisdict.popitem()            # removes any item\n",
        "print(thisdict)"
      ],
      "metadata": {
        "colab": {
          "base_uri": "https://localhost:8080/"
        },
        "id": "2OLS9HORLjxM",
        "outputId": "da71d87e-6a7a-4dcb-906b-7dbe803b5d9c"
      },
      "execution_count": null,
      "outputs": [
        {
          "output_type": "stream",
          "name": "stdout",
          "text": [
            "{'brand': 'Ford', 'model': 'Mustang'}\n"
          ]
        }
      ]
    },
    {
      "cell_type": "code",
      "source": [
        "#(or) by using pop()\n",
        "thisdict.pop(\"model\")        # removes particular item\n",
        "thisdict"
      ],
      "metadata": {
        "colab": {
          "base_uri": "https://localhost:8080/"
        },
        "id": "r6C0kFw4NHS1",
        "outputId": "2f7cdf8a-9d65-4243-805c-eed71d574e70"
      },
      "execution_count": null,
      "outputs": [
        {
          "output_type": "execute_result",
          "data": {
            "text/plain": [
              "{'brand': 'Ford'}"
            ]
          },
          "metadata": {},
          "execution_count": 34
        }
      ]
    },
    {
      "cell_type": "code",
      "source": [
        "#(or) by using del\n",
        "del thisdict[\"model\"]\n",
        "thisdict"
      ],
      "metadata": {
        "colab": {
          "base_uri": "https://localhost:8080/"
        },
        "id": "oVtqla3oNNR4",
        "outputId": "dcdeb45f-1703-4a28-ac38-d819a1afbd15"
      },
      "execution_count": null,
      "outputs": [
        {
          "output_type": "execute_result",
          "data": {
            "text/plain": [
              "{'brand': 'Ford'}"
            ]
          },
          "metadata": {},
          "execution_count": 37
        }
      ]
    },
    {
      "cell_type": "code",
      "source": [
        "#del keyword can also delete the dictionary completely\n",
        "del thisdict"
      ],
      "metadata": {
        "id": "LIKG0dHWNrOY"
      },
      "execution_count": null,
      "outputs": []
    },
    {
      "cell_type": "code",
      "source": [
        "#clear() method empties the dictionary\n",
        "thisdict = {\n",
        "  \"brand\": \"Ford\",\n",
        "  \"model\": \"Mustang\",\n",
        "  \"year\": 1964\n",
        "}\n",
        "thisdict.clear()\n",
        "print(thisdict)"
      ],
      "metadata": {
        "colab": {
          "base_uri": "https://localhost:8080/"
        },
        "id": "T2SnQHXlOgbm",
        "outputId": "405153db-f317-49c8-a446-e425117fa57c"
      },
      "execution_count": null,
      "outputs": [
        {
          "output_type": "stream",
          "name": "stdout",
          "text": [
            "{}\n"
          ]
        }
      ]
    },
    {
      "cell_type": "code",
      "source": [
        "#loops\n",
        "thisdict = {\n",
        "  \"brand\": \"Ford\",\n",
        "  \"model\": \"Mustang\",\n",
        "  \"year\": 1964\n",
        "}"
      ],
      "metadata": {
        "id": "oKyruFL8OyBd"
      },
      "execution_count": null,
      "outputs": []
    },
    {
      "cell_type": "code",
      "source": [
        "# for getting keys\n",
        "for x in thisdict:\n",
        "  print(x)"
      ],
      "metadata": {
        "colab": {
          "base_uri": "https://localhost:8080/"
        },
        "id": "pUE5D7GrPaeb",
        "outputId": "a9e64744-5a48-43cc-cf20-870206b6c048"
      },
      "execution_count": null,
      "outputs": [
        {
          "output_type": "stream",
          "name": "stdout",
          "text": [
            "brand\n",
            "model\n",
            "year\n"
          ]
        }
      ]
    },
    {
      "cell_type": "code",
      "source": [
        "#(or) for getting keys\n",
        "for x in thisdict.keys():\n",
        "  print(x)"
      ],
      "metadata": {
        "colab": {
          "base_uri": "https://localhost:8080/"
        },
        "id": "FtHqsDaiPv-A",
        "outputId": "6395dcea-cf88-4c9c-bf5a-3b46777bf5b5"
      },
      "execution_count": null,
      "outputs": [
        {
          "output_type": "stream",
          "name": "stdout",
          "text": [
            "brand\n",
            "model\n",
            "year\n"
          ]
        }
      ]
    },
    {
      "cell_type": "code",
      "source": [
        "#for getting values\n",
        "for x in thisdict:\n",
        "  print(thisdict[x])"
      ],
      "metadata": {
        "colab": {
          "base_uri": "https://localhost:8080/"
        },
        "id": "KqF5rmrYPOq3",
        "outputId": "d41c0d3e-3c73-402c-9726-f5612b3b7608"
      },
      "execution_count": null,
      "outputs": [
        {
          "output_type": "stream",
          "name": "stdout",
          "text": [
            "Ford\n",
            "Mustang\n",
            "1964\n"
          ]
        }
      ]
    },
    {
      "cell_type": "code",
      "source": [
        "#(or) for getting values\n",
        "for x in thisdict.values():\n",
        "  print(x)"
      ],
      "metadata": {
        "colab": {
          "base_uri": "https://localhost:8080/"
        },
        "id": "RX9yq8L5PfLM",
        "outputId": "9d56f03f-9237-4f5c-a439-045eae353bc7"
      },
      "execution_count": null,
      "outputs": [
        {
          "output_type": "stream",
          "name": "stdout",
          "text": [
            "Ford\n",
            "Mustang\n",
            "1964\n"
          ]
        }
      ]
    },
    {
      "cell_type": "code",
      "source": [
        "# for getting both key and value pair\n",
        "for x, y in thisdict.items():\n",
        "  print(x, y)\n"
      ],
      "metadata": {
        "colab": {
          "base_uri": "https://localhost:8080/"
        },
        "id": "UnE6sp4kP4Kp",
        "outputId": "e71b659a-2b9a-429b-ee5e-fff786bac90d"
      },
      "execution_count": null,
      "outputs": [
        {
          "output_type": "stream",
          "name": "stdout",
          "text": [
            "brand Ford\n",
            "model Mustang\n",
            "year 1964\n"
          ]
        }
      ]
    },
    {
      "cell_type": "code",
      "source": [
        "# nested dictionaries\n",
        "# Creating a dictionary that contain three dictionaries\n",
        "myfamily = {\n",
        "  \"child1\" : {\n",
        "    \"name\" : \"Emil\",\n",
        "    \"year\" : 2004\n",
        "  },\n",
        "  \"child2\" : {\n",
        "    \"name\" : \"Tobias\",\n",
        "    \"year\" : 2007\n",
        "  },\n",
        "  \"child3\" : {\n",
        "    \"name\" : \"Linus\",\n",
        "    \"year\" : 2011\n",
        "  }\n",
        "}\n"
      ],
      "metadata": {
        "id": "ONbTcSOBQBeH"
      },
      "execution_count": null,
      "outputs": []
    },
    {
      "cell_type": "code",
      "source": [
        "#(or)Creating three dictionaries,\n",
        "#   then create one dictionary that will contain the other three dictionaries\n",
        "child1 = {\n",
        "  \"name\" : \"Emil\",\n",
        "  \"year\" : 2004\n",
        "}\n",
        "child2 = {\n",
        "  \"name\" : \"Tobias\",\n",
        "  \"year\" : 2007\n",
        "}\n",
        "child3 = {\n",
        "  \"name\" : \"Linus\",\n",
        "  \"year\" : 2011\n",
        "}\n",
        "\n",
        "myfamily = {\n",
        "  \"child1\" : child1,\n",
        "  \"child2\" : child2,\n",
        "  \"child3\" : child3\n",
        "}"
      ],
      "metadata": {
        "id": "RkEmBkh6Rnkz"
      },
      "execution_count": null,
      "outputs": []
    },
    {
      "cell_type": "code",
      "source": [
        "print(myfamily[\"child2\"][\"name\"])"
      ],
      "metadata": {
        "colab": {
          "base_uri": "https://localhost:8080/"
        },
        "id": "fZJMCbdTSuA3",
        "outputId": "49b64de4-95c2-4c86-8d5d-ee975d48e12b"
      },
      "execution_count": null,
      "outputs": [
        {
          "output_type": "stream",
          "name": "stdout",
          "text": [
            "Tobias\n"
          ]
        }
      ]
    },
    {
      "cell_type": "code",
      "source": [],
      "metadata": {
        "id": "_y9xp-kFSu1Z"
      },
      "execution_count": null,
      "outputs": []
    }
  ]
}